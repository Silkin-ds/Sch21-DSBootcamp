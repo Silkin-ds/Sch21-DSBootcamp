{
 "cells": [
  {
   "cell_type": "code",
   "execution_count": 1,
   "metadata": {},
   "outputs": [],
   "source": [
    "import pandas as pd\n",
    "import sqlite3\n",
    "import plotly.graph_objects as go\n",
    "import numpy as np"
   ]
  },
  {
   "cell_type": "code",
   "execution_count": 2,
   "metadata": {},
   "outputs": [],
   "source": [
    "connect = sqlite3.connect('../../datasets/checking-logs.sqlite')"
   ]
  },
  {
   "cell_type": "code",
   "execution_count": 3,
   "metadata": {},
   "outputs": [
    {
     "data": {
      "text/html": [
       "<div>\n",
       "<style scoped>\n",
       "    .dataframe tbody tr th:only-of-type {\n",
       "        vertical-align: middle;\n",
       "    }\n",
       "\n",
       "    .dataframe tbody tr th {\n",
       "        vertical-align: top;\n",
       "    }\n",
       "\n",
       "    .dataframe thead th {\n",
       "        text-align: right;\n",
       "    }\n",
       "</style>\n",
       "<table border=\"1\" class=\"dataframe\">\n",
       "  <thead>\n",
       "    <tr style=\"text-align: right;\">\n",
       "      <th></th>\n",
       "      <th>uid</th>\n",
       "      <th>numTrials</th>\n",
       "      <th>date</th>\n",
       "    </tr>\n",
       "  </thead>\n",
       "  <tbody>\n",
       "    <tr>\n",
       "      <th>0</th>\n",
       "      <td>user_4</td>\n",
       "      <td>1</td>\n",
       "      <td>2020-04-17</td>\n",
       "    </tr>\n",
       "    <tr>\n",
       "      <th>1</th>\n",
       "      <td>user_4</td>\n",
       "      <td>2</td>\n",
       "      <td>2020-04-17</td>\n",
       "    </tr>\n",
       "    <tr>\n",
       "      <th>2</th>\n",
       "      <td>user_4</td>\n",
       "      <td>3</td>\n",
       "      <td>2020-04-17</td>\n",
       "    </tr>\n",
       "    <tr>\n",
       "      <th>3</th>\n",
       "      <td>user_4</td>\n",
       "      <td>4</td>\n",
       "      <td>2020-04-17</td>\n",
       "    </tr>\n",
       "    <tr>\n",
       "      <th>4</th>\n",
       "      <td>user_4</td>\n",
       "      <td>5</td>\n",
       "      <td>2020-04-17</td>\n",
       "    </tr>\n",
       "    <tr>\n",
       "      <th>...</th>\n",
       "      <td>...</td>\n",
       "      <td>...</td>\n",
       "      <td>...</td>\n",
       "    </tr>\n",
       "    <tr>\n",
       "      <th>946</th>\n",
       "      <td>user_19</td>\n",
       "      <td>26</td>\n",
       "      <td>2020-05-15</td>\n",
       "    </tr>\n",
       "    <tr>\n",
       "      <th>947</th>\n",
       "      <td>user_19</td>\n",
       "      <td>27</td>\n",
       "      <td>2020-05-15</td>\n",
       "    </tr>\n",
       "    <tr>\n",
       "      <th>948</th>\n",
       "      <td>user_19</td>\n",
       "      <td>28</td>\n",
       "      <td>2020-05-15</td>\n",
       "    </tr>\n",
       "    <tr>\n",
       "      <th>949</th>\n",
       "      <td>user_28</td>\n",
       "      <td>27</td>\n",
       "      <td>2020-05-15</td>\n",
       "    </tr>\n",
       "    <tr>\n",
       "      <th>950</th>\n",
       "      <td>user_19</td>\n",
       "      <td>29</td>\n",
       "      <td>2020-05-15</td>\n",
       "    </tr>\n",
       "  </tbody>\n",
       "</table>\n",
       "<p>951 rows × 3 columns</p>\n",
       "</div>"
      ],
      "text/plain": [
       "         uid  numTrials       date\n",
       "0     user_4          1 2020-04-17\n",
       "1     user_4          2 2020-04-17\n",
       "2     user_4          3 2020-04-17\n",
       "3     user_4          4 2020-04-17\n",
       "4     user_4          5 2020-04-17\n",
       "..       ...        ...        ...\n",
       "946  user_19         26 2020-05-15\n",
       "947  user_19         27 2020-05-15\n",
       "948  user_19         28 2020-05-15\n",
       "949  user_28         27 2020-05-15\n",
       "950  user_19         29 2020-05-15\n",
       "\n",
       "[951 rows x 3 columns]"
      ]
     },
     "execution_count": 3,
     "metadata": {},
     "output_type": "execute_result"
    }
   ],
   "source": [
    "query = \"\"\" \n",
    "SELECT uid,numTrials,timestamp as date FROM checker\n",
    "WHERE uid like 'user_%' AND status = 'ready' AND labname = 'project1'\n",
    "\"\"\"\n",
    "commits = pd.read_sql(query,connect,parse_dates=['date'])\n",
    "commits['date'] = commits['date'].dt.floor('d')\n",
    "commits"
   ]
  },
  {
   "cell_type": "code",
   "execution_count": 4,
   "metadata": {},
   "outputs": [
    {
     "name": "stderr",
     "output_type": "stream",
     "text": [
      "/tmp/ipykernel_8273/3954310281.py:4: FutureWarning: DataFrame.fillna with 'method' is deprecated and will raise in a future version. Use obj.ffill() or obj.bfill() instead.\n",
      "  df = df.fillna(method='pad',axis=0)\n"
     ]
    },
    {
     "data": {
      "text/html": [
       "<div>\n",
       "<style scoped>\n",
       "    .dataframe tbody tr th:only-of-type {\n",
       "        vertical-align: middle;\n",
       "    }\n",
       "\n",
       "    .dataframe tbody tr th {\n",
       "        vertical-align: top;\n",
       "    }\n",
       "\n",
       "    .dataframe thead th {\n",
       "        text-align: right;\n",
       "    }\n",
       "</style>\n",
       "<table border=\"1\" class=\"dataframe\">\n",
       "  <thead>\n",
       "    <tr style=\"text-align: right;\">\n",
       "      <th></th>\n",
       "      <th>0</th>\n",
       "      <th>1</th>\n",
       "      <th>2</th>\n",
       "      <th>3</th>\n",
       "      <th>4</th>\n",
       "      <th>5</th>\n",
       "      <th>6</th>\n",
       "      <th>7</th>\n",
       "      <th>8</th>\n",
       "      <th>9</th>\n",
       "      <th>10</th>\n",
       "      <th>11</th>\n",
       "      <th>12</th>\n",
       "      <th>13</th>\n",
       "      <th>14</th>\n",
       "      <th>15</th>\n",
       "      <th>16</th>\n",
       "      <th>17</th>\n",
       "      <th>18</th>\n",
       "    </tr>\n",
       "    <tr>\n",
       "      <th>uid</th>\n",
       "      <th></th>\n",
       "      <th></th>\n",
       "      <th></th>\n",
       "      <th></th>\n",
       "      <th></th>\n",
       "      <th></th>\n",
       "      <th></th>\n",
       "      <th></th>\n",
       "      <th></th>\n",
       "      <th></th>\n",
       "      <th></th>\n",
       "      <th></th>\n",
       "      <th></th>\n",
       "      <th></th>\n",
       "      <th></th>\n",
       "      <th></th>\n",
       "      <th></th>\n",
       "      <th></th>\n",
       "      <th></th>\n",
       "    </tr>\n",
       "  </thead>\n",
       "  <tbody>\n",
       "    <tr>\n",
       "      <th>user_1</th>\n",
       "      <td>0.0</td>\n",
       "      <td>0.0</td>\n",
       "      <td>0.0</td>\n",
       "      <td>0.0</td>\n",
       "      <td>0.0</td>\n",
       "      <td>0.0</td>\n",
       "      <td>0.0</td>\n",
       "      <td>0.0</td>\n",
       "      <td>0.0</td>\n",
       "      <td>0.0</td>\n",
       "      <td>0.0</td>\n",
       "      <td>0.0</td>\n",
       "      <td>0.0</td>\n",
       "      <td>0.0</td>\n",
       "      <td>0.0</td>\n",
       "      <td>0.0</td>\n",
       "      <td>0.0</td>\n",
       "      <td>11.0</td>\n",
       "      <td>11.0</td>\n",
       "    </tr>\n",
       "    <tr>\n",
       "      <th>user_10</th>\n",
       "      <td>0.0</td>\n",
       "      <td>0.0</td>\n",
       "      <td>0.0</td>\n",
       "      <td>0.0</td>\n",
       "      <td>0.0</td>\n",
       "      <td>0.0</td>\n",
       "      <td>0.0</td>\n",
       "      <td>0.0</td>\n",
       "      <td>0.0</td>\n",
       "      <td>0.0</td>\n",
       "      <td>0.0</td>\n",
       "      <td>0.0</td>\n",
       "      <td>0.0</td>\n",
       "      <td>0.0</td>\n",
       "      <td>0.0</td>\n",
       "      <td>7.0</td>\n",
       "      <td>21.0</td>\n",
       "      <td>59.0</td>\n",
       "      <td>59.0</td>\n",
       "    </tr>\n",
       "    <tr>\n",
       "      <th>user_11</th>\n",
       "      <td>0.0</td>\n",
       "      <td>0.0</td>\n",
       "      <td>0.0</td>\n",
       "      <td>0.0</td>\n",
       "      <td>0.0</td>\n",
       "      <td>0.0</td>\n",
       "      <td>1.0</td>\n",
       "      <td>1.0</td>\n",
       "      <td>1.0</td>\n",
       "      <td>1.0</td>\n",
       "      <td>1.0</td>\n",
       "      <td>1.0</td>\n",
       "      <td>1.0</td>\n",
       "      <td>1.0</td>\n",
       "      <td>1.0</td>\n",
       "      <td>1.0</td>\n",
       "      <td>1.0</td>\n",
       "      <td>1.0</td>\n",
       "      <td>1.0</td>\n",
       "    </tr>\n",
       "    <tr>\n",
       "      <th>user_12</th>\n",
       "      <td>0.0</td>\n",
       "      <td>0.0</td>\n",
       "      <td>0.0</td>\n",
       "      <td>0.0</td>\n",
       "      <td>0.0</td>\n",
       "      <td>0.0</td>\n",
       "      <td>0.0</td>\n",
       "      <td>0.0</td>\n",
       "      <td>0.0</td>\n",
       "      <td>0.0</td>\n",
       "      <td>0.0</td>\n",
       "      <td>0.0</td>\n",
       "      <td>0.0</td>\n",
       "      <td>0.0</td>\n",
       "      <td>0.0</td>\n",
       "      <td>0.0</td>\n",
       "      <td>0.0</td>\n",
       "      <td>4.0</td>\n",
       "      <td>4.0</td>\n",
       "    </tr>\n",
       "    <tr>\n",
       "      <th>user_13</th>\n",
       "      <td>0.0</td>\n",
       "      <td>0.0</td>\n",
       "      <td>0.0</td>\n",
       "      <td>0.0</td>\n",
       "      <td>0.0</td>\n",
       "      <td>0.0</td>\n",
       "      <td>0.0</td>\n",
       "      <td>0.0</td>\n",
       "      <td>0.0</td>\n",
       "      <td>0.0</td>\n",
       "      <td>0.0</td>\n",
       "      <td>0.0</td>\n",
       "      <td>0.0</td>\n",
       "      <td>0.0</td>\n",
       "      <td>2.0</td>\n",
       "      <td>30.0</td>\n",
       "      <td>30.0</td>\n",
       "      <td>32.0</td>\n",
       "      <td>32.0</td>\n",
       "    </tr>\n",
       "    <tr>\n",
       "      <th>user_14</th>\n",
       "      <td>0.0</td>\n",
       "      <td>0.0</td>\n",
       "      <td>0.0</td>\n",
       "      <td>0.0</td>\n",
       "      <td>0.0</td>\n",
       "      <td>0.0</td>\n",
       "      <td>0.0</td>\n",
       "      <td>0.0</td>\n",
       "      <td>1.0</td>\n",
       "      <td>1.0</td>\n",
       "      <td>1.0</td>\n",
       "      <td>1.0</td>\n",
       "      <td>18.0</td>\n",
       "      <td>25.0</td>\n",
       "      <td>49.0</td>\n",
       "      <td>92.0</td>\n",
       "      <td>92.0</td>\n",
       "      <td>99.0</td>\n",
       "      <td>99.0</td>\n",
       "    </tr>\n",
       "    <tr>\n",
       "      <th>user_15</th>\n",
       "      <td>0.0</td>\n",
       "      <td>0.0</td>\n",
       "      <td>0.0</td>\n",
       "      <td>0.0</td>\n",
       "      <td>0.0</td>\n",
       "      <td>0.0</td>\n",
       "      <td>0.0</td>\n",
       "      <td>0.0</td>\n",
       "      <td>0.0</td>\n",
       "      <td>0.0</td>\n",
       "      <td>0.0</td>\n",
       "      <td>0.0</td>\n",
       "      <td>0.0</td>\n",
       "      <td>0.0</td>\n",
       "      <td>0.0</td>\n",
       "      <td>0.0</td>\n",
       "      <td>0.0</td>\n",
       "      <td>3.0</td>\n",
       "      <td>3.0</td>\n",
       "    </tr>\n",
       "    <tr>\n",
       "      <th>user_16</th>\n",
       "      <td>0.0</td>\n",
       "      <td>0.0</td>\n",
       "      <td>0.0</td>\n",
       "      <td>0.0</td>\n",
       "      <td>0.0</td>\n",
       "      <td>0.0</td>\n",
       "      <td>0.0</td>\n",
       "      <td>0.0</td>\n",
       "      <td>0.0</td>\n",
       "      <td>0.0</td>\n",
       "      <td>0.0</td>\n",
       "      <td>0.0</td>\n",
       "      <td>0.0</td>\n",
       "      <td>0.0</td>\n",
       "      <td>0.0</td>\n",
       "      <td>3.0</td>\n",
       "      <td>3.0</td>\n",
       "      <td>10.0</td>\n",
       "      <td>10.0</td>\n",
       "    </tr>\n",
       "    <tr>\n",
       "      <th>user_17</th>\n",
       "      <td>0.0</td>\n",
       "      <td>1.0</td>\n",
       "      <td>1.0</td>\n",
       "      <td>1.0</td>\n",
       "      <td>1.0</td>\n",
       "      <td>1.0</td>\n",
       "      <td>1.0</td>\n",
       "      <td>1.0</td>\n",
       "      <td>1.0</td>\n",
       "      <td>1.0</td>\n",
       "      <td>1.0</td>\n",
       "      <td>1.0</td>\n",
       "      <td>1.0</td>\n",
       "      <td>1.0</td>\n",
       "      <td>1.0</td>\n",
       "      <td>3.0</td>\n",
       "      <td>3.0</td>\n",
       "      <td>6.0</td>\n",
       "      <td>6.0</td>\n",
       "    </tr>\n",
       "    <tr>\n",
       "      <th>user_18</th>\n",
       "      <td>0.0</td>\n",
       "      <td>0.0</td>\n",
       "      <td>0.0</td>\n",
       "      <td>0.0</td>\n",
       "      <td>0.0</td>\n",
       "      <td>0.0</td>\n",
       "      <td>0.0</td>\n",
       "      <td>0.0</td>\n",
       "      <td>0.0</td>\n",
       "      <td>0.0</td>\n",
       "      <td>0.0</td>\n",
       "      <td>0.0</td>\n",
       "      <td>0.0</td>\n",
       "      <td>0.0</td>\n",
       "      <td>7.0</td>\n",
       "      <td>7.0</td>\n",
       "      <td>8.0</td>\n",
       "      <td>31.0</td>\n",
       "      <td>31.0</td>\n",
       "    </tr>\n",
       "    <tr>\n",
       "      <th>user_19</th>\n",
       "      <td>0.0</td>\n",
       "      <td>0.0</td>\n",
       "      <td>0.0</td>\n",
       "      <td>0.0</td>\n",
       "      <td>0.0</td>\n",
       "      <td>0.0</td>\n",
       "      <td>0.0</td>\n",
       "      <td>0.0</td>\n",
       "      <td>0.0</td>\n",
       "      <td>0.0</td>\n",
       "      <td>0.0</td>\n",
       "      <td>0.0</td>\n",
       "      <td>0.0</td>\n",
       "      <td>0.0</td>\n",
       "      <td>0.0</td>\n",
       "      <td>0.0</td>\n",
       "      <td>0.0</td>\n",
       "      <td>25.0</td>\n",
       "      <td>29.0</td>\n",
       "    </tr>\n",
       "    <tr>\n",
       "      <th>user_2</th>\n",
       "      <td>0.0</td>\n",
       "      <td>0.0</td>\n",
       "      <td>0.0</td>\n",
       "      <td>0.0</td>\n",
       "      <td>0.0</td>\n",
       "      <td>0.0</td>\n",
       "      <td>0.0</td>\n",
       "      <td>0.0</td>\n",
       "      <td>57.0</td>\n",
       "      <td>58.0</td>\n",
       "      <td>58.0</td>\n",
       "      <td>58.0</td>\n",
       "      <td>58.0</td>\n",
       "      <td>62.0</td>\n",
       "      <td>74.0</td>\n",
       "      <td>78.0</td>\n",
       "      <td>93.0</td>\n",
       "      <td>95.0</td>\n",
       "      <td>95.0</td>\n",
       "    </tr>\n",
       "    <tr>\n",
       "      <th>user_20</th>\n",
       "      <td>0.0</td>\n",
       "      <td>0.0</td>\n",
       "      <td>0.0</td>\n",
       "      <td>0.0</td>\n",
       "      <td>0.0</td>\n",
       "      <td>0.0</td>\n",
       "      <td>0.0</td>\n",
       "      <td>0.0</td>\n",
       "      <td>0.0</td>\n",
       "      <td>0.0</td>\n",
       "      <td>0.0</td>\n",
       "      <td>0.0</td>\n",
       "      <td>0.0</td>\n",
       "      <td>0.0</td>\n",
       "      <td>11.0</td>\n",
       "      <td>11.0</td>\n",
       "      <td>11.0</td>\n",
       "      <td>54.0</td>\n",
       "      <td>54.0</td>\n",
       "    </tr>\n",
       "    <tr>\n",
       "      <th>user_21</th>\n",
       "      <td>0.0</td>\n",
       "      <td>0.0</td>\n",
       "      <td>0.0</td>\n",
       "      <td>0.0</td>\n",
       "      <td>0.0</td>\n",
       "      <td>0.0</td>\n",
       "      <td>0.0</td>\n",
       "      <td>0.0</td>\n",
       "      <td>0.0</td>\n",
       "      <td>0.0</td>\n",
       "      <td>0.0</td>\n",
       "      <td>0.0</td>\n",
       "      <td>0.0</td>\n",
       "      <td>7.0</td>\n",
       "      <td>7.0</td>\n",
       "      <td>7.0</td>\n",
       "      <td>7.0</td>\n",
       "      <td>9.0</td>\n",
       "      <td>9.0</td>\n",
       "    </tr>\n",
       "    <tr>\n",
       "      <th>user_22</th>\n",
       "      <td>0.0</td>\n",
       "      <td>0.0</td>\n",
       "      <td>0.0</td>\n",
       "      <td>0.0</td>\n",
       "      <td>0.0</td>\n",
       "      <td>0.0</td>\n",
       "      <td>1.0</td>\n",
       "      <td>1.0</td>\n",
       "      <td>1.0</td>\n",
       "      <td>1.0</td>\n",
       "      <td>1.0</td>\n",
       "      <td>1.0</td>\n",
       "      <td>1.0</td>\n",
       "      <td>1.0</td>\n",
       "      <td>1.0</td>\n",
       "      <td>1.0</td>\n",
       "      <td>1.0</td>\n",
       "      <td>2.0</td>\n",
       "      <td>2.0</td>\n",
       "    </tr>\n",
       "    <tr>\n",
       "      <th>user_24</th>\n",
       "      <td>0.0</td>\n",
       "      <td>0.0</td>\n",
       "      <td>0.0</td>\n",
       "      <td>0.0</td>\n",
       "      <td>0.0</td>\n",
       "      <td>0.0</td>\n",
       "      <td>0.0</td>\n",
       "      <td>0.0</td>\n",
       "      <td>0.0</td>\n",
       "      <td>0.0</td>\n",
       "      <td>0.0</td>\n",
       "      <td>0.0</td>\n",
       "      <td>0.0</td>\n",
       "      <td>0.0</td>\n",
       "      <td>0.0</td>\n",
       "      <td>0.0</td>\n",
       "      <td>9.0</td>\n",
       "      <td>34.0</td>\n",
       "      <td>34.0</td>\n",
       "    </tr>\n",
       "    <tr>\n",
       "      <th>user_25</th>\n",
       "      <td>0.0</td>\n",
       "      <td>0.0</td>\n",
       "      <td>0.0</td>\n",
       "      <td>0.0</td>\n",
       "      <td>0.0</td>\n",
       "      <td>0.0</td>\n",
       "      <td>0.0</td>\n",
       "      <td>0.0</td>\n",
       "      <td>0.0</td>\n",
       "      <td>0.0</td>\n",
       "      <td>0.0</td>\n",
       "      <td>5.0</td>\n",
       "      <td>27.0</td>\n",
       "      <td>29.0</td>\n",
       "      <td>33.0</td>\n",
       "      <td>54.0</td>\n",
       "      <td>57.0</td>\n",
       "      <td>77.0</td>\n",
       "      <td>77.0</td>\n",
       "    </tr>\n",
       "    <tr>\n",
       "      <th>user_26</th>\n",
       "      <td>0.0</td>\n",
       "      <td>0.0</td>\n",
       "      <td>0.0</td>\n",
       "      <td>0.0</td>\n",
       "      <td>0.0</td>\n",
       "      <td>0.0</td>\n",
       "      <td>0.0</td>\n",
       "      <td>0.0</td>\n",
       "      <td>0.0</td>\n",
       "      <td>0.0</td>\n",
       "      <td>0.0</td>\n",
       "      <td>0.0</td>\n",
       "      <td>0.0</td>\n",
       "      <td>35.0</td>\n",
       "      <td>35.0</td>\n",
       "      <td>35.0</td>\n",
       "      <td>52.0</td>\n",
       "      <td>67.0</td>\n",
       "      <td>67.0</td>\n",
       "    </tr>\n",
       "    <tr>\n",
       "      <th>user_27</th>\n",
       "      <td>0.0</td>\n",
       "      <td>0.0</td>\n",
       "      <td>0.0</td>\n",
       "      <td>0.0</td>\n",
       "      <td>0.0</td>\n",
       "      <td>0.0</td>\n",
       "      <td>0.0</td>\n",
       "      <td>0.0</td>\n",
       "      <td>0.0</td>\n",
       "      <td>0.0</td>\n",
       "      <td>0.0</td>\n",
       "      <td>0.0</td>\n",
       "      <td>0.0</td>\n",
       "      <td>0.0</td>\n",
       "      <td>0.0</td>\n",
       "      <td>0.0</td>\n",
       "      <td>0.0</td>\n",
       "      <td>8.0</td>\n",
       "      <td>8.0</td>\n",
       "    </tr>\n",
       "    <tr>\n",
       "      <th>user_28</th>\n",
       "      <td>0.0</td>\n",
       "      <td>0.0</td>\n",
       "      <td>0.0</td>\n",
       "      <td>0.0</td>\n",
       "      <td>0.0</td>\n",
       "      <td>0.0</td>\n",
       "      <td>0.0</td>\n",
       "      <td>0.0</td>\n",
       "      <td>0.0</td>\n",
       "      <td>0.0</td>\n",
       "      <td>0.0</td>\n",
       "      <td>0.0</td>\n",
       "      <td>0.0</td>\n",
       "      <td>0.0</td>\n",
       "      <td>0.0</td>\n",
       "      <td>2.0</td>\n",
       "      <td>20.0</td>\n",
       "      <td>26.0</td>\n",
       "      <td>27.0</td>\n",
       "    </tr>\n",
       "    <tr>\n",
       "      <th>user_29</th>\n",
       "      <td>0.0</td>\n",
       "      <td>0.0</td>\n",
       "      <td>0.0</td>\n",
       "      <td>0.0</td>\n",
       "      <td>0.0</td>\n",
       "      <td>0.0</td>\n",
       "      <td>0.0</td>\n",
       "      <td>0.0</td>\n",
       "      <td>0.0</td>\n",
       "      <td>0.0</td>\n",
       "      <td>0.0</td>\n",
       "      <td>0.0</td>\n",
       "      <td>0.0</td>\n",
       "      <td>0.0</td>\n",
       "      <td>5.0</td>\n",
       "      <td>18.0</td>\n",
       "      <td>34.0</td>\n",
       "      <td>35.0</td>\n",
       "      <td>35.0</td>\n",
       "    </tr>\n",
       "    <tr>\n",
       "      <th>user_3</th>\n",
       "      <td>0.0</td>\n",
       "      <td>0.0</td>\n",
       "      <td>0.0</td>\n",
       "      <td>0.0</td>\n",
       "      <td>0.0</td>\n",
       "      <td>0.0</td>\n",
       "      <td>0.0</td>\n",
       "      <td>0.0</td>\n",
       "      <td>0.0</td>\n",
       "      <td>0.0</td>\n",
       "      <td>1.0</td>\n",
       "      <td>28.0</td>\n",
       "      <td>29.0</td>\n",
       "      <td>31.0</td>\n",
       "      <td>54.0</td>\n",
       "      <td>56.0</td>\n",
       "      <td>56.0</td>\n",
       "      <td>58.0</td>\n",
       "      <td>58.0</td>\n",
       "    </tr>\n",
       "    <tr>\n",
       "      <th>user_30</th>\n",
       "      <td>0.0</td>\n",
       "      <td>0.0</td>\n",
       "      <td>0.0</td>\n",
       "      <td>1.0</td>\n",
       "      <td>2.0</td>\n",
       "      <td>2.0</td>\n",
       "      <td>4.0</td>\n",
       "      <td>5.0</td>\n",
       "      <td>5.0</td>\n",
       "      <td>5.0</td>\n",
       "      <td>12.0</td>\n",
       "      <td>12.0</td>\n",
       "      <td>12.0</td>\n",
       "      <td>17.0</td>\n",
       "      <td>17.0</td>\n",
       "      <td>17.0</td>\n",
       "      <td>17.0</td>\n",
       "      <td>19.0</td>\n",
       "      <td>19.0</td>\n",
       "    </tr>\n",
       "    <tr>\n",
       "      <th>user_31</th>\n",
       "      <td>0.0</td>\n",
       "      <td>0.0</td>\n",
       "      <td>0.0</td>\n",
       "      <td>0.0</td>\n",
       "      <td>0.0</td>\n",
       "      <td>0.0</td>\n",
       "      <td>0.0</td>\n",
       "      <td>0.0</td>\n",
       "      <td>0.0</td>\n",
       "      <td>0.0</td>\n",
       "      <td>1.0</td>\n",
       "      <td>1.0</td>\n",
       "      <td>4.0</td>\n",
       "      <td>4.0</td>\n",
       "      <td>6.0</td>\n",
       "      <td>6.0</td>\n",
       "      <td>6.0</td>\n",
       "      <td>8.0</td>\n",
       "      <td>8.0</td>\n",
       "    </tr>\n",
       "    <tr>\n",
       "      <th>user_4</th>\n",
       "      <td>7.0</td>\n",
       "      <td>7.0</td>\n",
       "      <td>11.0</td>\n",
       "      <td>11.0</td>\n",
       "      <td>20.0</td>\n",
       "      <td>27.0</td>\n",
       "      <td>35.0</td>\n",
       "      <td>48.0</td>\n",
       "      <td>53.0</td>\n",
       "      <td>53.0</td>\n",
       "      <td>71.0</td>\n",
       "      <td>83.0</td>\n",
       "      <td>83.0</td>\n",
       "      <td>83.0</td>\n",
       "      <td>87.0</td>\n",
       "      <td>125.0</td>\n",
       "      <td>137.0</td>\n",
       "      <td>164.0</td>\n",
       "      <td>164.0</td>\n",
       "    </tr>\n",
       "    <tr>\n",
       "      <th>user_6</th>\n",
       "      <td>0.0</td>\n",
       "      <td>0.0</td>\n",
       "      <td>0.0</td>\n",
       "      <td>0.0</td>\n",
       "      <td>0.0</td>\n",
       "      <td>0.0</td>\n",
       "      <td>0.0</td>\n",
       "      <td>0.0</td>\n",
       "      <td>0.0</td>\n",
       "      <td>0.0</td>\n",
       "      <td>0.0</td>\n",
       "      <td>0.0</td>\n",
       "      <td>0.0</td>\n",
       "      <td>0.0</td>\n",
       "      <td>0.0</td>\n",
       "      <td>0.0</td>\n",
       "      <td>1.0</td>\n",
       "      <td>2.0</td>\n",
       "      <td>2.0</td>\n",
       "    </tr>\n",
       "    <tr>\n",
       "      <th>user_8</th>\n",
       "      <td>0.0</td>\n",
       "      <td>0.0</td>\n",
       "      <td>0.0</td>\n",
       "      <td>0.0</td>\n",
       "      <td>0.0</td>\n",
       "      <td>0.0</td>\n",
       "      <td>0.0</td>\n",
       "      <td>0.0</td>\n",
       "      <td>0.0</td>\n",
       "      <td>0.0</td>\n",
       "      <td>0.0</td>\n",
       "      <td>0.0</td>\n",
       "      <td>0.0</td>\n",
       "      <td>0.0</td>\n",
       "      <td>0.0</td>\n",
       "      <td>0.0</td>\n",
       "      <td>0.0</td>\n",
       "      <td>8.0</td>\n",
       "      <td>8.0</td>\n",
       "    </tr>\n",
       "  </tbody>\n",
       "</table>\n",
       "</div>"
      ],
      "text/plain": [
       "          0    1     2     3     4     5     6     7     8     9     10    11  \\\n",
       "uid                                                                             \n",
       "user_1   0.0  0.0   0.0   0.0   0.0   0.0   0.0   0.0   0.0   0.0   0.0   0.0   \n",
       "user_10  0.0  0.0   0.0   0.0   0.0   0.0   0.0   0.0   0.0   0.0   0.0   0.0   \n",
       "user_11  0.0  0.0   0.0   0.0   0.0   0.0   1.0   1.0   1.0   1.0   1.0   1.0   \n",
       "user_12  0.0  0.0   0.0   0.0   0.0   0.0   0.0   0.0   0.0   0.0   0.0   0.0   \n",
       "user_13  0.0  0.0   0.0   0.0   0.0   0.0   0.0   0.0   0.0   0.0   0.0   0.0   \n",
       "user_14  0.0  0.0   0.0   0.0   0.0   0.0   0.0   0.0   1.0   1.0   1.0   1.0   \n",
       "user_15  0.0  0.0   0.0   0.0   0.0   0.0   0.0   0.0   0.0   0.0   0.0   0.0   \n",
       "user_16  0.0  0.0   0.0   0.0   0.0   0.0   0.0   0.0   0.0   0.0   0.0   0.0   \n",
       "user_17  0.0  1.0   1.0   1.0   1.0   1.0   1.0   1.0   1.0   1.0   1.0   1.0   \n",
       "user_18  0.0  0.0   0.0   0.0   0.0   0.0   0.0   0.0   0.0   0.0   0.0   0.0   \n",
       "user_19  0.0  0.0   0.0   0.0   0.0   0.0   0.0   0.0   0.0   0.0   0.0   0.0   \n",
       "user_2   0.0  0.0   0.0   0.0   0.0   0.0   0.0   0.0  57.0  58.0  58.0  58.0   \n",
       "user_20  0.0  0.0   0.0   0.0   0.0   0.0   0.0   0.0   0.0   0.0   0.0   0.0   \n",
       "user_21  0.0  0.0   0.0   0.0   0.0   0.0   0.0   0.0   0.0   0.0   0.0   0.0   \n",
       "user_22  0.0  0.0   0.0   0.0   0.0   0.0   1.0   1.0   1.0   1.0   1.0   1.0   \n",
       "user_24  0.0  0.0   0.0   0.0   0.0   0.0   0.0   0.0   0.0   0.0   0.0   0.0   \n",
       "user_25  0.0  0.0   0.0   0.0   0.0   0.0   0.0   0.0   0.0   0.0   0.0   5.0   \n",
       "user_26  0.0  0.0   0.0   0.0   0.0   0.0   0.0   0.0   0.0   0.0   0.0   0.0   \n",
       "user_27  0.0  0.0   0.0   0.0   0.0   0.0   0.0   0.0   0.0   0.0   0.0   0.0   \n",
       "user_28  0.0  0.0   0.0   0.0   0.0   0.0   0.0   0.0   0.0   0.0   0.0   0.0   \n",
       "user_29  0.0  0.0   0.0   0.0   0.0   0.0   0.0   0.0   0.0   0.0   0.0   0.0   \n",
       "user_3   0.0  0.0   0.0   0.0   0.0   0.0   0.0   0.0   0.0   0.0   1.0  28.0   \n",
       "user_30  0.0  0.0   0.0   1.0   2.0   2.0   4.0   5.0   5.0   5.0  12.0  12.0   \n",
       "user_31  0.0  0.0   0.0   0.0   0.0   0.0   0.0   0.0   0.0   0.0   1.0   1.0   \n",
       "user_4   7.0  7.0  11.0  11.0  20.0  27.0  35.0  48.0  53.0  53.0  71.0  83.0   \n",
       "user_6   0.0  0.0   0.0   0.0   0.0   0.0   0.0   0.0   0.0   0.0   0.0   0.0   \n",
       "user_8   0.0  0.0   0.0   0.0   0.0   0.0   0.0   0.0   0.0   0.0   0.0   0.0   \n",
       "\n",
       "           12    13    14     15     16     17     18  \n",
       "uid                                                    \n",
       "user_1    0.0   0.0   0.0    0.0    0.0   11.0   11.0  \n",
       "user_10   0.0   0.0   0.0    7.0   21.0   59.0   59.0  \n",
       "user_11   1.0   1.0   1.0    1.0    1.0    1.0    1.0  \n",
       "user_12   0.0   0.0   0.0    0.0    0.0    4.0    4.0  \n",
       "user_13   0.0   0.0   2.0   30.0   30.0   32.0   32.0  \n",
       "user_14  18.0  25.0  49.0   92.0   92.0   99.0   99.0  \n",
       "user_15   0.0   0.0   0.0    0.0    0.0    3.0    3.0  \n",
       "user_16   0.0   0.0   0.0    3.0    3.0   10.0   10.0  \n",
       "user_17   1.0   1.0   1.0    3.0    3.0    6.0    6.0  \n",
       "user_18   0.0   0.0   7.0    7.0    8.0   31.0   31.0  \n",
       "user_19   0.0   0.0   0.0    0.0    0.0   25.0   29.0  \n",
       "user_2   58.0  62.0  74.0   78.0   93.0   95.0   95.0  \n",
       "user_20   0.0   0.0  11.0   11.0   11.0   54.0   54.0  \n",
       "user_21   0.0   7.0   7.0    7.0    7.0    9.0    9.0  \n",
       "user_22   1.0   1.0   1.0    1.0    1.0    2.0    2.0  \n",
       "user_24   0.0   0.0   0.0    0.0    9.0   34.0   34.0  \n",
       "user_25  27.0  29.0  33.0   54.0   57.0   77.0   77.0  \n",
       "user_26   0.0  35.0  35.0   35.0   52.0   67.0   67.0  \n",
       "user_27   0.0   0.0   0.0    0.0    0.0    8.0    8.0  \n",
       "user_28   0.0   0.0   0.0    2.0   20.0   26.0   27.0  \n",
       "user_29   0.0   0.0   5.0   18.0   34.0   35.0   35.0  \n",
       "user_3   29.0  31.0  54.0   56.0   56.0   58.0   58.0  \n",
       "user_30  12.0  17.0  17.0   17.0   17.0   19.0   19.0  \n",
       "user_31   4.0   4.0   6.0    6.0    6.0    8.0    8.0  \n",
       "user_4   83.0  83.0  87.0  125.0  137.0  164.0  164.0  \n",
       "user_6    0.0   0.0   0.0    0.0    1.0    2.0    2.0  \n",
       "user_8    0.0   0.0   0.0    0.0    0.0    8.0    8.0  "
      ]
     },
     "execution_count": 4,
     "metadata": {},
     "output_type": "execute_result"
    }
   ],
   "source": [
    "df = commits.groupby(['date','uid']).max()['numTrials'].unstack()\n",
    "df.index = np.arange(len(df.index))\n",
    "df.iloc[0] = df.iloc[0].fillna(0)\n",
    "df = df.fillna(method='pad',axis=0)\n",
    "df = df.transpose()\n",
    "df"
   ]
  },
  {
   "cell_type": "code",
   "execution_count": 5,
   "metadata": {},
   "outputs": [],
   "source": [
    "initial_data = [go.Scatter(x=np.array([]),y = np.array([]),\n",
    "                           mode = 'lines+markers',name=name)\n",
    "                for name in df.index]"
   ]
  },
  {
   "cell_type": "code",
   "execution_count": 6,
   "metadata": {},
   "outputs": [],
   "source": [
    "frames = [go.Frame(data=[go.Scatter(\n",
    "    x=np.arange(i + 1), y=np.array(df.iloc[j, :i + 1]),\n",
    "    mode='lines+markers', name=df.index[j]\n",
    "    ) for j in range(len(df.index))]) for i in range(len(df.columns) + 1)]"
   ]
  },
  {
   "cell_type": "code",
   "execution_count": 7,
   "metadata": {},
   "outputs": [
    {
     "data": {
      "application/vnd.plotly.v1+json": {
       "config": {
        "plotlyServerURL": "https://plot.ly"
       },
       "data": [
        {
         "mode": "lines+markers",
         "name": "user_1",
         "type": "scatter",
         "x": [],
         "y": []
        },
        {
         "mode": "lines+markers",
         "name": "user_10",
         "type": "scatter",
         "x": [],
         "y": []
        },
        {
         "mode": "lines+markers",
         "name": "user_11",
         "type": "scatter",
         "x": [],
         "y": []
        },
        {
         "mode": "lines+markers",
         "name": "user_12",
         "type": "scatter",
         "x": [],
         "y": []
        },
        {
         "mode": "lines+markers",
         "name": "user_13",
         "type": "scatter",
         "x": [],
         "y": []
        },
        {
         "mode": "lines+markers",
         "name": "user_14",
         "type": "scatter",
         "x": [],
         "y": []
        },
        {
         "mode": "lines+markers",
         "name": "user_15",
         "type": "scatter",
         "x": [],
         "y": []
        },
        {
         "mode": "lines+markers",
         "name": "user_16",
         "type": "scatter",
         "x": [],
         "y": []
        },
        {
         "mode": "lines+markers",
         "name": "user_17",
         "type": "scatter",
         "x": [],
         "y": []
        },
        {
         "mode": "lines+markers",
         "name": "user_18",
         "type": "scatter",
         "x": [],
         "y": []
        },
        {
         "mode": "lines+markers",
         "name": "user_19",
         "type": "scatter",
         "x": [],
         "y": []
        },
        {
         "mode": "lines+markers",
         "name": "user_2",
         "type": "scatter",
         "x": [],
         "y": []
        },
        {
         "mode": "lines+markers",
         "name": "user_20",
         "type": "scatter",
         "x": [],
         "y": []
        },
        {
         "mode": "lines+markers",
         "name": "user_21",
         "type": "scatter",
         "x": [],
         "y": []
        },
        {
         "mode": "lines+markers",
         "name": "user_22",
         "type": "scatter",
         "x": [],
         "y": []
        },
        {
         "mode": "lines+markers",
         "name": "user_24",
         "type": "scatter",
         "x": [],
         "y": []
        },
        {
         "mode": "lines+markers",
         "name": "user_25",
         "type": "scatter",
         "x": [],
         "y": []
        },
        {
         "mode": "lines+markers",
         "name": "user_26",
         "type": "scatter",
         "x": [],
         "y": []
        },
        {
         "mode": "lines+markers",
         "name": "user_27",
         "type": "scatter",
         "x": [],
         "y": []
        },
        {
         "mode": "lines+markers",
         "name": "user_28",
         "type": "scatter",
         "x": [],
         "y": []
        },
        {
         "mode": "lines+markers",
         "name": "user_29",
         "type": "scatter",
         "x": [],
         "y": []
        },
        {
         "mode": "lines+markers",
         "name": "user_3",
         "type": "scatter",
         "x": [],
         "y": []
        },
        {
         "mode": "lines+markers",
         "name": "user_30",
         "type": "scatter",
         "x": [],
         "y": []
        },
        {
         "mode": "lines+markers",
         "name": "user_31",
         "type": "scatter",
         "x": [],
         "y": []
        },
        {
         "mode": "lines+markers",
         "name": "user_4",
         "type": "scatter",
         "x": [],
         "y": []
        },
        {
         "mode": "lines+markers",
         "name": "user_6",
         "type": "scatter",
         "x": [],
         "y": []
        },
        {
         "mode": "lines+markers",
         "name": "user_8",
         "type": "scatter",
         "x": [],
         "y": []
        }
       ],
       "frames": [
        {
         "data": [
          {
           "mode": "lines+markers",
           "name": "user_1",
           "type": "scatter",
           "x": {
            "bdata": "AA==",
            "dtype": "i1"
           },
           "y": {
            "bdata": "AAAAAAAAAAA=",
            "dtype": "f8"
           }
          },
          {
           "mode": "lines+markers",
           "name": "user_10",
           "type": "scatter",
           "x": {
            "bdata": "AA==",
            "dtype": "i1"
           },
           "y": {
            "bdata": "AAAAAAAAAAA=",
            "dtype": "f8"
           }
          },
          {
           "mode": "lines+markers",
           "name": "user_11",
           "type": "scatter",
           "x": {
            "bdata": "AA==",
            "dtype": "i1"
           },
           "y": {
            "bdata": "AAAAAAAAAAA=",
            "dtype": "f8"
           }
          },
          {
           "mode": "lines+markers",
           "name": "user_12",
           "type": "scatter",
           "x": {
            "bdata": "AA==",
            "dtype": "i1"
           },
           "y": {
            "bdata": "AAAAAAAAAAA=",
            "dtype": "f8"
           }
          },
          {
           "mode": "lines+markers",
           "name": "user_13",
           "type": "scatter",
           "x": {
            "bdata": "AA==",
            "dtype": "i1"
           },
           "y": {
            "bdata": "AAAAAAAAAAA=",
            "dtype": "f8"
           }
          },
          {
           "mode": "lines+markers",
           "name": "user_14",
           "type": "scatter",
           "x": {
            "bdata": "AA==",
            "dtype": "i1"
           },
           "y": {
            "bdata": "AAAAAAAAAAA=",
            "dtype": "f8"
           }
          },
          {
           "mode": "lines+markers",
           "name": "user_15",
           "type": "scatter",
           "x": {
            "bdata": "AA==",
            "dtype": "i1"
           },
           "y": {
            "bdata": "AAAAAAAAAAA=",
            "dtype": "f8"
           }
          },
          {
           "mode": "lines+markers",
           "name": "user_16",
           "type": "scatter",
           "x": {
            "bdata": "AA==",
            "dtype": "i1"
           },
           "y": {
            "bdata": "AAAAAAAAAAA=",
            "dtype": "f8"
           }
          },
          {
           "mode": "lines+markers",
           "name": "user_17",
           "type": "scatter",
           "x": {
            "bdata": "AA==",
            "dtype": "i1"
           },
           "y": {
            "bdata": "AAAAAAAAAAA=",
            "dtype": "f8"
           }
          },
          {
           "mode": "lines+markers",
           "name": "user_18",
           "type": "scatter",
           "x": {
            "bdata": "AA==",
            "dtype": "i1"
           },
           "y": {
            "bdata": "AAAAAAAAAAA=",
            "dtype": "f8"
           }
          },
          {
           "mode": "lines+markers",
           "name": "user_19",
           "type": "scatter",
           "x": {
            "bdata": "AA==",
            "dtype": "i1"
           },
           "y": {
            "bdata": "AAAAAAAAAAA=",
            "dtype": "f8"
           }
          },
          {
           "mode": "lines+markers",
           "name": "user_2",
           "type": "scatter",
           "x": {
            "bdata": "AA==",
            "dtype": "i1"
           },
           "y": {
            "bdata": "AAAAAAAAAAA=",
            "dtype": "f8"
           }
          },
          {
           "mode": "lines+markers",
           "name": "user_20",
           "type": "scatter",
           "x": {
            "bdata": "AA==",
            "dtype": "i1"
           },
           "y": {
            "bdata": "AAAAAAAAAAA=",
            "dtype": "f8"
           }
          },
          {
           "mode": "lines+markers",
           "name": "user_21",
           "type": "scatter",
           "x": {
            "bdata": "AA==",
            "dtype": "i1"
           },
           "y": {
            "bdata": "AAAAAAAAAAA=",
            "dtype": "f8"
           }
          },
          {
           "mode": "lines+markers",
           "name": "user_22",
           "type": "scatter",
           "x": {
            "bdata": "AA==",
            "dtype": "i1"
           },
           "y": {
            "bdata": "AAAAAAAAAAA=",
            "dtype": "f8"
           }
          },
          {
           "mode": "lines+markers",
           "name": "user_24",
           "type": "scatter",
           "x": {
            "bdata": "AA==",
            "dtype": "i1"
           },
           "y": {
            "bdata": "AAAAAAAAAAA=",
            "dtype": "f8"
           }
          },
          {
           "mode": "lines+markers",
           "name": "user_25",
           "type": "scatter",
           "x": {
            "bdata": "AA==",
            "dtype": "i1"
           },
           "y": {
            "bdata": "AAAAAAAAAAA=",
            "dtype": "f8"
           }
          },
          {
           "mode": "lines+markers",
           "name": "user_26",
           "type": "scatter",
           "x": {
            "bdata": "AA==",
            "dtype": "i1"
           },
           "y": {
            "bdata": "AAAAAAAAAAA=",
            "dtype": "f8"
           }
          },
          {
           "mode": "lines+markers",
           "name": "user_27",
           "type": "scatter",
           "x": {
            "bdata": "AA==",
            "dtype": "i1"
           },
           "y": {
            "bdata": "AAAAAAAAAAA=",
            "dtype": "f8"
           }
          },
          {
           "mode": "lines+markers",
           "name": "user_28",
           "type": "scatter",
           "x": {
            "bdata": "AA==",
            "dtype": "i1"
           },
           "y": {
            "bdata": "AAAAAAAAAAA=",
            "dtype": "f8"
           }
          },
          {
           "mode": "lines+markers",
           "name": "user_29",
           "type": "scatter",
           "x": {
            "bdata": "AA==",
            "dtype": "i1"
           },
           "y": {
            "bdata": "AAAAAAAAAAA=",
            "dtype": "f8"
           }
          },
          {
           "mode": "lines+markers",
           "name": "user_3",
           "type": "scatter",
           "x": {
            "bdata": "AA==",
            "dtype": "i1"
           },
           "y": {
            "bdata": "AAAAAAAAAAA=",
            "dtype": "f8"
           }
          },
          {
           "mode": "lines+markers",
           "name": "user_30",
           "type": "scatter",
           "x": {
            "bdata": "AA==",
            "dtype": "i1"
           },
           "y": {
            "bdata": "AAAAAAAAAAA=",
            "dtype": "f8"
           }
          },
          {
           "mode": "lines+markers",
           "name": "user_31",
           "type": "scatter",
           "x": {
            "bdata": "AA==",
            "dtype": "i1"
           },
           "y": {
            "bdata": "AAAAAAAAAAA=",
            "dtype": "f8"
           }
          },
          {
           "mode": "lines+markers",
           "name": "user_4",
           "type": "scatter",
           "x": {
            "bdata": "AA==",
            "dtype": "i1"
           },
           "y": {
            "bdata": "AAAAAAAAHEA=",
            "dtype": "f8"
           }
          },
          {
           "mode": "lines+markers",
           "name": "user_6",
           "type": "scatter",
           "x": {
            "bdata": "AA==",
            "dtype": "i1"
           },
           "y": {
            "bdata": "AAAAAAAAAAA=",
            "dtype": "f8"
           }
          },
          {
           "mode": "lines+markers",
           "name": "user_8",
           "type": "scatter",
           "x": {
            "bdata": "AA==",
            "dtype": "i1"
           },
           "y": {
            "bdata": "AAAAAAAAAAA=",
            "dtype": "f8"
           }
          }
         ]
        },
        {
         "data": [
          {
           "mode": "lines+markers",
           "name": "user_1",
           "type": "scatter",
           "x": {
            "bdata": "AAE=",
            "dtype": "i1"
           },
           "y": {
            "bdata": "AAAAAAAAAAAAAAAAAAAAAA==",
            "dtype": "f8"
           }
          },
          {
           "mode": "lines+markers",
           "name": "user_10",
           "type": "scatter",
           "x": {
            "bdata": "AAE=",
            "dtype": "i1"
           },
           "y": {
            "bdata": "AAAAAAAAAAAAAAAAAAAAAA==",
            "dtype": "f8"
           }
          },
          {
           "mode": "lines+markers",
           "name": "user_11",
           "type": "scatter",
           "x": {
            "bdata": "AAE=",
            "dtype": "i1"
           },
           "y": {
            "bdata": "AAAAAAAAAAAAAAAAAAAAAA==",
            "dtype": "f8"
           }
          },
          {
           "mode": "lines+markers",
           "name": "user_12",
           "type": "scatter",
           "x": {
            "bdata": "AAE=",
            "dtype": "i1"
           },
           "y": {
            "bdata": "AAAAAAAAAAAAAAAAAAAAAA==",
            "dtype": "f8"
           }
          },
          {
           "mode": "lines+markers",
           "name": "user_13",
           "type": "scatter",
           "x": {
            "bdata": "AAE=",
            "dtype": "i1"
           },
           "y": {
            "bdata": "AAAAAAAAAAAAAAAAAAAAAA==",
            "dtype": "f8"
           }
          },
          {
           "mode": "lines+markers",
           "name": "user_14",
           "type": "scatter",
           "x": {
            "bdata": "AAE=",
            "dtype": "i1"
           },
           "y": {
            "bdata": "AAAAAAAAAAAAAAAAAAAAAA==",
            "dtype": "f8"
           }
          },
          {
           "mode": "lines+markers",
           "name": "user_15",
           "type": "scatter",
           "x": {
            "bdata": "AAE=",
            "dtype": "i1"
           },
           "y": {
            "bdata": "AAAAAAAAAAAAAAAAAAAAAA==",
            "dtype": "f8"
           }
          },
          {
           "mode": "lines+markers",
           "name": "user_16",
           "type": "scatter",
           "x": {
            "bdata": "AAE=",
            "dtype": "i1"
           },
           "y": {
            "bdata": "AAAAAAAAAAAAAAAAAAAAAA==",
            "dtype": "f8"
           }
          },
          {
           "mode": "lines+markers",
           "name": "user_17",
           "type": "scatter",
           "x": {
            "bdata": "AAE=",
            "dtype": "i1"
           },
           "y": {
            "bdata": "AAAAAAAAAAAAAAAAAADwPw==",
            "dtype": "f8"
           }
          },
          {
           "mode": "lines+markers",
           "name": "user_18",
           "type": "scatter",
           "x": {
            "bdata": "AAE=",
            "dtype": "i1"
           },
           "y": {
            "bdata": "AAAAAAAAAAAAAAAAAAAAAA==",
            "dtype": "f8"
           }
          },
          {
           "mode": "lines+markers",
           "name": "user_19",
           "type": "scatter",
           "x": {
            "bdata": "AAE=",
            "dtype": "i1"
           },
           "y": {
            "bdata": "AAAAAAAAAAAAAAAAAAAAAA==",
            "dtype": "f8"
           }
          },
          {
           "mode": "lines+markers",
           "name": "user_2",
           "type": "scatter",
           "x": {
            "bdata": "AAE=",
            "dtype": "i1"
           },
           "y": {
            "bdata": "AAAAAAAAAAAAAAAAAAAAAA==",
            "dtype": "f8"
           }
          },
          {
           "mode": "lines+markers",
           "name": "user_20",
           "type": "scatter",
           "x": {
            "bdata": "AAE=",
            "dtype": "i1"
           },
           "y": {
            "bdata": "AAAAAAAAAAAAAAAAAAAAAA==",
            "dtype": "f8"
           }
          },
          {
           "mode": "lines+markers",
           "name": "user_21",
           "type": "scatter",
           "x": {
            "bdata": "AAE=",
            "dtype": "i1"
           },
           "y": {
            "bdata": "AAAAAAAAAAAAAAAAAAAAAA==",
            "dtype": "f8"
           }
          },
          {
           "mode": "lines+markers",
           "name": "user_22",
           "type": "scatter",
           "x": {
            "bdata": "AAE=",
            "dtype": "i1"
           },
           "y": {
            "bdata": "AAAAAAAAAAAAAAAAAAAAAA==",
            "dtype": "f8"
           }
          },
          {
           "mode": "lines+markers",
           "name": "user_24",
           "type": "scatter",
           "x": {
            "bdata": "AAE=",
            "dtype": "i1"
           },
           "y": {
            "bdata": "AAAAAAAAAAAAAAAAAAAAAA==",
            "dtype": "f8"
           }
          },
          {
           "mode": "lines+markers",
           "name": "user_25",
           "type": "scatter",
           "x": {
            "bdata": "AAE=",
            "dtype": "i1"
           },
           "y": {
            "bdata": "AAAAAAAAAAAAAAAAAAAAAA==",
            "dtype": "f8"
           }
          },
          {
           "mode": "lines+markers",
           "name": "user_26",
           "type": "scatter",
           "x": {
            "bdata": "AAE=",
            "dtype": "i1"
           },
           "y": {
            "bdata": "AAAAAAAAAAAAAAAAAAAAAA==",
            "dtype": "f8"
           }
          },
          {
           "mode": "lines+markers",
           "name": "user_27",
           "type": "scatter",
           "x": {
            "bdata": "AAE=",
            "dtype": "i1"
           },
           "y": {
            "bdata": "AAAAAAAAAAAAAAAAAAAAAA==",
            "dtype": "f8"
           }
          },
          {
           "mode": "lines+markers",
           "name": "user_28",
           "type": "scatter",
           "x": {
            "bdata": "AAE=",
            "dtype": "i1"
           },
           "y": {
            "bdata": "AAAAAAAAAAAAAAAAAAAAAA==",
            "dtype": "f8"
           }
          },
          {
           "mode": "lines+markers",
           "name": "user_29",
           "type": "scatter",
           "x": {
            "bdata": "AAE=",
            "dtype": "i1"
           },
           "y": {
            "bdata": "AAAAAAAAAAAAAAAAAAAAAA==",
            "dtype": "f8"
           }
          },
          {
           "mode": "lines+markers",
           "name": "user_3",
           "type": "scatter",
           "x": {
            "bdata": "AAE=",
            "dtype": "i1"
           },
           "y": {
            "bdata": "AAAAAAAAAAAAAAAAAAAAAA==",
            "dtype": "f8"
           }
          },
          {
           "mode": "lines+markers",
           "name": "user_30",
           "type": "scatter",
           "x": {
            "bdata": "AAE=",
            "dtype": "i1"
           },
           "y": {
            "bdata": "AAAAAAAAAAAAAAAAAAAAAA==",
            "dtype": "f8"
           }
          },
          {
           "mode": "lines+markers",
           "name": "user_31",
           "type": "scatter",
           "x": {
            "bdata": "AAE=",
            "dtype": "i1"
           },
           "y": {
            "bdata": "AAAAAAAAAAAAAAAAAAAAAA==",
            "dtype": "f8"
           }
          },
          {
           "mode": "lines+markers",
           "name": "user_4",
           "type": "scatter",
           "x": {
            "bdata": "AAE=",
            "dtype": "i1"
           },
           "y": {
            "bdata": "AAAAAAAAHEAAAAAAAAAcQA==",
            "dtype": "f8"
           }
          },
          {
           "mode": "lines+markers",
           "name": "user_6",
           "type": "scatter",
           "x": {
            "bdata": "AAE=",
            "dtype": "i1"
           },
           "y": {
            "bdata": "AAAAAAAAAAAAAAAAAAAAAA==",
            "dtype": "f8"
           }
          },
          {
           "mode": "lines+markers",
           "name": "user_8",
           "type": "scatter",
           "x": {
            "bdata": "AAE=",
            "dtype": "i1"
           },
           "y": {
            "bdata": "AAAAAAAAAAAAAAAAAAAAAA==",
            "dtype": "f8"
           }
          }
         ]
        },
        {
         "data": [
          {
           "mode": "lines+markers",
           "name": "user_1",
           "type": "scatter",
           "x": {
            "bdata": "AAEC",
            "dtype": "i1"
           },
           "y": {
            "bdata": "AAAAAAAAAAAAAAAAAAAAAAAAAAAAAAAA",
            "dtype": "f8"
           }
          },
          {
           "mode": "lines+markers",
           "name": "user_10",
           "type": "scatter",
           "x": {
            "bdata": "AAEC",
            "dtype": "i1"
           },
           "y": {
            "bdata": "AAAAAAAAAAAAAAAAAAAAAAAAAAAAAAAA",
            "dtype": "f8"
           }
          },
          {
           "mode": "lines+markers",
           "name": "user_11",
           "type": "scatter",
           "x": {
            "bdata": "AAEC",
            "dtype": "i1"
           },
           "y": {
            "bdata": "AAAAAAAAAAAAAAAAAAAAAAAAAAAAAAAA",
            "dtype": "f8"
           }
          },
          {
           "mode": "lines+markers",
           "name": "user_12",
           "type": "scatter",
           "x": {
            "bdata": "AAEC",
            "dtype": "i1"
           },
           "y": {
            "bdata": "AAAAAAAAAAAAAAAAAAAAAAAAAAAAAAAA",
            "dtype": "f8"
           }
          },
          {
           "mode": "lines+markers",
           "name": "user_13",
           "type": "scatter",
           "x": {
            "bdata": "AAEC",
            "dtype": "i1"
           },
           "y": {
            "bdata": "AAAAAAAAAAAAAAAAAAAAAAAAAAAAAAAA",
            "dtype": "f8"
           }
          },
          {
           "mode": "lines+markers",
           "name": "user_14",
           "type": "scatter",
           "x": {
            "bdata": "AAEC",
            "dtype": "i1"
           },
           "y": {
            "bdata": "AAAAAAAAAAAAAAAAAAAAAAAAAAAAAAAA",
            "dtype": "f8"
           }
          },
          {
           "mode": "lines+markers",
           "name": "user_15",
           "type": "scatter",
           "x": {
            "bdata": "AAEC",
            "dtype": "i1"
           },
           "y": {
            "bdata": "AAAAAAAAAAAAAAAAAAAAAAAAAAAAAAAA",
            "dtype": "f8"
           }
          },
          {
           "mode": "lines+markers",
           "name": "user_16",
           "type": "scatter",
           "x": {
            "bdata": "AAEC",
            "dtype": "i1"
           },
           "y": {
            "bdata": "AAAAAAAAAAAAAAAAAAAAAAAAAAAAAAAA",
            "dtype": "f8"
           }
          },
          {
           "mode": "lines+markers",
           "name": "user_17",
           "type": "scatter",
           "x": {
            "bdata": "AAEC",
            "dtype": "i1"
           },
           "y": {
            "bdata": "AAAAAAAAAAAAAAAAAADwPwAAAAAAAPA/",
            "dtype": "f8"
           }
          },
          {
           "mode": "lines+markers",
           "name": "user_18",
           "type": "scatter",
           "x": {
            "bdata": "AAEC",
            "dtype": "i1"
           },
           "y": {
            "bdata": "AAAAAAAAAAAAAAAAAAAAAAAAAAAAAAAA",
            "dtype": "f8"
           }
          },
          {
           "mode": "lines+markers",
           "name": "user_19",
           "type": "scatter",
           "x": {
            "bdata": "AAEC",
            "dtype": "i1"
           },
           "y": {
            "bdata": "AAAAAAAAAAAAAAAAAAAAAAAAAAAAAAAA",
            "dtype": "f8"
           }
          },
          {
           "mode": "lines+markers",
           "name": "user_2",
           "type": "scatter",
           "x": {
            "bdata": "AAEC",
            "dtype": "i1"
           },
           "y": {
            "bdata": "AAAAAAAAAAAAAAAAAAAAAAAAAAAAAAAA",
            "dtype": "f8"
           }
          },
          {
           "mode": "lines+markers",
           "name": "user_20",
           "type": "scatter",
           "x": {
            "bdata": "AAEC",
            "dtype": "i1"
           },
           "y": {
            "bdata": "AAAAAAAAAAAAAAAAAAAAAAAAAAAAAAAA",
            "dtype": "f8"
           }
          },
          {
           "mode": "lines+markers",
           "name": "user_21",
           "type": "scatter",
           "x": {
            "bdata": "AAEC",
            "dtype": "i1"
           },
           "y": {
            "bdata": "AAAAAAAAAAAAAAAAAAAAAAAAAAAAAAAA",
            "dtype": "f8"
           }
          },
          {
           "mode": "lines+markers",
           "name": "user_22",
           "type": "scatter",
           "x": {
            "bdata": "AAEC",
            "dtype": "i1"
           },
           "y": {
            "bdata": "AAAAAAAAAAAAAAAAAAAAAAAAAAAAAAAA",
            "dtype": "f8"
           }
          },
          {
           "mode": "lines+markers",
           "name": "user_24",
           "type": "scatter",
           "x": {
            "bdata": "AAEC",
            "dtype": "i1"
           },
           "y": {
            "bdata": "AAAAAAAAAAAAAAAAAAAAAAAAAAAAAAAA",
            "dtype": "f8"
           }
          },
          {
           "mode": "lines+markers",
           "name": "user_25",
           "type": "scatter",
           "x": {
            "bdata": "AAEC",
            "dtype": "i1"
           },
           "y": {
            "bdata": "AAAAAAAAAAAAAAAAAAAAAAAAAAAAAAAA",
            "dtype": "f8"
           }
          },
          {
           "mode": "lines+markers",
           "name": "user_26",
           "type": "scatter",
           "x": {
            "bdata": "AAEC",
            "dtype": "i1"
           },
           "y": {
            "bdata": "AAAAAAAAAAAAAAAAAAAAAAAAAAAAAAAA",
            "dtype": "f8"
           }
          },
          {
           "mode": "lines+markers",
           "name": "user_27",
           "type": "scatter",
           "x": {
            "bdata": "AAEC",
            "dtype": "i1"
           },
           "y": {
            "bdata": "AAAAAAAAAAAAAAAAAAAAAAAAAAAAAAAA",
            "dtype": "f8"
           }
          },
          {
           "mode": "lines+markers",
           "name": "user_28",
           "type": "scatter",
           "x": {
            "bdata": "AAEC",
            "dtype": "i1"
           },
           "y": {
            "bdata": "AAAAAAAAAAAAAAAAAAAAAAAAAAAAAAAA",
            "dtype": "f8"
           }
          },
          {
           "mode": "lines+markers",
           "name": "user_29",
           "type": "scatter",
           "x": {
            "bdata": "AAEC",
            "dtype": "i1"
           },
           "y": {
            "bdata": "AAAAAAAAAAAAAAAAAAAAAAAAAAAAAAAA",
            "dtype": "f8"
           }
          },
          {
           "mode": "lines+markers",
           "name": "user_3",
           "type": "scatter",
           "x": {
            "bdata": "AAEC",
            "dtype": "i1"
           },
           "y": {
            "bdata": "AAAAAAAAAAAAAAAAAAAAAAAAAAAAAAAA",
            "dtype": "f8"
           }
          },
          {
           "mode": "lines+markers",
           "name": "user_30",
           "type": "scatter",
           "x": {
            "bdata": "AAEC",
            "dtype": "i1"
           },
           "y": {
            "bdata": "AAAAAAAAAAAAAAAAAAAAAAAAAAAAAAAA",
            "dtype": "f8"
           }
          },
          {
           "mode": "lines+markers",
           "name": "user_31",
           "type": "scatter",
           "x": {
            "bdata": "AAEC",
            "dtype": "i1"
           },
           "y": {
            "bdata": "AAAAAAAAAAAAAAAAAAAAAAAAAAAAAAAA",
            "dtype": "f8"
           }
          },
          {
           "mode": "lines+markers",
           "name": "user_4",
           "type": "scatter",
           "x": {
            "bdata": "AAEC",
            "dtype": "i1"
           },
           "y": {
            "bdata": "AAAAAAAAHEAAAAAAAAAcQAAAAAAAACZA",
            "dtype": "f8"
           }
          },
          {
           "mode": "lines+markers",
           "name": "user_6",
           "type": "scatter",
           "x": {
            "bdata": "AAEC",
            "dtype": "i1"
           },
           "y": {
            "bdata": "AAAAAAAAAAAAAAAAAAAAAAAAAAAAAAAA",
            "dtype": "f8"
           }
          },
          {
           "mode": "lines+markers",
           "name": "user_8",
           "type": "scatter",
           "x": {
            "bdata": "AAEC",
            "dtype": "i1"
           },
           "y": {
            "bdata": "AAAAAAAAAAAAAAAAAAAAAAAAAAAAAAAA",
            "dtype": "f8"
           }
          }
         ]
        },
        {
         "data": [
          {
           "mode": "lines+markers",
           "name": "user_1",
           "type": "scatter",
           "x": {
            "bdata": "AAECAw==",
            "dtype": "i1"
           },
           "y": {
            "bdata": "AAAAAAAAAAAAAAAAAAAAAAAAAAAAAAAAAAAAAAAAAAA=",
            "dtype": "f8"
           }
          },
          {
           "mode": "lines+markers",
           "name": "user_10",
           "type": "scatter",
           "x": {
            "bdata": "AAECAw==",
            "dtype": "i1"
           },
           "y": {
            "bdata": "AAAAAAAAAAAAAAAAAAAAAAAAAAAAAAAAAAAAAAAAAAA=",
            "dtype": "f8"
           }
          },
          {
           "mode": "lines+markers",
           "name": "user_11",
           "type": "scatter",
           "x": {
            "bdata": "AAECAw==",
            "dtype": "i1"
           },
           "y": {
            "bdata": "AAAAAAAAAAAAAAAAAAAAAAAAAAAAAAAAAAAAAAAAAAA=",
            "dtype": "f8"
           }
          },
          {
           "mode": "lines+markers",
           "name": "user_12",
           "type": "scatter",
           "x": {
            "bdata": "AAECAw==",
            "dtype": "i1"
           },
           "y": {
            "bdata": "AAAAAAAAAAAAAAAAAAAAAAAAAAAAAAAAAAAAAAAAAAA=",
            "dtype": "f8"
           }
          },
          {
           "mode": "lines+markers",
           "name": "user_13",
           "type": "scatter",
           "x": {
            "bdata": "AAECAw==",
            "dtype": "i1"
           },
           "y": {
            "bdata": "AAAAAAAAAAAAAAAAAAAAAAAAAAAAAAAAAAAAAAAAAAA=",
            "dtype": "f8"
           }
          },
          {
           "mode": "lines+markers",
           "name": "user_14",
           "type": "scatter",
           "x": {
            "bdata": "AAECAw==",
            "dtype": "i1"
           },
           "y": {
            "bdata": "AAAAAAAAAAAAAAAAAAAAAAAAAAAAAAAAAAAAAAAAAAA=",
            "dtype": "f8"
           }
          },
          {
           "mode": "lines+markers",
           "name": "user_15",
           "type": "scatter",
           "x": {
            "bdata": "AAECAw==",
            "dtype": "i1"
           },
           "y": {
            "bdata": "AAAAAAAAAAAAAAAAAAAAAAAAAAAAAAAAAAAAAAAAAAA=",
            "dtype": "f8"
           }
          },
          {
           "mode": "lines+markers",
           "name": "user_16",
           "type": "scatter",
           "x": {
            "bdata": "AAECAw==",
            "dtype": "i1"
           },
           "y": {
            "bdata": "AAAAAAAAAAAAAAAAAAAAAAAAAAAAAAAAAAAAAAAAAAA=",
            "dtype": "f8"
           }
          },
          {
           "mode": "lines+markers",
           "name": "user_17",
           "type": "scatter",
           "x": {
            "bdata": "AAECAw==",
            "dtype": "i1"
           },
           "y": {
            "bdata": "AAAAAAAAAAAAAAAAAADwPwAAAAAAAPA/AAAAAAAA8D8=",
            "dtype": "f8"
           }
          },
          {
           "mode": "lines+markers",
           "name": "user_18",
           "type": "scatter",
           "x": {
            "bdata": "AAECAw==",
            "dtype": "i1"
           },
           "y": {
            "bdata": "AAAAAAAAAAAAAAAAAAAAAAAAAAAAAAAAAAAAAAAAAAA=",
            "dtype": "f8"
           }
          },
          {
           "mode": "lines+markers",
           "name": "user_19",
           "type": "scatter",
           "x": {
            "bdata": "AAECAw==",
            "dtype": "i1"
           },
           "y": {
            "bdata": "AAAAAAAAAAAAAAAAAAAAAAAAAAAAAAAAAAAAAAAAAAA=",
            "dtype": "f8"
           }
          },
          {
           "mode": "lines+markers",
           "name": "user_2",
           "type": "scatter",
           "x": {
            "bdata": "AAECAw==",
            "dtype": "i1"
           },
           "y": {
            "bdata": "AAAAAAAAAAAAAAAAAAAAAAAAAAAAAAAAAAAAAAAAAAA=",
            "dtype": "f8"
           }
          },
          {
           "mode": "lines+markers",
           "name": "user_20",
           "type": "scatter",
           "x": {
            "bdata": "AAECAw==",
            "dtype": "i1"
           },
           "y": {
            "bdata": "AAAAAAAAAAAAAAAAAAAAAAAAAAAAAAAAAAAAAAAAAAA=",
            "dtype": "f8"
           }
          },
          {
           "mode": "lines+markers",
           "name": "user_21",
           "type": "scatter",
           "x": {
            "bdata": "AAECAw==",
            "dtype": "i1"
           },
           "y": {
            "bdata": "AAAAAAAAAAAAAAAAAAAAAAAAAAAAAAAAAAAAAAAAAAA=",
            "dtype": "f8"
           }
          },
          {
           "mode": "lines+markers",
           "name": "user_22",
           "type": "scatter",
           "x": {
            "bdata": "AAECAw==",
            "dtype": "i1"
           },
           "y": {
            "bdata": "AAAAAAAAAAAAAAAAAAAAAAAAAAAAAAAAAAAAAAAAAAA=",
            "dtype": "f8"
           }
          },
          {
           "mode": "lines+markers",
           "name": "user_24",
           "type": "scatter",
           "x": {
            "bdata": "AAECAw==",
            "dtype": "i1"
           },
           "y": {
            "bdata": "AAAAAAAAAAAAAAAAAAAAAAAAAAAAAAAAAAAAAAAAAAA=",
            "dtype": "f8"
           }
          },
          {
           "mode": "lines+markers",
           "name": "user_25",
           "type": "scatter",
           "x": {
            "bdata": "AAECAw==",
            "dtype": "i1"
           },
           "y": {
            "bdata": "AAAAAAAAAAAAAAAAAAAAAAAAAAAAAAAAAAAAAAAAAAA=",
            "dtype": "f8"
           }
          },
          {
           "mode": "lines+markers",
           "name": "user_26",
           "type": "scatter",
           "x": {
            "bdata": "AAECAw==",
            "dtype": "i1"
           },
           "y": {
            "bdata": "AAAAAAAAAAAAAAAAAAAAAAAAAAAAAAAAAAAAAAAAAAA=",
            "dtype": "f8"
           }
          },
          {
           "mode": "lines+markers",
           "name": "user_27",
           "type": "scatter",
           "x": {
            "bdata": "AAECAw==",
            "dtype": "i1"
           },
           "y": {
            "bdata": "AAAAAAAAAAAAAAAAAAAAAAAAAAAAAAAAAAAAAAAAAAA=",
            "dtype": "f8"
           }
          },
          {
           "mode": "lines+markers",
           "name": "user_28",
           "type": "scatter",
           "x": {
            "bdata": "AAECAw==",
            "dtype": "i1"
           },
           "y": {
            "bdata": "AAAAAAAAAAAAAAAAAAAAAAAAAAAAAAAAAAAAAAAAAAA=",
            "dtype": "f8"
           }
          },
          {
           "mode": "lines+markers",
           "name": "user_29",
           "type": "scatter",
           "x": {
            "bdata": "AAECAw==",
            "dtype": "i1"
           },
           "y": {
            "bdata": "AAAAAAAAAAAAAAAAAAAAAAAAAAAAAAAAAAAAAAAAAAA=",
            "dtype": "f8"
           }
          },
          {
           "mode": "lines+markers",
           "name": "user_3",
           "type": "scatter",
           "x": {
            "bdata": "AAECAw==",
            "dtype": "i1"
           },
           "y": {
            "bdata": "AAAAAAAAAAAAAAAAAAAAAAAAAAAAAAAAAAAAAAAAAAA=",
            "dtype": "f8"
           }
          },
          {
           "mode": "lines+markers",
           "name": "user_30",
           "type": "scatter",
           "x": {
            "bdata": "AAECAw==",
            "dtype": "i1"
           },
           "y": {
            "bdata": "AAAAAAAAAAAAAAAAAAAAAAAAAAAAAAAAAAAAAAAA8D8=",
            "dtype": "f8"
           }
          },
          {
           "mode": "lines+markers",
           "name": "user_31",
           "type": "scatter",
           "x": {
            "bdata": "AAECAw==",
            "dtype": "i1"
           },
           "y": {
            "bdata": "AAAAAAAAAAAAAAAAAAAAAAAAAAAAAAAAAAAAAAAAAAA=",
            "dtype": "f8"
           }
          },
          {
           "mode": "lines+markers",
           "name": "user_4",
           "type": "scatter",
           "x": {
            "bdata": "AAECAw==",
            "dtype": "i1"
           },
           "y": {
            "bdata": "AAAAAAAAHEAAAAAAAAAcQAAAAAAAACZAAAAAAAAAJkA=",
            "dtype": "f8"
           }
          },
          {
           "mode": "lines+markers",
           "name": "user_6",
           "type": "scatter",
           "x": {
            "bdata": "AAECAw==",
            "dtype": "i1"
           },
           "y": {
            "bdata": "AAAAAAAAAAAAAAAAAAAAAAAAAAAAAAAAAAAAAAAAAAA=",
            "dtype": "f8"
           }
          },
          {
           "mode": "lines+markers",
           "name": "user_8",
           "type": "scatter",
           "x": {
            "bdata": "AAECAw==",
            "dtype": "i1"
           },
           "y": {
            "bdata": "AAAAAAAAAAAAAAAAAAAAAAAAAAAAAAAAAAAAAAAAAAA=",
            "dtype": "f8"
           }
          }
         ]
        },
        {
         "data": [
          {
           "mode": "lines+markers",
           "name": "user_1",
           "type": "scatter",
           "x": {
            "bdata": "AAECAwQ=",
            "dtype": "i1"
           },
           "y": {
            "bdata": "AAAAAAAAAAAAAAAAAAAAAAAAAAAAAAAAAAAAAAAAAAAAAAAAAAAAAA==",
            "dtype": "f8"
           }
          },
          {
           "mode": "lines+markers",
           "name": "user_10",
           "type": "scatter",
           "x": {
            "bdata": "AAECAwQ=",
            "dtype": "i1"
           },
           "y": {
            "bdata": "AAAAAAAAAAAAAAAAAAAAAAAAAAAAAAAAAAAAAAAAAAAAAAAAAAAAAA==",
            "dtype": "f8"
           }
          },
          {
           "mode": "lines+markers",
           "name": "user_11",
           "type": "scatter",
           "x": {
            "bdata": "AAECAwQ=",
            "dtype": "i1"
           },
           "y": {
            "bdata": "AAAAAAAAAAAAAAAAAAAAAAAAAAAAAAAAAAAAAAAAAAAAAAAAAAAAAA==",
            "dtype": "f8"
           }
          },
          {
           "mode": "lines+markers",
           "name": "user_12",
           "type": "scatter",
           "x": {
            "bdata": "AAECAwQ=",
            "dtype": "i1"
           },
           "y": {
            "bdata": "AAAAAAAAAAAAAAAAAAAAAAAAAAAAAAAAAAAAAAAAAAAAAAAAAAAAAA==",
            "dtype": "f8"
           }
          },
          {
           "mode": "lines+markers",
           "name": "user_13",
           "type": "scatter",
           "x": {
            "bdata": "AAECAwQ=",
            "dtype": "i1"
           },
           "y": {
            "bdata": "AAAAAAAAAAAAAAAAAAAAAAAAAAAAAAAAAAAAAAAAAAAAAAAAAAAAAA==",
            "dtype": "f8"
           }
          },
          {
           "mode": "lines+markers",
           "name": "user_14",
           "type": "scatter",
           "x": {
            "bdata": "AAECAwQ=",
            "dtype": "i1"
           },
           "y": {
            "bdata": "AAAAAAAAAAAAAAAAAAAAAAAAAAAAAAAAAAAAAAAAAAAAAAAAAAAAAA==",
            "dtype": "f8"
           }
          },
          {
           "mode": "lines+markers",
           "name": "user_15",
           "type": "scatter",
           "x": {
            "bdata": "AAECAwQ=",
            "dtype": "i1"
           },
           "y": {
            "bdata": "AAAAAAAAAAAAAAAAAAAAAAAAAAAAAAAAAAAAAAAAAAAAAAAAAAAAAA==",
            "dtype": "f8"
           }
          },
          {
           "mode": "lines+markers",
           "name": "user_16",
           "type": "scatter",
           "x": {
            "bdata": "AAECAwQ=",
            "dtype": "i1"
           },
           "y": {
            "bdata": "AAAAAAAAAAAAAAAAAAAAAAAAAAAAAAAAAAAAAAAAAAAAAAAAAAAAAA==",
            "dtype": "f8"
           }
          },
          {
           "mode": "lines+markers",
           "name": "user_17",
           "type": "scatter",
           "x": {
            "bdata": "AAECAwQ=",
            "dtype": "i1"
           },
           "y": {
            "bdata": "AAAAAAAAAAAAAAAAAADwPwAAAAAAAPA/AAAAAAAA8D8AAAAAAADwPw==",
            "dtype": "f8"
           }
          },
          {
           "mode": "lines+markers",
           "name": "user_18",
           "type": "scatter",
           "x": {
            "bdata": "AAECAwQ=",
            "dtype": "i1"
           },
           "y": {
            "bdata": "AAAAAAAAAAAAAAAAAAAAAAAAAAAAAAAAAAAAAAAAAAAAAAAAAAAAAA==",
            "dtype": "f8"
           }
          },
          {
           "mode": "lines+markers",
           "name": "user_19",
           "type": "scatter",
           "x": {
            "bdata": "AAECAwQ=",
            "dtype": "i1"
           },
           "y": {
            "bdata": "AAAAAAAAAAAAAAAAAAAAAAAAAAAAAAAAAAAAAAAAAAAAAAAAAAAAAA==",
            "dtype": "f8"
           }
          },
          {
           "mode": "lines+markers",
           "name": "user_2",
           "type": "scatter",
           "x": {
            "bdata": "AAECAwQ=",
            "dtype": "i1"
           },
           "y": {
            "bdata": "AAAAAAAAAAAAAAAAAAAAAAAAAAAAAAAAAAAAAAAAAAAAAAAAAAAAAA==",
            "dtype": "f8"
           }
          },
          {
           "mode": "lines+markers",
           "name": "user_20",
           "type": "scatter",
           "x": {
            "bdata": "AAECAwQ=",
            "dtype": "i1"
           },
           "y": {
            "bdata": "AAAAAAAAAAAAAAAAAAAAAAAAAAAAAAAAAAAAAAAAAAAAAAAAAAAAAA==",
            "dtype": "f8"
           }
          },
          {
           "mode": "lines+markers",
           "name": "user_21",
           "type": "scatter",
           "x": {
            "bdata": "AAECAwQ=",
            "dtype": "i1"
           },
           "y": {
            "bdata": "AAAAAAAAAAAAAAAAAAAAAAAAAAAAAAAAAAAAAAAAAAAAAAAAAAAAAA==",
            "dtype": "f8"
           }
          },
          {
           "mode": "lines+markers",
           "name": "user_22",
           "type": "scatter",
           "x": {
            "bdata": "AAECAwQ=",
            "dtype": "i1"
           },
           "y": {
            "bdata": "AAAAAAAAAAAAAAAAAAAAAAAAAAAAAAAAAAAAAAAAAAAAAAAAAAAAAA==",
            "dtype": "f8"
           }
          },
          {
           "mode": "lines+markers",
           "name": "user_24",
           "type": "scatter",
           "x": {
            "bdata": "AAECAwQ=",
            "dtype": "i1"
           },
           "y": {
            "bdata": "AAAAAAAAAAAAAAAAAAAAAAAAAAAAAAAAAAAAAAAAAAAAAAAAAAAAAA==",
            "dtype": "f8"
           }
          },
          {
           "mode": "lines+markers",
           "name": "user_25",
           "type": "scatter",
           "x": {
            "bdata": "AAECAwQ=",
            "dtype": "i1"
           },
           "y": {
            "bdata": "AAAAAAAAAAAAAAAAAAAAAAAAAAAAAAAAAAAAAAAAAAAAAAAAAAAAAA==",
            "dtype": "f8"
           }
          },
          {
           "mode": "lines+markers",
           "name": "user_26",
           "type": "scatter",
           "x": {
            "bdata": "AAECAwQ=",
            "dtype": "i1"
           },
           "y": {
            "bdata": "AAAAAAAAAAAAAAAAAAAAAAAAAAAAAAAAAAAAAAAAAAAAAAAAAAAAAA==",
            "dtype": "f8"
           }
          },
          {
           "mode": "lines+markers",
           "name": "user_27",
           "type": "scatter",
           "x": {
            "bdata": "AAECAwQ=",
            "dtype": "i1"
           },
           "y": {
            "bdata": "AAAAAAAAAAAAAAAAAAAAAAAAAAAAAAAAAAAAAAAAAAAAAAAAAAAAAA==",
            "dtype": "f8"
           }
          },
          {
           "mode": "lines+markers",
           "name": "user_28",
           "type": "scatter",
           "x": {
            "bdata": "AAECAwQ=",
            "dtype": "i1"
           },
           "y": {
            "bdata": "AAAAAAAAAAAAAAAAAAAAAAAAAAAAAAAAAAAAAAAAAAAAAAAAAAAAAA==",
            "dtype": "f8"
           }
          },
          {
           "mode": "lines+markers",
           "name": "user_29",
           "type": "scatter",
           "x": {
            "bdata": "AAECAwQ=",
            "dtype": "i1"
           },
           "y": {
            "bdata": "AAAAAAAAAAAAAAAAAAAAAAAAAAAAAAAAAAAAAAAAAAAAAAAAAAAAAA==",
            "dtype": "f8"
           }
          },
          {
           "mode": "lines+markers",
           "name": "user_3",
           "type": "scatter",
           "x": {
            "bdata": "AAECAwQ=",
            "dtype": "i1"
           },
           "y": {
            "bdata": "AAAAAAAAAAAAAAAAAAAAAAAAAAAAAAAAAAAAAAAAAAAAAAAAAAAAAA==",
            "dtype": "f8"
           }
          },
          {
           "mode": "lines+markers",
           "name": "user_30",
           "type": "scatter",
           "x": {
            "bdata": "AAECAwQ=",
            "dtype": "i1"
           },
           "y": {
            "bdata": "AAAAAAAAAAAAAAAAAAAAAAAAAAAAAAAAAAAAAAAA8D8AAAAAAAAAQA==",
            "dtype": "f8"
           }
          },
          {
           "mode": "lines+markers",
           "name": "user_31",
           "type": "scatter",
           "x": {
            "bdata": "AAECAwQ=",
            "dtype": "i1"
           },
           "y": {
            "bdata": "AAAAAAAAAAAAAAAAAAAAAAAAAAAAAAAAAAAAAAAAAAAAAAAAAAAAAA==",
            "dtype": "f8"
           }
          },
          {
           "mode": "lines+markers",
           "name": "user_4",
           "type": "scatter",
           "x": {
            "bdata": "AAECAwQ=",
            "dtype": "i1"
           },
           "y": {
            "bdata": "AAAAAAAAHEAAAAAAAAAcQAAAAAAAACZAAAAAAAAAJkAAAAAAAAA0QA==",
            "dtype": "f8"
           }
          },
          {
           "mode": "lines+markers",
           "name": "user_6",
           "type": "scatter",
           "x": {
            "bdata": "AAECAwQ=",
            "dtype": "i1"
           },
           "y": {
            "bdata": "AAAAAAAAAAAAAAAAAAAAAAAAAAAAAAAAAAAAAAAAAAAAAAAAAAAAAA==",
            "dtype": "f8"
           }
          },
          {
           "mode": "lines+markers",
           "name": "user_8",
           "type": "scatter",
           "x": {
            "bdata": "AAECAwQ=",
            "dtype": "i1"
           },
           "y": {
            "bdata": "AAAAAAAAAAAAAAAAAAAAAAAAAAAAAAAAAAAAAAAAAAAAAAAAAAAAAA==",
            "dtype": "f8"
           }
          }
         ]
        },
        {
         "data": [
          {
           "mode": "lines+markers",
           "name": "user_1",
           "type": "scatter",
           "x": {
            "bdata": "AAECAwQF",
            "dtype": "i1"
           },
           "y": {
            "bdata": "AAAAAAAAAAAAAAAAAAAAAAAAAAAAAAAAAAAAAAAAAAAAAAAAAAAAAAAAAAAAAAAA",
            "dtype": "f8"
           }
          },
          {
           "mode": "lines+markers",
           "name": "user_10",
           "type": "scatter",
           "x": {
            "bdata": "AAECAwQF",
            "dtype": "i1"
           },
           "y": {
            "bdata": "AAAAAAAAAAAAAAAAAAAAAAAAAAAAAAAAAAAAAAAAAAAAAAAAAAAAAAAAAAAAAAAA",
            "dtype": "f8"
           }
          },
          {
           "mode": "lines+markers",
           "name": "user_11",
           "type": "scatter",
           "x": {
            "bdata": "AAECAwQF",
            "dtype": "i1"
           },
           "y": {
            "bdata": "AAAAAAAAAAAAAAAAAAAAAAAAAAAAAAAAAAAAAAAAAAAAAAAAAAAAAAAAAAAAAAAA",
            "dtype": "f8"
           }
          },
          {
           "mode": "lines+markers",
           "name": "user_12",
           "type": "scatter",
           "x": {
            "bdata": "AAECAwQF",
            "dtype": "i1"
           },
           "y": {
            "bdata": "AAAAAAAAAAAAAAAAAAAAAAAAAAAAAAAAAAAAAAAAAAAAAAAAAAAAAAAAAAAAAAAA",
            "dtype": "f8"
           }
          },
          {
           "mode": "lines+markers",
           "name": "user_13",
           "type": "scatter",
           "x": {
            "bdata": "AAECAwQF",
            "dtype": "i1"
           },
           "y": {
            "bdata": "AAAAAAAAAAAAAAAAAAAAAAAAAAAAAAAAAAAAAAAAAAAAAAAAAAAAAAAAAAAAAAAA",
            "dtype": "f8"
           }
          },
          {
           "mode": "lines+markers",
           "name": "user_14",
           "type": "scatter",
           "x": {
            "bdata": "AAECAwQF",
            "dtype": "i1"
           },
           "y": {
            "bdata": "AAAAAAAAAAAAAAAAAAAAAAAAAAAAAAAAAAAAAAAAAAAAAAAAAAAAAAAAAAAAAAAA",
            "dtype": "f8"
           }
          },
          {
           "mode": "lines+markers",
           "name": "user_15",
           "type": "scatter",
           "x": {
            "bdata": "AAECAwQF",
            "dtype": "i1"
           },
           "y": {
            "bdata": "AAAAAAAAAAAAAAAAAAAAAAAAAAAAAAAAAAAAAAAAAAAAAAAAAAAAAAAAAAAAAAAA",
            "dtype": "f8"
           }
          },
          {
           "mode": "lines+markers",
           "name": "user_16",
           "type": "scatter",
           "x": {
            "bdata": "AAECAwQF",
            "dtype": "i1"
           },
           "y": {
            "bdata": "AAAAAAAAAAAAAAAAAAAAAAAAAAAAAAAAAAAAAAAAAAAAAAAAAAAAAAAAAAAAAAAA",
            "dtype": "f8"
           }
          },
          {
           "mode": "lines+markers",
           "name": "user_17",
           "type": "scatter",
           "x": {
            "bdata": "AAECAwQF",
            "dtype": "i1"
           },
           "y": {
            "bdata": "AAAAAAAAAAAAAAAAAADwPwAAAAAAAPA/AAAAAAAA8D8AAAAAAADwPwAAAAAAAPA/",
            "dtype": "f8"
           }
          },
          {
           "mode": "lines+markers",
           "name": "user_18",
           "type": "scatter",
           "x": {
            "bdata": "AAECAwQF",
            "dtype": "i1"
           },
           "y": {
            "bdata": "AAAAAAAAAAAAAAAAAAAAAAAAAAAAAAAAAAAAAAAAAAAAAAAAAAAAAAAAAAAAAAAA",
            "dtype": "f8"
           }
          },
          {
           "mode": "lines+markers",
           "name": "user_19",
           "type": "scatter",
           "x": {
            "bdata": "AAECAwQF",
            "dtype": "i1"
           },
           "y": {
            "bdata": "AAAAAAAAAAAAAAAAAAAAAAAAAAAAAAAAAAAAAAAAAAAAAAAAAAAAAAAAAAAAAAAA",
            "dtype": "f8"
           }
          },
          {
           "mode": "lines+markers",
           "name": "user_2",
           "type": "scatter",
           "x": {
            "bdata": "AAECAwQF",
            "dtype": "i1"
           },
           "y": {
            "bdata": "AAAAAAAAAAAAAAAAAAAAAAAAAAAAAAAAAAAAAAAAAAAAAAAAAAAAAAAAAAAAAAAA",
            "dtype": "f8"
           }
          },
          {
           "mode": "lines+markers",
           "name": "user_20",
           "type": "scatter",
           "x": {
            "bdata": "AAECAwQF",
            "dtype": "i1"
           },
           "y": {
            "bdata": "AAAAAAAAAAAAAAAAAAAAAAAAAAAAAAAAAAAAAAAAAAAAAAAAAAAAAAAAAAAAAAAA",
            "dtype": "f8"
           }
          },
          {
           "mode": "lines+markers",
           "name": "user_21",
           "type": "scatter",
           "x": {
            "bdata": "AAECAwQF",
            "dtype": "i1"
           },
           "y": {
            "bdata": "AAAAAAAAAAAAAAAAAAAAAAAAAAAAAAAAAAAAAAAAAAAAAAAAAAAAAAAAAAAAAAAA",
            "dtype": "f8"
           }
          },
          {
           "mode": "lines+markers",
           "name": "user_22",
           "type": "scatter",
           "x": {
            "bdata": "AAECAwQF",
            "dtype": "i1"
           },
           "y": {
            "bdata": "AAAAAAAAAAAAAAAAAAAAAAAAAAAAAAAAAAAAAAAAAAAAAAAAAAAAAAAAAAAAAAAA",
            "dtype": "f8"
           }
          },
          {
           "mode": "lines+markers",
           "name": "user_24",
           "type": "scatter",
           "x": {
            "bdata": "AAECAwQF",
            "dtype": "i1"
           },
           "y": {
            "bdata": "AAAAAAAAAAAAAAAAAAAAAAAAAAAAAAAAAAAAAAAAAAAAAAAAAAAAAAAAAAAAAAAA",
            "dtype": "f8"
           }
          },
          {
           "mode": "lines+markers",
           "name": "user_25",
           "type": "scatter",
           "x": {
            "bdata": "AAECAwQF",
            "dtype": "i1"
           },
           "y": {
            "bdata": "AAAAAAAAAAAAAAAAAAAAAAAAAAAAAAAAAAAAAAAAAAAAAAAAAAAAAAAAAAAAAAAA",
            "dtype": "f8"
           }
          },
          {
           "mode": "lines+markers",
           "name": "user_26",
           "type": "scatter",
           "x": {
            "bdata": "AAECAwQF",
            "dtype": "i1"
           },
           "y": {
            "bdata": "AAAAAAAAAAAAAAAAAAAAAAAAAAAAAAAAAAAAAAAAAAAAAAAAAAAAAAAAAAAAAAAA",
            "dtype": "f8"
           }
          },
          {
           "mode": "lines+markers",
           "name": "user_27",
           "type": "scatter",
           "x": {
            "bdata": "AAECAwQF",
            "dtype": "i1"
           },
           "y": {
            "bdata": "AAAAAAAAAAAAAAAAAAAAAAAAAAAAAAAAAAAAAAAAAAAAAAAAAAAAAAAAAAAAAAAA",
            "dtype": "f8"
           }
          },
          {
           "mode": "lines+markers",
           "name": "user_28",
           "type": "scatter",
           "x": {
            "bdata": "AAECAwQF",
            "dtype": "i1"
           },
           "y": {
            "bdata": "AAAAAAAAAAAAAAAAAAAAAAAAAAAAAAAAAAAAAAAAAAAAAAAAAAAAAAAAAAAAAAAA",
            "dtype": "f8"
           }
          },
          {
           "mode": "lines+markers",
           "name": "user_29",
           "type": "scatter",
           "x": {
            "bdata": "AAECAwQF",
            "dtype": "i1"
           },
           "y": {
            "bdata": "AAAAAAAAAAAAAAAAAAAAAAAAAAAAAAAAAAAAAAAAAAAAAAAAAAAAAAAAAAAAAAAA",
            "dtype": "f8"
           }
          },
          {
           "mode": "lines+markers",
           "name": "user_3",
           "type": "scatter",
           "x": {
            "bdata": "AAECAwQF",
            "dtype": "i1"
           },
           "y": {
            "bdata": "AAAAAAAAAAAAAAAAAAAAAAAAAAAAAAAAAAAAAAAAAAAAAAAAAAAAAAAAAAAAAAAA",
            "dtype": "f8"
           }
          },
          {
           "mode": "lines+markers",
           "name": "user_30",
           "type": "scatter",
           "x": {
            "bdata": "AAECAwQF",
            "dtype": "i1"
           },
           "y": {
            "bdata": "AAAAAAAAAAAAAAAAAAAAAAAAAAAAAAAAAAAAAAAA8D8AAAAAAAAAQAAAAAAAAABA",
            "dtype": "f8"
           }
          },
          {
           "mode": "lines+markers",
           "name": "user_31",
           "type": "scatter",
           "x": {
            "bdata": "AAECAwQF",
            "dtype": "i1"
           },
           "y": {
            "bdata": "AAAAAAAAAAAAAAAAAAAAAAAAAAAAAAAAAAAAAAAAAAAAAAAAAAAAAAAAAAAAAAAA",
            "dtype": "f8"
           }
          },
          {
           "mode": "lines+markers",
           "name": "user_4",
           "type": "scatter",
           "x": {
            "bdata": "AAECAwQF",
            "dtype": "i1"
           },
           "y": {
            "bdata": "AAAAAAAAHEAAAAAAAAAcQAAAAAAAACZAAAAAAAAAJkAAAAAAAAA0QAAAAAAAADtA",
            "dtype": "f8"
           }
          },
          {
           "mode": "lines+markers",
           "name": "user_6",
           "type": "scatter",
           "x": {
            "bdata": "AAECAwQF",
            "dtype": "i1"
           },
           "y": {
            "bdata": "AAAAAAAAAAAAAAAAAAAAAAAAAAAAAAAAAAAAAAAAAAAAAAAAAAAAAAAAAAAAAAAA",
            "dtype": "f8"
           }
          },
          {
           "mode": "lines+markers",
           "name": "user_8",
           "type": "scatter",
           "x": {
            "bdata": "AAECAwQF",
            "dtype": "i1"
           },
           "y": {
            "bdata": "AAAAAAAAAAAAAAAAAAAAAAAAAAAAAAAAAAAAAAAAAAAAAAAAAAAAAAAAAAAAAAAA",
            "dtype": "f8"
           }
          }
         ]
        },
        {
         "data": [
          {
           "mode": "lines+markers",
           "name": "user_1",
           "type": "scatter",
           "x": {
            "bdata": "AAECAwQFBg==",
            "dtype": "i1"
           },
           "y": {
            "bdata": "AAAAAAAAAAAAAAAAAAAAAAAAAAAAAAAAAAAAAAAAAAAAAAAAAAAAAAAAAAAAAAAAAAAAAAAAAAA=",
            "dtype": "f8"
           }
          },
          {
           "mode": "lines+markers",
           "name": "user_10",
           "type": "scatter",
           "x": {
            "bdata": "AAECAwQFBg==",
            "dtype": "i1"
           },
           "y": {
            "bdata": "AAAAAAAAAAAAAAAAAAAAAAAAAAAAAAAAAAAAAAAAAAAAAAAAAAAAAAAAAAAAAAAAAAAAAAAAAAA=",
            "dtype": "f8"
           }
          },
          {
           "mode": "lines+markers",
           "name": "user_11",
           "type": "scatter",
           "x": {
            "bdata": "AAECAwQFBg==",
            "dtype": "i1"
           },
           "y": {
            "bdata": "AAAAAAAAAAAAAAAAAAAAAAAAAAAAAAAAAAAAAAAAAAAAAAAAAAAAAAAAAAAAAAAAAAAAAAAA8D8=",
            "dtype": "f8"
           }
          },
          {
           "mode": "lines+markers",
           "name": "user_12",
           "type": "scatter",
           "x": {
            "bdata": "AAECAwQFBg==",
            "dtype": "i1"
           },
           "y": {
            "bdata": "AAAAAAAAAAAAAAAAAAAAAAAAAAAAAAAAAAAAAAAAAAAAAAAAAAAAAAAAAAAAAAAAAAAAAAAAAAA=",
            "dtype": "f8"
           }
          },
          {
           "mode": "lines+markers",
           "name": "user_13",
           "type": "scatter",
           "x": {
            "bdata": "AAECAwQFBg==",
            "dtype": "i1"
           },
           "y": {
            "bdata": "AAAAAAAAAAAAAAAAAAAAAAAAAAAAAAAAAAAAAAAAAAAAAAAAAAAAAAAAAAAAAAAAAAAAAAAAAAA=",
            "dtype": "f8"
           }
          },
          {
           "mode": "lines+markers",
           "name": "user_14",
           "type": "scatter",
           "x": {
            "bdata": "AAECAwQFBg==",
            "dtype": "i1"
           },
           "y": {
            "bdata": "AAAAAAAAAAAAAAAAAAAAAAAAAAAAAAAAAAAAAAAAAAAAAAAAAAAAAAAAAAAAAAAAAAAAAAAAAAA=",
            "dtype": "f8"
           }
          },
          {
           "mode": "lines+markers",
           "name": "user_15",
           "type": "scatter",
           "x": {
            "bdata": "AAECAwQFBg==",
            "dtype": "i1"
           },
           "y": {
            "bdata": "AAAAAAAAAAAAAAAAAAAAAAAAAAAAAAAAAAAAAAAAAAAAAAAAAAAAAAAAAAAAAAAAAAAAAAAAAAA=",
            "dtype": "f8"
           }
          },
          {
           "mode": "lines+markers",
           "name": "user_16",
           "type": "scatter",
           "x": {
            "bdata": "AAECAwQFBg==",
            "dtype": "i1"
           },
           "y": {
            "bdata": "AAAAAAAAAAAAAAAAAAAAAAAAAAAAAAAAAAAAAAAAAAAAAAAAAAAAAAAAAAAAAAAAAAAAAAAAAAA=",
            "dtype": "f8"
           }
          },
          {
           "mode": "lines+markers",
           "name": "user_17",
           "type": "scatter",
           "x": {
            "bdata": "AAECAwQFBg==",
            "dtype": "i1"
           },
           "y": {
            "bdata": "AAAAAAAAAAAAAAAAAADwPwAAAAAAAPA/AAAAAAAA8D8AAAAAAADwPwAAAAAAAPA/AAAAAAAA8D8=",
            "dtype": "f8"
           }
          },
          {
           "mode": "lines+markers",
           "name": "user_18",
           "type": "scatter",
           "x": {
            "bdata": "AAECAwQFBg==",
            "dtype": "i1"
           },
           "y": {
            "bdata": "AAAAAAAAAAAAAAAAAAAAAAAAAAAAAAAAAAAAAAAAAAAAAAAAAAAAAAAAAAAAAAAAAAAAAAAAAAA=",
            "dtype": "f8"
           }
          },
          {
           "mode": "lines+markers",
           "name": "user_19",
           "type": "scatter",
           "x": {
            "bdata": "AAECAwQFBg==",
            "dtype": "i1"
           },
           "y": {
            "bdata": "AAAAAAAAAAAAAAAAAAAAAAAAAAAAAAAAAAAAAAAAAAAAAAAAAAAAAAAAAAAAAAAAAAAAAAAAAAA=",
            "dtype": "f8"
           }
          },
          {
           "mode": "lines+markers",
           "name": "user_2",
           "type": "scatter",
           "x": {
            "bdata": "AAECAwQFBg==",
            "dtype": "i1"
           },
           "y": {
            "bdata": "AAAAAAAAAAAAAAAAAAAAAAAAAAAAAAAAAAAAAAAAAAAAAAAAAAAAAAAAAAAAAAAAAAAAAAAAAAA=",
            "dtype": "f8"
           }
          },
          {
           "mode": "lines+markers",
           "name": "user_20",
           "type": "scatter",
           "x": {
            "bdata": "AAECAwQFBg==",
            "dtype": "i1"
           },
           "y": {
            "bdata": "AAAAAAAAAAAAAAAAAAAAAAAAAAAAAAAAAAAAAAAAAAAAAAAAAAAAAAAAAAAAAAAAAAAAAAAAAAA=",
            "dtype": "f8"
           }
          },
          {
           "mode": "lines+markers",
           "name": "user_21",
           "type": "scatter",
           "x": {
            "bdata": "AAECAwQFBg==",
            "dtype": "i1"
           },
           "y": {
            "bdata": "AAAAAAAAAAAAAAAAAAAAAAAAAAAAAAAAAAAAAAAAAAAAAAAAAAAAAAAAAAAAAAAAAAAAAAAAAAA=",
            "dtype": "f8"
           }
          },
          {
           "mode": "lines+markers",
           "name": "user_22",
           "type": "scatter",
           "x": {
            "bdata": "AAECAwQFBg==",
            "dtype": "i1"
           },
           "y": {
            "bdata": "AAAAAAAAAAAAAAAAAAAAAAAAAAAAAAAAAAAAAAAAAAAAAAAAAAAAAAAAAAAAAAAAAAAAAAAA8D8=",
            "dtype": "f8"
           }
          },
          {
           "mode": "lines+markers",
           "name": "user_24",
           "type": "scatter",
           "x": {
            "bdata": "AAECAwQFBg==",
            "dtype": "i1"
           },
           "y": {
            "bdata": "AAAAAAAAAAAAAAAAAAAAAAAAAAAAAAAAAAAAAAAAAAAAAAAAAAAAAAAAAAAAAAAAAAAAAAAAAAA=",
            "dtype": "f8"
           }
          },
          {
           "mode": "lines+markers",
           "name": "user_25",
           "type": "scatter",
           "x": {
            "bdata": "AAECAwQFBg==",
            "dtype": "i1"
           },
           "y": {
            "bdata": "AAAAAAAAAAAAAAAAAAAAAAAAAAAAAAAAAAAAAAAAAAAAAAAAAAAAAAAAAAAAAAAAAAAAAAAAAAA=",
            "dtype": "f8"
           }
          },
          {
           "mode": "lines+markers",
           "name": "user_26",
           "type": "scatter",
           "x": {
            "bdata": "AAECAwQFBg==",
            "dtype": "i1"
           },
           "y": {
            "bdata": "AAAAAAAAAAAAAAAAAAAAAAAAAAAAAAAAAAAAAAAAAAAAAAAAAAAAAAAAAAAAAAAAAAAAAAAAAAA=",
            "dtype": "f8"
           }
          },
          {
           "mode": "lines+markers",
           "name": "user_27",
           "type": "scatter",
           "x": {
            "bdata": "AAECAwQFBg==",
            "dtype": "i1"
           },
           "y": {
            "bdata": "AAAAAAAAAAAAAAAAAAAAAAAAAAAAAAAAAAAAAAAAAAAAAAAAAAAAAAAAAAAAAAAAAAAAAAAAAAA=",
            "dtype": "f8"
           }
          },
          {
           "mode": "lines+markers",
           "name": "user_28",
           "type": "scatter",
           "x": {
            "bdata": "AAECAwQFBg==",
            "dtype": "i1"
           },
           "y": {
            "bdata": "AAAAAAAAAAAAAAAAAAAAAAAAAAAAAAAAAAAAAAAAAAAAAAAAAAAAAAAAAAAAAAAAAAAAAAAAAAA=",
            "dtype": "f8"
           }
          },
          {
           "mode": "lines+markers",
           "name": "user_29",
           "type": "scatter",
           "x": {
            "bdata": "AAECAwQFBg==",
            "dtype": "i1"
           },
           "y": {
            "bdata": "AAAAAAAAAAAAAAAAAAAAAAAAAAAAAAAAAAAAAAAAAAAAAAAAAAAAAAAAAAAAAAAAAAAAAAAAAAA=",
            "dtype": "f8"
           }
          },
          {
           "mode": "lines+markers",
           "name": "user_3",
           "type": "scatter",
           "x": {
            "bdata": "AAECAwQFBg==",
            "dtype": "i1"
           },
           "y": {
            "bdata": "AAAAAAAAAAAAAAAAAAAAAAAAAAAAAAAAAAAAAAAAAAAAAAAAAAAAAAAAAAAAAAAAAAAAAAAAAAA=",
            "dtype": "f8"
           }
          },
          {
           "mode": "lines+markers",
           "name": "user_30",
           "type": "scatter",
           "x": {
            "bdata": "AAECAwQFBg==",
            "dtype": "i1"
           },
           "y": {
            "bdata": "AAAAAAAAAAAAAAAAAAAAAAAAAAAAAAAAAAAAAAAA8D8AAAAAAAAAQAAAAAAAAABAAAAAAAAAEEA=",
            "dtype": "f8"
           }
          },
          {
           "mode": "lines+markers",
           "name": "user_31",
           "type": "scatter",
           "x": {
            "bdata": "AAECAwQFBg==",
            "dtype": "i1"
           },
           "y": {
            "bdata": "AAAAAAAAAAAAAAAAAAAAAAAAAAAAAAAAAAAAAAAAAAAAAAAAAAAAAAAAAAAAAAAAAAAAAAAAAAA=",
            "dtype": "f8"
           }
          },
          {
           "mode": "lines+markers",
           "name": "user_4",
           "type": "scatter",
           "x": {
            "bdata": "AAECAwQFBg==",
            "dtype": "i1"
           },
           "y": {
            "bdata": "AAAAAAAAHEAAAAAAAAAcQAAAAAAAACZAAAAAAAAAJkAAAAAAAAA0QAAAAAAAADtAAAAAAACAQUA=",
            "dtype": "f8"
           }
          },
          {
           "mode": "lines+markers",
           "name": "user_6",
           "type": "scatter",
           "x": {
            "bdata": "AAECAwQFBg==",
            "dtype": "i1"
           },
           "y": {
            "bdata": "AAAAAAAAAAAAAAAAAAAAAAAAAAAAAAAAAAAAAAAAAAAAAAAAAAAAAAAAAAAAAAAAAAAAAAAAAAA=",
            "dtype": "f8"
           }
          },
          {
           "mode": "lines+markers",
           "name": "user_8",
           "type": "scatter",
           "x": {
            "bdata": "AAECAwQFBg==",
            "dtype": "i1"
           },
           "y": {
            "bdata": "AAAAAAAAAAAAAAAAAAAAAAAAAAAAAAAAAAAAAAAAAAAAAAAAAAAAAAAAAAAAAAAAAAAAAAAAAAA=",
            "dtype": "f8"
           }
          }
         ]
        },
        {
         "data": [
          {
           "mode": "lines+markers",
           "name": "user_1",
           "type": "scatter",
           "x": {
            "bdata": "AAECAwQFBgc=",
            "dtype": "i1"
           },
           "y": {
            "bdata": "AAAAAAAAAAAAAAAAAAAAAAAAAAAAAAAAAAAAAAAAAAAAAAAAAAAAAAAAAAAAAAAAAAAAAAAAAAAAAAAAAAAAAA==",
            "dtype": "f8"
           }
          },
          {
           "mode": "lines+markers",
           "name": "user_10",
           "type": "scatter",
           "x": {
            "bdata": "AAECAwQFBgc=",
            "dtype": "i1"
           },
           "y": {
            "bdata": "AAAAAAAAAAAAAAAAAAAAAAAAAAAAAAAAAAAAAAAAAAAAAAAAAAAAAAAAAAAAAAAAAAAAAAAAAAAAAAAAAAAAAA==",
            "dtype": "f8"
           }
          },
          {
           "mode": "lines+markers",
           "name": "user_11",
           "type": "scatter",
           "x": {
            "bdata": "AAECAwQFBgc=",
            "dtype": "i1"
           },
           "y": {
            "bdata": "AAAAAAAAAAAAAAAAAAAAAAAAAAAAAAAAAAAAAAAAAAAAAAAAAAAAAAAAAAAAAAAAAAAAAAAA8D8AAAAAAADwPw==",
            "dtype": "f8"
           }
          },
          {
           "mode": "lines+markers",
           "name": "user_12",
           "type": "scatter",
           "x": {
            "bdata": "AAECAwQFBgc=",
            "dtype": "i1"
           },
           "y": {
            "bdata": "AAAAAAAAAAAAAAAAAAAAAAAAAAAAAAAAAAAAAAAAAAAAAAAAAAAAAAAAAAAAAAAAAAAAAAAAAAAAAAAAAAAAAA==",
            "dtype": "f8"
           }
          },
          {
           "mode": "lines+markers",
           "name": "user_13",
           "type": "scatter",
           "x": {
            "bdata": "AAECAwQFBgc=",
            "dtype": "i1"
           },
           "y": {
            "bdata": "AAAAAAAAAAAAAAAAAAAAAAAAAAAAAAAAAAAAAAAAAAAAAAAAAAAAAAAAAAAAAAAAAAAAAAAAAAAAAAAAAAAAAA==",
            "dtype": "f8"
           }
          },
          {
           "mode": "lines+markers",
           "name": "user_14",
           "type": "scatter",
           "x": {
            "bdata": "AAECAwQFBgc=",
            "dtype": "i1"
           },
           "y": {
            "bdata": "AAAAAAAAAAAAAAAAAAAAAAAAAAAAAAAAAAAAAAAAAAAAAAAAAAAAAAAAAAAAAAAAAAAAAAAAAAAAAAAAAAAAAA==",
            "dtype": "f8"
           }
          },
          {
           "mode": "lines+markers",
           "name": "user_15",
           "type": "scatter",
           "x": {
            "bdata": "AAECAwQFBgc=",
            "dtype": "i1"
           },
           "y": {
            "bdata": "AAAAAAAAAAAAAAAAAAAAAAAAAAAAAAAAAAAAAAAAAAAAAAAAAAAAAAAAAAAAAAAAAAAAAAAAAAAAAAAAAAAAAA==",
            "dtype": "f8"
           }
          },
          {
           "mode": "lines+markers",
           "name": "user_16",
           "type": "scatter",
           "x": {
            "bdata": "AAECAwQFBgc=",
            "dtype": "i1"
           },
           "y": {
            "bdata": "AAAAAAAAAAAAAAAAAAAAAAAAAAAAAAAAAAAAAAAAAAAAAAAAAAAAAAAAAAAAAAAAAAAAAAAAAAAAAAAAAAAAAA==",
            "dtype": "f8"
           }
          },
          {
           "mode": "lines+markers",
           "name": "user_17",
           "type": "scatter",
           "x": {
            "bdata": "AAECAwQFBgc=",
            "dtype": "i1"
           },
           "y": {
            "bdata": "AAAAAAAAAAAAAAAAAADwPwAAAAAAAPA/AAAAAAAA8D8AAAAAAADwPwAAAAAAAPA/AAAAAAAA8D8AAAAAAADwPw==",
            "dtype": "f8"
           }
          },
          {
           "mode": "lines+markers",
           "name": "user_18",
           "type": "scatter",
           "x": {
            "bdata": "AAECAwQFBgc=",
            "dtype": "i1"
           },
           "y": {
            "bdata": "AAAAAAAAAAAAAAAAAAAAAAAAAAAAAAAAAAAAAAAAAAAAAAAAAAAAAAAAAAAAAAAAAAAAAAAAAAAAAAAAAAAAAA==",
            "dtype": "f8"
           }
          },
          {
           "mode": "lines+markers",
           "name": "user_19",
           "type": "scatter",
           "x": {
            "bdata": "AAECAwQFBgc=",
            "dtype": "i1"
           },
           "y": {
            "bdata": "AAAAAAAAAAAAAAAAAAAAAAAAAAAAAAAAAAAAAAAAAAAAAAAAAAAAAAAAAAAAAAAAAAAAAAAAAAAAAAAAAAAAAA==",
            "dtype": "f8"
           }
          },
          {
           "mode": "lines+markers",
           "name": "user_2",
           "type": "scatter",
           "x": {
            "bdata": "AAECAwQFBgc=",
            "dtype": "i1"
           },
           "y": {
            "bdata": "AAAAAAAAAAAAAAAAAAAAAAAAAAAAAAAAAAAAAAAAAAAAAAAAAAAAAAAAAAAAAAAAAAAAAAAAAAAAAAAAAAAAAA==",
            "dtype": "f8"
           }
          },
          {
           "mode": "lines+markers",
           "name": "user_20",
           "type": "scatter",
           "x": {
            "bdata": "AAECAwQFBgc=",
            "dtype": "i1"
           },
           "y": {
            "bdata": "AAAAAAAAAAAAAAAAAAAAAAAAAAAAAAAAAAAAAAAAAAAAAAAAAAAAAAAAAAAAAAAAAAAAAAAAAAAAAAAAAAAAAA==",
            "dtype": "f8"
           }
          },
          {
           "mode": "lines+markers",
           "name": "user_21",
           "type": "scatter",
           "x": {
            "bdata": "AAECAwQFBgc=",
            "dtype": "i1"
           },
           "y": {
            "bdata": "AAAAAAAAAAAAAAAAAAAAAAAAAAAAAAAAAAAAAAAAAAAAAAAAAAAAAAAAAAAAAAAAAAAAAAAAAAAAAAAAAAAAAA==",
            "dtype": "f8"
           }
          },
          {
           "mode": "lines+markers",
           "name": "user_22",
           "type": "scatter",
           "x": {
            "bdata": "AAECAwQFBgc=",
            "dtype": "i1"
           },
           "y": {
            "bdata": "AAAAAAAAAAAAAAAAAAAAAAAAAAAAAAAAAAAAAAAAAAAAAAAAAAAAAAAAAAAAAAAAAAAAAAAA8D8AAAAAAADwPw==",
            "dtype": "f8"
           }
          },
          {
           "mode": "lines+markers",
           "name": "user_24",
           "type": "scatter",
           "x": {
            "bdata": "AAECAwQFBgc=",
            "dtype": "i1"
           },
           "y": {
            "bdata": "AAAAAAAAAAAAAAAAAAAAAAAAAAAAAAAAAAAAAAAAAAAAAAAAAAAAAAAAAAAAAAAAAAAAAAAAAAAAAAAAAAAAAA==",
            "dtype": "f8"
           }
          },
          {
           "mode": "lines+markers",
           "name": "user_25",
           "type": "scatter",
           "x": {
            "bdata": "AAECAwQFBgc=",
            "dtype": "i1"
           },
           "y": {
            "bdata": "AAAAAAAAAAAAAAAAAAAAAAAAAAAAAAAAAAAAAAAAAAAAAAAAAAAAAAAAAAAAAAAAAAAAAAAAAAAAAAAAAAAAAA==",
            "dtype": "f8"
           }
          },
          {
           "mode": "lines+markers",
           "name": "user_26",
           "type": "scatter",
           "x": {
            "bdata": "AAECAwQFBgc=",
            "dtype": "i1"
           },
           "y": {
            "bdata": "AAAAAAAAAAAAAAAAAAAAAAAAAAAAAAAAAAAAAAAAAAAAAAAAAAAAAAAAAAAAAAAAAAAAAAAAAAAAAAAAAAAAAA==",
            "dtype": "f8"
           }
          },
          {
           "mode": "lines+markers",
           "name": "user_27",
           "type": "scatter",
           "x": {
            "bdata": "AAECAwQFBgc=",
            "dtype": "i1"
           },
           "y": {
            "bdata": "AAAAAAAAAAAAAAAAAAAAAAAAAAAAAAAAAAAAAAAAAAAAAAAAAAAAAAAAAAAAAAAAAAAAAAAAAAAAAAAAAAAAAA==",
            "dtype": "f8"
           }
          },
          {
           "mode": "lines+markers",
           "name": "user_28",
           "type": "scatter",
           "x": {
            "bdata": "AAECAwQFBgc=",
            "dtype": "i1"
           },
           "y": {
            "bdata": "AAAAAAAAAAAAAAAAAAAAAAAAAAAAAAAAAAAAAAAAAAAAAAAAAAAAAAAAAAAAAAAAAAAAAAAAAAAAAAAAAAAAAA==",
            "dtype": "f8"
           }
          },
          {
           "mode": "lines+markers",
           "name": "user_29",
           "type": "scatter",
           "x": {
            "bdata": "AAECAwQFBgc=",
            "dtype": "i1"
           },
           "y": {
            "bdata": "AAAAAAAAAAAAAAAAAAAAAAAAAAAAAAAAAAAAAAAAAAAAAAAAAAAAAAAAAAAAAAAAAAAAAAAAAAAAAAAAAAAAAA==",
            "dtype": "f8"
           }
          },
          {
           "mode": "lines+markers",
           "name": "user_3",
           "type": "scatter",
           "x": {
            "bdata": "AAECAwQFBgc=",
            "dtype": "i1"
           },
           "y": {
            "bdata": "AAAAAAAAAAAAAAAAAAAAAAAAAAAAAAAAAAAAAAAAAAAAAAAAAAAAAAAAAAAAAAAAAAAAAAAAAAAAAAAAAAAAAA==",
            "dtype": "f8"
           }
          },
          {
           "mode": "lines+markers",
           "name": "user_30",
           "type": "scatter",
           "x": {
            "bdata": "AAECAwQFBgc=",
            "dtype": "i1"
           },
           "y": {
            "bdata": "AAAAAAAAAAAAAAAAAAAAAAAAAAAAAAAAAAAAAAAA8D8AAAAAAAAAQAAAAAAAAABAAAAAAAAAEEAAAAAAAAAUQA==",
            "dtype": "f8"
           }
          },
          {
           "mode": "lines+markers",
           "name": "user_31",
           "type": "scatter",
           "x": {
            "bdata": "AAECAwQFBgc=",
            "dtype": "i1"
           },
           "y": {
            "bdata": "AAAAAAAAAAAAAAAAAAAAAAAAAAAAAAAAAAAAAAAAAAAAAAAAAAAAAAAAAAAAAAAAAAAAAAAAAAAAAAAAAAAAAA==",
            "dtype": "f8"
           }
          },
          {
           "mode": "lines+markers",
           "name": "user_4",
           "type": "scatter",
           "x": {
            "bdata": "AAECAwQFBgc=",
            "dtype": "i1"
           },
           "y": {
            "bdata": "AAAAAAAAHEAAAAAAAAAcQAAAAAAAACZAAAAAAAAAJkAAAAAAAAA0QAAAAAAAADtAAAAAAACAQUAAAAAAAABIQA==",
            "dtype": "f8"
           }
          },
          {
           "mode": "lines+markers",
           "name": "user_6",
           "type": "scatter",
           "x": {
            "bdata": "AAECAwQFBgc=",
            "dtype": "i1"
           },
           "y": {
            "bdata": "AAAAAAAAAAAAAAAAAAAAAAAAAAAAAAAAAAAAAAAAAAAAAAAAAAAAAAAAAAAAAAAAAAAAAAAAAAAAAAAAAAAAAA==",
            "dtype": "f8"
           }
          },
          {
           "mode": "lines+markers",
           "name": "user_8",
           "type": "scatter",
           "x": {
            "bdata": "AAECAwQFBgc=",
            "dtype": "i1"
           },
           "y": {
            "bdata": "AAAAAAAAAAAAAAAAAAAAAAAAAAAAAAAAAAAAAAAAAAAAAAAAAAAAAAAAAAAAAAAAAAAAAAAAAAAAAAAAAAAAAA==",
            "dtype": "f8"
           }
          }
         ]
        },
        {
         "data": [
          {
           "mode": "lines+markers",
           "name": "user_1",
           "type": "scatter",
           "x": {
            "bdata": "AAECAwQFBgcI",
            "dtype": "i1"
           },
           "y": {
            "bdata": "AAAAAAAAAAAAAAAAAAAAAAAAAAAAAAAAAAAAAAAAAAAAAAAAAAAAAAAAAAAAAAAAAAAAAAAAAAAAAAAAAAAAAAAAAAAAAAAA",
            "dtype": "f8"
           }
          },
          {
           "mode": "lines+markers",
           "name": "user_10",
           "type": "scatter",
           "x": {
            "bdata": "AAECAwQFBgcI",
            "dtype": "i1"
           },
           "y": {
            "bdata": "AAAAAAAAAAAAAAAAAAAAAAAAAAAAAAAAAAAAAAAAAAAAAAAAAAAAAAAAAAAAAAAAAAAAAAAAAAAAAAAAAAAAAAAAAAAAAAAA",
            "dtype": "f8"
           }
          },
          {
           "mode": "lines+markers",
           "name": "user_11",
           "type": "scatter",
           "x": {
            "bdata": "AAECAwQFBgcI",
            "dtype": "i1"
           },
           "y": {
            "bdata": "AAAAAAAAAAAAAAAAAAAAAAAAAAAAAAAAAAAAAAAAAAAAAAAAAAAAAAAAAAAAAAAAAAAAAAAA8D8AAAAAAADwPwAAAAAAAPA/",
            "dtype": "f8"
           }
          },
          {
           "mode": "lines+markers",
           "name": "user_12",
           "type": "scatter",
           "x": {
            "bdata": "AAECAwQFBgcI",
            "dtype": "i1"
           },
           "y": {
            "bdata": "AAAAAAAAAAAAAAAAAAAAAAAAAAAAAAAAAAAAAAAAAAAAAAAAAAAAAAAAAAAAAAAAAAAAAAAAAAAAAAAAAAAAAAAAAAAAAAAA",
            "dtype": "f8"
           }
          },
          {
           "mode": "lines+markers",
           "name": "user_13",
           "type": "scatter",
           "x": {
            "bdata": "AAECAwQFBgcI",
            "dtype": "i1"
           },
           "y": {
            "bdata": "AAAAAAAAAAAAAAAAAAAAAAAAAAAAAAAAAAAAAAAAAAAAAAAAAAAAAAAAAAAAAAAAAAAAAAAAAAAAAAAAAAAAAAAAAAAAAAAA",
            "dtype": "f8"
           }
          },
          {
           "mode": "lines+markers",
           "name": "user_14",
           "type": "scatter",
           "x": {
            "bdata": "AAECAwQFBgcI",
            "dtype": "i1"
           },
           "y": {
            "bdata": "AAAAAAAAAAAAAAAAAAAAAAAAAAAAAAAAAAAAAAAAAAAAAAAAAAAAAAAAAAAAAAAAAAAAAAAAAAAAAAAAAAAAAAAAAAAAAPA/",
            "dtype": "f8"
           }
          },
          {
           "mode": "lines+markers",
           "name": "user_15",
           "type": "scatter",
           "x": {
            "bdata": "AAECAwQFBgcI",
            "dtype": "i1"
           },
           "y": {
            "bdata": "AAAAAAAAAAAAAAAAAAAAAAAAAAAAAAAAAAAAAAAAAAAAAAAAAAAAAAAAAAAAAAAAAAAAAAAAAAAAAAAAAAAAAAAAAAAAAAAA",
            "dtype": "f8"
           }
          },
          {
           "mode": "lines+markers",
           "name": "user_16",
           "type": "scatter",
           "x": {
            "bdata": "AAECAwQFBgcI",
            "dtype": "i1"
           },
           "y": {
            "bdata": "AAAAAAAAAAAAAAAAAAAAAAAAAAAAAAAAAAAAAAAAAAAAAAAAAAAAAAAAAAAAAAAAAAAAAAAAAAAAAAAAAAAAAAAAAAAAAAAA",
            "dtype": "f8"
           }
          },
          {
           "mode": "lines+markers",
           "name": "user_17",
           "type": "scatter",
           "x": {
            "bdata": "AAECAwQFBgcI",
            "dtype": "i1"
           },
           "y": {
            "bdata": "AAAAAAAAAAAAAAAAAADwPwAAAAAAAPA/AAAAAAAA8D8AAAAAAADwPwAAAAAAAPA/AAAAAAAA8D8AAAAAAADwPwAAAAAAAPA/",
            "dtype": "f8"
           }
          },
          {
           "mode": "lines+markers",
           "name": "user_18",
           "type": "scatter",
           "x": {
            "bdata": "AAECAwQFBgcI",
            "dtype": "i1"
           },
           "y": {
            "bdata": "AAAAAAAAAAAAAAAAAAAAAAAAAAAAAAAAAAAAAAAAAAAAAAAAAAAAAAAAAAAAAAAAAAAAAAAAAAAAAAAAAAAAAAAAAAAAAAAA",
            "dtype": "f8"
           }
          },
          {
           "mode": "lines+markers",
           "name": "user_19",
           "type": "scatter",
           "x": {
            "bdata": "AAECAwQFBgcI",
            "dtype": "i1"
           },
           "y": {
            "bdata": "AAAAAAAAAAAAAAAAAAAAAAAAAAAAAAAAAAAAAAAAAAAAAAAAAAAAAAAAAAAAAAAAAAAAAAAAAAAAAAAAAAAAAAAAAAAAAAAA",
            "dtype": "f8"
           }
          },
          {
           "mode": "lines+markers",
           "name": "user_2",
           "type": "scatter",
           "x": {
            "bdata": "AAECAwQFBgcI",
            "dtype": "i1"
           },
           "y": {
            "bdata": "AAAAAAAAAAAAAAAAAAAAAAAAAAAAAAAAAAAAAAAAAAAAAAAAAAAAAAAAAAAAAAAAAAAAAAAAAAAAAAAAAAAAAAAAAAAAgExA",
            "dtype": "f8"
           }
          },
          {
           "mode": "lines+markers",
           "name": "user_20",
           "type": "scatter",
           "x": {
            "bdata": "AAECAwQFBgcI",
            "dtype": "i1"
           },
           "y": {
            "bdata": "AAAAAAAAAAAAAAAAAAAAAAAAAAAAAAAAAAAAAAAAAAAAAAAAAAAAAAAAAAAAAAAAAAAAAAAAAAAAAAAAAAAAAAAAAAAAAAAA",
            "dtype": "f8"
           }
          },
          {
           "mode": "lines+markers",
           "name": "user_21",
           "type": "scatter",
           "x": {
            "bdata": "AAECAwQFBgcI",
            "dtype": "i1"
           },
           "y": {
            "bdata": "AAAAAAAAAAAAAAAAAAAAAAAAAAAAAAAAAAAAAAAAAAAAAAAAAAAAAAAAAAAAAAAAAAAAAAAAAAAAAAAAAAAAAAAAAAAAAAAA",
            "dtype": "f8"
           }
          },
          {
           "mode": "lines+markers",
           "name": "user_22",
           "type": "scatter",
           "x": {
            "bdata": "AAECAwQFBgcI",
            "dtype": "i1"
           },
           "y": {
            "bdata": "AAAAAAAAAAAAAAAAAAAAAAAAAAAAAAAAAAAAAAAAAAAAAAAAAAAAAAAAAAAAAAAAAAAAAAAA8D8AAAAAAADwPwAAAAAAAPA/",
            "dtype": "f8"
           }
          },
          {
           "mode": "lines+markers",
           "name": "user_24",
           "type": "scatter",
           "x": {
            "bdata": "AAECAwQFBgcI",
            "dtype": "i1"
           },
           "y": {
            "bdata": "AAAAAAAAAAAAAAAAAAAAAAAAAAAAAAAAAAAAAAAAAAAAAAAAAAAAAAAAAAAAAAAAAAAAAAAAAAAAAAAAAAAAAAAAAAAAAAAA",
            "dtype": "f8"
           }
          },
          {
           "mode": "lines+markers",
           "name": "user_25",
           "type": "scatter",
           "x": {
            "bdata": "AAECAwQFBgcI",
            "dtype": "i1"
           },
           "y": {
            "bdata": "AAAAAAAAAAAAAAAAAAAAAAAAAAAAAAAAAAAAAAAAAAAAAAAAAAAAAAAAAAAAAAAAAAAAAAAAAAAAAAAAAAAAAAAAAAAAAAAA",
            "dtype": "f8"
           }
          },
          {
           "mode": "lines+markers",
           "name": "user_26",
           "type": "scatter",
           "x": {
            "bdata": "AAECAwQFBgcI",
            "dtype": "i1"
           },
           "y": {
            "bdata": "AAAAAAAAAAAAAAAAAAAAAAAAAAAAAAAAAAAAAAAAAAAAAAAAAAAAAAAAAAAAAAAAAAAAAAAAAAAAAAAAAAAAAAAAAAAAAAAA",
            "dtype": "f8"
           }
          },
          {
           "mode": "lines+markers",
           "name": "user_27",
           "type": "scatter",
           "x": {
            "bdata": "AAECAwQFBgcI",
            "dtype": "i1"
           },
           "y": {
            "bdata": "AAAAAAAAAAAAAAAAAAAAAAAAAAAAAAAAAAAAAAAAAAAAAAAAAAAAAAAAAAAAAAAAAAAAAAAAAAAAAAAAAAAAAAAAAAAAAAAA",
            "dtype": "f8"
           }
          },
          {
           "mode": "lines+markers",
           "name": "user_28",
           "type": "scatter",
           "x": {
            "bdata": "AAECAwQFBgcI",
            "dtype": "i1"
           },
           "y": {
            "bdata": "AAAAAAAAAAAAAAAAAAAAAAAAAAAAAAAAAAAAAAAAAAAAAAAAAAAAAAAAAAAAAAAAAAAAAAAAAAAAAAAAAAAAAAAAAAAAAAAA",
            "dtype": "f8"
           }
          },
          {
           "mode": "lines+markers",
           "name": "user_29",
           "type": "scatter",
           "x": {
            "bdata": "AAECAwQFBgcI",
            "dtype": "i1"
           },
           "y": {
            "bdata": "AAAAAAAAAAAAAAAAAAAAAAAAAAAAAAAAAAAAAAAAAAAAAAAAAAAAAAAAAAAAAAAAAAAAAAAAAAAAAAAAAAAAAAAAAAAAAAAA",
            "dtype": "f8"
           }
          },
          {
           "mode": "lines+markers",
           "name": "user_3",
           "type": "scatter",
           "x": {
            "bdata": "AAECAwQFBgcI",
            "dtype": "i1"
           },
           "y": {
            "bdata": "AAAAAAAAAAAAAAAAAAAAAAAAAAAAAAAAAAAAAAAAAAAAAAAAAAAAAAAAAAAAAAAAAAAAAAAAAAAAAAAAAAAAAAAAAAAAAAAA",
            "dtype": "f8"
           }
          },
          {
           "mode": "lines+markers",
           "name": "user_30",
           "type": "scatter",
           "x": {
            "bdata": "AAECAwQFBgcI",
            "dtype": "i1"
           },
           "y": {
            "bdata": "AAAAAAAAAAAAAAAAAAAAAAAAAAAAAAAAAAAAAAAA8D8AAAAAAAAAQAAAAAAAAABAAAAAAAAAEEAAAAAAAAAUQAAAAAAAABRA",
            "dtype": "f8"
           }
          },
          {
           "mode": "lines+markers",
           "name": "user_31",
           "type": "scatter",
           "x": {
            "bdata": "AAECAwQFBgcI",
            "dtype": "i1"
           },
           "y": {
            "bdata": "AAAAAAAAAAAAAAAAAAAAAAAAAAAAAAAAAAAAAAAAAAAAAAAAAAAAAAAAAAAAAAAAAAAAAAAAAAAAAAAAAAAAAAAAAAAAAAAA",
            "dtype": "f8"
           }
          },
          {
           "mode": "lines+markers",
           "name": "user_4",
           "type": "scatter",
           "x": {
            "bdata": "AAECAwQFBgcI",
            "dtype": "i1"
           },
           "y": {
            "bdata": "AAAAAAAAHEAAAAAAAAAcQAAAAAAAACZAAAAAAAAAJkAAAAAAAAA0QAAAAAAAADtAAAAAAACAQUAAAAAAAABIQAAAAAAAgEpA",
            "dtype": "f8"
           }
          },
          {
           "mode": "lines+markers",
           "name": "user_6",
           "type": "scatter",
           "x": {
            "bdata": "AAECAwQFBgcI",
            "dtype": "i1"
           },
           "y": {
            "bdata": "AAAAAAAAAAAAAAAAAAAAAAAAAAAAAAAAAAAAAAAAAAAAAAAAAAAAAAAAAAAAAAAAAAAAAAAAAAAAAAAAAAAAAAAAAAAAAAAA",
            "dtype": "f8"
           }
          },
          {
           "mode": "lines+markers",
           "name": "user_8",
           "type": "scatter",
           "x": {
            "bdata": "AAECAwQFBgcI",
            "dtype": "i1"
           },
           "y": {
            "bdata": "AAAAAAAAAAAAAAAAAAAAAAAAAAAAAAAAAAAAAAAAAAAAAAAAAAAAAAAAAAAAAAAAAAAAAAAAAAAAAAAAAAAAAAAAAAAAAAAA",
            "dtype": "f8"
           }
          }
         ]
        },
        {
         "data": [
          {
           "mode": "lines+markers",
           "name": "user_1",
           "type": "scatter",
           "x": {
            "bdata": "AAECAwQFBgcICQ==",
            "dtype": "i1"
           },
           "y": {
            "bdata": "AAAAAAAAAAAAAAAAAAAAAAAAAAAAAAAAAAAAAAAAAAAAAAAAAAAAAAAAAAAAAAAAAAAAAAAAAAAAAAAAAAAAAAAAAAAAAAAAAAAAAAAAAAA=",
            "dtype": "f8"
           }
          },
          {
           "mode": "lines+markers",
           "name": "user_10",
           "type": "scatter",
           "x": {
            "bdata": "AAECAwQFBgcICQ==",
            "dtype": "i1"
           },
           "y": {
            "bdata": "AAAAAAAAAAAAAAAAAAAAAAAAAAAAAAAAAAAAAAAAAAAAAAAAAAAAAAAAAAAAAAAAAAAAAAAAAAAAAAAAAAAAAAAAAAAAAAAAAAAAAAAAAAA=",
            "dtype": "f8"
           }
          },
          {
           "mode": "lines+markers",
           "name": "user_11",
           "type": "scatter",
           "x": {
            "bdata": "AAECAwQFBgcICQ==",
            "dtype": "i1"
           },
           "y": {
            "bdata": "AAAAAAAAAAAAAAAAAAAAAAAAAAAAAAAAAAAAAAAAAAAAAAAAAAAAAAAAAAAAAAAAAAAAAAAA8D8AAAAAAADwPwAAAAAAAPA/AAAAAAAA8D8=",
            "dtype": "f8"
           }
          },
          {
           "mode": "lines+markers",
           "name": "user_12",
           "type": "scatter",
           "x": {
            "bdata": "AAECAwQFBgcICQ==",
            "dtype": "i1"
           },
           "y": {
            "bdata": "AAAAAAAAAAAAAAAAAAAAAAAAAAAAAAAAAAAAAAAAAAAAAAAAAAAAAAAAAAAAAAAAAAAAAAAAAAAAAAAAAAAAAAAAAAAAAAAAAAAAAAAAAAA=",
            "dtype": "f8"
           }
          },
          {
           "mode": "lines+markers",
           "name": "user_13",
           "type": "scatter",
           "x": {
            "bdata": "AAECAwQFBgcICQ==",
            "dtype": "i1"
           },
           "y": {
            "bdata": "AAAAAAAAAAAAAAAAAAAAAAAAAAAAAAAAAAAAAAAAAAAAAAAAAAAAAAAAAAAAAAAAAAAAAAAAAAAAAAAAAAAAAAAAAAAAAAAAAAAAAAAAAAA=",
            "dtype": "f8"
           }
          },
          {
           "mode": "lines+markers",
           "name": "user_14",
           "type": "scatter",
           "x": {
            "bdata": "AAECAwQFBgcICQ==",
            "dtype": "i1"
           },
           "y": {
            "bdata": "AAAAAAAAAAAAAAAAAAAAAAAAAAAAAAAAAAAAAAAAAAAAAAAAAAAAAAAAAAAAAAAAAAAAAAAAAAAAAAAAAAAAAAAAAAAAAPA/AAAAAAAA8D8=",
            "dtype": "f8"
           }
          },
          {
           "mode": "lines+markers",
           "name": "user_15",
           "type": "scatter",
           "x": {
            "bdata": "AAECAwQFBgcICQ==",
            "dtype": "i1"
           },
           "y": {
            "bdata": "AAAAAAAAAAAAAAAAAAAAAAAAAAAAAAAAAAAAAAAAAAAAAAAAAAAAAAAAAAAAAAAAAAAAAAAAAAAAAAAAAAAAAAAAAAAAAAAAAAAAAAAAAAA=",
            "dtype": "f8"
           }
          },
          {
           "mode": "lines+markers",
           "name": "user_16",
           "type": "scatter",
           "x": {
            "bdata": "AAECAwQFBgcICQ==",
            "dtype": "i1"
           },
           "y": {
            "bdata": "AAAAAAAAAAAAAAAAAAAAAAAAAAAAAAAAAAAAAAAAAAAAAAAAAAAAAAAAAAAAAAAAAAAAAAAAAAAAAAAAAAAAAAAAAAAAAAAAAAAAAAAAAAA=",
            "dtype": "f8"
           }
          },
          {
           "mode": "lines+markers",
           "name": "user_17",
           "type": "scatter",
           "x": {
            "bdata": "AAECAwQFBgcICQ==",
            "dtype": "i1"
           },
           "y": {
            "bdata": "AAAAAAAAAAAAAAAAAADwPwAAAAAAAPA/AAAAAAAA8D8AAAAAAADwPwAAAAAAAPA/AAAAAAAA8D8AAAAAAADwPwAAAAAAAPA/AAAAAAAA8D8=",
            "dtype": "f8"
           }
          },
          {
           "mode": "lines+markers",
           "name": "user_18",
           "type": "scatter",
           "x": {
            "bdata": "AAECAwQFBgcICQ==",
            "dtype": "i1"
           },
           "y": {
            "bdata": "AAAAAAAAAAAAAAAAAAAAAAAAAAAAAAAAAAAAAAAAAAAAAAAAAAAAAAAAAAAAAAAAAAAAAAAAAAAAAAAAAAAAAAAAAAAAAAAAAAAAAAAAAAA=",
            "dtype": "f8"
           }
          },
          {
           "mode": "lines+markers",
           "name": "user_19",
           "type": "scatter",
           "x": {
            "bdata": "AAECAwQFBgcICQ==",
            "dtype": "i1"
           },
           "y": {
            "bdata": "AAAAAAAAAAAAAAAAAAAAAAAAAAAAAAAAAAAAAAAAAAAAAAAAAAAAAAAAAAAAAAAAAAAAAAAAAAAAAAAAAAAAAAAAAAAAAAAAAAAAAAAAAAA=",
            "dtype": "f8"
           }
          },
          {
           "mode": "lines+markers",
           "name": "user_2",
           "type": "scatter",
           "x": {
            "bdata": "AAECAwQFBgcICQ==",
            "dtype": "i1"
           },
           "y": {
            "bdata": "AAAAAAAAAAAAAAAAAAAAAAAAAAAAAAAAAAAAAAAAAAAAAAAAAAAAAAAAAAAAAAAAAAAAAAAAAAAAAAAAAAAAAAAAAAAAgExAAAAAAAAATUA=",
            "dtype": "f8"
           }
          },
          {
           "mode": "lines+markers",
           "name": "user_20",
           "type": "scatter",
           "x": {
            "bdata": "AAECAwQFBgcICQ==",
            "dtype": "i1"
           },
           "y": {
            "bdata": "AAAAAAAAAAAAAAAAAAAAAAAAAAAAAAAAAAAAAAAAAAAAAAAAAAAAAAAAAAAAAAAAAAAAAAAAAAAAAAAAAAAAAAAAAAAAAAAAAAAAAAAAAAA=",
            "dtype": "f8"
           }
          },
          {
           "mode": "lines+markers",
           "name": "user_21",
           "type": "scatter",
           "x": {
            "bdata": "AAECAwQFBgcICQ==",
            "dtype": "i1"
           },
           "y": {
            "bdata": "AAAAAAAAAAAAAAAAAAAAAAAAAAAAAAAAAAAAAAAAAAAAAAAAAAAAAAAAAAAAAAAAAAAAAAAAAAAAAAAAAAAAAAAAAAAAAAAAAAAAAAAAAAA=",
            "dtype": "f8"
           }
          },
          {
           "mode": "lines+markers",
           "name": "user_22",
           "type": "scatter",
           "x": {
            "bdata": "AAECAwQFBgcICQ==",
            "dtype": "i1"
           },
           "y": {
            "bdata": "AAAAAAAAAAAAAAAAAAAAAAAAAAAAAAAAAAAAAAAAAAAAAAAAAAAAAAAAAAAAAAAAAAAAAAAA8D8AAAAAAADwPwAAAAAAAPA/AAAAAAAA8D8=",
            "dtype": "f8"
           }
          },
          {
           "mode": "lines+markers",
           "name": "user_24",
           "type": "scatter",
           "x": {
            "bdata": "AAECAwQFBgcICQ==",
            "dtype": "i1"
           },
           "y": {
            "bdata": "AAAAAAAAAAAAAAAAAAAAAAAAAAAAAAAAAAAAAAAAAAAAAAAAAAAAAAAAAAAAAAAAAAAAAAAAAAAAAAAAAAAAAAAAAAAAAAAAAAAAAAAAAAA=",
            "dtype": "f8"
           }
          },
          {
           "mode": "lines+markers",
           "name": "user_25",
           "type": "scatter",
           "x": {
            "bdata": "AAECAwQFBgcICQ==",
            "dtype": "i1"
           },
           "y": {
            "bdata": "AAAAAAAAAAAAAAAAAAAAAAAAAAAAAAAAAAAAAAAAAAAAAAAAAAAAAAAAAAAAAAAAAAAAAAAAAAAAAAAAAAAAAAAAAAAAAAAAAAAAAAAAAAA=",
            "dtype": "f8"
           }
          },
          {
           "mode": "lines+markers",
           "name": "user_26",
           "type": "scatter",
           "x": {
            "bdata": "AAECAwQFBgcICQ==",
            "dtype": "i1"
           },
           "y": {
            "bdata": "AAAAAAAAAAAAAAAAAAAAAAAAAAAAAAAAAAAAAAAAAAAAAAAAAAAAAAAAAAAAAAAAAAAAAAAAAAAAAAAAAAAAAAAAAAAAAAAAAAAAAAAAAAA=",
            "dtype": "f8"
           }
          },
          {
           "mode": "lines+markers",
           "name": "user_27",
           "type": "scatter",
           "x": {
            "bdata": "AAECAwQFBgcICQ==",
            "dtype": "i1"
           },
           "y": {
            "bdata": "AAAAAAAAAAAAAAAAAAAAAAAAAAAAAAAAAAAAAAAAAAAAAAAAAAAAAAAAAAAAAAAAAAAAAAAAAAAAAAAAAAAAAAAAAAAAAAAAAAAAAAAAAAA=",
            "dtype": "f8"
           }
          },
          {
           "mode": "lines+markers",
           "name": "user_28",
           "type": "scatter",
           "x": {
            "bdata": "AAECAwQFBgcICQ==",
            "dtype": "i1"
           },
           "y": {
            "bdata": "AAAAAAAAAAAAAAAAAAAAAAAAAAAAAAAAAAAAAAAAAAAAAAAAAAAAAAAAAAAAAAAAAAAAAAAAAAAAAAAAAAAAAAAAAAAAAAAAAAAAAAAAAAA=",
            "dtype": "f8"
           }
          },
          {
           "mode": "lines+markers",
           "name": "user_29",
           "type": "scatter",
           "x": {
            "bdata": "AAECAwQFBgcICQ==",
            "dtype": "i1"
           },
           "y": {
            "bdata": "AAAAAAAAAAAAAAAAAAAAAAAAAAAAAAAAAAAAAAAAAAAAAAAAAAAAAAAAAAAAAAAAAAAAAAAAAAAAAAAAAAAAAAAAAAAAAAAAAAAAAAAAAAA=",
            "dtype": "f8"
           }
          },
          {
           "mode": "lines+markers",
           "name": "user_3",
           "type": "scatter",
           "x": {
            "bdata": "AAECAwQFBgcICQ==",
            "dtype": "i1"
           },
           "y": {
            "bdata": "AAAAAAAAAAAAAAAAAAAAAAAAAAAAAAAAAAAAAAAAAAAAAAAAAAAAAAAAAAAAAAAAAAAAAAAAAAAAAAAAAAAAAAAAAAAAAAAAAAAAAAAAAAA=",
            "dtype": "f8"
           }
          },
          {
           "mode": "lines+markers",
           "name": "user_30",
           "type": "scatter",
           "x": {
            "bdata": "AAECAwQFBgcICQ==",
            "dtype": "i1"
           },
           "y": {
            "bdata": "AAAAAAAAAAAAAAAAAAAAAAAAAAAAAAAAAAAAAAAA8D8AAAAAAAAAQAAAAAAAAABAAAAAAAAAEEAAAAAAAAAUQAAAAAAAABRAAAAAAAAAFEA=",
            "dtype": "f8"
           }
          },
          {
           "mode": "lines+markers",
           "name": "user_31",
           "type": "scatter",
           "x": {
            "bdata": "AAECAwQFBgcICQ==",
            "dtype": "i1"
           },
           "y": {
            "bdata": "AAAAAAAAAAAAAAAAAAAAAAAAAAAAAAAAAAAAAAAAAAAAAAAAAAAAAAAAAAAAAAAAAAAAAAAAAAAAAAAAAAAAAAAAAAAAAAAAAAAAAAAAAAA=",
            "dtype": "f8"
           }
          },
          {
           "mode": "lines+markers",
           "name": "user_4",
           "type": "scatter",
           "x": {
            "bdata": "AAECAwQFBgcICQ==",
            "dtype": "i1"
           },
           "y": {
            "bdata": "AAAAAAAAHEAAAAAAAAAcQAAAAAAAACZAAAAAAAAAJkAAAAAAAAA0QAAAAAAAADtAAAAAAACAQUAAAAAAAABIQAAAAAAAgEpAAAAAAACASkA=",
            "dtype": "f8"
           }
          },
          {
           "mode": "lines+markers",
           "name": "user_6",
           "type": "scatter",
           "x": {
            "bdata": "AAECAwQFBgcICQ==",
            "dtype": "i1"
           },
           "y": {
            "bdata": "AAAAAAAAAAAAAAAAAAAAAAAAAAAAAAAAAAAAAAAAAAAAAAAAAAAAAAAAAAAAAAAAAAAAAAAAAAAAAAAAAAAAAAAAAAAAAAAAAAAAAAAAAAA=",
            "dtype": "f8"
           }
          },
          {
           "mode": "lines+markers",
           "name": "user_8",
           "type": "scatter",
           "x": {
            "bdata": "AAECAwQFBgcICQ==",
            "dtype": "i1"
           },
           "y": {
            "bdata": "AAAAAAAAAAAAAAAAAAAAAAAAAAAAAAAAAAAAAAAAAAAAAAAAAAAAAAAAAAAAAAAAAAAAAAAAAAAAAAAAAAAAAAAAAAAAAAAAAAAAAAAAAAA=",
            "dtype": "f8"
           }
          }
         ]
        },
        {
         "data": [
          {
           "mode": "lines+markers",
           "name": "user_1",
           "type": "scatter",
           "x": {
            "bdata": "AAECAwQFBgcICQo=",
            "dtype": "i1"
           },
           "y": {
            "bdata": "AAAAAAAAAAAAAAAAAAAAAAAAAAAAAAAAAAAAAAAAAAAAAAAAAAAAAAAAAAAAAAAAAAAAAAAAAAAAAAAAAAAAAAAAAAAAAAAAAAAAAAAAAAAAAAAAAAAAAA==",
            "dtype": "f8"
           }
          },
          {
           "mode": "lines+markers",
           "name": "user_10",
           "type": "scatter",
           "x": {
            "bdata": "AAECAwQFBgcICQo=",
            "dtype": "i1"
           },
           "y": {
            "bdata": "AAAAAAAAAAAAAAAAAAAAAAAAAAAAAAAAAAAAAAAAAAAAAAAAAAAAAAAAAAAAAAAAAAAAAAAAAAAAAAAAAAAAAAAAAAAAAAAAAAAAAAAAAAAAAAAAAAAAAA==",
            "dtype": "f8"
           }
          },
          {
           "mode": "lines+markers",
           "name": "user_11",
           "type": "scatter",
           "x": {
            "bdata": "AAECAwQFBgcICQo=",
            "dtype": "i1"
           },
           "y": {
            "bdata": "AAAAAAAAAAAAAAAAAAAAAAAAAAAAAAAAAAAAAAAAAAAAAAAAAAAAAAAAAAAAAAAAAAAAAAAA8D8AAAAAAADwPwAAAAAAAPA/AAAAAAAA8D8AAAAAAADwPw==",
            "dtype": "f8"
           }
          },
          {
           "mode": "lines+markers",
           "name": "user_12",
           "type": "scatter",
           "x": {
            "bdata": "AAECAwQFBgcICQo=",
            "dtype": "i1"
           },
           "y": {
            "bdata": "AAAAAAAAAAAAAAAAAAAAAAAAAAAAAAAAAAAAAAAAAAAAAAAAAAAAAAAAAAAAAAAAAAAAAAAAAAAAAAAAAAAAAAAAAAAAAAAAAAAAAAAAAAAAAAAAAAAAAA==",
            "dtype": "f8"
           }
          },
          {
           "mode": "lines+markers",
           "name": "user_13",
           "type": "scatter",
           "x": {
            "bdata": "AAECAwQFBgcICQo=",
            "dtype": "i1"
           },
           "y": {
            "bdata": "AAAAAAAAAAAAAAAAAAAAAAAAAAAAAAAAAAAAAAAAAAAAAAAAAAAAAAAAAAAAAAAAAAAAAAAAAAAAAAAAAAAAAAAAAAAAAAAAAAAAAAAAAAAAAAAAAAAAAA==",
            "dtype": "f8"
           }
          },
          {
           "mode": "lines+markers",
           "name": "user_14",
           "type": "scatter",
           "x": {
            "bdata": "AAECAwQFBgcICQo=",
            "dtype": "i1"
           },
           "y": {
            "bdata": "AAAAAAAAAAAAAAAAAAAAAAAAAAAAAAAAAAAAAAAAAAAAAAAAAAAAAAAAAAAAAAAAAAAAAAAAAAAAAAAAAAAAAAAAAAAAAPA/AAAAAAAA8D8AAAAAAADwPw==",
            "dtype": "f8"
           }
          },
          {
           "mode": "lines+markers",
           "name": "user_15",
           "type": "scatter",
           "x": {
            "bdata": "AAECAwQFBgcICQo=",
            "dtype": "i1"
           },
           "y": {
            "bdata": "AAAAAAAAAAAAAAAAAAAAAAAAAAAAAAAAAAAAAAAAAAAAAAAAAAAAAAAAAAAAAAAAAAAAAAAAAAAAAAAAAAAAAAAAAAAAAAAAAAAAAAAAAAAAAAAAAAAAAA==",
            "dtype": "f8"
           }
          },
          {
           "mode": "lines+markers",
           "name": "user_16",
           "type": "scatter",
           "x": {
            "bdata": "AAECAwQFBgcICQo=",
            "dtype": "i1"
           },
           "y": {
            "bdata": "AAAAAAAAAAAAAAAAAAAAAAAAAAAAAAAAAAAAAAAAAAAAAAAAAAAAAAAAAAAAAAAAAAAAAAAAAAAAAAAAAAAAAAAAAAAAAAAAAAAAAAAAAAAAAAAAAAAAAA==",
            "dtype": "f8"
           }
          },
          {
           "mode": "lines+markers",
           "name": "user_17",
           "type": "scatter",
           "x": {
            "bdata": "AAECAwQFBgcICQo=",
            "dtype": "i1"
           },
           "y": {
            "bdata": "AAAAAAAAAAAAAAAAAADwPwAAAAAAAPA/AAAAAAAA8D8AAAAAAADwPwAAAAAAAPA/AAAAAAAA8D8AAAAAAADwPwAAAAAAAPA/AAAAAAAA8D8AAAAAAADwPw==",
            "dtype": "f8"
           }
          },
          {
           "mode": "lines+markers",
           "name": "user_18",
           "type": "scatter",
           "x": {
            "bdata": "AAECAwQFBgcICQo=",
            "dtype": "i1"
           },
           "y": {
            "bdata": "AAAAAAAAAAAAAAAAAAAAAAAAAAAAAAAAAAAAAAAAAAAAAAAAAAAAAAAAAAAAAAAAAAAAAAAAAAAAAAAAAAAAAAAAAAAAAAAAAAAAAAAAAAAAAAAAAAAAAA==",
            "dtype": "f8"
           }
          },
          {
           "mode": "lines+markers",
           "name": "user_19",
           "type": "scatter",
           "x": {
            "bdata": "AAECAwQFBgcICQo=",
            "dtype": "i1"
           },
           "y": {
            "bdata": "AAAAAAAAAAAAAAAAAAAAAAAAAAAAAAAAAAAAAAAAAAAAAAAAAAAAAAAAAAAAAAAAAAAAAAAAAAAAAAAAAAAAAAAAAAAAAAAAAAAAAAAAAAAAAAAAAAAAAA==",
            "dtype": "f8"
           }
          },
          {
           "mode": "lines+markers",
           "name": "user_2",
           "type": "scatter",
           "x": {
            "bdata": "AAECAwQFBgcICQo=",
            "dtype": "i1"
           },
           "y": {
            "bdata": "AAAAAAAAAAAAAAAAAAAAAAAAAAAAAAAAAAAAAAAAAAAAAAAAAAAAAAAAAAAAAAAAAAAAAAAAAAAAAAAAAAAAAAAAAAAAgExAAAAAAAAATUAAAAAAAABNQA==",
            "dtype": "f8"
           }
          },
          {
           "mode": "lines+markers",
           "name": "user_20",
           "type": "scatter",
           "x": {
            "bdata": "AAECAwQFBgcICQo=",
            "dtype": "i1"
           },
           "y": {
            "bdata": "AAAAAAAAAAAAAAAAAAAAAAAAAAAAAAAAAAAAAAAAAAAAAAAAAAAAAAAAAAAAAAAAAAAAAAAAAAAAAAAAAAAAAAAAAAAAAAAAAAAAAAAAAAAAAAAAAAAAAA==",
            "dtype": "f8"
           }
          },
          {
           "mode": "lines+markers",
           "name": "user_21",
           "type": "scatter",
           "x": {
            "bdata": "AAECAwQFBgcICQo=",
            "dtype": "i1"
           },
           "y": {
            "bdata": "AAAAAAAAAAAAAAAAAAAAAAAAAAAAAAAAAAAAAAAAAAAAAAAAAAAAAAAAAAAAAAAAAAAAAAAAAAAAAAAAAAAAAAAAAAAAAAAAAAAAAAAAAAAAAAAAAAAAAA==",
            "dtype": "f8"
           }
          },
          {
           "mode": "lines+markers",
           "name": "user_22",
           "type": "scatter",
           "x": {
            "bdata": "AAECAwQFBgcICQo=",
            "dtype": "i1"
           },
           "y": {
            "bdata": "AAAAAAAAAAAAAAAAAAAAAAAAAAAAAAAAAAAAAAAAAAAAAAAAAAAAAAAAAAAAAAAAAAAAAAAA8D8AAAAAAADwPwAAAAAAAPA/AAAAAAAA8D8AAAAAAADwPw==",
            "dtype": "f8"
           }
          },
          {
           "mode": "lines+markers",
           "name": "user_24",
           "type": "scatter",
           "x": {
            "bdata": "AAECAwQFBgcICQo=",
            "dtype": "i1"
           },
           "y": {
            "bdata": "AAAAAAAAAAAAAAAAAAAAAAAAAAAAAAAAAAAAAAAAAAAAAAAAAAAAAAAAAAAAAAAAAAAAAAAAAAAAAAAAAAAAAAAAAAAAAAAAAAAAAAAAAAAAAAAAAAAAAA==",
            "dtype": "f8"
           }
          },
          {
           "mode": "lines+markers",
           "name": "user_25",
           "type": "scatter",
           "x": {
            "bdata": "AAECAwQFBgcICQo=",
            "dtype": "i1"
           },
           "y": {
            "bdata": "AAAAAAAAAAAAAAAAAAAAAAAAAAAAAAAAAAAAAAAAAAAAAAAAAAAAAAAAAAAAAAAAAAAAAAAAAAAAAAAAAAAAAAAAAAAAAAAAAAAAAAAAAAAAAAAAAAAAAA==",
            "dtype": "f8"
           }
          },
          {
           "mode": "lines+markers",
           "name": "user_26",
           "type": "scatter",
           "x": {
            "bdata": "AAECAwQFBgcICQo=",
            "dtype": "i1"
           },
           "y": {
            "bdata": "AAAAAAAAAAAAAAAAAAAAAAAAAAAAAAAAAAAAAAAAAAAAAAAAAAAAAAAAAAAAAAAAAAAAAAAAAAAAAAAAAAAAAAAAAAAAAAAAAAAAAAAAAAAAAAAAAAAAAA==",
            "dtype": "f8"
           }
          },
          {
           "mode": "lines+markers",
           "name": "user_27",
           "type": "scatter",
           "x": {
            "bdata": "AAECAwQFBgcICQo=",
            "dtype": "i1"
           },
           "y": {
            "bdata": "AAAAAAAAAAAAAAAAAAAAAAAAAAAAAAAAAAAAAAAAAAAAAAAAAAAAAAAAAAAAAAAAAAAAAAAAAAAAAAAAAAAAAAAAAAAAAAAAAAAAAAAAAAAAAAAAAAAAAA==",
            "dtype": "f8"
           }
          },
          {
           "mode": "lines+markers",
           "name": "user_28",
           "type": "scatter",
           "x": {
            "bdata": "AAECAwQFBgcICQo=",
            "dtype": "i1"
           },
           "y": {
            "bdata": "AAAAAAAAAAAAAAAAAAAAAAAAAAAAAAAAAAAAAAAAAAAAAAAAAAAAAAAAAAAAAAAAAAAAAAAAAAAAAAAAAAAAAAAAAAAAAAAAAAAAAAAAAAAAAAAAAAAAAA==",
            "dtype": "f8"
           }
          },
          {
           "mode": "lines+markers",
           "name": "user_29",
           "type": "scatter",
           "x": {
            "bdata": "AAECAwQFBgcICQo=",
            "dtype": "i1"
           },
           "y": {
            "bdata": "AAAAAAAAAAAAAAAAAAAAAAAAAAAAAAAAAAAAAAAAAAAAAAAAAAAAAAAAAAAAAAAAAAAAAAAAAAAAAAAAAAAAAAAAAAAAAAAAAAAAAAAAAAAAAAAAAAAAAA==",
            "dtype": "f8"
           }
          },
          {
           "mode": "lines+markers",
           "name": "user_3",
           "type": "scatter",
           "x": {
            "bdata": "AAECAwQFBgcICQo=",
            "dtype": "i1"
           },
           "y": {
            "bdata": "AAAAAAAAAAAAAAAAAAAAAAAAAAAAAAAAAAAAAAAAAAAAAAAAAAAAAAAAAAAAAAAAAAAAAAAAAAAAAAAAAAAAAAAAAAAAAAAAAAAAAAAAAAAAAAAAAADwPw==",
            "dtype": "f8"
           }
          },
          {
           "mode": "lines+markers",
           "name": "user_30",
           "type": "scatter",
           "x": {
            "bdata": "AAECAwQFBgcICQo=",
            "dtype": "i1"
           },
           "y": {
            "bdata": "AAAAAAAAAAAAAAAAAAAAAAAAAAAAAAAAAAAAAAAA8D8AAAAAAAAAQAAAAAAAAABAAAAAAAAAEEAAAAAAAAAUQAAAAAAAABRAAAAAAAAAFEAAAAAAAAAoQA==",
            "dtype": "f8"
           }
          },
          {
           "mode": "lines+markers",
           "name": "user_31",
           "type": "scatter",
           "x": {
            "bdata": "AAECAwQFBgcICQo=",
            "dtype": "i1"
           },
           "y": {
            "bdata": "AAAAAAAAAAAAAAAAAAAAAAAAAAAAAAAAAAAAAAAAAAAAAAAAAAAAAAAAAAAAAAAAAAAAAAAAAAAAAAAAAAAAAAAAAAAAAAAAAAAAAAAAAAAAAAAAAADwPw==",
            "dtype": "f8"
           }
          },
          {
           "mode": "lines+markers",
           "name": "user_4",
           "type": "scatter",
           "x": {
            "bdata": "AAECAwQFBgcICQo=",
            "dtype": "i1"
           },
           "y": {
            "bdata": "AAAAAAAAHEAAAAAAAAAcQAAAAAAAACZAAAAAAAAAJkAAAAAAAAA0QAAAAAAAADtAAAAAAACAQUAAAAAAAABIQAAAAAAAgEpAAAAAAACASkAAAAAAAMBRQA==",
            "dtype": "f8"
           }
          },
          {
           "mode": "lines+markers",
           "name": "user_6",
           "type": "scatter",
           "x": {
            "bdata": "AAECAwQFBgcICQo=",
            "dtype": "i1"
           },
           "y": {
            "bdata": "AAAAAAAAAAAAAAAAAAAAAAAAAAAAAAAAAAAAAAAAAAAAAAAAAAAAAAAAAAAAAAAAAAAAAAAAAAAAAAAAAAAAAAAAAAAAAAAAAAAAAAAAAAAAAAAAAAAAAA==",
            "dtype": "f8"
           }
          },
          {
           "mode": "lines+markers",
           "name": "user_8",
           "type": "scatter",
           "x": {
            "bdata": "AAECAwQFBgcICQo=",
            "dtype": "i1"
           },
           "y": {
            "bdata": "AAAAAAAAAAAAAAAAAAAAAAAAAAAAAAAAAAAAAAAAAAAAAAAAAAAAAAAAAAAAAAAAAAAAAAAAAAAAAAAAAAAAAAAAAAAAAAAAAAAAAAAAAAAAAAAAAAAAAA==",
            "dtype": "f8"
           }
          }
         ]
        },
        {
         "data": [
          {
           "mode": "lines+markers",
           "name": "user_1",
           "type": "scatter",
           "x": {
            "bdata": "AAECAwQFBgcICQoL",
            "dtype": "i1"
           },
           "y": {
            "bdata": "AAAAAAAAAAAAAAAAAAAAAAAAAAAAAAAAAAAAAAAAAAAAAAAAAAAAAAAAAAAAAAAAAAAAAAAAAAAAAAAAAAAAAAAAAAAAAAAAAAAAAAAAAAAAAAAAAAAAAAAAAAAAAAAA",
            "dtype": "f8"
           }
          },
          {
           "mode": "lines+markers",
           "name": "user_10",
           "type": "scatter",
           "x": {
            "bdata": "AAECAwQFBgcICQoL",
            "dtype": "i1"
           },
           "y": {
            "bdata": "AAAAAAAAAAAAAAAAAAAAAAAAAAAAAAAAAAAAAAAAAAAAAAAAAAAAAAAAAAAAAAAAAAAAAAAAAAAAAAAAAAAAAAAAAAAAAAAAAAAAAAAAAAAAAAAAAAAAAAAAAAAAAAAA",
            "dtype": "f8"
           }
          },
          {
           "mode": "lines+markers",
           "name": "user_11",
           "type": "scatter",
           "x": {
            "bdata": "AAECAwQFBgcICQoL",
            "dtype": "i1"
           },
           "y": {
            "bdata": "AAAAAAAAAAAAAAAAAAAAAAAAAAAAAAAAAAAAAAAAAAAAAAAAAAAAAAAAAAAAAAAAAAAAAAAA8D8AAAAAAADwPwAAAAAAAPA/AAAAAAAA8D8AAAAAAADwPwAAAAAAAPA/",
            "dtype": "f8"
           }
          },
          {
           "mode": "lines+markers",
           "name": "user_12",
           "type": "scatter",
           "x": {
            "bdata": "AAECAwQFBgcICQoL",
            "dtype": "i1"
           },
           "y": {
            "bdata": "AAAAAAAAAAAAAAAAAAAAAAAAAAAAAAAAAAAAAAAAAAAAAAAAAAAAAAAAAAAAAAAAAAAAAAAAAAAAAAAAAAAAAAAAAAAAAAAAAAAAAAAAAAAAAAAAAAAAAAAAAAAAAAAA",
            "dtype": "f8"
           }
          },
          {
           "mode": "lines+markers",
           "name": "user_13",
           "type": "scatter",
           "x": {
            "bdata": "AAECAwQFBgcICQoL",
            "dtype": "i1"
           },
           "y": {
            "bdata": "AAAAAAAAAAAAAAAAAAAAAAAAAAAAAAAAAAAAAAAAAAAAAAAAAAAAAAAAAAAAAAAAAAAAAAAAAAAAAAAAAAAAAAAAAAAAAAAAAAAAAAAAAAAAAAAAAAAAAAAAAAAAAAAA",
            "dtype": "f8"
           }
          },
          {
           "mode": "lines+markers",
           "name": "user_14",
           "type": "scatter",
           "x": {
            "bdata": "AAECAwQFBgcICQoL",
            "dtype": "i1"
           },
           "y": {
            "bdata": "AAAAAAAAAAAAAAAAAAAAAAAAAAAAAAAAAAAAAAAAAAAAAAAAAAAAAAAAAAAAAAAAAAAAAAAAAAAAAAAAAAAAAAAAAAAAAPA/AAAAAAAA8D8AAAAAAADwPwAAAAAAAPA/",
            "dtype": "f8"
           }
          },
          {
           "mode": "lines+markers",
           "name": "user_15",
           "type": "scatter",
           "x": {
            "bdata": "AAECAwQFBgcICQoL",
            "dtype": "i1"
           },
           "y": {
            "bdata": "AAAAAAAAAAAAAAAAAAAAAAAAAAAAAAAAAAAAAAAAAAAAAAAAAAAAAAAAAAAAAAAAAAAAAAAAAAAAAAAAAAAAAAAAAAAAAAAAAAAAAAAAAAAAAAAAAAAAAAAAAAAAAAAA",
            "dtype": "f8"
           }
          },
          {
           "mode": "lines+markers",
           "name": "user_16",
           "type": "scatter",
           "x": {
            "bdata": "AAECAwQFBgcICQoL",
            "dtype": "i1"
           },
           "y": {
            "bdata": "AAAAAAAAAAAAAAAAAAAAAAAAAAAAAAAAAAAAAAAAAAAAAAAAAAAAAAAAAAAAAAAAAAAAAAAAAAAAAAAAAAAAAAAAAAAAAAAAAAAAAAAAAAAAAAAAAAAAAAAAAAAAAAAA",
            "dtype": "f8"
           }
          },
          {
           "mode": "lines+markers",
           "name": "user_17",
           "type": "scatter",
           "x": {
            "bdata": "AAECAwQFBgcICQoL",
            "dtype": "i1"
           },
           "y": {
            "bdata": "AAAAAAAAAAAAAAAAAADwPwAAAAAAAPA/AAAAAAAA8D8AAAAAAADwPwAAAAAAAPA/AAAAAAAA8D8AAAAAAADwPwAAAAAAAPA/AAAAAAAA8D8AAAAAAADwPwAAAAAAAPA/",
            "dtype": "f8"
           }
          },
          {
           "mode": "lines+markers",
           "name": "user_18",
           "type": "scatter",
           "x": {
            "bdata": "AAECAwQFBgcICQoL",
            "dtype": "i1"
           },
           "y": {
            "bdata": "AAAAAAAAAAAAAAAAAAAAAAAAAAAAAAAAAAAAAAAAAAAAAAAAAAAAAAAAAAAAAAAAAAAAAAAAAAAAAAAAAAAAAAAAAAAAAAAAAAAAAAAAAAAAAAAAAAAAAAAAAAAAAAAA",
            "dtype": "f8"
           }
          },
          {
           "mode": "lines+markers",
           "name": "user_19",
           "type": "scatter",
           "x": {
            "bdata": "AAECAwQFBgcICQoL",
            "dtype": "i1"
           },
           "y": {
            "bdata": "AAAAAAAAAAAAAAAAAAAAAAAAAAAAAAAAAAAAAAAAAAAAAAAAAAAAAAAAAAAAAAAAAAAAAAAAAAAAAAAAAAAAAAAAAAAAAAAAAAAAAAAAAAAAAAAAAAAAAAAAAAAAAAAA",
            "dtype": "f8"
           }
          },
          {
           "mode": "lines+markers",
           "name": "user_2",
           "type": "scatter",
           "x": {
            "bdata": "AAECAwQFBgcICQoL",
            "dtype": "i1"
           },
           "y": {
            "bdata": "AAAAAAAAAAAAAAAAAAAAAAAAAAAAAAAAAAAAAAAAAAAAAAAAAAAAAAAAAAAAAAAAAAAAAAAAAAAAAAAAAAAAAAAAAAAAgExAAAAAAAAATUAAAAAAAABNQAAAAAAAAE1A",
            "dtype": "f8"
           }
          },
          {
           "mode": "lines+markers",
           "name": "user_20",
           "type": "scatter",
           "x": {
            "bdata": "AAECAwQFBgcICQoL",
            "dtype": "i1"
           },
           "y": {
            "bdata": "AAAAAAAAAAAAAAAAAAAAAAAAAAAAAAAAAAAAAAAAAAAAAAAAAAAAAAAAAAAAAAAAAAAAAAAAAAAAAAAAAAAAAAAAAAAAAAAAAAAAAAAAAAAAAAAAAAAAAAAAAAAAAAAA",
            "dtype": "f8"
           }
          },
          {
           "mode": "lines+markers",
           "name": "user_21",
           "type": "scatter",
           "x": {
            "bdata": "AAECAwQFBgcICQoL",
            "dtype": "i1"
           },
           "y": {
            "bdata": "AAAAAAAAAAAAAAAAAAAAAAAAAAAAAAAAAAAAAAAAAAAAAAAAAAAAAAAAAAAAAAAAAAAAAAAAAAAAAAAAAAAAAAAAAAAAAAAAAAAAAAAAAAAAAAAAAAAAAAAAAAAAAAAA",
            "dtype": "f8"
           }
          },
          {
           "mode": "lines+markers",
           "name": "user_22",
           "type": "scatter",
           "x": {
            "bdata": "AAECAwQFBgcICQoL",
            "dtype": "i1"
           },
           "y": {
            "bdata": "AAAAAAAAAAAAAAAAAAAAAAAAAAAAAAAAAAAAAAAAAAAAAAAAAAAAAAAAAAAAAAAAAAAAAAAA8D8AAAAAAADwPwAAAAAAAPA/AAAAAAAA8D8AAAAAAADwPwAAAAAAAPA/",
            "dtype": "f8"
           }
          },
          {
           "mode": "lines+markers",
           "name": "user_24",
           "type": "scatter",
           "x": {
            "bdata": "AAECAwQFBgcICQoL",
            "dtype": "i1"
           },
           "y": {
            "bdata": "AAAAAAAAAAAAAAAAAAAAAAAAAAAAAAAAAAAAAAAAAAAAAAAAAAAAAAAAAAAAAAAAAAAAAAAAAAAAAAAAAAAAAAAAAAAAAAAAAAAAAAAAAAAAAAAAAAAAAAAAAAAAAAAA",
            "dtype": "f8"
           }
          },
          {
           "mode": "lines+markers",
           "name": "user_25",
           "type": "scatter",
           "x": {
            "bdata": "AAECAwQFBgcICQoL",
            "dtype": "i1"
           },
           "y": {
            "bdata": "AAAAAAAAAAAAAAAAAAAAAAAAAAAAAAAAAAAAAAAAAAAAAAAAAAAAAAAAAAAAAAAAAAAAAAAAAAAAAAAAAAAAAAAAAAAAAAAAAAAAAAAAAAAAAAAAAAAAAAAAAAAAABRA",
            "dtype": "f8"
           }
          },
          {
           "mode": "lines+markers",
           "name": "user_26",
           "type": "scatter",
           "x": {
            "bdata": "AAECAwQFBgcICQoL",
            "dtype": "i1"
           },
           "y": {
            "bdata": "AAAAAAAAAAAAAAAAAAAAAAAAAAAAAAAAAAAAAAAAAAAAAAAAAAAAAAAAAAAAAAAAAAAAAAAAAAAAAAAAAAAAAAAAAAAAAAAAAAAAAAAAAAAAAAAAAAAAAAAAAAAAAAAA",
            "dtype": "f8"
           }
          },
          {
           "mode": "lines+markers",
           "name": "user_27",
           "type": "scatter",
           "x": {
            "bdata": "AAECAwQFBgcICQoL",
            "dtype": "i1"
           },
           "y": {
            "bdata": "AAAAAAAAAAAAAAAAAAAAAAAAAAAAAAAAAAAAAAAAAAAAAAAAAAAAAAAAAAAAAAAAAAAAAAAAAAAAAAAAAAAAAAAAAAAAAAAAAAAAAAAAAAAAAAAAAAAAAAAAAAAAAAAA",
            "dtype": "f8"
           }
          },
          {
           "mode": "lines+markers",
           "name": "user_28",
           "type": "scatter",
           "x": {
            "bdata": "AAECAwQFBgcICQoL",
            "dtype": "i1"
           },
           "y": {
            "bdata": "AAAAAAAAAAAAAAAAAAAAAAAAAAAAAAAAAAAAAAAAAAAAAAAAAAAAAAAAAAAAAAAAAAAAAAAAAAAAAAAAAAAAAAAAAAAAAAAAAAAAAAAAAAAAAAAAAAAAAAAAAAAAAAAA",
            "dtype": "f8"
           }
          },
          {
           "mode": "lines+markers",
           "name": "user_29",
           "type": "scatter",
           "x": {
            "bdata": "AAECAwQFBgcICQoL",
            "dtype": "i1"
           },
           "y": {
            "bdata": "AAAAAAAAAAAAAAAAAAAAAAAAAAAAAAAAAAAAAAAAAAAAAAAAAAAAAAAAAAAAAAAAAAAAAAAAAAAAAAAAAAAAAAAAAAAAAAAAAAAAAAAAAAAAAAAAAAAAAAAAAAAAAAAA",
            "dtype": "f8"
           }
          },
          {
           "mode": "lines+markers",
           "name": "user_3",
           "type": "scatter",
           "x": {
            "bdata": "AAECAwQFBgcICQoL",
            "dtype": "i1"
           },
           "y": {
            "bdata": "AAAAAAAAAAAAAAAAAAAAAAAAAAAAAAAAAAAAAAAAAAAAAAAAAAAAAAAAAAAAAAAAAAAAAAAAAAAAAAAAAAAAAAAAAAAAAAAAAAAAAAAAAAAAAAAAAADwPwAAAAAAADxA",
            "dtype": "f8"
           }
          },
          {
           "mode": "lines+markers",
           "name": "user_30",
           "type": "scatter",
           "x": {
            "bdata": "AAECAwQFBgcICQoL",
            "dtype": "i1"
           },
           "y": {
            "bdata": "AAAAAAAAAAAAAAAAAAAAAAAAAAAAAAAAAAAAAAAA8D8AAAAAAAAAQAAAAAAAAABAAAAAAAAAEEAAAAAAAAAUQAAAAAAAABRAAAAAAAAAFEAAAAAAAAAoQAAAAAAAAChA",
            "dtype": "f8"
           }
          },
          {
           "mode": "lines+markers",
           "name": "user_31",
           "type": "scatter",
           "x": {
            "bdata": "AAECAwQFBgcICQoL",
            "dtype": "i1"
           },
           "y": {
            "bdata": "AAAAAAAAAAAAAAAAAAAAAAAAAAAAAAAAAAAAAAAAAAAAAAAAAAAAAAAAAAAAAAAAAAAAAAAAAAAAAAAAAAAAAAAAAAAAAAAAAAAAAAAAAAAAAAAAAADwPwAAAAAAAPA/",
            "dtype": "f8"
           }
          },
          {
           "mode": "lines+markers",
           "name": "user_4",
           "type": "scatter",
           "x": {
            "bdata": "AAECAwQFBgcICQoL",
            "dtype": "i1"
           },
           "y": {
            "bdata": "AAAAAAAAHEAAAAAAAAAcQAAAAAAAACZAAAAAAAAAJkAAAAAAAAA0QAAAAAAAADtAAAAAAACAQUAAAAAAAABIQAAAAAAAgEpAAAAAAACASkAAAAAAAMBRQAAAAAAAwFRA",
            "dtype": "f8"
           }
          },
          {
           "mode": "lines+markers",
           "name": "user_6",
           "type": "scatter",
           "x": {
            "bdata": "AAECAwQFBgcICQoL",
            "dtype": "i1"
           },
           "y": {
            "bdata": "AAAAAAAAAAAAAAAAAAAAAAAAAAAAAAAAAAAAAAAAAAAAAAAAAAAAAAAAAAAAAAAAAAAAAAAAAAAAAAAAAAAAAAAAAAAAAAAAAAAAAAAAAAAAAAAAAAAAAAAAAAAAAAAA",
            "dtype": "f8"
           }
          },
          {
           "mode": "lines+markers",
           "name": "user_8",
           "type": "scatter",
           "x": {
            "bdata": "AAECAwQFBgcICQoL",
            "dtype": "i1"
           },
           "y": {
            "bdata": "AAAAAAAAAAAAAAAAAAAAAAAAAAAAAAAAAAAAAAAAAAAAAAAAAAAAAAAAAAAAAAAAAAAAAAAAAAAAAAAAAAAAAAAAAAAAAAAAAAAAAAAAAAAAAAAAAAAAAAAAAAAAAAAA",
            "dtype": "f8"
           }
          }
         ]
        },
        {
         "data": [
          {
           "mode": "lines+markers",
           "name": "user_1",
           "type": "scatter",
           "x": {
            "bdata": "AAECAwQFBgcICQoLDA==",
            "dtype": "i1"
           },
           "y": {
            "bdata": "AAAAAAAAAAAAAAAAAAAAAAAAAAAAAAAAAAAAAAAAAAAAAAAAAAAAAAAAAAAAAAAAAAAAAAAAAAAAAAAAAAAAAAAAAAAAAAAAAAAAAAAAAAAAAAAAAAAAAAAAAAAAAAAAAAAAAAAAAAA=",
            "dtype": "f8"
           }
          },
          {
           "mode": "lines+markers",
           "name": "user_10",
           "type": "scatter",
           "x": {
            "bdata": "AAECAwQFBgcICQoLDA==",
            "dtype": "i1"
           },
           "y": {
            "bdata": "AAAAAAAAAAAAAAAAAAAAAAAAAAAAAAAAAAAAAAAAAAAAAAAAAAAAAAAAAAAAAAAAAAAAAAAAAAAAAAAAAAAAAAAAAAAAAAAAAAAAAAAAAAAAAAAAAAAAAAAAAAAAAAAAAAAAAAAAAAA=",
            "dtype": "f8"
           }
          },
          {
           "mode": "lines+markers",
           "name": "user_11",
           "type": "scatter",
           "x": {
            "bdata": "AAECAwQFBgcICQoLDA==",
            "dtype": "i1"
           },
           "y": {
            "bdata": "AAAAAAAAAAAAAAAAAAAAAAAAAAAAAAAAAAAAAAAAAAAAAAAAAAAAAAAAAAAAAAAAAAAAAAAA8D8AAAAAAADwPwAAAAAAAPA/AAAAAAAA8D8AAAAAAADwPwAAAAAAAPA/AAAAAAAA8D8=",
            "dtype": "f8"
           }
          },
          {
           "mode": "lines+markers",
           "name": "user_12",
           "type": "scatter",
           "x": {
            "bdata": "AAECAwQFBgcICQoLDA==",
            "dtype": "i1"
           },
           "y": {
            "bdata": "AAAAAAAAAAAAAAAAAAAAAAAAAAAAAAAAAAAAAAAAAAAAAAAAAAAAAAAAAAAAAAAAAAAAAAAAAAAAAAAAAAAAAAAAAAAAAAAAAAAAAAAAAAAAAAAAAAAAAAAAAAAAAAAAAAAAAAAAAAA=",
            "dtype": "f8"
           }
          },
          {
           "mode": "lines+markers",
           "name": "user_13",
           "type": "scatter",
           "x": {
            "bdata": "AAECAwQFBgcICQoLDA==",
            "dtype": "i1"
           },
           "y": {
            "bdata": "AAAAAAAAAAAAAAAAAAAAAAAAAAAAAAAAAAAAAAAAAAAAAAAAAAAAAAAAAAAAAAAAAAAAAAAAAAAAAAAAAAAAAAAAAAAAAAAAAAAAAAAAAAAAAAAAAAAAAAAAAAAAAAAAAAAAAAAAAAA=",
            "dtype": "f8"
           }
          },
          {
           "mode": "lines+markers",
           "name": "user_14",
           "type": "scatter",
           "x": {
            "bdata": "AAECAwQFBgcICQoLDA==",
            "dtype": "i1"
           },
           "y": {
            "bdata": "AAAAAAAAAAAAAAAAAAAAAAAAAAAAAAAAAAAAAAAAAAAAAAAAAAAAAAAAAAAAAAAAAAAAAAAAAAAAAAAAAAAAAAAAAAAAAPA/AAAAAAAA8D8AAAAAAADwPwAAAAAAAPA/AAAAAAAAMkA=",
            "dtype": "f8"
           }
          },
          {
           "mode": "lines+markers",
           "name": "user_15",
           "type": "scatter",
           "x": {
            "bdata": "AAECAwQFBgcICQoLDA==",
            "dtype": "i1"
           },
           "y": {
            "bdata": "AAAAAAAAAAAAAAAAAAAAAAAAAAAAAAAAAAAAAAAAAAAAAAAAAAAAAAAAAAAAAAAAAAAAAAAAAAAAAAAAAAAAAAAAAAAAAAAAAAAAAAAAAAAAAAAAAAAAAAAAAAAAAAAAAAAAAAAAAAA=",
            "dtype": "f8"
           }
          },
          {
           "mode": "lines+markers",
           "name": "user_16",
           "type": "scatter",
           "x": {
            "bdata": "AAECAwQFBgcICQoLDA==",
            "dtype": "i1"
           },
           "y": {
            "bdata": "AAAAAAAAAAAAAAAAAAAAAAAAAAAAAAAAAAAAAAAAAAAAAAAAAAAAAAAAAAAAAAAAAAAAAAAAAAAAAAAAAAAAAAAAAAAAAAAAAAAAAAAAAAAAAAAAAAAAAAAAAAAAAAAAAAAAAAAAAAA=",
            "dtype": "f8"
           }
          },
          {
           "mode": "lines+markers",
           "name": "user_17",
           "type": "scatter",
           "x": {
            "bdata": "AAECAwQFBgcICQoLDA==",
            "dtype": "i1"
           },
           "y": {
            "bdata": "AAAAAAAAAAAAAAAAAADwPwAAAAAAAPA/AAAAAAAA8D8AAAAAAADwPwAAAAAAAPA/AAAAAAAA8D8AAAAAAADwPwAAAAAAAPA/AAAAAAAA8D8AAAAAAADwPwAAAAAAAPA/AAAAAAAA8D8=",
            "dtype": "f8"
           }
          },
          {
           "mode": "lines+markers",
           "name": "user_18",
           "type": "scatter",
           "x": {
            "bdata": "AAECAwQFBgcICQoLDA==",
            "dtype": "i1"
           },
           "y": {
            "bdata": "AAAAAAAAAAAAAAAAAAAAAAAAAAAAAAAAAAAAAAAAAAAAAAAAAAAAAAAAAAAAAAAAAAAAAAAAAAAAAAAAAAAAAAAAAAAAAAAAAAAAAAAAAAAAAAAAAAAAAAAAAAAAAAAAAAAAAAAAAAA=",
            "dtype": "f8"
           }
          },
          {
           "mode": "lines+markers",
           "name": "user_19",
           "type": "scatter",
           "x": {
            "bdata": "AAECAwQFBgcICQoLDA==",
            "dtype": "i1"
           },
           "y": {
            "bdata": "AAAAAAAAAAAAAAAAAAAAAAAAAAAAAAAAAAAAAAAAAAAAAAAAAAAAAAAAAAAAAAAAAAAAAAAAAAAAAAAAAAAAAAAAAAAAAAAAAAAAAAAAAAAAAAAAAAAAAAAAAAAAAAAAAAAAAAAAAAA=",
            "dtype": "f8"
           }
          },
          {
           "mode": "lines+markers",
           "name": "user_2",
           "type": "scatter",
           "x": {
            "bdata": "AAECAwQFBgcICQoLDA==",
            "dtype": "i1"
           },
           "y": {
            "bdata": "AAAAAAAAAAAAAAAAAAAAAAAAAAAAAAAAAAAAAAAAAAAAAAAAAAAAAAAAAAAAAAAAAAAAAAAAAAAAAAAAAAAAAAAAAAAAgExAAAAAAAAATUAAAAAAAABNQAAAAAAAAE1AAAAAAAAATUA=",
            "dtype": "f8"
           }
          },
          {
           "mode": "lines+markers",
           "name": "user_20",
           "type": "scatter",
           "x": {
            "bdata": "AAECAwQFBgcICQoLDA==",
            "dtype": "i1"
           },
           "y": {
            "bdata": "AAAAAAAAAAAAAAAAAAAAAAAAAAAAAAAAAAAAAAAAAAAAAAAAAAAAAAAAAAAAAAAAAAAAAAAAAAAAAAAAAAAAAAAAAAAAAAAAAAAAAAAAAAAAAAAAAAAAAAAAAAAAAAAAAAAAAAAAAAA=",
            "dtype": "f8"
           }
          },
          {
           "mode": "lines+markers",
           "name": "user_21",
           "type": "scatter",
           "x": {
            "bdata": "AAECAwQFBgcICQoLDA==",
            "dtype": "i1"
           },
           "y": {
            "bdata": "AAAAAAAAAAAAAAAAAAAAAAAAAAAAAAAAAAAAAAAAAAAAAAAAAAAAAAAAAAAAAAAAAAAAAAAAAAAAAAAAAAAAAAAAAAAAAAAAAAAAAAAAAAAAAAAAAAAAAAAAAAAAAAAAAAAAAAAAAAA=",
            "dtype": "f8"
           }
          },
          {
           "mode": "lines+markers",
           "name": "user_22",
           "type": "scatter",
           "x": {
            "bdata": "AAECAwQFBgcICQoLDA==",
            "dtype": "i1"
           },
           "y": {
            "bdata": "AAAAAAAAAAAAAAAAAAAAAAAAAAAAAAAAAAAAAAAAAAAAAAAAAAAAAAAAAAAAAAAAAAAAAAAA8D8AAAAAAADwPwAAAAAAAPA/AAAAAAAA8D8AAAAAAADwPwAAAAAAAPA/AAAAAAAA8D8=",
            "dtype": "f8"
           }
          },
          {
           "mode": "lines+markers",
           "name": "user_24",
           "type": "scatter",
           "x": {
            "bdata": "AAECAwQFBgcICQoLDA==",
            "dtype": "i1"
           },
           "y": {
            "bdata": "AAAAAAAAAAAAAAAAAAAAAAAAAAAAAAAAAAAAAAAAAAAAAAAAAAAAAAAAAAAAAAAAAAAAAAAAAAAAAAAAAAAAAAAAAAAAAAAAAAAAAAAAAAAAAAAAAAAAAAAAAAAAAAAAAAAAAAAAAAA=",
            "dtype": "f8"
           }
          },
          {
           "mode": "lines+markers",
           "name": "user_25",
           "type": "scatter",
           "x": {
            "bdata": "AAECAwQFBgcICQoLDA==",
            "dtype": "i1"
           },
           "y": {
            "bdata": "AAAAAAAAAAAAAAAAAAAAAAAAAAAAAAAAAAAAAAAAAAAAAAAAAAAAAAAAAAAAAAAAAAAAAAAAAAAAAAAAAAAAAAAAAAAAAAAAAAAAAAAAAAAAAAAAAAAAAAAAAAAAABRAAAAAAAAAO0A=",
            "dtype": "f8"
           }
          },
          {
           "mode": "lines+markers",
           "name": "user_26",
           "type": "scatter",
           "x": {
            "bdata": "AAECAwQFBgcICQoLDA==",
            "dtype": "i1"
           },
           "y": {
            "bdata": "AAAAAAAAAAAAAAAAAAAAAAAAAAAAAAAAAAAAAAAAAAAAAAAAAAAAAAAAAAAAAAAAAAAAAAAAAAAAAAAAAAAAAAAAAAAAAAAAAAAAAAAAAAAAAAAAAAAAAAAAAAAAAAAAAAAAAAAAAAA=",
            "dtype": "f8"
           }
          },
          {
           "mode": "lines+markers",
           "name": "user_27",
           "type": "scatter",
           "x": {
            "bdata": "AAECAwQFBgcICQoLDA==",
            "dtype": "i1"
           },
           "y": {
            "bdata": "AAAAAAAAAAAAAAAAAAAAAAAAAAAAAAAAAAAAAAAAAAAAAAAAAAAAAAAAAAAAAAAAAAAAAAAAAAAAAAAAAAAAAAAAAAAAAAAAAAAAAAAAAAAAAAAAAAAAAAAAAAAAAAAAAAAAAAAAAAA=",
            "dtype": "f8"
           }
          },
          {
           "mode": "lines+markers",
           "name": "user_28",
           "type": "scatter",
           "x": {
            "bdata": "AAECAwQFBgcICQoLDA==",
            "dtype": "i1"
           },
           "y": {
            "bdata": "AAAAAAAAAAAAAAAAAAAAAAAAAAAAAAAAAAAAAAAAAAAAAAAAAAAAAAAAAAAAAAAAAAAAAAAAAAAAAAAAAAAAAAAAAAAAAAAAAAAAAAAAAAAAAAAAAAAAAAAAAAAAAAAAAAAAAAAAAAA=",
            "dtype": "f8"
           }
          },
          {
           "mode": "lines+markers",
           "name": "user_29",
           "type": "scatter",
           "x": {
            "bdata": "AAECAwQFBgcICQoLDA==",
            "dtype": "i1"
           },
           "y": {
            "bdata": "AAAAAAAAAAAAAAAAAAAAAAAAAAAAAAAAAAAAAAAAAAAAAAAAAAAAAAAAAAAAAAAAAAAAAAAAAAAAAAAAAAAAAAAAAAAAAAAAAAAAAAAAAAAAAAAAAAAAAAAAAAAAAAAAAAAAAAAAAAA=",
            "dtype": "f8"
           }
          },
          {
           "mode": "lines+markers",
           "name": "user_3",
           "type": "scatter",
           "x": {
            "bdata": "AAECAwQFBgcICQoLDA==",
            "dtype": "i1"
           },
           "y": {
            "bdata": "AAAAAAAAAAAAAAAAAAAAAAAAAAAAAAAAAAAAAAAAAAAAAAAAAAAAAAAAAAAAAAAAAAAAAAAAAAAAAAAAAAAAAAAAAAAAAAAAAAAAAAAAAAAAAAAAAADwPwAAAAAAADxAAAAAAAAAPUA=",
            "dtype": "f8"
           }
          },
          {
           "mode": "lines+markers",
           "name": "user_30",
           "type": "scatter",
           "x": {
            "bdata": "AAECAwQFBgcICQoLDA==",
            "dtype": "i1"
           },
           "y": {
            "bdata": "AAAAAAAAAAAAAAAAAAAAAAAAAAAAAAAAAAAAAAAA8D8AAAAAAAAAQAAAAAAAAABAAAAAAAAAEEAAAAAAAAAUQAAAAAAAABRAAAAAAAAAFEAAAAAAAAAoQAAAAAAAAChAAAAAAAAAKEA=",
            "dtype": "f8"
           }
          },
          {
           "mode": "lines+markers",
           "name": "user_31",
           "type": "scatter",
           "x": {
            "bdata": "AAECAwQFBgcICQoLDA==",
            "dtype": "i1"
           },
           "y": {
            "bdata": "AAAAAAAAAAAAAAAAAAAAAAAAAAAAAAAAAAAAAAAAAAAAAAAAAAAAAAAAAAAAAAAAAAAAAAAAAAAAAAAAAAAAAAAAAAAAAAAAAAAAAAAAAAAAAAAAAADwPwAAAAAAAPA/AAAAAAAAEEA=",
            "dtype": "f8"
           }
          },
          {
           "mode": "lines+markers",
           "name": "user_4",
           "type": "scatter",
           "x": {
            "bdata": "AAECAwQFBgcICQoLDA==",
            "dtype": "i1"
           },
           "y": {
            "bdata": "AAAAAAAAHEAAAAAAAAAcQAAAAAAAACZAAAAAAAAAJkAAAAAAAAA0QAAAAAAAADtAAAAAAACAQUAAAAAAAABIQAAAAAAAgEpAAAAAAACASkAAAAAAAMBRQAAAAAAAwFRAAAAAAADAVEA=",
            "dtype": "f8"
           }
          },
          {
           "mode": "lines+markers",
           "name": "user_6",
           "type": "scatter",
           "x": {
            "bdata": "AAECAwQFBgcICQoLDA==",
            "dtype": "i1"
           },
           "y": {
            "bdata": "AAAAAAAAAAAAAAAAAAAAAAAAAAAAAAAAAAAAAAAAAAAAAAAAAAAAAAAAAAAAAAAAAAAAAAAAAAAAAAAAAAAAAAAAAAAAAAAAAAAAAAAAAAAAAAAAAAAAAAAAAAAAAAAAAAAAAAAAAAA=",
            "dtype": "f8"
           }
          },
          {
           "mode": "lines+markers",
           "name": "user_8",
           "type": "scatter",
           "x": {
            "bdata": "AAECAwQFBgcICQoLDA==",
            "dtype": "i1"
           },
           "y": {
            "bdata": "AAAAAAAAAAAAAAAAAAAAAAAAAAAAAAAAAAAAAAAAAAAAAAAAAAAAAAAAAAAAAAAAAAAAAAAAAAAAAAAAAAAAAAAAAAAAAAAAAAAAAAAAAAAAAAAAAAAAAAAAAAAAAAAAAAAAAAAAAAA=",
            "dtype": "f8"
           }
          }
         ]
        },
        {
         "data": [
          {
           "mode": "lines+markers",
           "name": "user_1",
           "type": "scatter",
           "x": {
            "bdata": "AAECAwQFBgcICQoLDA0=",
            "dtype": "i1"
           },
           "y": {
            "bdata": "AAAAAAAAAAAAAAAAAAAAAAAAAAAAAAAAAAAAAAAAAAAAAAAAAAAAAAAAAAAAAAAAAAAAAAAAAAAAAAAAAAAAAAAAAAAAAAAAAAAAAAAAAAAAAAAAAAAAAAAAAAAAAAAAAAAAAAAAAAAAAAAAAAAAAA==",
            "dtype": "f8"
           }
          },
          {
           "mode": "lines+markers",
           "name": "user_10",
           "type": "scatter",
           "x": {
            "bdata": "AAECAwQFBgcICQoLDA0=",
            "dtype": "i1"
           },
           "y": {
            "bdata": "AAAAAAAAAAAAAAAAAAAAAAAAAAAAAAAAAAAAAAAAAAAAAAAAAAAAAAAAAAAAAAAAAAAAAAAAAAAAAAAAAAAAAAAAAAAAAAAAAAAAAAAAAAAAAAAAAAAAAAAAAAAAAAAAAAAAAAAAAAAAAAAAAAAAAA==",
            "dtype": "f8"
           }
          },
          {
           "mode": "lines+markers",
           "name": "user_11",
           "type": "scatter",
           "x": {
            "bdata": "AAECAwQFBgcICQoLDA0=",
            "dtype": "i1"
           },
           "y": {
            "bdata": "AAAAAAAAAAAAAAAAAAAAAAAAAAAAAAAAAAAAAAAAAAAAAAAAAAAAAAAAAAAAAAAAAAAAAAAA8D8AAAAAAADwPwAAAAAAAPA/AAAAAAAA8D8AAAAAAADwPwAAAAAAAPA/AAAAAAAA8D8AAAAAAADwPw==",
            "dtype": "f8"
           }
          },
          {
           "mode": "lines+markers",
           "name": "user_12",
           "type": "scatter",
           "x": {
            "bdata": "AAECAwQFBgcICQoLDA0=",
            "dtype": "i1"
           },
           "y": {
            "bdata": "AAAAAAAAAAAAAAAAAAAAAAAAAAAAAAAAAAAAAAAAAAAAAAAAAAAAAAAAAAAAAAAAAAAAAAAAAAAAAAAAAAAAAAAAAAAAAAAAAAAAAAAAAAAAAAAAAAAAAAAAAAAAAAAAAAAAAAAAAAAAAAAAAAAAAA==",
            "dtype": "f8"
           }
          },
          {
           "mode": "lines+markers",
           "name": "user_13",
           "type": "scatter",
           "x": {
            "bdata": "AAECAwQFBgcICQoLDA0=",
            "dtype": "i1"
           },
           "y": {
            "bdata": "AAAAAAAAAAAAAAAAAAAAAAAAAAAAAAAAAAAAAAAAAAAAAAAAAAAAAAAAAAAAAAAAAAAAAAAAAAAAAAAAAAAAAAAAAAAAAAAAAAAAAAAAAAAAAAAAAAAAAAAAAAAAAAAAAAAAAAAAAAAAAAAAAAAAAA==",
            "dtype": "f8"
           }
          },
          {
           "mode": "lines+markers",
           "name": "user_14",
           "type": "scatter",
           "x": {
            "bdata": "AAECAwQFBgcICQoLDA0=",
            "dtype": "i1"
           },
           "y": {
            "bdata": "AAAAAAAAAAAAAAAAAAAAAAAAAAAAAAAAAAAAAAAAAAAAAAAAAAAAAAAAAAAAAAAAAAAAAAAAAAAAAAAAAAAAAAAAAAAAAPA/AAAAAAAA8D8AAAAAAADwPwAAAAAAAPA/AAAAAAAAMkAAAAAAAAA5QA==",
            "dtype": "f8"
           }
          },
          {
           "mode": "lines+markers",
           "name": "user_15",
           "type": "scatter",
           "x": {
            "bdata": "AAECAwQFBgcICQoLDA0=",
            "dtype": "i1"
           },
           "y": {
            "bdata": "AAAAAAAAAAAAAAAAAAAAAAAAAAAAAAAAAAAAAAAAAAAAAAAAAAAAAAAAAAAAAAAAAAAAAAAAAAAAAAAAAAAAAAAAAAAAAAAAAAAAAAAAAAAAAAAAAAAAAAAAAAAAAAAAAAAAAAAAAAAAAAAAAAAAAA==",
            "dtype": "f8"
           }
          },
          {
           "mode": "lines+markers",
           "name": "user_16",
           "type": "scatter",
           "x": {
            "bdata": "AAECAwQFBgcICQoLDA0=",
            "dtype": "i1"
           },
           "y": {
            "bdata": "AAAAAAAAAAAAAAAAAAAAAAAAAAAAAAAAAAAAAAAAAAAAAAAAAAAAAAAAAAAAAAAAAAAAAAAAAAAAAAAAAAAAAAAAAAAAAAAAAAAAAAAAAAAAAAAAAAAAAAAAAAAAAAAAAAAAAAAAAAAAAAAAAAAAAA==",
            "dtype": "f8"
           }
          },
          {
           "mode": "lines+markers",
           "name": "user_17",
           "type": "scatter",
           "x": {
            "bdata": "AAECAwQFBgcICQoLDA0=",
            "dtype": "i1"
           },
           "y": {
            "bdata": "AAAAAAAAAAAAAAAAAADwPwAAAAAAAPA/AAAAAAAA8D8AAAAAAADwPwAAAAAAAPA/AAAAAAAA8D8AAAAAAADwPwAAAAAAAPA/AAAAAAAA8D8AAAAAAADwPwAAAAAAAPA/AAAAAAAA8D8AAAAAAADwPw==",
            "dtype": "f8"
           }
          },
          {
           "mode": "lines+markers",
           "name": "user_18",
           "type": "scatter",
           "x": {
            "bdata": "AAECAwQFBgcICQoLDA0=",
            "dtype": "i1"
           },
           "y": {
            "bdata": "AAAAAAAAAAAAAAAAAAAAAAAAAAAAAAAAAAAAAAAAAAAAAAAAAAAAAAAAAAAAAAAAAAAAAAAAAAAAAAAAAAAAAAAAAAAAAAAAAAAAAAAAAAAAAAAAAAAAAAAAAAAAAAAAAAAAAAAAAAAAAAAAAAAAAA==",
            "dtype": "f8"
           }
          },
          {
           "mode": "lines+markers",
           "name": "user_19",
           "type": "scatter",
           "x": {
            "bdata": "AAECAwQFBgcICQoLDA0=",
            "dtype": "i1"
           },
           "y": {
            "bdata": "AAAAAAAAAAAAAAAAAAAAAAAAAAAAAAAAAAAAAAAAAAAAAAAAAAAAAAAAAAAAAAAAAAAAAAAAAAAAAAAAAAAAAAAAAAAAAAAAAAAAAAAAAAAAAAAAAAAAAAAAAAAAAAAAAAAAAAAAAAAAAAAAAAAAAA==",
            "dtype": "f8"
           }
          },
          {
           "mode": "lines+markers",
           "name": "user_2",
           "type": "scatter",
           "x": {
            "bdata": "AAECAwQFBgcICQoLDA0=",
            "dtype": "i1"
           },
           "y": {
            "bdata": "AAAAAAAAAAAAAAAAAAAAAAAAAAAAAAAAAAAAAAAAAAAAAAAAAAAAAAAAAAAAAAAAAAAAAAAAAAAAAAAAAAAAAAAAAAAAgExAAAAAAAAATUAAAAAAAABNQAAAAAAAAE1AAAAAAAAATUAAAAAAAABPQA==",
            "dtype": "f8"
           }
          },
          {
           "mode": "lines+markers",
           "name": "user_20",
           "type": "scatter",
           "x": {
            "bdata": "AAECAwQFBgcICQoLDA0=",
            "dtype": "i1"
           },
           "y": {
            "bdata": "AAAAAAAAAAAAAAAAAAAAAAAAAAAAAAAAAAAAAAAAAAAAAAAAAAAAAAAAAAAAAAAAAAAAAAAAAAAAAAAAAAAAAAAAAAAAAAAAAAAAAAAAAAAAAAAAAAAAAAAAAAAAAAAAAAAAAAAAAAAAAAAAAAAAAA==",
            "dtype": "f8"
           }
          },
          {
           "mode": "lines+markers",
           "name": "user_21",
           "type": "scatter",
           "x": {
            "bdata": "AAECAwQFBgcICQoLDA0=",
            "dtype": "i1"
           },
           "y": {
            "bdata": "AAAAAAAAAAAAAAAAAAAAAAAAAAAAAAAAAAAAAAAAAAAAAAAAAAAAAAAAAAAAAAAAAAAAAAAAAAAAAAAAAAAAAAAAAAAAAAAAAAAAAAAAAAAAAAAAAAAAAAAAAAAAAAAAAAAAAAAAAAAAAAAAAAAcQA==",
            "dtype": "f8"
           }
          },
          {
           "mode": "lines+markers",
           "name": "user_22",
           "type": "scatter",
           "x": {
            "bdata": "AAECAwQFBgcICQoLDA0=",
            "dtype": "i1"
           },
           "y": {
            "bdata": "AAAAAAAAAAAAAAAAAAAAAAAAAAAAAAAAAAAAAAAAAAAAAAAAAAAAAAAAAAAAAAAAAAAAAAAA8D8AAAAAAADwPwAAAAAAAPA/AAAAAAAA8D8AAAAAAADwPwAAAAAAAPA/AAAAAAAA8D8AAAAAAADwPw==",
            "dtype": "f8"
           }
          },
          {
           "mode": "lines+markers",
           "name": "user_24",
           "type": "scatter",
           "x": {
            "bdata": "AAECAwQFBgcICQoLDA0=",
            "dtype": "i1"
           },
           "y": {
            "bdata": "AAAAAAAAAAAAAAAAAAAAAAAAAAAAAAAAAAAAAAAAAAAAAAAAAAAAAAAAAAAAAAAAAAAAAAAAAAAAAAAAAAAAAAAAAAAAAAAAAAAAAAAAAAAAAAAAAAAAAAAAAAAAAAAAAAAAAAAAAAAAAAAAAAAAAA==",
            "dtype": "f8"
           }
          },
          {
           "mode": "lines+markers",
           "name": "user_25",
           "type": "scatter",
           "x": {
            "bdata": "AAECAwQFBgcICQoLDA0=",
            "dtype": "i1"
           },
           "y": {
            "bdata": "AAAAAAAAAAAAAAAAAAAAAAAAAAAAAAAAAAAAAAAAAAAAAAAAAAAAAAAAAAAAAAAAAAAAAAAAAAAAAAAAAAAAAAAAAAAAAAAAAAAAAAAAAAAAAAAAAAAAAAAAAAAAABRAAAAAAAAAO0AAAAAAAAA9QA==",
            "dtype": "f8"
           }
          },
          {
           "mode": "lines+markers",
           "name": "user_26",
           "type": "scatter",
           "x": {
            "bdata": "AAECAwQFBgcICQoLDA0=",
            "dtype": "i1"
           },
           "y": {
            "bdata": "AAAAAAAAAAAAAAAAAAAAAAAAAAAAAAAAAAAAAAAAAAAAAAAAAAAAAAAAAAAAAAAAAAAAAAAAAAAAAAAAAAAAAAAAAAAAAAAAAAAAAAAAAAAAAAAAAAAAAAAAAAAAAAAAAAAAAAAAAAAAAAAAAIBBQA==",
            "dtype": "f8"
           }
          },
          {
           "mode": "lines+markers",
           "name": "user_27",
           "type": "scatter",
           "x": {
            "bdata": "AAECAwQFBgcICQoLDA0=",
            "dtype": "i1"
           },
           "y": {
            "bdata": "AAAAAAAAAAAAAAAAAAAAAAAAAAAAAAAAAAAAAAAAAAAAAAAAAAAAAAAAAAAAAAAAAAAAAAAAAAAAAAAAAAAAAAAAAAAAAAAAAAAAAAAAAAAAAAAAAAAAAAAAAAAAAAAAAAAAAAAAAAAAAAAAAAAAAA==",
            "dtype": "f8"
           }
          },
          {
           "mode": "lines+markers",
           "name": "user_28",
           "type": "scatter",
           "x": {
            "bdata": "AAECAwQFBgcICQoLDA0=",
            "dtype": "i1"
           },
           "y": {
            "bdata": "AAAAAAAAAAAAAAAAAAAAAAAAAAAAAAAAAAAAAAAAAAAAAAAAAAAAAAAAAAAAAAAAAAAAAAAAAAAAAAAAAAAAAAAAAAAAAAAAAAAAAAAAAAAAAAAAAAAAAAAAAAAAAAAAAAAAAAAAAAAAAAAAAAAAAA==",
            "dtype": "f8"
           }
          },
          {
           "mode": "lines+markers",
           "name": "user_29",
           "type": "scatter",
           "x": {
            "bdata": "AAECAwQFBgcICQoLDA0=",
            "dtype": "i1"
           },
           "y": {
            "bdata": "AAAAAAAAAAAAAAAAAAAAAAAAAAAAAAAAAAAAAAAAAAAAAAAAAAAAAAAAAAAAAAAAAAAAAAAAAAAAAAAAAAAAAAAAAAAAAAAAAAAAAAAAAAAAAAAAAAAAAAAAAAAAAAAAAAAAAAAAAAAAAAAAAAAAAA==",
            "dtype": "f8"
           }
          },
          {
           "mode": "lines+markers",
           "name": "user_3",
           "type": "scatter",
           "x": {
            "bdata": "AAECAwQFBgcICQoLDA0=",
            "dtype": "i1"
           },
           "y": {
            "bdata": "AAAAAAAAAAAAAAAAAAAAAAAAAAAAAAAAAAAAAAAAAAAAAAAAAAAAAAAAAAAAAAAAAAAAAAAAAAAAAAAAAAAAAAAAAAAAAAAAAAAAAAAAAAAAAAAAAADwPwAAAAAAADxAAAAAAAAAPUAAAAAAAAA/QA==",
            "dtype": "f8"
           }
          },
          {
           "mode": "lines+markers",
           "name": "user_30",
           "type": "scatter",
           "x": {
            "bdata": "AAECAwQFBgcICQoLDA0=",
            "dtype": "i1"
           },
           "y": {
            "bdata": "AAAAAAAAAAAAAAAAAAAAAAAAAAAAAAAAAAAAAAAA8D8AAAAAAAAAQAAAAAAAAABAAAAAAAAAEEAAAAAAAAAUQAAAAAAAABRAAAAAAAAAFEAAAAAAAAAoQAAAAAAAAChAAAAAAAAAKEAAAAAAAAAxQA==",
            "dtype": "f8"
           }
          },
          {
           "mode": "lines+markers",
           "name": "user_31",
           "type": "scatter",
           "x": {
            "bdata": "AAECAwQFBgcICQoLDA0=",
            "dtype": "i1"
           },
           "y": {
            "bdata": "AAAAAAAAAAAAAAAAAAAAAAAAAAAAAAAAAAAAAAAAAAAAAAAAAAAAAAAAAAAAAAAAAAAAAAAAAAAAAAAAAAAAAAAAAAAAAAAAAAAAAAAAAAAAAAAAAADwPwAAAAAAAPA/AAAAAAAAEEAAAAAAAAAQQA==",
            "dtype": "f8"
           }
          },
          {
           "mode": "lines+markers",
           "name": "user_4",
           "type": "scatter",
           "x": {
            "bdata": "AAECAwQFBgcICQoLDA0=",
            "dtype": "i1"
           },
           "y": {
            "bdata": "AAAAAAAAHEAAAAAAAAAcQAAAAAAAACZAAAAAAAAAJkAAAAAAAAA0QAAAAAAAADtAAAAAAACAQUAAAAAAAABIQAAAAAAAgEpAAAAAAACASkAAAAAAAMBRQAAAAAAAwFRAAAAAAADAVEAAAAAAAMBUQA==",
            "dtype": "f8"
           }
          },
          {
           "mode": "lines+markers",
           "name": "user_6",
           "type": "scatter",
           "x": {
            "bdata": "AAECAwQFBgcICQoLDA0=",
            "dtype": "i1"
           },
           "y": {
            "bdata": "AAAAAAAAAAAAAAAAAAAAAAAAAAAAAAAAAAAAAAAAAAAAAAAAAAAAAAAAAAAAAAAAAAAAAAAAAAAAAAAAAAAAAAAAAAAAAAAAAAAAAAAAAAAAAAAAAAAAAAAAAAAAAAAAAAAAAAAAAAAAAAAAAAAAAA==",
            "dtype": "f8"
           }
          },
          {
           "mode": "lines+markers",
           "name": "user_8",
           "type": "scatter",
           "x": {
            "bdata": "AAECAwQFBgcICQoLDA0=",
            "dtype": "i1"
           },
           "y": {
            "bdata": "AAAAAAAAAAAAAAAAAAAAAAAAAAAAAAAAAAAAAAAAAAAAAAAAAAAAAAAAAAAAAAAAAAAAAAAAAAAAAAAAAAAAAAAAAAAAAAAAAAAAAAAAAAAAAAAAAAAAAAAAAAAAAAAAAAAAAAAAAAAAAAAAAAAAAA==",
            "dtype": "f8"
           }
          }
         ]
        },
        {
         "data": [
          {
           "mode": "lines+markers",
           "name": "user_1",
           "type": "scatter",
           "x": {
            "bdata": "AAECAwQFBgcICQoLDA0O",
            "dtype": "i1"
           },
           "y": {
            "bdata": "AAAAAAAAAAAAAAAAAAAAAAAAAAAAAAAAAAAAAAAAAAAAAAAAAAAAAAAAAAAAAAAAAAAAAAAAAAAAAAAAAAAAAAAAAAAAAAAAAAAAAAAAAAAAAAAAAAAAAAAAAAAAAAAAAAAAAAAAAAAAAAAAAAAAAAAAAAAAAAAA",
            "dtype": "f8"
           }
          },
          {
           "mode": "lines+markers",
           "name": "user_10",
           "type": "scatter",
           "x": {
            "bdata": "AAECAwQFBgcICQoLDA0O",
            "dtype": "i1"
           },
           "y": {
            "bdata": "AAAAAAAAAAAAAAAAAAAAAAAAAAAAAAAAAAAAAAAAAAAAAAAAAAAAAAAAAAAAAAAAAAAAAAAAAAAAAAAAAAAAAAAAAAAAAAAAAAAAAAAAAAAAAAAAAAAAAAAAAAAAAAAAAAAAAAAAAAAAAAAAAAAAAAAAAAAAAAAA",
            "dtype": "f8"
           }
          },
          {
           "mode": "lines+markers",
           "name": "user_11",
           "type": "scatter",
           "x": {
            "bdata": "AAECAwQFBgcICQoLDA0O",
            "dtype": "i1"
           },
           "y": {
            "bdata": "AAAAAAAAAAAAAAAAAAAAAAAAAAAAAAAAAAAAAAAAAAAAAAAAAAAAAAAAAAAAAAAAAAAAAAAA8D8AAAAAAADwPwAAAAAAAPA/AAAAAAAA8D8AAAAAAADwPwAAAAAAAPA/AAAAAAAA8D8AAAAAAADwPwAAAAAAAPA/",
            "dtype": "f8"
           }
          },
          {
           "mode": "lines+markers",
           "name": "user_12",
           "type": "scatter",
           "x": {
            "bdata": "AAECAwQFBgcICQoLDA0O",
            "dtype": "i1"
           },
           "y": {
            "bdata": "AAAAAAAAAAAAAAAAAAAAAAAAAAAAAAAAAAAAAAAAAAAAAAAAAAAAAAAAAAAAAAAAAAAAAAAAAAAAAAAAAAAAAAAAAAAAAAAAAAAAAAAAAAAAAAAAAAAAAAAAAAAAAAAAAAAAAAAAAAAAAAAAAAAAAAAAAAAAAAAA",
            "dtype": "f8"
           }
          },
          {
           "mode": "lines+markers",
           "name": "user_13",
           "type": "scatter",
           "x": {
            "bdata": "AAECAwQFBgcICQoLDA0O",
            "dtype": "i1"
           },
           "y": {
            "bdata": "AAAAAAAAAAAAAAAAAAAAAAAAAAAAAAAAAAAAAAAAAAAAAAAAAAAAAAAAAAAAAAAAAAAAAAAAAAAAAAAAAAAAAAAAAAAAAAAAAAAAAAAAAAAAAAAAAAAAAAAAAAAAAAAAAAAAAAAAAAAAAAAAAAAAAAAAAAAAAABA",
            "dtype": "f8"
           }
          },
          {
           "mode": "lines+markers",
           "name": "user_14",
           "type": "scatter",
           "x": {
            "bdata": "AAECAwQFBgcICQoLDA0O",
            "dtype": "i1"
           },
           "y": {
            "bdata": "AAAAAAAAAAAAAAAAAAAAAAAAAAAAAAAAAAAAAAAAAAAAAAAAAAAAAAAAAAAAAAAAAAAAAAAAAAAAAAAAAAAAAAAAAAAAAPA/AAAAAAAA8D8AAAAAAADwPwAAAAAAAPA/AAAAAAAAMkAAAAAAAAA5QAAAAAAAgEhA",
            "dtype": "f8"
           }
          },
          {
           "mode": "lines+markers",
           "name": "user_15",
           "type": "scatter",
           "x": {
            "bdata": "AAECAwQFBgcICQoLDA0O",
            "dtype": "i1"
           },
           "y": {
            "bdata": "AAAAAAAAAAAAAAAAAAAAAAAAAAAAAAAAAAAAAAAAAAAAAAAAAAAAAAAAAAAAAAAAAAAAAAAAAAAAAAAAAAAAAAAAAAAAAAAAAAAAAAAAAAAAAAAAAAAAAAAAAAAAAAAAAAAAAAAAAAAAAAAAAAAAAAAAAAAAAAAA",
            "dtype": "f8"
           }
          },
          {
           "mode": "lines+markers",
           "name": "user_16",
           "type": "scatter",
           "x": {
            "bdata": "AAECAwQFBgcICQoLDA0O",
            "dtype": "i1"
           },
           "y": {
            "bdata": "AAAAAAAAAAAAAAAAAAAAAAAAAAAAAAAAAAAAAAAAAAAAAAAAAAAAAAAAAAAAAAAAAAAAAAAAAAAAAAAAAAAAAAAAAAAAAAAAAAAAAAAAAAAAAAAAAAAAAAAAAAAAAAAAAAAAAAAAAAAAAAAAAAAAAAAAAAAAAAAA",
            "dtype": "f8"
           }
          },
          {
           "mode": "lines+markers",
           "name": "user_17",
           "type": "scatter",
           "x": {
            "bdata": "AAECAwQFBgcICQoLDA0O",
            "dtype": "i1"
           },
           "y": {
            "bdata": "AAAAAAAAAAAAAAAAAADwPwAAAAAAAPA/AAAAAAAA8D8AAAAAAADwPwAAAAAAAPA/AAAAAAAA8D8AAAAAAADwPwAAAAAAAPA/AAAAAAAA8D8AAAAAAADwPwAAAAAAAPA/AAAAAAAA8D8AAAAAAADwPwAAAAAAAPA/",
            "dtype": "f8"
           }
          },
          {
           "mode": "lines+markers",
           "name": "user_18",
           "type": "scatter",
           "x": {
            "bdata": "AAECAwQFBgcICQoLDA0O",
            "dtype": "i1"
           },
           "y": {
            "bdata": "AAAAAAAAAAAAAAAAAAAAAAAAAAAAAAAAAAAAAAAAAAAAAAAAAAAAAAAAAAAAAAAAAAAAAAAAAAAAAAAAAAAAAAAAAAAAAAAAAAAAAAAAAAAAAAAAAAAAAAAAAAAAAAAAAAAAAAAAAAAAAAAAAAAAAAAAAAAAABxA",
            "dtype": "f8"
           }
          },
          {
           "mode": "lines+markers",
           "name": "user_19",
           "type": "scatter",
           "x": {
            "bdata": "AAECAwQFBgcICQoLDA0O",
            "dtype": "i1"
           },
           "y": {
            "bdata": "AAAAAAAAAAAAAAAAAAAAAAAAAAAAAAAAAAAAAAAAAAAAAAAAAAAAAAAAAAAAAAAAAAAAAAAAAAAAAAAAAAAAAAAAAAAAAAAAAAAAAAAAAAAAAAAAAAAAAAAAAAAAAAAAAAAAAAAAAAAAAAAAAAAAAAAAAAAAAAAA",
            "dtype": "f8"
           }
          },
          {
           "mode": "lines+markers",
           "name": "user_2",
           "type": "scatter",
           "x": {
            "bdata": "AAECAwQFBgcICQoLDA0O",
            "dtype": "i1"
           },
           "y": {
            "bdata": "AAAAAAAAAAAAAAAAAAAAAAAAAAAAAAAAAAAAAAAAAAAAAAAAAAAAAAAAAAAAAAAAAAAAAAAAAAAAAAAAAAAAAAAAAAAAgExAAAAAAAAATUAAAAAAAABNQAAAAAAAAE1AAAAAAAAATUAAAAAAAABPQAAAAAAAgFJA",
            "dtype": "f8"
           }
          },
          {
           "mode": "lines+markers",
           "name": "user_20",
           "type": "scatter",
           "x": {
            "bdata": "AAECAwQFBgcICQoLDA0O",
            "dtype": "i1"
           },
           "y": {
            "bdata": "AAAAAAAAAAAAAAAAAAAAAAAAAAAAAAAAAAAAAAAAAAAAAAAAAAAAAAAAAAAAAAAAAAAAAAAAAAAAAAAAAAAAAAAAAAAAAAAAAAAAAAAAAAAAAAAAAAAAAAAAAAAAAAAAAAAAAAAAAAAAAAAAAAAAAAAAAAAAACZA",
            "dtype": "f8"
           }
          },
          {
           "mode": "lines+markers",
           "name": "user_21",
           "type": "scatter",
           "x": {
            "bdata": "AAECAwQFBgcICQoLDA0O",
            "dtype": "i1"
           },
           "y": {
            "bdata": "AAAAAAAAAAAAAAAAAAAAAAAAAAAAAAAAAAAAAAAAAAAAAAAAAAAAAAAAAAAAAAAAAAAAAAAAAAAAAAAAAAAAAAAAAAAAAAAAAAAAAAAAAAAAAAAAAAAAAAAAAAAAAAAAAAAAAAAAAAAAAAAAAAAcQAAAAAAAABxA",
            "dtype": "f8"
           }
          },
          {
           "mode": "lines+markers",
           "name": "user_22",
           "type": "scatter",
           "x": {
            "bdata": "AAECAwQFBgcICQoLDA0O",
            "dtype": "i1"
           },
           "y": {
            "bdata": "AAAAAAAAAAAAAAAAAAAAAAAAAAAAAAAAAAAAAAAAAAAAAAAAAAAAAAAAAAAAAAAAAAAAAAAA8D8AAAAAAADwPwAAAAAAAPA/AAAAAAAA8D8AAAAAAADwPwAAAAAAAPA/AAAAAAAA8D8AAAAAAADwPwAAAAAAAPA/",
            "dtype": "f8"
           }
          },
          {
           "mode": "lines+markers",
           "name": "user_24",
           "type": "scatter",
           "x": {
            "bdata": "AAECAwQFBgcICQoLDA0O",
            "dtype": "i1"
           },
           "y": {
            "bdata": "AAAAAAAAAAAAAAAAAAAAAAAAAAAAAAAAAAAAAAAAAAAAAAAAAAAAAAAAAAAAAAAAAAAAAAAAAAAAAAAAAAAAAAAAAAAAAAAAAAAAAAAAAAAAAAAAAAAAAAAAAAAAAAAAAAAAAAAAAAAAAAAAAAAAAAAAAAAAAAAA",
            "dtype": "f8"
           }
          },
          {
           "mode": "lines+markers",
           "name": "user_25",
           "type": "scatter",
           "x": {
            "bdata": "AAECAwQFBgcICQoLDA0O",
            "dtype": "i1"
           },
           "y": {
            "bdata": "AAAAAAAAAAAAAAAAAAAAAAAAAAAAAAAAAAAAAAAAAAAAAAAAAAAAAAAAAAAAAAAAAAAAAAAAAAAAAAAAAAAAAAAAAAAAAAAAAAAAAAAAAAAAAAAAAAAAAAAAAAAAABRAAAAAAAAAO0AAAAAAAAA9QAAAAAAAgEBA",
            "dtype": "f8"
           }
          },
          {
           "mode": "lines+markers",
           "name": "user_26",
           "type": "scatter",
           "x": {
            "bdata": "AAECAwQFBgcICQoLDA0O",
            "dtype": "i1"
           },
           "y": {
            "bdata": "AAAAAAAAAAAAAAAAAAAAAAAAAAAAAAAAAAAAAAAAAAAAAAAAAAAAAAAAAAAAAAAAAAAAAAAAAAAAAAAAAAAAAAAAAAAAAAAAAAAAAAAAAAAAAAAAAAAAAAAAAAAAAAAAAAAAAAAAAAAAAAAAAIBBQAAAAAAAgEFA",
            "dtype": "f8"
           }
          },
          {
           "mode": "lines+markers",
           "name": "user_27",
           "type": "scatter",
           "x": {
            "bdata": "AAECAwQFBgcICQoLDA0O",
            "dtype": "i1"
           },
           "y": {
            "bdata": "AAAAAAAAAAAAAAAAAAAAAAAAAAAAAAAAAAAAAAAAAAAAAAAAAAAAAAAAAAAAAAAAAAAAAAAAAAAAAAAAAAAAAAAAAAAAAAAAAAAAAAAAAAAAAAAAAAAAAAAAAAAAAAAAAAAAAAAAAAAAAAAAAAAAAAAAAAAAAAAA",
            "dtype": "f8"
           }
          },
          {
           "mode": "lines+markers",
           "name": "user_28",
           "type": "scatter",
           "x": {
            "bdata": "AAECAwQFBgcICQoLDA0O",
            "dtype": "i1"
           },
           "y": {
            "bdata": "AAAAAAAAAAAAAAAAAAAAAAAAAAAAAAAAAAAAAAAAAAAAAAAAAAAAAAAAAAAAAAAAAAAAAAAAAAAAAAAAAAAAAAAAAAAAAAAAAAAAAAAAAAAAAAAAAAAAAAAAAAAAAAAAAAAAAAAAAAAAAAAAAAAAAAAAAAAAAAAA",
            "dtype": "f8"
           }
          },
          {
           "mode": "lines+markers",
           "name": "user_29",
           "type": "scatter",
           "x": {
            "bdata": "AAECAwQFBgcICQoLDA0O",
            "dtype": "i1"
           },
           "y": {
            "bdata": "AAAAAAAAAAAAAAAAAAAAAAAAAAAAAAAAAAAAAAAAAAAAAAAAAAAAAAAAAAAAAAAAAAAAAAAAAAAAAAAAAAAAAAAAAAAAAAAAAAAAAAAAAAAAAAAAAAAAAAAAAAAAAAAAAAAAAAAAAAAAAAAAAAAAAAAAAAAAABRA",
            "dtype": "f8"
           }
          },
          {
           "mode": "lines+markers",
           "name": "user_3",
           "type": "scatter",
           "x": {
            "bdata": "AAECAwQFBgcICQoLDA0O",
            "dtype": "i1"
           },
           "y": {
            "bdata": "AAAAAAAAAAAAAAAAAAAAAAAAAAAAAAAAAAAAAAAAAAAAAAAAAAAAAAAAAAAAAAAAAAAAAAAAAAAAAAAAAAAAAAAAAAAAAAAAAAAAAAAAAAAAAAAAAADwPwAAAAAAADxAAAAAAAAAPUAAAAAAAAA/QAAAAAAAAEtA",
            "dtype": "f8"
           }
          },
          {
           "mode": "lines+markers",
           "name": "user_30",
           "type": "scatter",
           "x": {
            "bdata": "AAECAwQFBgcICQoLDA0O",
            "dtype": "i1"
           },
           "y": {
            "bdata": "AAAAAAAAAAAAAAAAAAAAAAAAAAAAAAAAAAAAAAAA8D8AAAAAAAAAQAAAAAAAAABAAAAAAAAAEEAAAAAAAAAUQAAAAAAAABRAAAAAAAAAFEAAAAAAAAAoQAAAAAAAAChAAAAAAAAAKEAAAAAAAAAxQAAAAAAAADFA",
            "dtype": "f8"
           }
          },
          {
           "mode": "lines+markers",
           "name": "user_31",
           "type": "scatter",
           "x": {
            "bdata": "AAECAwQFBgcICQoLDA0O",
            "dtype": "i1"
           },
           "y": {
            "bdata": "AAAAAAAAAAAAAAAAAAAAAAAAAAAAAAAAAAAAAAAAAAAAAAAAAAAAAAAAAAAAAAAAAAAAAAAAAAAAAAAAAAAAAAAAAAAAAAAAAAAAAAAAAAAAAAAAAADwPwAAAAAAAPA/AAAAAAAAEEAAAAAAAAAQQAAAAAAAABhA",
            "dtype": "f8"
           }
          },
          {
           "mode": "lines+markers",
           "name": "user_4",
           "type": "scatter",
           "x": {
            "bdata": "AAECAwQFBgcICQoLDA0O",
            "dtype": "i1"
           },
           "y": {
            "bdata": "AAAAAAAAHEAAAAAAAAAcQAAAAAAAACZAAAAAAAAAJkAAAAAAAAA0QAAAAAAAADtAAAAAAACAQUAAAAAAAABIQAAAAAAAgEpAAAAAAACASkAAAAAAAMBRQAAAAAAAwFRAAAAAAADAVEAAAAAAAMBUQAAAAAAAwFVA",
            "dtype": "f8"
           }
          },
          {
           "mode": "lines+markers",
           "name": "user_6",
           "type": "scatter",
           "x": {
            "bdata": "AAECAwQFBgcICQoLDA0O",
            "dtype": "i1"
           },
           "y": {
            "bdata": "AAAAAAAAAAAAAAAAAAAAAAAAAAAAAAAAAAAAAAAAAAAAAAAAAAAAAAAAAAAAAAAAAAAAAAAAAAAAAAAAAAAAAAAAAAAAAAAAAAAAAAAAAAAAAAAAAAAAAAAAAAAAAAAAAAAAAAAAAAAAAAAAAAAAAAAAAAAAAAAA",
            "dtype": "f8"
           }
          },
          {
           "mode": "lines+markers",
           "name": "user_8",
           "type": "scatter",
           "x": {
            "bdata": "AAECAwQFBgcICQoLDA0O",
            "dtype": "i1"
           },
           "y": {
            "bdata": "AAAAAAAAAAAAAAAAAAAAAAAAAAAAAAAAAAAAAAAAAAAAAAAAAAAAAAAAAAAAAAAAAAAAAAAAAAAAAAAAAAAAAAAAAAAAAAAAAAAAAAAAAAAAAAAAAAAAAAAAAAAAAAAAAAAAAAAAAAAAAAAAAAAAAAAAAAAAAAAA",
            "dtype": "f8"
           }
          }
         ]
        },
        {
         "data": [
          {
           "mode": "lines+markers",
           "name": "user_1",
           "type": "scatter",
           "x": {
            "bdata": "AAECAwQFBgcICQoLDA0ODw==",
            "dtype": "i1"
           },
           "y": {
            "bdata": "AAAAAAAAAAAAAAAAAAAAAAAAAAAAAAAAAAAAAAAAAAAAAAAAAAAAAAAAAAAAAAAAAAAAAAAAAAAAAAAAAAAAAAAAAAAAAAAAAAAAAAAAAAAAAAAAAAAAAAAAAAAAAAAAAAAAAAAAAAAAAAAAAAAAAAAAAAAAAAAAAAAAAAAAAAA=",
            "dtype": "f8"
           }
          },
          {
           "mode": "lines+markers",
           "name": "user_10",
           "type": "scatter",
           "x": {
            "bdata": "AAECAwQFBgcICQoLDA0ODw==",
            "dtype": "i1"
           },
           "y": {
            "bdata": "AAAAAAAAAAAAAAAAAAAAAAAAAAAAAAAAAAAAAAAAAAAAAAAAAAAAAAAAAAAAAAAAAAAAAAAAAAAAAAAAAAAAAAAAAAAAAAAAAAAAAAAAAAAAAAAAAAAAAAAAAAAAAAAAAAAAAAAAAAAAAAAAAAAAAAAAAAAAAAAAAAAAAAAAHEA=",
            "dtype": "f8"
           }
          },
          {
           "mode": "lines+markers",
           "name": "user_11",
           "type": "scatter",
           "x": {
            "bdata": "AAECAwQFBgcICQoLDA0ODw==",
            "dtype": "i1"
           },
           "y": {
            "bdata": "AAAAAAAAAAAAAAAAAAAAAAAAAAAAAAAAAAAAAAAAAAAAAAAAAAAAAAAAAAAAAAAAAAAAAAAA8D8AAAAAAADwPwAAAAAAAPA/AAAAAAAA8D8AAAAAAADwPwAAAAAAAPA/AAAAAAAA8D8AAAAAAADwPwAAAAAAAPA/AAAAAAAA8D8=",
            "dtype": "f8"
           }
          },
          {
           "mode": "lines+markers",
           "name": "user_12",
           "type": "scatter",
           "x": {
            "bdata": "AAECAwQFBgcICQoLDA0ODw==",
            "dtype": "i1"
           },
           "y": {
            "bdata": "AAAAAAAAAAAAAAAAAAAAAAAAAAAAAAAAAAAAAAAAAAAAAAAAAAAAAAAAAAAAAAAAAAAAAAAAAAAAAAAAAAAAAAAAAAAAAAAAAAAAAAAAAAAAAAAAAAAAAAAAAAAAAAAAAAAAAAAAAAAAAAAAAAAAAAAAAAAAAAAAAAAAAAAAAAA=",
            "dtype": "f8"
           }
          },
          {
           "mode": "lines+markers",
           "name": "user_13",
           "type": "scatter",
           "x": {
            "bdata": "AAECAwQFBgcICQoLDA0ODw==",
            "dtype": "i1"
           },
           "y": {
            "bdata": "AAAAAAAAAAAAAAAAAAAAAAAAAAAAAAAAAAAAAAAAAAAAAAAAAAAAAAAAAAAAAAAAAAAAAAAAAAAAAAAAAAAAAAAAAAAAAAAAAAAAAAAAAAAAAAAAAAAAAAAAAAAAAAAAAAAAAAAAAAAAAAAAAAAAAAAAAAAAAABAAAAAAAAAPkA=",
            "dtype": "f8"
           }
          },
          {
           "mode": "lines+markers",
           "name": "user_14",
           "type": "scatter",
           "x": {
            "bdata": "AAECAwQFBgcICQoLDA0ODw==",
            "dtype": "i1"
           },
           "y": {
            "bdata": "AAAAAAAAAAAAAAAAAAAAAAAAAAAAAAAAAAAAAAAAAAAAAAAAAAAAAAAAAAAAAAAAAAAAAAAAAAAAAAAAAAAAAAAAAAAAAPA/AAAAAAAA8D8AAAAAAADwPwAAAAAAAPA/AAAAAAAAMkAAAAAAAAA5QAAAAAAAgEhAAAAAAAAAV0A=",
            "dtype": "f8"
           }
          },
          {
           "mode": "lines+markers",
           "name": "user_15",
           "type": "scatter",
           "x": {
            "bdata": "AAECAwQFBgcICQoLDA0ODw==",
            "dtype": "i1"
           },
           "y": {
            "bdata": "AAAAAAAAAAAAAAAAAAAAAAAAAAAAAAAAAAAAAAAAAAAAAAAAAAAAAAAAAAAAAAAAAAAAAAAAAAAAAAAAAAAAAAAAAAAAAAAAAAAAAAAAAAAAAAAAAAAAAAAAAAAAAAAAAAAAAAAAAAAAAAAAAAAAAAAAAAAAAAAAAAAAAAAAAAA=",
            "dtype": "f8"
           }
          },
          {
           "mode": "lines+markers",
           "name": "user_16",
           "type": "scatter",
           "x": {
            "bdata": "AAECAwQFBgcICQoLDA0ODw==",
            "dtype": "i1"
           },
           "y": {
            "bdata": "AAAAAAAAAAAAAAAAAAAAAAAAAAAAAAAAAAAAAAAAAAAAAAAAAAAAAAAAAAAAAAAAAAAAAAAAAAAAAAAAAAAAAAAAAAAAAAAAAAAAAAAAAAAAAAAAAAAAAAAAAAAAAAAAAAAAAAAAAAAAAAAAAAAAAAAAAAAAAAAAAAAAAAAACEA=",
            "dtype": "f8"
           }
          },
          {
           "mode": "lines+markers",
           "name": "user_17",
           "type": "scatter",
           "x": {
            "bdata": "AAECAwQFBgcICQoLDA0ODw==",
            "dtype": "i1"
           },
           "y": {
            "bdata": "AAAAAAAAAAAAAAAAAADwPwAAAAAAAPA/AAAAAAAA8D8AAAAAAADwPwAAAAAAAPA/AAAAAAAA8D8AAAAAAADwPwAAAAAAAPA/AAAAAAAA8D8AAAAAAADwPwAAAAAAAPA/AAAAAAAA8D8AAAAAAADwPwAAAAAAAPA/AAAAAAAACEA=",
            "dtype": "f8"
           }
          },
          {
           "mode": "lines+markers",
           "name": "user_18",
           "type": "scatter",
           "x": {
            "bdata": "AAECAwQFBgcICQoLDA0ODw==",
            "dtype": "i1"
           },
           "y": {
            "bdata": "AAAAAAAAAAAAAAAAAAAAAAAAAAAAAAAAAAAAAAAAAAAAAAAAAAAAAAAAAAAAAAAAAAAAAAAAAAAAAAAAAAAAAAAAAAAAAAAAAAAAAAAAAAAAAAAAAAAAAAAAAAAAAAAAAAAAAAAAAAAAAAAAAAAAAAAAAAAAABxAAAAAAAAAHEA=",
            "dtype": "f8"
           }
          },
          {
           "mode": "lines+markers",
           "name": "user_19",
           "type": "scatter",
           "x": {
            "bdata": "AAECAwQFBgcICQoLDA0ODw==",
            "dtype": "i1"
           },
           "y": {
            "bdata": "AAAAAAAAAAAAAAAAAAAAAAAAAAAAAAAAAAAAAAAAAAAAAAAAAAAAAAAAAAAAAAAAAAAAAAAAAAAAAAAAAAAAAAAAAAAAAAAAAAAAAAAAAAAAAAAAAAAAAAAAAAAAAAAAAAAAAAAAAAAAAAAAAAAAAAAAAAAAAAAAAAAAAAAAAAA=",
            "dtype": "f8"
           }
          },
          {
           "mode": "lines+markers",
           "name": "user_2",
           "type": "scatter",
           "x": {
            "bdata": "AAECAwQFBgcICQoLDA0ODw==",
            "dtype": "i1"
           },
           "y": {
            "bdata": "AAAAAAAAAAAAAAAAAAAAAAAAAAAAAAAAAAAAAAAAAAAAAAAAAAAAAAAAAAAAAAAAAAAAAAAAAAAAAAAAAAAAAAAAAAAAgExAAAAAAAAATUAAAAAAAABNQAAAAAAAAE1AAAAAAAAATUAAAAAAAABPQAAAAAAAgFJAAAAAAACAU0A=",
            "dtype": "f8"
           }
          },
          {
           "mode": "lines+markers",
           "name": "user_20",
           "type": "scatter",
           "x": {
            "bdata": "AAECAwQFBgcICQoLDA0ODw==",
            "dtype": "i1"
           },
           "y": {
            "bdata": "AAAAAAAAAAAAAAAAAAAAAAAAAAAAAAAAAAAAAAAAAAAAAAAAAAAAAAAAAAAAAAAAAAAAAAAAAAAAAAAAAAAAAAAAAAAAAAAAAAAAAAAAAAAAAAAAAAAAAAAAAAAAAAAAAAAAAAAAAAAAAAAAAAAAAAAAAAAAACZAAAAAAAAAJkA=",
            "dtype": "f8"
           }
          },
          {
           "mode": "lines+markers",
           "name": "user_21",
           "type": "scatter",
           "x": {
            "bdata": "AAECAwQFBgcICQoLDA0ODw==",
            "dtype": "i1"
           },
           "y": {
            "bdata": "AAAAAAAAAAAAAAAAAAAAAAAAAAAAAAAAAAAAAAAAAAAAAAAAAAAAAAAAAAAAAAAAAAAAAAAAAAAAAAAAAAAAAAAAAAAAAAAAAAAAAAAAAAAAAAAAAAAAAAAAAAAAAAAAAAAAAAAAAAAAAAAAAAAcQAAAAAAAABxAAAAAAAAAHEA=",
            "dtype": "f8"
           }
          },
          {
           "mode": "lines+markers",
           "name": "user_22",
           "type": "scatter",
           "x": {
            "bdata": "AAECAwQFBgcICQoLDA0ODw==",
            "dtype": "i1"
           },
           "y": {
            "bdata": "AAAAAAAAAAAAAAAAAAAAAAAAAAAAAAAAAAAAAAAAAAAAAAAAAAAAAAAAAAAAAAAAAAAAAAAA8D8AAAAAAADwPwAAAAAAAPA/AAAAAAAA8D8AAAAAAADwPwAAAAAAAPA/AAAAAAAA8D8AAAAAAADwPwAAAAAAAPA/AAAAAAAA8D8=",
            "dtype": "f8"
           }
          },
          {
           "mode": "lines+markers",
           "name": "user_24",
           "type": "scatter",
           "x": {
            "bdata": "AAECAwQFBgcICQoLDA0ODw==",
            "dtype": "i1"
           },
           "y": {
            "bdata": "AAAAAAAAAAAAAAAAAAAAAAAAAAAAAAAAAAAAAAAAAAAAAAAAAAAAAAAAAAAAAAAAAAAAAAAAAAAAAAAAAAAAAAAAAAAAAAAAAAAAAAAAAAAAAAAAAAAAAAAAAAAAAAAAAAAAAAAAAAAAAAAAAAAAAAAAAAAAAAAAAAAAAAAAAAA=",
            "dtype": "f8"
           }
          },
          {
           "mode": "lines+markers",
           "name": "user_25",
           "type": "scatter",
           "x": {
            "bdata": "AAECAwQFBgcICQoLDA0ODw==",
            "dtype": "i1"
           },
           "y": {
            "bdata": "AAAAAAAAAAAAAAAAAAAAAAAAAAAAAAAAAAAAAAAAAAAAAAAAAAAAAAAAAAAAAAAAAAAAAAAAAAAAAAAAAAAAAAAAAAAAAAAAAAAAAAAAAAAAAAAAAAAAAAAAAAAAABRAAAAAAAAAO0AAAAAAAAA9QAAAAAAAgEBAAAAAAAAAS0A=",
            "dtype": "f8"
           }
          },
          {
           "mode": "lines+markers",
           "name": "user_26",
           "type": "scatter",
           "x": {
            "bdata": "AAECAwQFBgcICQoLDA0ODw==",
            "dtype": "i1"
           },
           "y": {
            "bdata": "AAAAAAAAAAAAAAAAAAAAAAAAAAAAAAAAAAAAAAAAAAAAAAAAAAAAAAAAAAAAAAAAAAAAAAAAAAAAAAAAAAAAAAAAAAAAAAAAAAAAAAAAAAAAAAAAAAAAAAAAAAAAAAAAAAAAAAAAAAAAAAAAAIBBQAAAAAAAgEFAAAAAAACAQUA=",
            "dtype": "f8"
           }
          },
          {
           "mode": "lines+markers",
           "name": "user_27",
           "type": "scatter",
           "x": {
            "bdata": "AAECAwQFBgcICQoLDA0ODw==",
            "dtype": "i1"
           },
           "y": {
            "bdata": "AAAAAAAAAAAAAAAAAAAAAAAAAAAAAAAAAAAAAAAAAAAAAAAAAAAAAAAAAAAAAAAAAAAAAAAAAAAAAAAAAAAAAAAAAAAAAAAAAAAAAAAAAAAAAAAAAAAAAAAAAAAAAAAAAAAAAAAAAAAAAAAAAAAAAAAAAAAAAAAAAAAAAAAAAAA=",
            "dtype": "f8"
           }
          },
          {
           "mode": "lines+markers",
           "name": "user_28",
           "type": "scatter",
           "x": {
            "bdata": "AAECAwQFBgcICQoLDA0ODw==",
            "dtype": "i1"
           },
           "y": {
            "bdata": "AAAAAAAAAAAAAAAAAAAAAAAAAAAAAAAAAAAAAAAAAAAAAAAAAAAAAAAAAAAAAAAAAAAAAAAAAAAAAAAAAAAAAAAAAAAAAAAAAAAAAAAAAAAAAAAAAAAAAAAAAAAAAAAAAAAAAAAAAAAAAAAAAAAAAAAAAAAAAAAAAAAAAAAAAEA=",
            "dtype": "f8"
           }
          },
          {
           "mode": "lines+markers",
           "name": "user_29",
           "type": "scatter",
           "x": {
            "bdata": "AAECAwQFBgcICQoLDA0ODw==",
            "dtype": "i1"
           },
           "y": {
            "bdata": "AAAAAAAAAAAAAAAAAAAAAAAAAAAAAAAAAAAAAAAAAAAAAAAAAAAAAAAAAAAAAAAAAAAAAAAAAAAAAAAAAAAAAAAAAAAAAAAAAAAAAAAAAAAAAAAAAAAAAAAAAAAAAAAAAAAAAAAAAAAAAAAAAAAAAAAAAAAAABRAAAAAAAAAMkA=",
            "dtype": "f8"
           }
          },
          {
           "mode": "lines+markers",
           "name": "user_3",
           "type": "scatter",
           "x": {
            "bdata": "AAECAwQFBgcICQoLDA0ODw==",
            "dtype": "i1"
           },
           "y": {
            "bdata": "AAAAAAAAAAAAAAAAAAAAAAAAAAAAAAAAAAAAAAAAAAAAAAAAAAAAAAAAAAAAAAAAAAAAAAAAAAAAAAAAAAAAAAAAAAAAAAAAAAAAAAAAAAAAAAAAAADwPwAAAAAAADxAAAAAAAAAPUAAAAAAAAA/QAAAAAAAAEtAAAAAAAAATEA=",
            "dtype": "f8"
           }
          },
          {
           "mode": "lines+markers",
           "name": "user_30",
           "type": "scatter",
           "x": {
            "bdata": "AAECAwQFBgcICQoLDA0ODw==",
            "dtype": "i1"
           },
           "y": {
            "bdata": "AAAAAAAAAAAAAAAAAAAAAAAAAAAAAAAAAAAAAAAA8D8AAAAAAAAAQAAAAAAAAABAAAAAAAAAEEAAAAAAAAAUQAAAAAAAABRAAAAAAAAAFEAAAAAAAAAoQAAAAAAAAChAAAAAAAAAKEAAAAAAAAAxQAAAAAAAADFAAAAAAAAAMUA=",
            "dtype": "f8"
           }
          },
          {
           "mode": "lines+markers",
           "name": "user_31",
           "type": "scatter",
           "x": {
            "bdata": "AAECAwQFBgcICQoLDA0ODw==",
            "dtype": "i1"
           },
           "y": {
            "bdata": "AAAAAAAAAAAAAAAAAAAAAAAAAAAAAAAAAAAAAAAAAAAAAAAAAAAAAAAAAAAAAAAAAAAAAAAAAAAAAAAAAAAAAAAAAAAAAAAAAAAAAAAAAAAAAAAAAADwPwAAAAAAAPA/AAAAAAAAEEAAAAAAAAAQQAAAAAAAABhAAAAAAAAAGEA=",
            "dtype": "f8"
           }
          },
          {
           "mode": "lines+markers",
           "name": "user_4",
           "type": "scatter",
           "x": {
            "bdata": "AAECAwQFBgcICQoLDA0ODw==",
            "dtype": "i1"
           },
           "y": {
            "bdata": "AAAAAAAAHEAAAAAAAAAcQAAAAAAAACZAAAAAAAAAJkAAAAAAAAA0QAAAAAAAADtAAAAAAACAQUAAAAAAAABIQAAAAAAAgEpAAAAAAACASkAAAAAAAMBRQAAAAAAAwFRAAAAAAADAVEAAAAAAAMBUQAAAAAAAwFVAAAAAAABAX0A=",
            "dtype": "f8"
           }
          },
          {
           "mode": "lines+markers",
           "name": "user_6",
           "type": "scatter",
           "x": {
            "bdata": "AAECAwQFBgcICQoLDA0ODw==",
            "dtype": "i1"
           },
           "y": {
            "bdata": "AAAAAAAAAAAAAAAAAAAAAAAAAAAAAAAAAAAAAAAAAAAAAAAAAAAAAAAAAAAAAAAAAAAAAAAAAAAAAAAAAAAAAAAAAAAAAAAAAAAAAAAAAAAAAAAAAAAAAAAAAAAAAAAAAAAAAAAAAAAAAAAAAAAAAAAAAAAAAAAAAAAAAAAAAAA=",
            "dtype": "f8"
           }
          },
          {
           "mode": "lines+markers",
           "name": "user_8",
           "type": "scatter",
           "x": {
            "bdata": "AAECAwQFBgcICQoLDA0ODw==",
            "dtype": "i1"
           },
           "y": {
            "bdata": "AAAAAAAAAAAAAAAAAAAAAAAAAAAAAAAAAAAAAAAAAAAAAAAAAAAAAAAAAAAAAAAAAAAAAAAAAAAAAAAAAAAAAAAAAAAAAAAAAAAAAAAAAAAAAAAAAAAAAAAAAAAAAAAAAAAAAAAAAAAAAAAAAAAAAAAAAAAAAAAAAAAAAAAAAAA=",
            "dtype": "f8"
           }
          }
         ]
        },
        {
         "data": [
          {
           "mode": "lines+markers",
           "name": "user_1",
           "type": "scatter",
           "x": {
            "bdata": "AAECAwQFBgcICQoLDA0ODxA=",
            "dtype": "i1"
           },
           "y": {
            "bdata": "AAAAAAAAAAAAAAAAAAAAAAAAAAAAAAAAAAAAAAAAAAAAAAAAAAAAAAAAAAAAAAAAAAAAAAAAAAAAAAAAAAAAAAAAAAAAAAAAAAAAAAAAAAAAAAAAAAAAAAAAAAAAAAAAAAAAAAAAAAAAAAAAAAAAAAAAAAAAAAAAAAAAAAAAAAAAAAAAAAAAAA==",
            "dtype": "f8"
           }
          },
          {
           "mode": "lines+markers",
           "name": "user_10",
           "type": "scatter",
           "x": {
            "bdata": "AAECAwQFBgcICQoLDA0ODxA=",
            "dtype": "i1"
           },
           "y": {
            "bdata": "AAAAAAAAAAAAAAAAAAAAAAAAAAAAAAAAAAAAAAAAAAAAAAAAAAAAAAAAAAAAAAAAAAAAAAAAAAAAAAAAAAAAAAAAAAAAAAAAAAAAAAAAAAAAAAAAAAAAAAAAAAAAAAAAAAAAAAAAAAAAAAAAAAAAAAAAAAAAAAAAAAAAAAAAHEAAAAAAAAA1QA==",
            "dtype": "f8"
           }
          },
          {
           "mode": "lines+markers",
           "name": "user_11",
           "type": "scatter",
           "x": {
            "bdata": "AAECAwQFBgcICQoLDA0ODxA=",
            "dtype": "i1"
           },
           "y": {
            "bdata": "AAAAAAAAAAAAAAAAAAAAAAAAAAAAAAAAAAAAAAAAAAAAAAAAAAAAAAAAAAAAAAAAAAAAAAAA8D8AAAAAAADwPwAAAAAAAPA/AAAAAAAA8D8AAAAAAADwPwAAAAAAAPA/AAAAAAAA8D8AAAAAAADwPwAAAAAAAPA/AAAAAAAA8D8AAAAAAADwPw==",
            "dtype": "f8"
           }
          },
          {
           "mode": "lines+markers",
           "name": "user_12",
           "type": "scatter",
           "x": {
            "bdata": "AAECAwQFBgcICQoLDA0ODxA=",
            "dtype": "i1"
           },
           "y": {
            "bdata": "AAAAAAAAAAAAAAAAAAAAAAAAAAAAAAAAAAAAAAAAAAAAAAAAAAAAAAAAAAAAAAAAAAAAAAAAAAAAAAAAAAAAAAAAAAAAAAAAAAAAAAAAAAAAAAAAAAAAAAAAAAAAAAAAAAAAAAAAAAAAAAAAAAAAAAAAAAAAAAAAAAAAAAAAAAAAAAAAAAAAAA==",
            "dtype": "f8"
           }
          },
          {
           "mode": "lines+markers",
           "name": "user_13",
           "type": "scatter",
           "x": {
            "bdata": "AAECAwQFBgcICQoLDA0ODxA=",
            "dtype": "i1"
           },
           "y": {
            "bdata": "AAAAAAAAAAAAAAAAAAAAAAAAAAAAAAAAAAAAAAAAAAAAAAAAAAAAAAAAAAAAAAAAAAAAAAAAAAAAAAAAAAAAAAAAAAAAAAAAAAAAAAAAAAAAAAAAAAAAAAAAAAAAAAAAAAAAAAAAAAAAAAAAAAAAAAAAAAAAAABAAAAAAAAAPkAAAAAAAAA+QA==",
            "dtype": "f8"
           }
          },
          {
           "mode": "lines+markers",
           "name": "user_14",
           "type": "scatter",
           "x": {
            "bdata": "AAECAwQFBgcICQoLDA0ODxA=",
            "dtype": "i1"
           },
           "y": {
            "bdata": "AAAAAAAAAAAAAAAAAAAAAAAAAAAAAAAAAAAAAAAAAAAAAAAAAAAAAAAAAAAAAAAAAAAAAAAAAAAAAAAAAAAAAAAAAAAAAPA/AAAAAAAA8D8AAAAAAADwPwAAAAAAAPA/AAAAAAAAMkAAAAAAAAA5QAAAAAAAgEhAAAAAAAAAV0AAAAAAAABXQA==",
            "dtype": "f8"
           }
          },
          {
           "mode": "lines+markers",
           "name": "user_15",
           "type": "scatter",
           "x": {
            "bdata": "AAECAwQFBgcICQoLDA0ODxA=",
            "dtype": "i1"
           },
           "y": {
            "bdata": "AAAAAAAAAAAAAAAAAAAAAAAAAAAAAAAAAAAAAAAAAAAAAAAAAAAAAAAAAAAAAAAAAAAAAAAAAAAAAAAAAAAAAAAAAAAAAAAAAAAAAAAAAAAAAAAAAAAAAAAAAAAAAAAAAAAAAAAAAAAAAAAAAAAAAAAAAAAAAAAAAAAAAAAAAAAAAAAAAAAAAA==",
            "dtype": "f8"
           }
          },
          {
           "mode": "lines+markers",
           "name": "user_16",
           "type": "scatter",
           "x": {
            "bdata": "AAECAwQFBgcICQoLDA0ODxA=",
            "dtype": "i1"
           },
           "y": {
            "bdata": "AAAAAAAAAAAAAAAAAAAAAAAAAAAAAAAAAAAAAAAAAAAAAAAAAAAAAAAAAAAAAAAAAAAAAAAAAAAAAAAAAAAAAAAAAAAAAAAAAAAAAAAAAAAAAAAAAAAAAAAAAAAAAAAAAAAAAAAAAAAAAAAAAAAAAAAAAAAAAAAAAAAAAAAACEAAAAAAAAAIQA==",
            "dtype": "f8"
           }
          },
          {
           "mode": "lines+markers",
           "name": "user_17",
           "type": "scatter",
           "x": {
            "bdata": "AAECAwQFBgcICQoLDA0ODxA=",
            "dtype": "i1"
           },
           "y": {
            "bdata": "AAAAAAAAAAAAAAAAAADwPwAAAAAAAPA/AAAAAAAA8D8AAAAAAADwPwAAAAAAAPA/AAAAAAAA8D8AAAAAAADwPwAAAAAAAPA/AAAAAAAA8D8AAAAAAADwPwAAAAAAAPA/AAAAAAAA8D8AAAAAAADwPwAAAAAAAPA/AAAAAAAACEAAAAAAAAAIQA==",
            "dtype": "f8"
           }
          },
          {
           "mode": "lines+markers",
           "name": "user_18",
           "type": "scatter",
           "x": {
            "bdata": "AAECAwQFBgcICQoLDA0ODxA=",
            "dtype": "i1"
           },
           "y": {
            "bdata": "AAAAAAAAAAAAAAAAAAAAAAAAAAAAAAAAAAAAAAAAAAAAAAAAAAAAAAAAAAAAAAAAAAAAAAAAAAAAAAAAAAAAAAAAAAAAAAAAAAAAAAAAAAAAAAAAAAAAAAAAAAAAAAAAAAAAAAAAAAAAAAAAAAAAAAAAAAAAABxAAAAAAAAAHEAAAAAAAAAgQA==",
            "dtype": "f8"
           }
          },
          {
           "mode": "lines+markers",
           "name": "user_19",
           "type": "scatter",
           "x": {
            "bdata": "AAECAwQFBgcICQoLDA0ODxA=",
            "dtype": "i1"
           },
           "y": {
            "bdata": "AAAAAAAAAAAAAAAAAAAAAAAAAAAAAAAAAAAAAAAAAAAAAAAAAAAAAAAAAAAAAAAAAAAAAAAAAAAAAAAAAAAAAAAAAAAAAAAAAAAAAAAAAAAAAAAAAAAAAAAAAAAAAAAAAAAAAAAAAAAAAAAAAAAAAAAAAAAAAAAAAAAAAAAAAAAAAAAAAAAAAA==",
            "dtype": "f8"
           }
          },
          {
           "mode": "lines+markers",
           "name": "user_2",
           "type": "scatter",
           "x": {
            "bdata": "AAECAwQFBgcICQoLDA0ODxA=",
            "dtype": "i1"
           },
           "y": {
            "bdata": "AAAAAAAAAAAAAAAAAAAAAAAAAAAAAAAAAAAAAAAAAAAAAAAAAAAAAAAAAAAAAAAAAAAAAAAAAAAAAAAAAAAAAAAAAAAAgExAAAAAAAAATUAAAAAAAABNQAAAAAAAAE1AAAAAAAAATUAAAAAAAABPQAAAAAAAgFJAAAAAAACAU0AAAAAAAEBXQA==",
            "dtype": "f8"
           }
          },
          {
           "mode": "lines+markers",
           "name": "user_20",
           "type": "scatter",
           "x": {
            "bdata": "AAECAwQFBgcICQoLDA0ODxA=",
            "dtype": "i1"
           },
           "y": {
            "bdata": "AAAAAAAAAAAAAAAAAAAAAAAAAAAAAAAAAAAAAAAAAAAAAAAAAAAAAAAAAAAAAAAAAAAAAAAAAAAAAAAAAAAAAAAAAAAAAAAAAAAAAAAAAAAAAAAAAAAAAAAAAAAAAAAAAAAAAAAAAAAAAAAAAAAAAAAAAAAAACZAAAAAAAAAJkAAAAAAAAAmQA==",
            "dtype": "f8"
           }
          },
          {
           "mode": "lines+markers",
           "name": "user_21",
           "type": "scatter",
           "x": {
            "bdata": "AAECAwQFBgcICQoLDA0ODxA=",
            "dtype": "i1"
           },
           "y": {
            "bdata": "AAAAAAAAAAAAAAAAAAAAAAAAAAAAAAAAAAAAAAAAAAAAAAAAAAAAAAAAAAAAAAAAAAAAAAAAAAAAAAAAAAAAAAAAAAAAAAAAAAAAAAAAAAAAAAAAAAAAAAAAAAAAAAAAAAAAAAAAAAAAAAAAAAAcQAAAAAAAABxAAAAAAAAAHEAAAAAAAAAcQA==",
            "dtype": "f8"
           }
          },
          {
           "mode": "lines+markers",
           "name": "user_22",
           "type": "scatter",
           "x": {
            "bdata": "AAECAwQFBgcICQoLDA0ODxA=",
            "dtype": "i1"
           },
           "y": {
            "bdata": "AAAAAAAAAAAAAAAAAAAAAAAAAAAAAAAAAAAAAAAAAAAAAAAAAAAAAAAAAAAAAAAAAAAAAAAA8D8AAAAAAADwPwAAAAAAAPA/AAAAAAAA8D8AAAAAAADwPwAAAAAAAPA/AAAAAAAA8D8AAAAAAADwPwAAAAAAAPA/AAAAAAAA8D8AAAAAAADwPw==",
            "dtype": "f8"
           }
          },
          {
           "mode": "lines+markers",
           "name": "user_24",
           "type": "scatter",
           "x": {
            "bdata": "AAECAwQFBgcICQoLDA0ODxA=",
            "dtype": "i1"
           },
           "y": {
            "bdata": "AAAAAAAAAAAAAAAAAAAAAAAAAAAAAAAAAAAAAAAAAAAAAAAAAAAAAAAAAAAAAAAAAAAAAAAAAAAAAAAAAAAAAAAAAAAAAAAAAAAAAAAAAAAAAAAAAAAAAAAAAAAAAAAAAAAAAAAAAAAAAAAAAAAAAAAAAAAAAAAAAAAAAAAAAAAAAAAAAAAiQA==",
            "dtype": "f8"
           }
          },
          {
           "mode": "lines+markers",
           "name": "user_25",
           "type": "scatter",
           "x": {
            "bdata": "AAECAwQFBgcICQoLDA0ODxA=",
            "dtype": "i1"
           },
           "y": {
            "bdata": "AAAAAAAAAAAAAAAAAAAAAAAAAAAAAAAAAAAAAAAAAAAAAAAAAAAAAAAAAAAAAAAAAAAAAAAAAAAAAAAAAAAAAAAAAAAAAAAAAAAAAAAAAAAAAAAAAAAAAAAAAAAAABRAAAAAAAAAO0AAAAAAAAA9QAAAAAAAgEBAAAAAAAAAS0AAAAAAAIBMQA==",
            "dtype": "f8"
           }
          },
          {
           "mode": "lines+markers",
           "name": "user_26",
           "type": "scatter",
           "x": {
            "bdata": "AAECAwQFBgcICQoLDA0ODxA=",
            "dtype": "i1"
           },
           "y": {
            "bdata": "AAAAAAAAAAAAAAAAAAAAAAAAAAAAAAAAAAAAAAAAAAAAAAAAAAAAAAAAAAAAAAAAAAAAAAAAAAAAAAAAAAAAAAAAAAAAAAAAAAAAAAAAAAAAAAAAAAAAAAAAAAAAAAAAAAAAAAAAAAAAAAAAAIBBQAAAAAAAgEFAAAAAAACAQUAAAAAAAABKQA==",
            "dtype": "f8"
           }
          },
          {
           "mode": "lines+markers",
           "name": "user_27",
           "type": "scatter",
           "x": {
            "bdata": "AAECAwQFBgcICQoLDA0ODxA=",
            "dtype": "i1"
           },
           "y": {
            "bdata": "AAAAAAAAAAAAAAAAAAAAAAAAAAAAAAAAAAAAAAAAAAAAAAAAAAAAAAAAAAAAAAAAAAAAAAAAAAAAAAAAAAAAAAAAAAAAAAAAAAAAAAAAAAAAAAAAAAAAAAAAAAAAAAAAAAAAAAAAAAAAAAAAAAAAAAAAAAAAAAAAAAAAAAAAAAAAAAAAAAAAAA==",
            "dtype": "f8"
           }
          },
          {
           "mode": "lines+markers",
           "name": "user_28",
           "type": "scatter",
           "x": {
            "bdata": "AAECAwQFBgcICQoLDA0ODxA=",
            "dtype": "i1"
           },
           "y": {
            "bdata": "AAAAAAAAAAAAAAAAAAAAAAAAAAAAAAAAAAAAAAAAAAAAAAAAAAAAAAAAAAAAAAAAAAAAAAAAAAAAAAAAAAAAAAAAAAAAAAAAAAAAAAAAAAAAAAAAAAAAAAAAAAAAAAAAAAAAAAAAAAAAAAAAAAAAAAAAAAAAAAAAAAAAAAAAAEAAAAAAAAA0QA==",
            "dtype": "f8"
           }
          },
          {
           "mode": "lines+markers",
           "name": "user_29",
           "type": "scatter",
           "x": {
            "bdata": "AAECAwQFBgcICQoLDA0ODxA=",
            "dtype": "i1"
           },
           "y": {
            "bdata": "AAAAAAAAAAAAAAAAAAAAAAAAAAAAAAAAAAAAAAAAAAAAAAAAAAAAAAAAAAAAAAAAAAAAAAAAAAAAAAAAAAAAAAAAAAAAAAAAAAAAAAAAAAAAAAAAAAAAAAAAAAAAAAAAAAAAAAAAAAAAAAAAAAAAAAAAAAAAABRAAAAAAAAAMkAAAAAAAABBQA==",
            "dtype": "f8"
           }
          },
          {
           "mode": "lines+markers",
           "name": "user_3",
           "type": "scatter",
           "x": {
            "bdata": "AAECAwQFBgcICQoLDA0ODxA=",
            "dtype": "i1"
           },
           "y": {
            "bdata": "AAAAAAAAAAAAAAAAAAAAAAAAAAAAAAAAAAAAAAAAAAAAAAAAAAAAAAAAAAAAAAAAAAAAAAAAAAAAAAAAAAAAAAAAAAAAAAAAAAAAAAAAAAAAAAAAAADwPwAAAAAAADxAAAAAAAAAPUAAAAAAAAA/QAAAAAAAAEtAAAAAAAAATEAAAAAAAABMQA==",
            "dtype": "f8"
           }
          },
          {
           "mode": "lines+markers",
           "name": "user_30",
           "type": "scatter",
           "x": {
            "bdata": "AAECAwQFBgcICQoLDA0ODxA=",
            "dtype": "i1"
           },
           "y": {
            "bdata": "AAAAAAAAAAAAAAAAAAAAAAAAAAAAAAAAAAAAAAAA8D8AAAAAAAAAQAAAAAAAAABAAAAAAAAAEEAAAAAAAAAUQAAAAAAAABRAAAAAAAAAFEAAAAAAAAAoQAAAAAAAAChAAAAAAAAAKEAAAAAAAAAxQAAAAAAAADFAAAAAAAAAMUAAAAAAAAAxQA==",
            "dtype": "f8"
           }
          },
          {
           "mode": "lines+markers",
           "name": "user_31",
           "type": "scatter",
           "x": {
            "bdata": "AAECAwQFBgcICQoLDA0ODxA=",
            "dtype": "i1"
           },
           "y": {
            "bdata": "AAAAAAAAAAAAAAAAAAAAAAAAAAAAAAAAAAAAAAAAAAAAAAAAAAAAAAAAAAAAAAAAAAAAAAAAAAAAAAAAAAAAAAAAAAAAAAAAAAAAAAAAAAAAAAAAAADwPwAAAAAAAPA/AAAAAAAAEEAAAAAAAAAQQAAAAAAAABhAAAAAAAAAGEAAAAAAAAAYQA==",
            "dtype": "f8"
           }
          },
          {
           "mode": "lines+markers",
           "name": "user_4",
           "type": "scatter",
           "x": {
            "bdata": "AAECAwQFBgcICQoLDA0ODxA=",
            "dtype": "i1"
           },
           "y": {
            "bdata": "AAAAAAAAHEAAAAAAAAAcQAAAAAAAACZAAAAAAAAAJkAAAAAAAAA0QAAAAAAAADtAAAAAAACAQUAAAAAAAABIQAAAAAAAgEpAAAAAAACASkAAAAAAAMBRQAAAAAAAwFRAAAAAAADAVEAAAAAAAMBUQAAAAAAAwFVAAAAAAABAX0AAAAAAACBhQA==",
            "dtype": "f8"
           }
          },
          {
           "mode": "lines+markers",
           "name": "user_6",
           "type": "scatter",
           "x": {
            "bdata": "AAECAwQFBgcICQoLDA0ODxA=",
            "dtype": "i1"
           },
           "y": {
            "bdata": "AAAAAAAAAAAAAAAAAAAAAAAAAAAAAAAAAAAAAAAAAAAAAAAAAAAAAAAAAAAAAAAAAAAAAAAAAAAAAAAAAAAAAAAAAAAAAAAAAAAAAAAAAAAAAAAAAAAAAAAAAAAAAAAAAAAAAAAAAAAAAAAAAAAAAAAAAAAAAAAAAAAAAAAAAAAAAAAAAADwPw==",
            "dtype": "f8"
           }
          },
          {
           "mode": "lines+markers",
           "name": "user_8",
           "type": "scatter",
           "x": {
            "bdata": "AAECAwQFBgcICQoLDA0ODxA=",
            "dtype": "i1"
           },
           "y": {
            "bdata": "AAAAAAAAAAAAAAAAAAAAAAAAAAAAAAAAAAAAAAAAAAAAAAAAAAAAAAAAAAAAAAAAAAAAAAAAAAAAAAAAAAAAAAAAAAAAAAAAAAAAAAAAAAAAAAAAAAAAAAAAAAAAAAAAAAAAAAAAAAAAAAAAAAAAAAAAAAAAAAAAAAAAAAAAAAAAAAAAAAAAAA==",
            "dtype": "f8"
           }
          }
         ]
        },
        {
         "data": [
          {
           "mode": "lines+markers",
           "name": "user_1",
           "type": "scatter",
           "x": {
            "bdata": "AAECAwQFBgcICQoLDA0ODxAR",
            "dtype": "i1"
           },
           "y": {
            "bdata": "AAAAAAAAAAAAAAAAAAAAAAAAAAAAAAAAAAAAAAAAAAAAAAAAAAAAAAAAAAAAAAAAAAAAAAAAAAAAAAAAAAAAAAAAAAAAAAAAAAAAAAAAAAAAAAAAAAAAAAAAAAAAAAAAAAAAAAAAAAAAAAAAAAAAAAAAAAAAAAAAAAAAAAAAAAAAAAAAAAAAAAAAAAAAACZA",
            "dtype": "f8"
           }
          },
          {
           "mode": "lines+markers",
           "name": "user_10",
           "type": "scatter",
           "x": {
            "bdata": "AAECAwQFBgcICQoLDA0ODxAR",
            "dtype": "i1"
           },
           "y": {
            "bdata": "AAAAAAAAAAAAAAAAAAAAAAAAAAAAAAAAAAAAAAAAAAAAAAAAAAAAAAAAAAAAAAAAAAAAAAAAAAAAAAAAAAAAAAAAAAAAAAAAAAAAAAAAAAAAAAAAAAAAAAAAAAAAAAAAAAAAAAAAAAAAAAAAAAAAAAAAAAAAAAAAAAAAAAAAHEAAAAAAAAA1QAAAAAAAgE1A",
            "dtype": "f8"
           }
          },
          {
           "mode": "lines+markers",
           "name": "user_11",
           "type": "scatter",
           "x": {
            "bdata": "AAECAwQFBgcICQoLDA0ODxAR",
            "dtype": "i1"
           },
           "y": {
            "bdata": "AAAAAAAAAAAAAAAAAAAAAAAAAAAAAAAAAAAAAAAAAAAAAAAAAAAAAAAAAAAAAAAAAAAAAAAA8D8AAAAAAADwPwAAAAAAAPA/AAAAAAAA8D8AAAAAAADwPwAAAAAAAPA/AAAAAAAA8D8AAAAAAADwPwAAAAAAAPA/AAAAAAAA8D8AAAAAAADwPwAAAAAAAPA/",
            "dtype": "f8"
           }
          },
          {
           "mode": "lines+markers",
           "name": "user_12",
           "type": "scatter",
           "x": {
            "bdata": "AAECAwQFBgcICQoLDA0ODxAR",
            "dtype": "i1"
           },
           "y": {
            "bdata": "AAAAAAAAAAAAAAAAAAAAAAAAAAAAAAAAAAAAAAAAAAAAAAAAAAAAAAAAAAAAAAAAAAAAAAAAAAAAAAAAAAAAAAAAAAAAAAAAAAAAAAAAAAAAAAAAAAAAAAAAAAAAAAAAAAAAAAAAAAAAAAAAAAAAAAAAAAAAAAAAAAAAAAAAAAAAAAAAAAAAAAAAAAAAABBA",
            "dtype": "f8"
           }
          },
          {
           "mode": "lines+markers",
           "name": "user_13",
           "type": "scatter",
           "x": {
            "bdata": "AAECAwQFBgcICQoLDA0ODxAR",
            "dtype": "i1"
           },
           "y": {
            "bdata": "AAAAAAAAAAAAAAAAAAAAAAAAAAAAAAAAAAAAAAAAAAAAAAAAAAAAAAAAAAAAAAAAAAAAAAAAAAAAAAAAAAAAAAAAAAAAAAAAAAAAAAAAAAAAAAAAAAAAAAAAAAAAAAAAAAAAAAAAAAAAAAAAAAAAAAAAAAAAAABAAAAAAAAAPkAAAAAAAAA+QAAAAAAAAEBA",
            "dtype": "f8"
           }
          },
          {
           "mode": "lines+markers",
           "name": "user_14",
           "type": "scatter",
           "x": {
            "bdata": "AAECAwQFBgcICQoLDA0ODxAR",
            "dtype": "i1"
           },
           "y": {
            "bdata": "AAAAAAAAAAAAAAAAAAAAAAAAAAAAAAAAAAAAAAAAAAAAAAAAAAAAAAAAAAAAAAAAAAAAAAAAAAAAAAAAAAAAAAAAAAAAAPA/AAAAAAAA8D8AAAAAAADwPwAAAAAAAPA/AAAAAAAAMkAAAAAAAAA5QAAAAAAAgEhAAAAAAAAAV0AAAAAAAABXQAAAAAAAwFhA",
            "dtype": "f8"
           }
          },
          {
           "mode": "lines+markers",
           "name": "user_15",
           "type": "scatter",
           "x": {
            "bdata": "AAECAwQFBgcICQoLDA0ODxAR",
            "dtype": "i1"
           },
           "y": {
            "bdata": "AAAAAAAAAAAAAAAAAAAAAAAAAAAAAAAAAAAAAAAAAAAAAAAAAAAAAAAAAAAAAAAAAAAAAAAAAAAAAAAAAAAAAAAAAAAAAAAAAAAAAAAAAAAAAAAAAAAAAAAAAAAAAAAAAAAAAAAAAAAAAAAAAAAAAAAAAAAAAAAAAAAAAAAAAAAAAAAAAAAAAAAAAAAAAAhA",
            "dtype": "f8"
           }
          },
          {
           "mode": "lines+markers",
           "name": "user_16",
           "type": "scatter",
           "x": {
            "bdata": "AAECAwQFBgcICQoLDA0ODxAR",
            "dtype": "i1"
           },
           "y": {
            "bdata": "AAAAAAAAAAAAAAAAAAAAAAAAAAAAAAAAAAAAAAAAAAAAAAAAAAAAAAAAAAAAAAAAAAAAAAAAAAAAAAAAAAAAAAAAAAAAAAAAAAAAAAAAAAAAAAAAAAAAAAAAAAAAAAAAAAAAAAAAAAAAAAAAAAAAAAAAAAAAAAAAAAAAAAAACEAAAAAAAAAIQAAAAAAAACRA",
            "dtype": "f8"
           }
          },
          {
           "mode": "lines+markers",
           "name": "user_17",
           "type": "scatter",
           "x": {
            "bdata": "AAECAwQFBgcICQoLDA0ODxAR",
            "dtype": "i1"
           },
           "y": {
            "bdata": "AAAAAAAAAAAAAAAAAADwPwAAAAAAAPA/AAAAAAAA8D8AAAAAAADwPwAAAAAAAPA/AAAAAAAA8D8AAAAAAADwPwAAAAAAAPA/AAAAAAAA8D8AAAAAAADwPwAAAAAAAPA/AAAAAAAA8D8AAAAAAADwPwAAAAAAAPA/AAAAAAAACEAAAAAAAAAIQAAAAAAAABhA",
            "dtype": "f8"
           }
          },
          {
           "mode": "lines+markers",
           "name": "user_18",
           "type": "scatter",
           "x": {
            "bdata": "AAECAwQFBgcICQoLDA0ODxAR",
            "dtype": "i1"
           },
           "y": {
            "bdata": "AAAAAAAAAAAAAAAAAAAAAAAAAAAAAAAAAAAAAAAAAAAAAAAAAAAAAAAAAAAAAAAAAAAAAAAAAAAAAAAAAAAAAAAAAAAAAAAAAAAAAAAAAAAAAAAAAAAAAAAAAAAAAAAAAAAAAAAAAAAAAAAAAAAAAAAAAAAAABxAAAAAAAAAHEAAAAAAAAAgQAAAAAAAAD9A",
            "dtype": "f8"
           }
          },
          {
           "mode": "lines+markers",
           "name": "user_19",
           "type": "scatter",
           "x": {
            "bdata": "AAECAwQFBgcICQoLDA0ODxAR",
            "dtype": "i1"
           },
           "y": {
            "bdata": "AAAAAAAAAAAAAAAAAAAAAAAAAAAAAAAAAAAAAAAAAAAAAAAAAAAAAAAAAAAAAAAAAAAAAAAAAAAAAAAAAAAAAAAAAAAAAAAAAAAAAAAAAAAAAAAAAAAAAAAAAAAAAAAAAAAAAAAAAAAAAAAAAAAAAAAAAAAAAAAAAAAAAAAAAAAAAAAAAAAAAAAAAAAAADlA",
            "dtype": "f8"
           }
          },
          {
           "mode": "lines+markers",
           "name": "user_2",
           "type": "scatter",
           "x": {
            "bdata": "AAECAwQFBgcICQoLDA0ODxAR",
            "dtype": "i1"
           },
           "y": {
            "bdata": "AAAAAAAAAAAAAAAAAAAAAAAAAAAAAAAAAAAAAAAAAAAAAAAAAAAAAAAAAAAAAAAAAAAAAAAAAAAAAAAAAAAAAAAAAAAAgExAAAAAAAAATUAAAAAAAABNQAAAAAAAAE1AAAAAAAAATUAAAAAAAABPQAAAAAAAgFJAAAAAAACAU0AAAAAAAEBXQAAAAAAAwFdA",
            "dtype": "f8"
           }
          },
          {
           "mode": "lines+markers",
           "name": "user_20",
           "type": "scatter",
           "x": {
            "bdata": "AAECAwQFBgcICQoLDA0ODxAR",
            "dtype": "i1"
           },
           "y": {
            "bdata": "AAAAAAAAAAAAAAAAAAAAAAAAAAAAAAAAAAAAAAAAAAAAAAAAAAAAAAAAAAAAAAAAAAAAAAAAAAAAAAAAAAAAAAAAAAAAAAAAAAAAAAAAAAAAAAAAAAAAAAAAAAAAAAAAAAAAAAAAAAAAAAAAAAAAAAAAAAAAACZAAAAAAAAAJkAAAAAAAAAmQAAAAAAAAEtA",
            "dtype": "f8"
           }
          },
          {
           "mode": "lines+markers",
           "name": "user_21",
           "type": "scatter",
           "x": {
            "bdata": "AAECAwQFBgcICQoLDA0ODxAR",
            "dtype": "i1"
           },
           "y": {
            "bdata": "AAAAAAAAAAAAAAAAAAAAAAAAAAAAAAAAAAAAAAAAAAAAAAAAAAAAAAAAAAAAAAAAAAAAAAAAAAAAAAAAAAAAAAAAAAAAAAAAAAAAAAAAAAAAAAAAAAAAAAAAAAAAAAAAAAAAAAAAAAAAAAAAAAAcQAAAAAAAABxAAAAAAAAAHEAAAAAAAAAcQAAAAAAAACJA",
            "dtype": "f8"
           }
          },
          {
           "mode": "lines+markers",
           "name": "user_22",
           "type": "scatter",
           "x": {
            "bdata": "AAECAwQFBgcICQoLDA0ODxAR",
            "dtype": "i1"
           },
           "y": {
            "bdata": "AAAAAAAAAAAAAAAAAAAAAAAAAAAAAAAAAAAAAAAAAAAAAAAAAAAAAAAAAAAAAAAAAAAAAAAA8D8AAAAAAADwPwAAAAAAAPA/AAAAAAAA8D8AAAAAAADwPwAAAAAAAPA/AAAAAAAA8D8AAAAAAADwPwAAAAAAAPA/AAAAAAAA8D8AAAAAAADwPwAAAAAAAABA",
            "dtype": "f8"
           }
          },
          {
           "mode": "lines+markers",
           "name": "user_24",
           "type": "scatter",
           "x": {
            "bdata": "AAECAwQFBgcICQoLDA0ODxAR",
            "dtype": "i1"
           },
           "y": {
            "bdata": "AAAAAAAAAAAAAAAAAAAAAAAAAAAAAAAAAAAAAAAAAAAAAAAAAAAAAAAAAAAAAAAAAAAAAAAAAAAAAAAAAAAAAAAAAAAAAAAAAAAAAAAAAAAAAAAAAAAAAAAAAAAAAAAAAAAAAAAAAAAAAAAAAAAAAAAAAAAAAAAAAAAAAAAAAAAAAAAAAAAiQAAAAAAAAEFA",
            "dtype": "f8"
           }
          },
          {
           "mode": "lines+markers",
           "name": "user_25",
           "type": "scatter",
           "x": {
            "bdata": "AAECAwQFBgcICQoLDA0ODxAR",
            "dtype": "i1"
           },
           "y": {
            "bdata": "AAAAAAAAAAAAAAAAAAAAAAAAAAAAAAAAAAAAAAAAAAAAAAAAAAAAAAAAAAAAAAAAAAAAAAAAAAAAAAAAAAAAAAAAAAAAAAAAAAAAAAAAAAAAAAAAAAAAAAAAAAAAABRAAAAAAAAAO0AAAAAAAAA9QAAAAAAAgEBAAAAAAAAAS0AAAAAAAIBMQAAAAAAAQFNA",
            "dtype": "f8"
           }
          },
          {
           "mode": "lines+markers",
           "name": "user_26",
           "type": "scatter",
           "x": {
            "bdata": "AAECAwQFBgcICQoLDA0ODxAR",
            "dtype": "i1"
           },
           "y": {
            "bdata": "AAAAAAAAAAAAAAAAAAAAAAAAAAAAAAAAAAAAAAAAAAAAAAAAAAAAAAAAAAAAAAAAAAAAAAAAAAAAAAAAAAAAAAAAAAAAAAAAAAAAAAAAAAAAAAAAAAAAAAAAAAAAAAAAAAAAAAAAAAAAAAAAAIBBQAAAAAAAgEFAAAAAAACAQUAAAAAAAABKQAAAAAAAwFBA",
            "dtype": "f8"
           }
          },
          {
           "mode": "lines+markers",
           "name": "user_27",
           "type": "scatter",
           "x": {
            "bdata": "AAECAwQFBgcICQoLDA0ODxAR",
            "dtype": "i1"
           },
           "y": {
            "bdata": "AAAAAAAAAAAAAAAAAAAAAAAAAAAAAAAAAAAAAAAAAAAAAAAAAAAAAAAAAAAAAAAAAAAAAAAAAAAAAAAAAAAAAAAAAAAAAAAAAAAAAAAAAAAAAAAAAAAAAAAAAAAAAAAAAAAAAAAAAAAAAAAAAAAAAAAAAAAAAAAAAAAAAAAAAAAAAAAAAAAAAAAAAAAAACBA",
            "dtype": "f8"
           }
          },
          {
           "mode": "lines+markers",
           "name": "user_28",
           "type": "scatter",
           "x": {
            "bdata": "AAECAwQFBgcICQoLDA0ODxAR",
            "dtype": "i1"
           },
           "y": {
            "bdata": "AAAAAAAAAAAAAAAAAAAAAAAAAAAAAAAAAAAAAAAAAAAAAAAAAAAAAAAAAAAAAAAAAAAAAAAAAAAAAAAAAAAAAAAAAAAAAAAAAAAAAAAAAAAAAAAAAAAAAAAAAAAAAAAAAAAAAAAAAAAAAAAAAAAAAAAAAAAAAAAAAAAAAAAAAEAAAAAAAAA0QAAAAAAAADpA",
            "dtype": "f8"
           }
          },
          {
           "mode": "lines+markers",
           "name": "user_29",
           "type": "scatter",
           "x": {
            "bdata": "AAECAwQFBgcICQoLDA0ODxAR",
            "dtype": "i1"
           },
           "y": {
            "bdata": "AAAAAAAAAAAAAAAAAAAAAAAAAAAAAAAAAAAAAAAAAAAAAAAAAAAAAAAAAAAAAAAAAAAAAAAAAAAAAAAAAAAAAAAAAAAAAAAAAAAAAAAAAAAAAAAAAAAAAAAAAAAAAAAAAAAAAAAAAAAAAAAAAAAAAAAAAAAAABRAAAAAAAAAMkAAAAAAAABBQAAAAAAAgEFA",
            "dtype": "f8"
           }
          },
          {
           "mode": "lines+markers",
           "name": "user_3",
           "type": "scatter",
           "x": {
            "bdata": "AAECAwQFBgcICQoLDA0ODxAR",
            "dtype": "i1"
           },
           "y": {
            "bdata": "AAAAAAAAAAAAAAAAAAAAAAAAAAAAAAAAAAAAAAAAAAAAAAAAAAAAAAAAAAAAAAAAAAAAAAAAAAAAAAAAAAAAAAAAAAAAAAAAAAAAAAAAAAAAAAAAAADwPwAAAAAAADxAAAAAAAAAPUAAAAAAAAA/QAAAAAAAAEtAAAAAAAAATEAAAAAAAABMQAAAAAAAAE1A",
            "dtype": "f8"
           }
          },
          {
           "mode": "lines+markers",
           "name": "user_30",
           "type": "scatter",
           "x": {
            "bdata": "AAECAwQFBgcICQoLDA0ODxAR",
            "dtype": "i1"
           },
           "y": {
            "bdata": "AAAAAAAAAAAAAAAAAAAAAAAAAAAAAAAAAAAAAAAA8D8AAAAAAAAAQAAAAAAAAABAAAAAAAAAEEAAAAAAAAAUQAAAAAAAABRAAAAAAAAAFEAAAAAAAAAoQAAAAAAAAChAAAAAAAAAKEAAAAAAAAAxQAAAAAAAADFAAAAAAAAAMUAAAAAAAAAxQAAAAAAAADNA",
            "dtype": "f8"
           }
          },
          {
           "mode": "lines+markers",
           "name": "user_31",
           "type": "scatter",
           "x": {
            "bdata": "AAECAwQFBgcICQoLDA0ODxAR",
            "dtype": "i1"
           },
           "y": {
            "bdata": "AAAAAAAAAAAAAAAAAAAAAAAAAAAAAAAAAAAAAAAAAAAAAAAAAAAAAAAAAAAAAAAAAAAAAAAAAAAAAAAAAAAAAAAAAAAAAAAAAAAAAAAAAAAAAAAAAADwPwAAAAAAAPA/AAAAAAAAEEAAAAAAAAAQQAAAAAAAABhAAAAAAAAAGEAAAAAAAAAYQAAAAAAAACBA",
            "dtype": "f8"
           }
          },
          {
           "mode": "lines+markers",
           "name": "user_4",
           "type": "scatter",
           "x": {
            "bdata": "AAECAwQFBgcICQoLDA0ODxAR",
            "dtype": "i1"
           },
           "y": {
            "bdata": "AAAAAAAAHEAAAAAAAAAcQAAAAAAAACZAAAAAAAAAJkAAAAAAAAA0QAAAAAAAADtAAAAAAACAQUAAAAAAAABIQAAAAAAAgEpAAAAAAACASkAAAAAAAMBRQAAAAAAAwFRAAAAAAADAVEAAAAAAAMBUQAAAAAAAwFVAAAAAAABAX0AAAAAAACBhQAAAAAAAgGRA",
            "dtype": "f8"
           }
          },
          {
           "mode": "lines+markers",
           "name": "user_6",
           "type": "scatter",
           "x": {
            "bdata": "AAECAwQFBgcICQoLDA0ODxAR",
            "dtype": "i1"
           },
           "y": {
            "bdata": "AAAAAAAAAAAAAAAAAAAAAAAAAAAAAAAAAAAAAAAAAAAAAAAAAAAAAAAAAAAAAAAAAAAAAAAAAAAAAAAAAAAAAAAAAAAAAAAAAAAAAAAAAAAAAAAAAAAAAAAAAAAAAAAAAAAAAAAAAAAAAAAAAAAAAAAAAAAAAAAAAAAAAAAAAAAAAAAAAADwPwAAAAAAAABA",
            "dtype": "f8"
           }
          },
          {
           "mode": "lines+markers",
           "name": "user_8",
           "type": "scatter",
           "x": {
            "bdata": "AAECAwQFBgcICQoLDA0ODxAR",
            "dtype": "i1"
           },
           "y": {
            "bdata": "AAAAAAAAAAAAAAAAAAAAAAAAAAAAAAAAAAAAAAAAAAAAAAAAAAAAAAAAAAAAAAAAAAAAAAAAAAAAAAAAAAAAAAAAAAAAAAAAAAAAAAAAAAAAAAAAAAAAAAAAAAAAAAAAAAAAAAAAAAAAAAAAAAAAAAAAAAAAAAAAAAAAAAAAAAAAAAAAAAAAAAAAAAAAACBA",
            "dtype": "f8"
           }
          }
         ]
        },
        {
         "data": [
          {
           "mode": "lines+markers",
           "name": "user_1",
           "type": "scatter",
           "x": {
            "bdata": "AAECAwQFBgcICQoLDA0ODxAREg==",
            "dtype": "i1"
           },
           "y": {
            "bdata": "AAAAAAAAAAAAAAAAAAAAAAAAAAAAAAAAAAAAAAAAAAAAAAAAAAAAAAAAAAAAAAAAAAAAAAAAAAAAAAAAAAAAAAAAAAAAAAAAAAAAAAAAAAAAAAAAAAAAAAAAAAAAAAAAAAAAAAAAAAAAAAAAAAAAAAAAAAAAAAAAAAAAAAAAAAAAAAAAAAAAAAAAAAAAACZAAAAAAAAAJkA=",
            "dtype": "f8"
           }
          },
          {
           "mode": "lines+markers",
           "name": "user_10",
           "type": "scatter",
           "x": {
            "bdata": "AAECAwQFBgcICQoLDA0ODxAREg==",
            "dtype": "i1"
           },
           "y": {
            "bdata": "AAAAAAAAAAAAAAAAAAAAAAAAAAAAAAAAAAAAAAAAAAAAAAAAAAAAAAAAAAAAAAAAAAAAAAAAAAAAAAAAAAAAAAAAAAAAAAAAAAAAAAAAAAAAAAAAAAAAAAAAAAAAAAAAAAAAAAAAAAAAAAAAAAAAAAAAAAAAAAAAAAAAAAAAHEAAAAAAAAA1QAAAAAAAgE1AAAAAAACATUA=",
            "dtype": "f8"
           }
          },
          {
           "mode": "lines+markers",
           "name": "user_11",
           "type": "scatter",
           "x": {
            "bdata": "AAECAwQFBgcICQoLDA0ODxAREg==",
            "dtype": "i1"
           },
           "y": {
            "bdata": "AAAAAAAAAAAAAAAAAAAAAAAAAAAAAAAAAAAAAAAAAAAAAAAAAAAAAAAAAAAAAAAAAAAAAAAA8D8AAAAAAADwPwAAAAAAAPA/AAAAAAAA8D8AAAAAAADwPwAAAAAAAPA/AAAAAAAA8D8AAAAAAADwPwAAAAAAAPA/AAAAAAAA8D8AAAAAAADwPwAAAAAAAPA/AAAAAAAA8D8=",
            "dtype": "f8"
           }
          },
          {
           "mode": "lines+markers",
           "name": "user_12",
           "type": "scatter",
           "x": {
            "bdata": "AAECAwQFBgcICQoLDA0ODxAREg==",
            "dtype": "i1"
           },
           "y": {
            "bdata": "AAAAAAAAAAAAAAAAAAAAAAAAAAAAAAAAAAAAAAAAAAAAAAAAAAAAAAAAAAAAAAAAAAAAAAAAAAAAAAAAAAAAAAAAAAAAAAAAAAAAAAAAAAAAAAAAAAAAAAAAAAAAAAAAAAAAAAAAAAAAAAAAAAAAAAAAAAAAAAAAAAAAAAAAAAAAAAAAAAAAAAAAAAAAABBAAAAAAAAAEEA=",
            "dtype": "f8"
           }
          },
          {
           "mode": "lines+markers",
           "name": "user_13",
           "type": "scatter",
           "x": {
            "bdata": "AAECAwQFBgcICQoLDA0ODxAREg==",
            "dtype": "i1"
           },
           "y": {
            "bdata": "AAAAAAAAAAAAAAAAAAAAAAAAAAAAAAAAAAAAAAAAAAAAAAAAAAAAAAAAAAAAAAAAAAAAAAAAAAAAAAAAAAAAAAAAAAAAAAAAAAAAAAAAAAAAAAAAAAAAAAAAAAAAAAAAAAAAAAAAAAAAAAAAAAAAAAAAAAAAAABAAAAAAAAAPkAAAAAAAAA+QAAAAAAAAEBAAAAAAAAAQEA=",
            "dtype": "f8"
           }
          },
          {
           "mode": "lines+markers",
           "name": "user_14",
           "type": "scatter",
           "x": {
            "bdata": "AAECAwQFBgcICQoLDA0ODxAREg==",
            "dtype": "i1"
           },
           "y": {
            "bdata": "AAAAAAAAAAAAAAAAAAAAAAAAAAAAAAAAAAAAAAAAAAAAAAAAAAAAAAAAAAAAAAAAAAAAAAAAAAAAAAAAAAAAAAAAAAAAAPA/AAAAAAAA8D8AAAAAAADwPwAAAAAAAPA/AAAAAAAAMkAAAAAAAAA5QAAAAAAAgEhAAAAAAAAAV0AAAAAAAABXQAAAAAAAwFhAAAAAAADAWEA=",
            "dtype": "f8"
           }
          },
          {
           "mode": "lines+markers",
           "name": "user_15",
           "type": "scatter",
           "x": {
            "bdata": "AAECAwQFBgcICQoLDA0ODxAREg==",
            "dtype": "i1"
           },
           "y": {
            "bdata": "AAAAAAAAAAAAAAAAAAAAAAAAAAAAAAAAAAAAAAAAAAAAAAAAAAAAAAAAAAAAAAAAAAAAAAAAAAAAAAAAAAAAAAAAAAAAAAAAAAAAAAAAAAAAAAAAAAAAAAAAAAAAAAAAAAAAAAAAAAAAAAAAAAAAAAAAAAAAAAAAAAAAAAAAAAAAAAAAAAAAAAAAAAAAAAhAAAAAAAAACEA=",
            "dtype": "f8"
           }
          },
          {
           "mode": "lines+markers",
           "name": "user_16",
           "type": "scatter",
           "x": {
            "bdata": "AAECAwQFBgcICQoLDA0ODxAREg==",
            "dtype": "i1"
           },
           "y": {
            "bdata": "AAAAAAAAAAAAAAAAAAAAAAAAAAAAAAAAAAAAAAAAAAAAAAAAAAAAAAAAAAAAAAAAAAAAAAAAAAAAAAAAAAAAAAAAAAAAAAAAAAAAAAAAAAAAAAAAAAAAAAAAAAAAAAAAAAAAAAAAAAAAAAAAAAAAAAAAAAAAAAAAAAAAAAAACEAAAAAAAAAIQAAAAAAAACRAAAAAAAAAJEA=",
            "dtype": "f8"
           }
          },
          {
           "mode": "lines+markers",
           "name": "user_17",
           "type": "scatter",
           "x": {
            "bdata": "AAECAwQFBgcICQoLDA0ODxAREg==",
            "dtype": "i1"
           },
           "y": {
            "bdata": "AAAAAAAAAAAAAAAAAADwPwAAAAAAAPA/AAAAAAAA8D8AAAAAAADwPwAAAAAAAPA/AAAAAAAA8D8AAAAAAADwPwAAAAAAAPA/AAAAAAAA8D8AAAAAAADwPwAAAAAAAPA/AAAAAAAA8D8AAAAAAADwPwAAAAAAAPA/AAAAAAAACEAAAAAAAAAIQAAAAAAAABhAAAAAAAAAGEA=",
            "dtype": "f8"
           }
          },
          {
           "mode": "lines+markers",
           "name": "user_18",
           "type": "scatter",
           "x": {
            "bdata": "AAECAwQFBgcICQoLDA0ODxAREg==",
            "dtype": "i1"
           },
           "y": {
            "bdata": "AAAAAAAAAAAAAAAAAAAAAAAAAAAAAAAAAAAAAAAAAAAAAAAAAAAAAAAAAAAAAAAAAAAAAAAAAAAAAAAAAAAAAAAAAAAAAAAAAAAAAAAAAAAAAAAAAAAAAAAAAAAAAAAAAAAAAAAAAAAAAAAAAAAAAAAAAAAAABxAAAAAAAAAHEAAAAAAAAAgQAAAAAAAAD9AAAAAAAAAP0A=",
            "dtype": "f8"
           }
          },
          {
           "mode": "lines+markers",
           "name": "user_19",
           "type": "scatter",
           "x": {
            "bdata": "AAECAwQFBgcICQoLDA0ODxAREg==",
            "dtype": "i1"
           },
           "y": {
            "bdata": "AAAAAAAAAAAAAAAAAAAAAAAAAAAAAAAAAAAAAAAAAAAAAAAAAAAAAAAAAAAAAAAAAAAAAAAAAAAAAAAAAAAAAAAAAAAAAAAAAAAAAAAAAAAAAAAAAAAAAAAAAAAAAAAAAAAAAAAAAAAAAAAAAAAAAAAAAAAAAAAAAAAAAAAAAAAAAAAAAAAAAAAAAAAAADlAAAAAAAAAPUA=",
            "dtype": "f8"
           }
          },
          {
           "mode": "lines+markers",
           "name": "user_2",
           "type": "scatter",
           "x": {
            "bdata": "AAECAwQFBgcICQoLDA0ODxAREg==",
            "dtype": "i1"
           },
           "y": {
            "bdata": "AAAAAAAAAAAAAAAAAAAAAAAAAAAAAAAAAAAAAAAAAAAAAAAAAAAAAAAAAAAAAAAAAAAAAAAAAAAAAAAAAAAAAAAAAAAAgExAAAAAAAAATUAAAAAAAABNQAAAAAAAAE1AAAAAAAAATUAAAAAAAABPQAAAAAAAgFJAAAAAAACAU0AAAAAAAEBXQAAAAAAAwFdAAAAAAADAV0A=",
            "dtype": "f8"
           }
          },
          {
           "mode": "lines+markers",
           "name": "user_20",
           "type": "scatter",
           "x": {
            "bdata": "AAECAwQFBgcICQoLDA0ODxAREg==",
            "dtype": "i1"
           },
           "y": {
            "bdata": "AAAAAAAAAAAAAAAAAAAAAAAAAAAAAAAAAAAAAAAAAAAAAAAAAAAAAAAAAAAAAAAAAAAAAAAAAAAAAAAAAAAAAAAAAAAAAAAAAAAAAAAAAAAAAAAAAAAAAAAAAAAAAAAAAAAAAAAAAAAAAAAAAAAAAAAAAAAAACZAAAAAAAAAJkAAAAAAAAAmQAAAAAAAAEtAAAAAAAAAS0A=",
            "dtype": "f8"
           }
          },
          {
           "mode": "lines+markers",
           "name": "user_21",
           "type": "scatter",
           "x": {
            "bdata": "AAECAwQFBgcICQoLDA0ODxAREg==",
            "dtype": "i1"
           },
           "y": {
            "bdata": "AAAAAAAAAAAAAAAAAAAAAAAAAAAAAAAAAAAAAAAAAAAAAAAAAAAAAAAAAAAAAAAAAAAAAAAAAAAAAAAAAAAAAAAAAAAAAAAAAAAAAAAAAAAAAAAAAAAAAAAAAAAAAAAAAAAAAAAAAAAAAAAAAAAcQAAAAAAAABxAAAAAAAAAHEAAAAAAAAAcQAAAAAAAACJAAAAAAAAAIkA=",
            "dtype": "f8"
           }
          },
          {
           "mode": "lines+markers",
           "name": "user_22",
           "type": "scatter",
           "x": {
            "bdata": "AAECAwQFBgcICQoLDA0ODxAREg==",
            "dtype": "i1"
           },
           "y": {
            "bdata": "AAAAAAAAAAAAAAAAAAAAAAAAAAAAAAAAAAAAAAAAAAAAAAAAAAAAAAAAAAAAAAAAAAAAAAAA8D8AAAAAAADwPwAAAAAAAPA/AAAAAAAA8D8AAAAAAADwPwAAAAAAAPA/AAAAAAAA8D8AAAAAAADwPwAAAAAAAPA/AAAAAAAA8D8AAAAAAADwPwAAAAAAAABAAAAAAAAAAEA=",
            "dtype": "f8"
           }
          },
          {
           "mode": "lines+markers",
           "name": "user_24",
           "type": "scatter",
           "x": {
            "bdata": "AAECAwQFBgcICQoLDA0ODxAREg==",
            "dtype": "i1"
           },
           "y": {
            "bdata": "AAAAAAAAAAAAAAAAAAAAAAAAAAAAAAAAAAAAAAAAAAAAAAAAAAAAAAAAAAAAAAAAAAAAAAAAAAAAAAAAAAAAAAAAAAAAAAAAAAAAAAAAAAAAAAAAAAAAAAAAAAAAAAAAAAAAAAAAAAAAAAAAAAAAAAAAAAAAAAAAAAAAAAAAAAAAAAAAAAAiQAAAAAAAAEFAAAAAAAAAQUA=",
            "dtype": "f8"
           }
          },
          {
           "mode": "lines+markers",
           "name": "user_25",
           "type": "scatter",
           "x": {
            "bdata": "AAECAwQFBgcICQoLDA0ODxAREg==",
            "dtype": "i1"
           },
           "y": {
            "bdata": "AAAAAAAAAAAAAAAAAAAAAAAAAAAAAAAAAAAAAAAAAAAAAAAAAAAAAAAAAAAAAAAAAAAAAAAAAAAAAAAAAAAAAAAAAAAAAAAAAAAAAAAAAAAAAAAAAAAAAAAAAAAAABRAAAAAAAAAO0AAAAAAAAA9QAAAAAAAgEBAAAAAAAAAS0AAAAAAAIBMQAAAAAAAQFNAAAAAAABAU0A=",
            "dtype": "f8"
           }
          },
          {
           "mode": "lines+markers",
           "name": "user_26",
           "type": "scatter",
           "x": {
            "bdata": "AAECAwQFBgcICQoLDA0ODxAREg==",
            "dtype": "i1"
           },
           "y": {
            "bdata": "AAAAAAAAAAAAAAAAAAAAAAAAAAAAAAAAAAAAAAAAAAAAAAAAAAAAAAAAAAAAAAAAAAAAAAAAAAAAAAAAAAAAAAAAAAAAAAAAAAAAAAAAAAAAAAAAAAAAAAAAAAAAAAAAAAAAAAAAAAAAAAAAAIBBQAAAAAAAgEFAAAAAAACAQUAAAAAAAABKQAAAAAAAwFBAAAAAAADAUEA=",
            "dtype": "f8"
           }
          },
          {
           "mode": "lines+markers",
           "name": "user_27",
           "type": "scatter",
           "x": {
            "bdata": "AAECAwQFBgcICQoLDA0ODxAREg==",
            "dtype": "i1"
           },
           "y": {
            "bdata": "AAAAAAAAAAAAAAAAAAAAAAAAAAAAAAAAAAAAAAAAAAAAAAAAAAAAAAAAAAAAAAAAAAAAAAAAAAAAAAAAAAAAAAAAAAAAAAAAAAAAAAAAAAAAAAAAAAAAAAAAAAAAAAAAAAAAAAAAAAAAAAAAAAAAAAAAAAAAAAAAAAAAAAAAAAAAAAAAAAAAAAAAAAAAACBAAAAAAAAAIEA=",
            "dtype": "f8"
           }
          },
          {
           "mode": "lines+markers",
           "name": "user_28",
           "type": "scatter",
           "x": {
            "bdata": "AAECAwQFBgcICQoLDA0ODxAREg==",
            "dtype": "i1"
           },
           "y": {
            "bdata": "AAAAAAAAAAAAAAAAAAAAAAAAAAAAAAAAAAAAAAAAAAAAAAAAAAAAAAAAAAAAAAAAAAAAAAAAAAAAAAAAAAAAAAAAAAAAAAAAAAAAAAAAAAAAAAAAAAAAAAAAAAAAAAAAAAAAAAAAAAAAAAAAAAAAAAAAAAAAAAAAAAAAAAAAAEAAAAAAAAA0QAAAAAAAADpAAAAAAAAAO0A=",
            "dtype": "f8"
           }
          },
          {
           "mode": "lines+markers",
           "name": "user_29",
           "type": "scatter",
           "x": {
            "bdata": "AAECAwQFBgcICQoLDA0ODxAREg==",
            "dtype": "i1"
           },
           "y": {
            "bdata": "AAAAAAAAAAAAAAAAAAAAAAAAAAAAAAAAAAAAAAAAAAAAAAAAAAAAAAAAAAAAAAAAAAAAAAAAAAAAAAAAAAAAAAAAAAAAAAAAAAAAAAAAAAAAAAAAAAAAAAAAAAAAAAAAAAAAAAAAAAAAAAAAAAAAAAAAAAAAABRAAAAAAAAAMkAAAAAAAABBQAAAAAAAgEFAAAAAAACAQUA=",
            "dtype": "f8"
           }
          },
          {
           "mode": "lines+markers",
           "name": "user_3",
           "type": "scatter",
           "x": {
            "bdata": "AAECAwQFBgcICQoLDA0ODxAREg==",
            "dtype": "i1"
           },
           "y": {
            "bdata": "AAAAAAAAAAAAAAAAAAAAAAAAAAAAAAAAAAAAAAAAAAAAAAAAAAAAAAAAAAAAAAAAAAAAAAAAAAAAAAAAAAAAAAAAAAAAAAAAAAAAAAAAAAAAAAAAAADwPwAAAAAAADxAAAAAAAAAPUAAAAAAAAA/QAAAAAAAAEtAAAAAAAAATEAAAAAAAABMQAAAAAAAAE1AAAAAAAAATUA=",
            "dtype": "f8"
           }
          },
          {
           "mode": "lines+markers",
           "name": "user_30",
           "type": "scatter",
           "x": {
            "bdata": "AAECAwQFBgcICQoLDA0ODxAREg==",
            "dtype": "i1"
           },
           "y": {
            "bdata": "AAAAAAAAAAAAAAAAAAAAAAAAAAAAAAAAAAAAAAAA8D8AAAAAAAAAQAAAAAAAAABAAAAAAAAAEEAAAAAAAAAUQAAAAAAAABRAAAAAAAAAFEAAAAAAAAAoQAAAAAAAAChAAAAAAAAAKEAAAAAAAAAxQAAAAAAAADFAAAAAAAAAMUAAAAAAAAAxQAAAAAAAADNAAAAAAAAAM0A=",
            "dtype": "f8"
           }
          },
          {
           "mode": "lines+markers",
           "name": "user_31",
           "type": "scatter",
           "x": {
            "bdata": "AAECAwQFBgcICQoLDA0ODxAREg==",
            "dtype": "i1"
           },
           "y": {
            "bdata": "AAAAAAAAAAAAAAAAAAAAAAAAAAAAAAAAAAAAAAAAAAAAAAAAAAAAAAAAAAAAAAAAAAAAAAAAAAAAAAAAAAAAAAAAAAAAAAAAAAAAAAAAAAAAAAAAAADwPwAAAAAAAPA/AAAAAAAAEEAAAAAAAAAQQAAAAAAAABhAAAAAAAAAGEAAAAAAAAAYQAAAAAAAACBAAAAAAAAAIEA=",
            "dtype": "f8"
           }
          },
          {
           "mode": "lines+markers",
           "name": "user_4",
           "type": "scatter",
           "x": {
            "bdata": "AAECAwQFBgcICQoLDA0ODxAREg==",
            "dtype": "i1"
           },
           "y": {
            "bdata": "AAAAAAAAHEAAAAAAAAAcQAAAAAAAACZAAAAAAAAAJkAAAAAAAAA0QAAAAAAAADtAAAAAAACAQUAAAAAAAABIQAAAAAAAgEpAAAAAAACASkAAAAAAAMBRQAAAAAAAwFRAAAAAAADAVEAAAAAAAMBUQAAAAAAAwFVAAAAAAABAX0AAAAAAACBhQAAAAAAAgGRAAAAAAACAZEA=",
            "dtype": "f8"
           }
          },
          {
           "mode": "lines+markers",
           "name": "user_6",
           "type": "scatter",
           "x": {
            "bdata": "AAECAwQFBgcICQoLDA0ODxAREg==",
            "dtype": "i1"
           },
           "y": {
            "bdata": "AAAAAAAAAAAAAAAAAAAAAAAAAAAAAAAAAAAAAAAAAAAAAAAAAAAAAAAAAAAAAAAAAAAAAAAAAAAAAAAAAAAAAAAAAAAAAAAAAAAAAAAAAAAAAAAAAAAAAAAAAAAAAAAAAAAAAAAAAAAAAAAAAAAAAAAAAAAAAAAAAAAAAAAAAAAAAAAAAADwPwAAAAAAAABAAAAAAAAAAEA=",
            "dtype": "f8"
           }
          },
          {
           "mode": "lines+markers",
           "name": "user_8",
           "type": "scatter",
           "x": {
            "bdata": "AAECAwQFBgcICQoLDA0ODxAREg==",
            "dtype": "i1"
           },
           "y": {
            "bdata": "AAAAAAAAAAAAAAAAAAAAAAAAAAAAAAAAAAAAAAAAAAAAAAAAAAAAAAAAAAAAAAAAAAAAAAAAAAAAAAAAAAAAAAAAAAAAAAAAAAAAAAAAAAAAAAAAAAAAAAAAAAAAAAAAAAAAAAAAAAAAAAAAAAAAAAAAAAAAAAAAAAAAAAAAAAAAAAAAAAAAAAAAAAAAACBAAAAAAAAAIEA=",
            "dtype": "f8"
           }
          }
         ]
        },
        {
         "data": [
          {
           "mode": "lines+markers",
           "name": "user_1",
           "type": "scatter",
           "x": {
            "bdata": "AAECAwQFBgcICQoLDA0ODxAREhM=",
            "dtype": "i1"
           },
           "y": {
            "bdata": "AAAAAAAAAAAAAAAAAAAAAAAAAAAAAAAAAAAAAAAAAAAAAAAAAAAAAAAAAAAAAAAAAAAAAAAAAAAAAAAAAAAAAAAAAAAAAAAAAAAAAAAAAAAAAAAAAAAAAAAAAAAAAAAAAAAAAAAAAAAAAAAAAAAAAAAAAAAAAAAAAAAAAAAAAAAAAAAAAAAAAAAAAAAAACZAAAAAAAAAJkA=",
            "dtype": "f8"
           }
          },
          {
           "mode": "lines+markers",
           "name": "user_10",
           "type": "scatter",
           "x": {
            "bdata": "AAECAwQFBgcICQoLDA0ODxAREhM=",
            "dtype": "i1"
           },
           "y": {
            "bdata": "AAAAAAAAAAAAAAAAAAAAAAAAAAAAAAAAAAAAAAAAAAAAAAAAAAAAAAAAAAAAAAAAAAAAAAAAAAAAAAAAAAAAAAAAAAAAAAAAAAAAAAAAAAAAAAAAAAAAAAAAAAAAAAAAAAAAAAAAAAAAAAAAAAAAAAAAAAAAAAAAAAAAAAAAHEAAAAAAAAA1QAAAAAAAgE1AAAAAAACATUA=",
            "dtype": "f8"
           }
          },
          {
           "mode": "lines+markers",
           "name": "user_11",
           "type": "scatter",
           "x": {
            "bdata": "AAECAwQFBgcICQoLDA0ODxAREhM=",
            "dtype": "i1"
           },
           "y": {
            "bdata": "AAAAAAAAAAAAAAAAAAAAAAAAAAAAAAAAAAAAAAAAAAAAAAAAAAAAAAAAAAAAAAAAAAAAAAAA8D8AAAAAAADwPwAAAAAAAPA/AAAAAAAA8D8AAAAAAADwPwAAAAAAAPA/AAAAAAAA8D8AAAAAAADwPwAAAAAAAPA/AAAAAAAA8D8AAAAAAADwPwAAAAAAAPA/AAAAAAAA8D8=",
            "dtype": "f8"
           }
          },
          {
           "mode": "lines+markers",
           "name": "user_12",
           "type": "scatter",
           "x": {
            "bdata": "AAECAwQFBgcICQoLDA0ODxAREhM=",
            "dtype": "i1"
           },
           "y": {
            "bdata": "AAAAAAAAAAAAAAAAAAAAAAAAAAAAAAAAAAAAAAAAAAAAAAAAAAAAAAAAAAAAAAAAAAAAAAAAAAAAAAAAAAAAAAAAAAAAAAAAAAAAAAAAAAAAAAAAAAAAAAAAAAAAAAAAAAAAAAAAAAAAAAAAAAAAAAAAAAAAAAAAAAAAAAAAAAAAAAAAAAAAAAAAAAAAABBAAAAAAAAAEEA=",
            "dtype": "f8"
           }
          },
          {
           "mode": "lines+markers",
           "name": "user_13",
           "type": "scatter",
           "x": {
            "bdata": "AAECAwQFBgcICQoLDA0ODxAREhM=",
            "dtype": "i1"
           },
           "y": {
            "bdata": "AAAAAAAAAAAAAAAAAAAAAAAAAAAAAAAAAAAAAAAAAAAAAAAAAAAAAAAAAAAAAAAAAAAAAAAAAAAAAAAAAAAAAAAAAAAAAAAAAAAAAAAAAAAAAAAAAAAAAAAAAAAAAAAAAAAAAAAAAAAAAAAAAAAAAAAAAAAAAABAAAAAAAAAPkAAAAAAAAA+QAAAAAAAAEBAAAAAAAAAQEA=",
            "dtype": "f8"
           }
          },
          {
           "mode": "lines+markers",
           "name": "user_14",
           "type": "scatter",
           "x": {
            "bdata": "AAECAwQFBgcICQoLDA0ODxAREhM=",
            "dtype": "i1"
           },
           "y": {
            "bdata": "AAAAAAAAAAAAAAAAAAAAAAAAAAAAAAAAAAAAAAAAAAAAAAAAAAAAAAAAAAAAAAAAAAAAAAAAAAAAAAAAAAAAAAAAAAAAAPA/AAAAAAAA8D8AAAAAAADwPwAAAAAAAPA/AAAAAAAAMkAAAAAAAAA5QAAAAAAAgEhAAAAAAAAAV0AAAAAAAABXQAAAAAAAwFhAAAAAAADAWEA=",
            "dtype": "f8"
           }
          },
          {
           "mode": "lines+markers",
           "name": "user_15",
           "type": "scatter",
           "x": {
            "bdata": "AAECAwQFBgcICQoLDA0ODxAREhM=",
            "dtype": "i1"
           },
           "y": {
            "bdata": "AAAAAAAAAAAAAAAAAAAAAAAAAAAAAAAAAAAAAAAAAAAAAAAAAAAAAAAAAAAAAAAAAAAAAAAAAAAAAAAAAAAAAAAAAAAAAAAAAAAAAAAAAAAAAAAAAAAAAAAAAAAAAAAAAAAAAAAAAAAAAAAAAAAAAAAAAAAAAAAAAAAAAAAAAAAAAAAAAAAAAAAAAAAAAAhAAAAAAAAACEA=",
            "dtype": "f8"
           }
          },
          {
           "mode": "lines+markers",
           "name": "user_16",
           "type": "scatter",
           "x": {
            "bdata": "AAECAwQFBgcICQoLDA0ODxAREhM=",
            "dtype": "i1"
           },
           "y": {
            "bdata": "AAAAAAAAAAAAAAAAAAAAAAAAAAAAAAAAAAAAAAAAAAAAAAAAAAAAAAAAAAAAAAAAAAAAAAAAAAAAAAAAAAAAAAAAAAAAAAAAAAAAAAAAAAAAAAAAAAAAAAAAAAAAAAAAAAAAAAAAAAAAAAAAAAAAAAAAAAAAAAAAAAAAAAAACEAAAAAAAAAIQAAAAAAAACRAAAAAAAAAJEA=",
            "dtype": "f8"
           }
          },
          {
           "mode": "lines+markers",
           "name": "user_17",
           "type": "scatter",
           "x": {
            "bdata": "AAECAwQFBgcICQoLDA0ODxAREhM=",
            "dtype": "i1"
           },
           "y": {
            "bdata": "AAAAAAAAAAAAAAAAAADwPwAAAAAAAPA/AAAAAAAA8D8AAAAAAADwPwAAAAAAAPA/AAAAAAAA8D8AAAAAAADwPwAAAAAAAPA/AAAAAAAA8D8AAAAAAADwPwAAAAAAAPA/AAAAAAAA8D8AAAAAAADwPwAAAAAAAPA/AAAAAAAACEAAAAAAAAAIQAAAAAAAABhAAAAAAAAAGEA=",
            "dtype": "f8"
           }
          },
          {
           "mode": "lines+markers",
           "name": "user_18",
           "type": "scatter",
           "x": {
            "bdata": "AAECAwQFBgcICQoLDA0ODxAREhM=",
            "dtype": "i1"
           },
           "y": {
            "bdata": "AAAAAAAAAAAAAAAAAAAAAAAAAAAAAAAAAAAAAAAAAAAAAAAAAAAAAAAAAAAAAAAAAAAAAAAAAAAAAAAAAAAAAAAAAAAAAAAAAAAAAAAAAAAAAAAAAAAAAAAAAAAAAAAAAAAAAAAAAAAAAAAAAAAAAAAAAAAAABxAAAAAAAAAHEAAAAAAAAAgQAAAAAAAAD9AAAAAAAAAP0A=",
            "dtype": "f8"
           }
          },
          {
           "mode": "lines+markers",
           "name": "user_19",
           "type": "scatter",
           "x": {
            "bdata": "AAECAwQFBgcICQoLDA0ODxAREhM=",
            "dtype": "i1"
           },
           "y": {
            "bdata": "AAAAAAAAAAAAAAAAAAAAAAAAAAAAAAAAAAAAAAAAAAAAAAAAAAAAAAAAAAAAAAAAAAAAAAAAAAAAAAAAAAAAAAAAAAAAAAAAAAAAAAAAAAAAAAAAAAAAAAAAAAAAAAAAAAAAAAAAAAAAAAAAAAAAAAAAAAAAAAAAAAAAAAAAAAAAAAAAAAAAAAAAAAAAADlAAAAAAAAAPUA=",
            "dtype": "f8"
           }
          },
          {
           "mode": "lines+markers",
           "name": "user_2",
           "type": "scatter",
           "x": {
            "bdata": "AAECAwQFBgcICQoLDA0ODxAREhM=",
            "dtype": "i1"
           },
           "y": {
            "bdata": "AAAAAAAAAAAAAAAAAAAAAAAAAAAAAAAAAAAAAAAAAAAAAAAAAAAAAAAAAAAAAAAAAAAAAAAAAAAAAAAAAAAAAAAAAAAAgExAAAAAAAAATUAAAAAAAABNQAAAAAAAAE1AAAAAAAAATUAAAAAAAABPQAAAAAAAgFJAAAAAAACAU0AAAAAAAEBXQAAAAAAAwFdAAAAAAADAV0A=",
            "dtype": "f8"
           }
          },
          {
           "mode": "lines+markers",
           "name": "user_20",
           "type": "scatter",
           "x": {
            "bdata": "AAECAwQFBgcICQoLDA0ODxAREhM=",
            "dtype": "i1"
           },
           "y": {
            "bdata": "AAAAAAAAAAAAAAAAAAAAAAAAAAAAAAAAAAAAAAAAAAAAAAAAAAAAAAAAAAAAAAAAAAAAAAAAAAAAAAAAAAAAAAAAAAAAAAAAAAAAAAAAAAAAAAAAAAAAAAAAAAAAAAAAAAAAAAAAAAAAAAAAAAAAAAAAAAAAACZAAAAAAAAAJkAAAAAAAAAmQAAAAAAAAEtAAAAAAAAAS0A=",
            "dtype": "f8"
           }
          },
          {
           "mode": "lines+markers",
           "name": "user_21",
           "type": "scatter",
           "x": {
            "bdata": "AAECAwQFBgcICQoLDA0ODxAREhM=",
            "dtype": "i1"
           },
           "y": {
            "bdata": "AAAAAAAAAAAAAAAAAAAAAAAAAAAAAAAAAAAAAAAAAAAAAAAAAAAAAAAAAAAAAAAAAAAAAAAAAAAAAAAAAAAAAAAAAAAAAAAAAAAAAAAAAAAAAAAAAAAAAAAAAAAAAAAAAAAAAAAAAAAAAAAAAAAcQAAAAAAAABxAAAAAAAAAHEAAAAAAAAAcQAAAAAAAACJAAAAAAAAAIkA=",
            "dtype": "f8"
           }
          },
          {
           "mode": "lines+markers",
           "name": "user_22",
           "type": "scatter",
           "x": {
            "bdata": "AAECAwQFBgcICQoLDA0ODxAREhM=",
            "dtype": "i1"
           },
           "y": {
            "bdata": "AAAAAAAAAAAAAAAAAAAAAAAAAAAAAAAAAAAAAAAAAAAAAAAAAAAAAAAAAAAAAAAAAAAAAAAA8D8AAAAAAADwPwAAAAAAAPA/AAAAAAAA8D8AAAAAAADwPwAAAAAAAPA/AAAAAAAA8D8AAAAAAADwPwAAAAAAAPA/AAAAAAAA8D8AAAAAAADwPwAAAAAAAABAAAAAAAAAAEA=",
            "dtype": "f8"
           }
          },
          {
           "mode": "lines+markers",
           "name": "user_24",
           "type": "scatter",
           "x": {
            "bdata": "AAECAwQFBgcICQoLDA0ODxAREhM=",
            "dtype": "i1"
           },
           "y": {
            "bdata": "AAAAAAAAAAAAAAAAAAAAAAAAAAAAAAAAAAAAAAAAAAAAAAAAAAAAAAAAAAAAAAAAAAAAAAAAAAAAAAAAAAAAAAAAAAAAAAAAAAAAAAAAAAAAAAAAAAAAAAAAAAAAAAAAAAAAAAAAAAAAAAAAAAAAAAAAAAAAAAAAAAAAAAAAAAAAAAAAAAAiQAAAAAAAAEFAAAAAAAAAQUA=",
            "dtype": "f8"
           }
          },
          {
           "mode": "lines+markers",
           "name": "user_25",
           "type": "scatter",
           "x": {
            "bdata": "AAECAwQFBgcICQoLDA0ODxAREhM=",
            "dtype": "i1"
           },
           "y": {
            "bdata": "AAAAAAAAAAAAAAAAAAAAAAAAAAAAAAAAAAAAAAAAAAAAAAAAAAAAAAAAAAAAAAAAAAAAAAAAAAAAAAAAAAAAAAAAAAAAAAAAAAAAAAAAAAAAAAAAAAAAAAAAAAAAABRAAAAAAAAAO0AAAAAAAAA9QAAAAAAAgEBAAAAAAAAAS0AAAAAAAIBMQAAAAAAAQFNAAAAAAABAU0A=",
            "dtype": "f8"
           }
          },
          {
           "mode": "lines+markers",
           "name": "user_26",
           "type": "scatter",
           "x": {
            "bdata": "AAECAwQFBgcICQoLDA0ODxAREhM=",
            "dtype": "i1"
           },
           "y": {
            "bdata": "AAAAAAAAAAAAAAAAAAAAAAAAAAAAAAAAAAAAAAAAAAAAAAAAAAAAAAAAAAAAAAAAAAAAAAAAAAAAAAAAAAAAAAAAAAAAAAAAAAAAAAAAAAAAAAAAAAAAAAAAAAAAAAAAAAAAAAAAAAAAAAAAAIBBQAAAAAAAgEFAAAAAAACAQUAAAAAAAABKQAAAAAAAwFBAAAAAAADAUEA=",
            "dtype": "f8"
           }
          },
          {
           "mode": "lines+markers",
           "name": "user_27",
           "type": "scatter",
           "x": {
            "bdata": "AAECAwQFBgcICQoLDA0ODxAREhM=",
            "dtype": "i1"
           },
           "y": {
            "bdata": "AAAAAAAAAAAAAAAAAAAAAAAAAAAAAAAAAAAAAAAAAAAAAAAAAAAAAAAAAAAAAAAAAAAAAAAAAAAAAAAAAAAAAAAAAAAAAAAAAAAAAAAAAAAAAAAAAAAAAAAAAAAAAAAAAAAAAAAAAAAAAAAAAAAAAAAAAAAAAAAAAAAAAAAAAAAAAAAAAAAAAAAAAAAAACBAAAAAAAAAIEA=",
            "dtype": "f8"
           }
          },
          {
           "mode": "lines+markers",
           "name": "user_28",
           "type": "scatter",
           "x": {
            "bdata": "AAECAwQFBgcICQoLDA0ODxAREhM=",
            "dtype": "i1"
           },
           "y": {
            "bdata": "AAAAAAAAAAAAAAAAAAAAAAAAAAAAAAAAAAAAAAAAAAAAAAAAAAAAAAAAAAAAAAAAAAAAAAAAAAAAAAAAAAAAAAAAAAAAAAAAAAAAAAAAAAAAAAAAAAAAAAAAAAAAAAAAAAAAAAAAAAAAAAAAAAAAAAAAAAAAAAAAAAAAAAAAAEAAAAAAAAA0QAAAAAAAADpAAAAAAAAAO0A=",
            "dtype": "f8"
           }
          },
          {
           "mode": "lines+markers",
           "name": "user_29",
           "type": "scatter",
           "x": {
            "bdata": "AAECAwQFBgcICQoLDA0ODxAREhM=",
            "dtype": "i1"
           },
           "y": {
            "bdata": "AAAAAAAAAAAAAAAAAAAAAAAAAAAAAAAAAAAAAAAAAAAAAAAAAAAAAAAAAAAAAAAAAAAAAAAAAAAAAAAAAAAAAAAAAAAAAAAAAAAAAAAAAAAAAAAAAAAAAAAAAAAAAAAAAAAAAAAAAAAAAAAAAAAAAAAAAAAAABRAAAAAAAAAMkAAAAAAAABBQAAAAAAAgEFAAAAAAACAQUA=",
            "dtype": "f8"
           }
          },
          {
           "mode": "lines+markers",
           "name": "user_3",
           "type": "scatter",
           "x": {
            "bdata": "AAECAwQFBgcICQoLDA0ODxAREhM=",
            "dtype": "i1"
           },
           "y": {
            "bdata": "AAAAAAAAAAAAAAAAAAAAAAAAAAAAAAAAAAAAAAAAAAAAAAAAAAAAAAAAAAAAAAAAAAAAAAAAAAAAAAAAAAAAAAAAAAAAAAAAAAAAAAAAAAAAAAAAAADwPwAAAAAAADxAAAAAAAAAPUAAAAAAAAA/QAAAAAAAAEtAAAAAAAAATEAAAAAAAABMQAAAAAAAAE1AAAAAAAAATUA=",
            "dtype": "f8"
           }
          },
          {
           "mode": "lines+markers",
           "name": "user_30",
           "type": "scatter",
           "x": {
            "bdata": "AAECAwQFBgcICQoLDA0ODxAREhM=",
            "dtype": "i1"
           },
           "y": {
            "bdata": "AAAAAAAAAAAAAAAAAAAAAAAAAAAAAAAAAAAAAAAA8D8AAAAAAAAAQAAAAAAAAABAAAAAAAAAEEAAAAAAAAAUQAAAAAAAABRAAAAAAAAAFEAAAAAAAAAoQAAAAAAAAChAAAAAAAAAKEAAAAAAAAAxQAAAAAAAADFAAAAAAAAAMUAAAAAAAAAxQAAAAAAAADNAAAAAAAAAM0A=",
            "dtype": "f8"
           }
          },
          {
           "mode": "lines+markers",
           "name": "user_31",
           "type": "scatter",
           "x": {
            "bdata": "AAECAwQFBgcICQoLDA0ODxAREhM=",
            "dtype": "i1"
           },
           "y": {
            "bdata": "AAAAAAAAAAAAAAAAAAAAAAAAAAAAAAAAAAAAAAAAAAAAAAAAAAAAAAAAAAAAAAAAAAAAAAAAAAAAAAAAAAAAAAAAAAAAAAAAAAAAAAAAAAAAAAAAAADwPwAAAAAAAPA/AAAAAAAAEEAAAAAAAAAQQAAAAAAAABhAAAAAAAAAGEAAAAAAAAAYQAAAAAAAACBAAAAAAAAAIEA=",
            "dtype": "f8"
           }
          },
          {
           "mode": "lines+markers",
           "name": "user_4",
           "type": "scatter",
           "x": {
            "bdata": "AAECAwQFBgcICQoLDA0ODxAREhM=",
            "dtype": "i1"
           },
           "y": {
            "bdata": "AAAAAAAAHEAAAAAAAAAcQAAAAAAAACZAAAAAAAAAJkAAAAAAAAA0QAAAAAAAADtAAAAAAACAQUAAAAAAAABIQAAAAAAAgEpAAAAAAACASkAAAAAAAMBRQAAAAAAAwFRAAAAAAADAVEAAAAAAAMBUQAAAAAAAwFVAAAAAAABAX0AAAAAAACBhQAAAAAAAgGRAAAAAAACAZEA=",
            "dtype": "f8"
           }
          },
          {
           "mode": "lines+markers",
           "name": "user_6",
           "type": "scatter",
           "x": {
            "bdata": "AAECAwQFBgcICQoLDA0ODxAREhM=",
            "dtype": "i1"
           },
           "y": {
            "bdata": "AAAAAAAAAAAAAAAAAAAAAAAAAAAAAAAAAAAAAAAAAAAAAAAAAAAAAAAAAAAAAAAAAAAAAAAAAAAAAAAAAAAAAAAAAAAAAAAAAAAAAAAAAAAAAAAAAAAAAAAAAAAAAAAAAAAAAAAAAAAAAAAAAAAAAAAAAAAAAAAAAAAAAAAAAAAAAAAAAADwPwAAAAAAAABAAAAAAAAAAEA=",
            "dtype": "f8"
           }
          },
          {
           "mode": "lines+markers",
           "name": "user_8",
           "type": "scatter",
           "x": {
            "bdata": "AAECAwQFBgcICQoLDA0ODxAREhM=",
            "dtype": "i1"
           },
           "y": {
            "bdata": "AAAAAAAAAAAAAAAAAAAAAAAAAAAAAAAAAAAAAAAAAAAAAAAAAAAAAAAAAAAAAAAAAAAAAAAAAAAAAAAAAAAAAAAAAAAAAAAAAAAAAAAAAAAAAAAAAAAAAAAAAAAAAAAAAAAAAAAAAAAAAAAAAAAAAAAAAAAAAAAAAAAAAAAAAAAAAAAAAAAAAAAAAAAAACBAAAAAAAAAIEA=",
            "dtype": "f8"
           }
          }
         ]
        }
       ],
       "layout": {
        "height": 600,
        "template": {
         "data": {
          "bar": [
           {
            "error_x": {
             "color": "#2a3f5f"
            },
            "error_y": {
             "color": "#2a3f5f"
            },
            "marker": {
             "line": {
              "color": "#E5ECF6",
              "width": 0.5
             },
             "pattern": {
              "fillmode": "overlay",
              "size": 10,
              "solidity": 0.2
             }
            },
            "type": "bar"
           }
          ],
          "barpolar": [
           {
            "marker": {
             "line": {
              "color": "#E5ECF6",
              "width": 0.5
             },
             "pattern": {
              "fillmode": "overlay",
              "size": 10,
              "solidity": 0.2
             }
            },
            "type": "barpolar"
           }
          ],
          "carpet": [
           {
            "aaxis": {
             "endlinecolor": "#2a3f5f",
             "gridcolor": "white",
             "linecolor": "white",
             "minorgridcolor": "white",
             "startlinecolor": "#2a3f5f"
            },
            "baxis": {
             "endlinecolor": "#2a3f5f",
             "gridcolor": "white",
             "linecolor": "white",
             "minorgridcolor": "white",
             "startlinecolor": "#2a3f5f"
            },
            "type": "carpet"
           }
          ],
          "choropleth": [
           {
            "colorbar": {
             "outlinewidth": 0,
             "ticks": ""
            },
            "type": "choropleth"
           }
          ],
          "contour": [
           {
            "colorbar": {
             "outlinewidth": 0,
             "ticks": ""
            },
            "colorscale": [
             [
              0,
              "#0d0887"
             ],
             [
              0.1111111111111111,
              "#46039f"
             ],
             [
              0.2222222222222222,
              "#7201a8"
             ],
             [
              0.3333333333333333,
              "#9c179e"
             ],
             [
              0.4444444444444444,
              "#bd3786"
             ],
             [
              0.5555555555555556,
              "#d8576b"
             ],
             [
              0.6666666666666666,
              "#ed7953"
             ],
             [
              0.7777777777777778,
              "#fb9f3a"
             ],
             [
              0.8888888888888888,
              "#fdca26"
             ],
             [
              1,
              "#f0f921"
             ]
            ],
            "type": "contour"
           }
          ],
          "contourcarpet": [
           {
            "colorbar": {
             "outlinewidth": 0,
             "ticks": ""
            },
            "type": "contourcarpet"
           }
          ],
          "heatmap": [
           {
            "colorbar": {
             "outlinewidth": 0,
             "ticks": ""
            },
            "colorscale": [
             [
              0,
              "#0d0887"
             ],
             [
              0.1111111111111111,
              "#46039f"
             ],
             [
              0.2222222222222222,
              "#7201a8"
             ],
             [
              0.3333333333333333,
              "#9c179e"
             ],
             [
              0.4444444444444444,
              "#bd3786"
             ],
             [
              0.5555555555555556,
              "#d8576b"
             ],
             [
              0.6666666666666666,
              "#ed7953"
             ],
             [
              0.7777777777777778,
              "#fb9f3a"
             ],
             [
              0.8888888888888888,
              "#fdca26"
             ],
             [
              1,
              "#f0f921"
             ]
            ],
            "type": "heatmap"
           }
          ],
          "histogram": [
           {
            "marker": {
             "pattern": {
              "fillmode": "overlay",
              "size": 10,
              "solidity": 0.2
             }
            },
            "type": "histogram"
           }
          ],
          "histogram2d": [
           {
            "colorbar": {
             "outlinewidth": 0,
             "ticks": ""
            },
            "colorscale": [
             [
              0,
              "#0d0887"
             ],
             [
              0.1111111111111111,
              "#46039f"
             ],
             [
              0.2222222222222222,
              "#7201a8"
             ],
             [
              0.3333333333333333,
              "#9c179e"
             ],
             [
              0.4444444444444444,
              "#bd3786"
             ],
             [
              0.5555555555555556,
              "#d8576b"
             ],
             [
              0.6666666666666666,
              "#ed7953"
             ],
             [
              0.7777777777777778,
              "#fb9f3a"
             ],
             [
              0.8888888888888888,
              "#fdca26"
             ],
             [
              1,
              "#f0f921"
             ]
            ],
            "type": "histogram2d"
           }
          ],
          "histogram2dcontour": [
           {
            "colorbar": {
             "outlinewidth": 0,
             "ticks": ""
            },
            "colorscale": [
             [
              0,
              "#0d0887"
             ],
             [
              0.1111111111111111,
              "#46039f"
             ],
             [
              0.2222222222222222,
              "#7201a8"
             ],
             [
              0.3333333333333333,
              "#9c179e"
             ],
             [
              0.4444444444444444,
              "#bd3786"
             ],
             [
              0.5555555555555556,
              "#d8576b"
             ],
             [
              0.6666666666666666,
              "#ed7953"
             ],
             [
              0.7777777777777778,
              "#fb9f3a"
             ],
             [
              0.8888888888888888,
              "#fdca26"
             ],
             [
              1,
              "#f0f921"
             ]
            ],
            "type": "histogram2dcontour"
           }
          ],
          "mesh3d": [
           {
            "colorbar": {
             "outlinewidth": 0,
             "ticks": ""
            },
            "type": "mesh3d"
           }
          ],
          "parcoords": [
           {
            "line": {
             "colorbar": {
              "outlinewidth": 0,
              "ticks": ""
             }
            },
            "type": "parcoords"
           }
          ],
          "pie": [
           {
            "automargin": true,
            "type": "pie"
           }
          ],
          "scatter": [
           {
            "fillpattern": {
             "fillmode": "overlay",
             "size": 10,
             "solidity": 0.2
            },
            "type": "scatter"
           }
          ],
          "scatter3d": [
           {
            "line": {
             "colorbar": {
              "outlinewidth": 0,
              "ticks": ""
             }
            },
            "marker": {
             "colorbar": {
              "outlinewidth": 0,
              "ticks": ""
             }
            },
            "type": "scatter3d"
           }
          ],
          "scattercarpet": [
           {
            "marker": {
             "colorbar": {
              "outlinewidth": 0,
              "ticks": ""
             }
            },
            "type": "scattercarpet"
           }
          ],
          "scattergeo": [
           {
            "marker": {
             "colorbar": {
              "outlinewidth": 0,
              "ticks": ""
             }
            },
            "type": "scattergeo"
           }
          ],
          "scattergl": [
           {
            "marker": {
             "colorbar": {
              "outlinewidth": 0,
              "ticks": ""
             }
            },
            "type": "scattergl"
           }
          ],
          "scattermap": [
           {
            "marker": {
             "colorbar": {
              "outlinewidth": 0,
              "ticks": ""
             }
            },
            "type": "scattermap"
           }
          ],
          "scattermapbox": [
           {
            "marker": {
             "colorbar": {
              "outlinewidth": 0,
              "ticks": ""
             }
            },
            "type": "scattermapbox"
           }
          ],
          "scatterpolar": [
           {
            "marker": {
             "colorbar": {
              "outlinewidth": 0,
              "ticks": ""
             }
            },
            "type": "scatterpolar"
           }
          ],
          "scatterpolargl": [
           {
            "marker": {
             "colorbar": {
              "outlinewidth": 0,
              "ticks": ""
             }
            },
            "type": "scatterpolargl"
           }
          ],
          "scatterternary": [
           {
            "marker": {
             "colorbar": {
              "outlinewidth": 0,
              "ticks": ""
             }
            },
            "type": "scatterternary"
           }
          ],
          "surface": [
           {
            "colorbar": {
             "outlinewidth": 0,
             "ticks": ""
            },
            "colorscale": [
             [
              0,
              "#0d0887"
             ],
             [
              0.1111111111111111,
              "#46039f"
             ],
             [
              0.2222222222222222,
              "#7201a8"
             ],
             [
              0.3333333333333333,
              "#9c179e"
             ],
             [
              0.4444444444444444,
              "#bd3786"
             ],
             [
              0.5555555555555556,
              "#d8576b"
             ],
             [
              0.6666666666666666,
              "#ed7953"
             ],
             [
              0.7777777777777778,
              "#fb9f3a"
             ],
             [
              0.8888888888888888,
              "#fdca26"
             ],
             [
              1,
              "#f0f921"
             ]
            ],
            "type": "surface"
           }
          ],
          "table": [
           {
            "cells": {
             "fill": {
              "color": "#EBF0F8"
             },
             "line": {
              "color": "white"
             }
            },
            "header": {
             "fill": {
              "color": "#C8D4E3"
             },
             "line": {
              "color": "white"
             }
            },
            "type": "table"
           }
          ]
         },
         "layout": {
          "annotationdefaults": {
           "arrowcolor": "#2a3f5f",
           "arrowhead": 0,
           "arrowwidth": 1
          },
          "autotypenumbers": "strict",
          "coloraxis": {
           "colorbar": {
            "outlinewidth": 0,
            "ticks": ""
           }
          },
          "colorscale": {
           "diverging": [
            [
             0,
             "#8e0152"
            ],
            [
             0.1,
             "#c51b7d"
            ],
            [
             0.2,
             "#de77ae"
            ],
            [
             0.3,
             "#f1b6da"
            ],
            [
             0.4,
             "#fde0ef"
            ],
            [
             0.5,
             "#f7f7f7"
            ],
            [
             0.6,
             "#e6f5d0"
            ],
            [
             0.7,
             "#b8e186"
            ],
            [
             0.8,
             "#7fbc41"
            ],
            [
             0.9,
             "#4d9221"
            ],
            [
             1,
             "#276419"
            ]
           ],
           "sequential": [
            [
             0,
             "#0d0887"
            ],
            [
             0.1111111111111111,
             "#46039f"
            ],
            [
             0.2222222222222222,
             "#7201a8"
            ],
            [
             0.3333333333333333,
             "#9c179e"
            ],
            [
             0.4444444444444444,
             "#bd3786"
            ],
            [
             0.5555555555555556,
             "#d8576b"
            ],
            [
             0.6666666666666666,
             "#ed7953"
            ],
            [
             0.7777777777777778,
             "#fb9f3a"
            ],
            [
             0.8888888888888888,
             "#fdca26"
            ],
            [
             1,
             "#f0f921"
            ]
           ],
           "sequentialminus": [
            [
             0,
             "#0d0887"
            ],
            [
             0.1111111111111111,
             "#46039f"
            ],
            [
             0.2222222222222222,
             "#7201a8"
            ],
            [
             0.3333333333333333,
             "#9c179e"
            ],
            [
             0.4444444444444444,
             "#bd3786"
            ],
            [
             0.5555555555555556,
             "#d8576b"
            ],
            [
             0.6666666666666666,
             "#ed7953"
            ],
            [
             0.7777777777777778,
             "#fb9f3a"
            ],
            [
             0.8888888888888888,
             "#fdca26"
            ],
            [
             1,
             "#f0f921"
            ]
           ]
          },
          "colorway": [
           "#636efa",
           "#EF553B",
           "#00cc96",
           "#ab63fa",
           "#FFA15A",
           "#19d3f3",
           "#FF6692",
           "#B6E880",
           "#FF97FF",
           "#FECB52"
          ],
          "font": {
           "color": "#2a3f5f"
          },
          "geo": {
           "bgcolor": "white",
           "lakecolor": "white",
           "landcolor": "#E5ECF6",
           "showlakes": true,
           "showland": true,
           "subunitcolor": "white"
          },
          "hoverlabel": {
           "align": "left"
          },
          "hovermode": "closest",
          "mapbox": {
           "style": "light"
          },
          "paper_bgcolor": "white",
          "plot_bgcolor": "#E5ECF6",
          "polar": {
           "angularaxis": {
            "gridcolor": "white",
            "linecolor": "white",
            "ticks": ""
           },
           "bgcolor": "#E5ECF6",
           "radialaxis": {
            "gridcolor": "white",
            "linecolor": "white",
            "ticks": ""
           }
          },
          "scene": {
           "xaxis": {
            "backgroundcolor": "#E5ECF6",
            "gridcolor": "white",
            "gridwidth": 2,
            "linecolor": "white",
            "showbackground": true,
            "ticks": "",
            "zerolinecolor": "white"
           },
           "yaxis": {
            "backgroundcolor": "#E5ECF6",
            "gridcolor": "white",
            "gridwidth": 2,
            "linecolor": "white",
            "showbackground": true,
            "ticks": "",
            "zerolinecolor": "white"
           },
           "zaxis": {
            "backgroundcolor": "#E5ECF6",
            "gridcolor": "white",
            "gridwidth": 2,
            "linecolor": "white",
            "showbackground": true,
            "ticks": "",
            "zerolinecolor": "white"
           }
          },
          "shapedefaults": {
           "line": {
            "color": "#2a3f5f"
           }
          },
          "ternary": {
           "aaxis": {
            "gridcolor": "white",
            "linecolor": "white",
            "ticks": ""
           },
           "baxis": {
            "gridcolor": "white",
            "linecolor": "white",
            "ticks": ""
           },
           "bgcolor": "#E5ECF6",
           "caxis": {
            "gridcolor": "white",
            "linecolor": "white",
            "ticks": ""
           }
          },
          "title": {
           "x": 0.05
          },
          "xaxis": {
           "automargin": true,
           "gridcolor": "white",
           "linecolor": "white",
           "ticks": "",
           "title": {
            "standoff": 15
           },
           "zerolinecolor": "white",
           "zerolinewidth": 2
          },
          "yaxis": {
           "automargin": true,
           "gridcolor": "white",
           "linecolor": "white",
           "ticks": "",
           "title": {
            "standoff": 15
           },
           "zerolinecolor": "white",
           "zerolinewidth": 2
          }
         }
        },
        "title": {
         "text": "Dynamic of commits per user in project1"
        },
        "updatemenus": [
         {
          "buttons": [
           {
            "args": [
             null
            ],
            "label": "play",
            "method": "animate"
           }
          ],
          "type": "buttons"
         }
        ],
        "width": 1200,
        "xaxis": {
         "dtick": 2,
         "range": [
          0,
          20
         ]
        },
        "yaxis": {
         "range": [
          0,
          171
         ]
        }
       }
      }
     },
     "metadata": {},
     "output_type": "display_data"
    }
   ],
   "source": [
    "fig = go.Figure(\n",
    "    data=initial_data,\n",
    "    layout={\n",
    "        'width': 1200,\n",
    "        'height': 600,\n",
    "        'title': 'Dynamic of commits per user in project1',\n",
    "        'xaxis': {'range': (0, len(df.columns) + 1), 'dtick': 2},\n",
    "        'yaxis': {'range': (0, round(max(df.max()) + 2, -1) + 1)},\n",
    "        'updatemenus': [{\n",
    "            'type': 'buttons',\n",
    "            'buttons': [{'method': 'animate', 'label': 'play', 'args': [None]}]\n",
    "            }]}, frames=frames)\n",
    "fig.show()"
   ]
  },
  {
   "cell_type": "code",
   "execution_count": 8,
   "metadata": {},
   "outputs": [],
   "source": [
    "connect.close()"
   ]
  }
 ],
 "metadata": {
  "kernelspec": {
   "display_name": "Python 3",
   "language": "python",
   "name": "python3"
  },
  "language_info": {
   "codemirror_mode": {
    "name": "ipython",
    "version": 3
   },
   "file_extension": ".py",
   "mimetype": "text/x-python",
   "name": "python",
   "nbconvert_exporter": "python",
   "pygments_lexer": "ipython3",
   "version": "3.12.3"
  }
 },
 "nbformat": 4,
 "nbformat_minor": 2
}

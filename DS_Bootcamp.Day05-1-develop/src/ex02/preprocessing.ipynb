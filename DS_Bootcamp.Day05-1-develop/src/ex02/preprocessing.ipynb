{
 "cells": [
  {
   "cell_type": "code",
   "execution_count": 1,
   "id": "9ee54367-4656-4926-b189-cd9e679992db",
   "metadata": {},
   "outputs": [],
   "source": [
    "import pandas as pd"
   ]
  },
  {
   "cell_type": "markdown",
   "id": "d366e55e-1dbf-478d-bbf0-c40ca5cef94c",
   "metadata": {},
   "source": [
    "считываем csv файл и делаем ID в столбце индекса"
   ]
  },
  {
   "cell_type": "code",
   "execution_count": 66,
   "id": "4bdf37e2-4e9d-456e-a2da-2af01e6dad1b",
   "metadata": {},
   "outputs": [],
   "source": [
    "df = pd.read_csv(\"../../datasets/auto.csv\").set_index(\"ID\")"
   ]
  },
  {
   "cell_type": "code",
   "execution_count": 67,
   "id": "61f50e74-a15e-4f8b-b9a4-27084b631f5c",
   "metadata": {},
   "outputs": [
    {
     "data": {
      "text/html": [
       "<div>\n",
       "<style scoped>\n",
       "    .dataframe tbody tr th:only-of-type {\n",
       "        vertical-align: middle;\n",
       "    }\n",
       "\n",
       "    .dataframe tbody tr th {\n",
       "        vertical-align: top;\n",
       "    }\n",
       "\n",
       "    .dataframe thead th {\n",
       "        text-align: right;\n",
       "    }\n",
       "</style>\n",
       "<table border=\"1\" class=\"dataframe\">\n",
       "  <thead>\n",
       "    <tr style=\"text-align: right;\">\n",
       "      <th></th>\n",
       "      <th>CarNumber</th>\n",
       "      <th>Make_n_model</th>\n",
       "      <th>Refund</th>\n",
       "      <th>Fines</th>\n",
       "      <th>History</th>\n",
       "    </tr>\n",
       "    <tr>\n",
       "      <th>ID</th>\n",
       "      <th></th>\n",
       "      <th></th>\n",
       "      <th></th>\n",
       "      <th></th>\n",
       "      <th></th>\n",
       "    </tr>\n",
       "  </thead>\n",
       "  <tbody>\n",
       "    <tr>\n",
       "      <th>0</th>\n",
       "      <td>Y163O8161RUS</td>\n",
       "      <td>Ford Focus</td>\n",
       "      <td>2.0</td>\n",
       "      <td>3200.0</td>\n",
       "      <td>NaN</td>\n",
       "    </tr>\n",
       "    <tr>\n",
       "      <th>1</th>\n",
       "      <td>E432XX77RUS</td>\n",
       "      <td>Toyota Camry</td>\n",
       "      <td>1.0</td>\n",
       "      <td>6500.0</td>\n",
       "      <td>NaN</td>\n",
       "    </tr>\n",
       "    <tr>\n",
       "      <th>2</th>\n",
       "      <td>7184TT36RUS</td>\n",
       "      <td>Ford Focus</td>\n",
       "      <td>1.0</td>\n",
       "      <td>2100.0</td>\n",
       "      <td>NaN</td>\n",
       "    </tr>\n",
       "    <tr>\n",
       "      <th>3</th>\n",
       "      <td>X582HE161RUS</td>\n",
       "      <td>Ford Focus</td>\n",
       "      <td>2.0</td>\n",
       "      <td>2000.0</td>\n",
       "      <td>NaN</td>\n",
       "    </tr>\n",
       "    <tr>\n",
       "      <th>4</th>\n",
       "      <td>E34877152RUS</td>\n",
       "      <td>Ford Focus</td>\n",
       "      <td>2.0</td>\n",
       "      <td>6100.0</td>\n",
       "      <td>NaN</td>\n",
       "    </tr>\n",
       "  </tbody>\n",
       "</table>\n",
       "</div>"
      ],
      "text/plain": [
       "       CarNumber  Make_n_model  Refund   Fines  History\n",
       "ID                                                     \n",
       "0   Y163O8161RUS    Ford Focus     2.0  3200.0      NaN\n",
       "1    E432XX77RUS  Toyota Camry     1.0  6500.0      NaN\n",
       "2    7184TT36RUS    Ford Focus     1.0  2100.0      NaN\n",
       "3   X582HE161RUS    Ford Focus     2.0  2000.0      NaN\n",
       "4   E34877152RUS    Ford Focus     2.0  6100.0      NaN"
      ]
     },
     "execution_count": 67,
     "metadata": {},
     "output_type": "execute_result"
    }
   ],
   "source": [
    "df.head()"
   ]
  },
  {
   "cell_type": "markdown",
   "id": "2f15d53c-e4b7-4a1f-9795-fe482b783548",
   "metadata": {},
   "source": [
    "считаем количество наблюдений"
   ]
  },
  {
   "cell_type": "code",
   "execution_count": 68,
   "id": "880272c7-8c91-472e-8965-dae7d5d0cd41",
   "metadata": {},
   "outputs": [
    {
     "name": "stdout",
     "output_type": "stream",
     "text": [
      "CarNumber       931\n",
      "Make_n_model    931\n",
      "Refund          914\n",
      "Fines           869\n",
      "History          82\n",
      "dtype: int64\n"
     ]
    }
   ],
   "source": [
    "print(df.count())"
   ]
  },
  {
   "cell_type": "markdown",
   "id": "b8ee2ede-d2f7-44e9-9dfc-2123f8942955",
   "metadata": {},
   "source": [
    "отбрасываем дубликаты,из двух равных наблюдений выбираем последнее(используем только 3 столбца) и считаем количество заново"
   ]
  },
  {
   "cell_type": "code",
   "execution_count": 69,
   "id": "5e173c62-8cea-462e-8f75-c35007b3eb44",
   "metadata": {},
   "outputs": [
    {
     "name": "stdout",
     "output_type": "stream",
     "text": [
      "CarNumber       725\n",
      "Make_n_model    725\n",
      "Refund          713\n",
      "Fines           665\n",
      "History          65\n",
      "dtype: int64\n"
     ]
    }
   ],
   "source": [
    "df = df.drop_duplicates(subset=['CarNumber', 'Make_n_model', 'Fines'], keep='last')\n",
    "print(df.count())"
   ]
  },
  {
   "cell_type": "markdown",
   "id": "50382ad4-4459-4f32-b0ff-78aa779ad2cd",
   "metadata": {},
   "source": [
    "проверяем сколько значений отсутствует в каждом столбце,удаляем столбцы с более чем 500 пропусков;заменяем все отсутствующие значения в Refund столбце предыдущим значением в этом столбце для этой ячейки;\n",
    "заменяем все пропущенные значения в Fines столбце средним значением этого столбца (исключите значения NA/NULL при вычислении среднего значения) и проверям сколько значений пропущено в каждом столбце"
   ]
  },
  {
   "cell_type": "code",
   "execution_count": 70,
   "id": "29754586-17c4-438e-b0a0-d3ed6ddff457",
   "metadata": {},
   "outputs": [
    {
     "name": "stdout",
     "output_type": "stream",
     "text": [
      "CarNumber         0\n",
      "Make_n_model      0\n",
      "Refund           12\n",
      "Fines            60\n",
      "History         660\n",
      "dtype: int64\n"
     ]
    }
   ],
   "source": [
    "print(df.isna().sum())"
   ]
  },
  {
   "cell_type": "code",
   "execution_count": 71,
   "id": "db89544b-fb9a-43c4-ac13-2624a6e9e4c4",
   "metadata": {},
   "outputs": [
    {
     "name": "stdout",
     "output_type": "stream",
     "text": [
      "CarNumber        0\n",
      "Make_n_model     0\n",
      "Refund          12\n",
      "Fines           60\n",
      "dtype: int64\n"
     ]
    }
   ],
   "source": [
    "df = df.dropna(thresh=len(df)-500, axis=1)\n",
    "print(df.isna().sum())"
   ]
  },
  {
   "cell_type": "code",
   "execution_count": 72,
   "id": "f88770ca-a565-4e5f-a1f6-b181419a92b4",
   "metadata": {},
   "outputs": [
    {
     "name": "stdout",
     "output_type": "stream",
     "text": [
      "CarNumber       0\n",
      "Make_n_model    0\n",
      "Refund          0\n",
      "Fines           0\n",
      "dtype: int64\n"
     ]
    }
   ],
   "source": [
    "df['Refund'] = df['Refund'].ffill()\n",
    "df['Fines'] = df['Fines'].fillna(df['Fines'].mean())\n",
    "print(df.isna().sum())"
   ]
  },
  {
   "cell_type": "markdown",
   "id": "f03c57f7-4448-4330-b15d-3d9ae79b78fe",
   "metadata": {},
   "source": [
    "извлекли марку и модель машин в новые столбцы(make,model),удалили столбец make_n_model и сохранили в json файл"
   ]
  },
  {
   "cell_type": "code",
   "execution_count": 73,
   "id": "c666e244-c3d4-4ab9-ab17-6ed47ca7f34c",
   "metadata": {},
   "outputs": [
    {
     "name": "stdout",
     "output_type": "stream",
     "text": [
      "       CarNumber  Refund   Fines    Make  Model\n",
      "ID                                             \n",
      "0   Y163O8161RUS     2.0  3200.0    Ford  Focus\n",
      "1    E432XX77RUS     1.0  6500.0  Toyota  Camry\n",
      "2    7184TT36RUS     1.0  2100.0    Ford  Focus\n",
      "3   X582HE161RUS     2.0  2000.0    Ford  Focus\n",
      "5   92918M178RUS     1.0  5700.0    Ford  Focus\n"
     ]
    }
   ],
   "source": [
    "df[['Make', 'Model']] = df['Make_n_model'].apply(lambda x: pd.Series(str(x).split(' ', 1)) if pd.notna(x) else pd.Series([None, None]))\n",
    "df = df.drop('Make_n_model', axis=1)\n",
    "df.reset_index(drop=True).to_json('../../datasets/auto.json', orient='records', indent=2)\n",
    "print(df.head())"
   ]
  },
  {
   "cell_type": "markdown",
   "id": "9d3c754a-3e7e-4fdf-b1c6-136ba04da370",
   "metadata": {},
   "source": [
    "проверка по чек листу"
   ]
  },
  {
   "cell_type": "code",
   "execution_count": 74,
   "id": "b47a9652-d5ea-4bac-97c0-5e5c13c31076",
   "metadata": {},
   "outputs": [],
   "source": [
    "df2 = pd.read_json('../../datasets/auto.json',orient='records')"
   ]
  },
  {
   "cell_type": "code",
   "execution_count": 75,
   "id": "268af00a-b287-4d20-a292-7b27b820b37a",
   "metadata": {},
   "outputs": [
    {
     "name": "stdout",
     "output_type": "stream",
     "text": [
      "CarNumber    725\n",
      "Refund       725\n",
      "Fines        725\n",
      "Make         725\n",
      "Model        716\n",
      "dtype: int64\n"
     ]
    }
   ],
   "source": [
    "print(df2.count())"
   ]
  },
  {
   "cell_type": "code",
   "execution_count": 76,
   "id": "f0e7fae9-fb7e-4d34-a9db-4f38ea1ec69f",
   "metadata": {},
   "outputs": [
    {
     "name": "stdout",
     "output_type": "stream",
     "text": [
      "8594.586466165412\n",
      "1.5172413793103448\n"
     ]
    }
   ],
   "source": [
    "print(df2['Fines'].mean())\n",
    "print(df2['Refund'].mean())"
   ]
  },
  {
   "cell_type": "code",
   "execution_count": null,
   "id": "f78518f4-4a3b-49b3-a5d1-eeb72e50ff43",
   "metadata": {},
   "outputs": [],
   "source": []
  }
 ],
 "metadata": {
  "kernelspec": {
   "display_name": "Python 3 (ipykernel)",
   "language": "python",
   "name": "python3"
  },
  "language_info": {
   "codemirror_mode": {
    "name": "ipython",
    "version": 3
   },
   "file_extension": ".py",
   "mimetype": "text/x-python",
   "name": "python",
   "nbconvert_exporter": "python",
   "pygments_lexer": "ipython3",
   "version": "3.11.4"
  }
 },
 "nbformat": 4,
 "nbformat_minor": 5
}

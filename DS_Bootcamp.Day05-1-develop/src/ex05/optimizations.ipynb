{
 "cells": [
  {
   "cell_type": "code",
   "execution_count": 76,
   "id": "d95c0d60-d6eb-4311-9f28-c2bcedd6b534",
   "metadata": {},
   "outputs": [],
   "source": [
    "import pandas as pd\n",
    "import gc"
   ]
  },
  {
   "cell_type": "code",
   "execution_count": 77,
   "id": "eefedd3a-3186-47d8-b713-ea8d48e1366c",
   "metadata": {},
   "outputs": [],
   "source": [
    "df = pd.read_csv('../../datasets/fines.csv')"
   ]
  },
  {
   "cell_type": "markdown",
   "id": "faa40240-8fda-4d38-b8f2-252797a0ae75",
   "metadata": {},
   "source": [
    "расчет fines/refund*year c помощью loop"
   ]
  },
  {
   "cell_type": "code",
   "execution_count": 78,
   "id": "0efece55-c17e-41eb-87f5-004945694ec5",
   "metadata": {},
   "outputs": [],
   "source": [
    "def calculate_with_loop(df):\n",
    "    results = []\n",
    "    for i in range(0, len(df)):\n",
    "        row = df.iloc[i]\n",
    "        result = row['Fines'] / row['Refund'] * row['Year']\n",
    "        results.append(result)\n",
    "    return results"
   ]
  },
  {
   "cell_type": "code",
   "execution_count": 79,
   "id": "b194ef10-5f8b-43e3-8135-dd9ab682907b",
   "metadata": {},
   "outputs": [
    {
     "name": "stdout",
     "output_type": "stream",
     "text": [
      "43.4 ms ± 2.2 ms per loop (mean ± std. dev. of 7 runs, 10 loops each)\n"
     ]
    }
   ],
   "source": [
    "%%timeit\n",
    "df['Calculated'] = calculate_with_loop(df)"
   ]
  },
  {
   "cell_type": "markdown",
   "id": "45ca3919-e189-4457-98b8-66fb021249f9",
   "metadata": {},
   "source": [
    "c помощью iterrows()"
   ]
  },
  {
   "cell_type": "code",
   "execution_count": 80,
   "id": "99e6b8f9-8cb4-479d-b398-86638d1927f7",
   "metadata": {},
   "outputs": [],
   "source": [
    "def calculate_with_iterrows(df):\n",
    "    results = []\n",
    "    for index, row in df.iterrows():\n",
    "        result = row['Fines'] / row['Refund'] * row['Year']\n",
    "        results.append(result)\n",
    "    return results"
   ]
  },
  {
   "cell_type": "code",
   "execution_count": 81,
   "id": "ae36d436-3e05-4961-af50-2c841d73045e",
   "metadata": {},
   "outputs": [
    {
     "name": "stdout",
     "output_type": "stream",
     "text": [
      "36.3 ms ± 823 μs per loop (mean ± std. dev. of 7 runs, 10 loops each)\n"
     ]
    }
   ],
   "source": [
    "%%timeit\n",
    "df['Calculated'] = calculate_with_iterrows(df)"
   ]
  },
  {
   "cell_type": "markdown",
   "id": "79aa4c9a-6023-4dfd-8930-e7c509e53a9e",
   "metadata": {},
   "source": [
    "с помощью apply()"
   ]
  },
  {
   "cell_type": "code",
   "execution_count": 82,
   "id": "b26528be-af9f-4d4c-b8e4-865fda0130ae",
   "metadata": {},
   "outputs": [],
   "source": [
    "def calculate_with_apply(df):\n",
    "    return df.apply(lambda row: row['Fines'] / row['Refund'] * row['Year'], axis=1)"
   ]
  },
  {
   "cell_type": "code",
   "execution_count": 83,
   "id": "9a144f91-d254-41bc-9079-77ac602267a6",
   "metadata": {},
   "outputs": [
    {
     "name": "stdout",
     "output_type": "stream",
     "text": [
      "8.19 ms ± 1.59 ms per loop (mean ± std. dev. of 7 runs, 100 loops each)\n"
     ]
    }
   ],
   "source": [
    "%%timeit\n",
    "df['Calculated'] = calculate_with_apply(df)"
   ]
  },
  {
   "cell_type": "markdown",
   "id": "973adcf6-3be5-4fe6-9c26-5ce26f43280b",
   "metadata": {},
   "source": [
    "с помощью Series"
   ]
  },
  {
   "cell_type": "code",
   "execution_count": 84,
   "id": "122029fc-635c-48ee-873b-370e5e599786",
   "metadata": {},
   "outputs": [],
   "source": [
    "def calculate_with_series(df):\n",
    "    return df['Fines'] / df['Refund'] * df['Year']"
   ]
  },
  {
   "cell_type": "code",
   "execution_count": 85,
   "id": "065ea64d-99e8-4837-966e-4f9b73255a3b",
   "metadata": {},
   "outputs": [
    {
     "name": "stdout",
     "output_type": "stream",
     "text": [
      "203 μs ± 14.3 μs per loop (mean ± std. dev. of 7 runs, 10,000 loops each)\n"
     ]
    }
   ],
   "source": [
    "%%timeit\n",
    "df['Calculated'] = calculate_with_series(df)"
   ]
  },
  {
   "cell_type": "markdown",
   "id": "9ad2c893-c831-46c2-8979-84d80ed975f8",
   "metadata": {},
   "source": [
    "с помощью .values"
   ]
  },
  {
   "cell_type": "code",
   "execution_count": 86,
   "id": "b1bc0a96-f8bc-4ef3-94d2-70fa311b27bd",
   "metadata": {},
   "outputs": [],
   "source": [
    "def calculate_with_values(df):\n",
    "    return df['Fines'].values / df['Refund'].values * df['Year'].values"
   ]
  },
  {
   "cell_type": "code",
   "execution_count": 87,
   "id": "ba91f723-5858-4348-90ae-c72052e40490",
   "metadata": {},
   "outputs": [
    {
     "name": "stdout",
     "output_type": "stream",
     "text": [
      "111 μs ± 15.1 μs per loop (mean ± std. dev. of 7 runs, 10,000 loops each)\n"
     ]
    }
   ],
   "source": [
    "%%timeit\n",
    "df['Calculated'] = calculate_with_values(df)"
   ]
  },
  {
   "cell_type": "code",
   "execution_count": 88,
   "id": "4bd0fb29-71e7-4fca-bd96-fc6570442204",
   "metadata": {},
   "outputs": [
    {
     "data": {
      "text/html": [
       "<div>\n",
       "<style scoped>\n",
       "    .dataframe tbody tr th:only-of-type {\n",
       "        vertical-align: middle;\n",
       "    }\n",
       "\n",
       "    .dataframe tbody tr th {\n",
       "        vertical-align: top;\n",
       "    }\n",
       "\n",
       "    .dataframe thead th {\n",
       "        text-align: right;\n",
       "    }\n",
       "</style>\n",
       "<table border=\"1\" class=\"dataframe\">\n",
       "  <thead>\n",
       "    <tr style=\"text-align: right;\">\n",
       "      <th></th>\n",
       "      <th>CarNumber</th>\n",
       "      <th>Refund</th>\n",
       "      <th>Fines</th>\n",
       "      <th>Make</th>\n",
       "      <th>Model</th>\n",
       "      <th>Year</th>\n",
       "      <th>Calculated</th>\n",
       "    </tr>\n",
       "  </thead>\n",
       "  <tbody>\n",
       "    <tr>\n",
       "      <th>0</th>\n",
       "      <td>Y163O8161RUS</td>\n",
       "      <td>2.0</td>\n",
       "      <td>3200.0</td>\n",
       "      <td>Ford</td>\n",
       "      <td>Focus</td>\n",
       "      <td>1989</td>\n",
       "      <td>3182400.0</td>\n",
       "    </tr>\n",
       "    <tr>\n",
       "      <th>1</th>\n",
       "      <td>E432XX77RUS</td>\n",
       "      <td>1.0</td>\n",
       "      <td>6500.0</td>\n",
       "      <td>Toyota</td>\n",
       "      <td>Camry</td>\n",
       "      <td>1995</td>\n",
       "      <td>12967500.0</td>\n",
       "    </tr>\n",
       "    <tr>\n",
       "      <th>2</th>\n",
       "      <td>7184TT36RUS</td>\n",
       "      <td>1.0</td>\n",
       "      <td>2100.0</td>\n",
       "      <td>Ford</td>\n",
       "      <td>Focus</td>\n",
       "      <td>1984</td>\n",
       "      <td>4166400.0</td>\n",
       "    </tr>\n",
       "    <tr>\n",
       "      <th>3</th>\n",
       "      <td>X582HE161RUS</td>\n",
       "      <td>2.0</td>\n",
       "      <td>2000.0</td>\n",
       "      <td>Ford</td>\n",
       "      <td>Focus</td>\n",
       "      <td>2015</td>\n",
       "      <td>2015000.0</td>\n",
       "    </tr>\n",
       "    <tr>\n",
       "      <th>4</th>\n",
       "      <td>92918M178RUS</td>\n",
       "      <td>1.0</td>\n",
       "      <td>5700.0</td>\n",
       "      <td>Ford</td>\n",
       "      <td>Focus</td>\n",
       "      <td>2014</td>\n",
       "      <td>11479800.0</td>\n",
       "    </tr>\n",
       "    <tr>\n",
       "      <th>...</th>\n",
       "      <td>...</td>\n",
       "      <td>...</td>\n",
       "      <td>...</td>\n",
       "      <td>...</td>\n",
       "      <td>...</td>\n",
       "      <td>...</td>\n",
       "      <td>...</td>\n",
       "    </tr>\n",
       "    <tr>\n",
       "      <th>925</th>\n",
       "      <td>XYZ123RUS</td>\n",
       "      <td>2.0</td>\n",
       "      <td>0.0</td>\n",
       "      <td>Tesla</td>\n",
       "      <td>Model 3</td>\n",
       "      <td>2002</td>\n",
       "      <td>0.0</td>\n",
       "    </tr>\n",
       "    <tr>\n",
       "      <th>926</th>\n",
       "      <td>ABC456RUS</td>\n",
       "      <td>1.0</td>\n",
       "      <td>7500.0</td>\n",
       "      <td>BMW</td>\n",
       "      <td>X5</td>\n",
       "      <td>2009</td>\n",
       "      <td>15067500.0</td>\n",
       "    </tr>\n",
       "    <tr>\n",
       "      <th>927</th>\n",
       "      <td>DEF789RUS</td>\n",
       "      <td>1.0</td>\n",
       "      <td>3200.0</td>\n",
       "      <td>Audi</td>\n",
       "      <td>A4</td>\n",
       "      <td>2002</td>\n",
       "      <td>6406400.0</td>\n",
       "    </tr>\n",
       "    <tr>\n",
       "      <th>928</th>\n",
       "      <td>GHI012RUS</td>\n",
       "      <td>2.0</td>\n",
       "      <td>1500.0</td>\n",
       "      <td>Mercedes</td>\n",
       "      <td>C-Class</td>\n",
       "      <td>2007</td>\n",
       "      <td>1505250.0</td>\n",
       "    </tr>\n",
       "    <tr>\n",
       "      <th>929</th>\n",
       "      <td>JKL345RUS</td>\n",
       "      <td>1.0</td>\n",
       "      <td>4200.0</td>\n",
       "      <td>Volvo</td>\n",
       "      <td>XC90</td>\n",
       "      <td>2018</td>\n",
       "      <td>8475600.0</td>\n",
       "    </tr>\n",
       "  </tbody>\n",
       "</table>\n",
       "<p>930 rows × 7 columns</p>\n",
       "</div>"
      ],
      "text/plain": [
       "        CarNumber  Refund   Fines      Make    Model  Year  Calculated\n",
       "0    Y163O8161RUS     2.0  3200.0      Ford    Focus  1989   3182400.0\n",
       "1     E432XX77RUS     1.0  6500.0    Toyota    Camry  1995  12967500.0\n",
       "2     7184TT36RUS     1.0  2100.0      Ford    Focus  1984   4166400.0\n",
       "3    X582HE161RUS     2.0  2000.0      Ford    Focus  2015   2015000.0\n",
       "4    92918M178RUS     1.0  5700.0      Ford    Focus  2014  11479800.0\n",
       "..            ...     ...     ...       ...      ...   ...         ...\n",
       "925     XYZ123RUS     2.0     0.0     Tesla  Model 3  2002         0.0\n",
       "926     ABC456RUS     1.0  7500.0       BMW       X5  2009  15067500.0\n",
       "927     DEF789RUS     1.0  3200.0      Audi       A4  2002   6406400.0\n",
       "928     GHI012RUS     2.0  1500.0  Mercedes  C-Class  2007   1505250.0\n",
       "929     JKL345RUS     1.0  4200.0     Volvo     XC90  2018   8475600.0\n",
       "\n",
       "[930 rows x 7 columns]"
      ]
     },
     "execution_count": 88,
     "metadata": {},
     "output_type": "execute_result"
    }
   ],
   "source": [
    "df"
   ]
  },
  {
   "cell_type": "markdown",
   "id": "8ad4ee36-6a76-44f8-9a90-5a4a0d43b09d",
   "metadata": {},
   "source": [
    "измеряем время с помощью волшебной команды %%timeitв ячейке;получаем строку для определенного CarNumber, например,’O136HO197RUS’; устанавливаем индекс в вашем фрейме данных с помощью CarNumber;снова, получаем ряд за то же самое CarNumber"
   ]
  },
  {
   "cell_type": "code",
   "execution_count": 89,
   "id": "7c537dc6-9e5a-426b-b729-eb4007d81c13",
   "metadata": {},
   "outputs": [],
   "source": [
    "example_car = 'O136HO197RUS'"
   ]
  },
  {
   "cell_type": "code",
   "execution_count": 90,
   "id": "e4fbbfbe-453f-4ac8-b3eb-4d8eb2bc24ab",
   "metadata": {},
   "outputs": [],
   "source": [
    "def get_row_without_index(df, car_number):\n",
    "    return df[df['CarNumber'] == car_number]"
   ]
  },
  {
   "cell_type": "code",
   "execution_count": 91,
   "id": "005ab533-ecdd-4372-8da4-49bc5baa3d45",
   "metadata": {},
   "outputs": [
    {
     "name": "stdout",
     "output_type": "stream",
     "text": [
      "261 μs ± 8.65 μs per loop (mean ± std. dev. of 7 runs, 1,000 loops each)\n"
     ]
    }
   ],
   "source": [
    "%%timeit\n",
    "get_row_without_index(df, example_car)"
   ]
  },
  {
   "cell_type": "code",
   "execution_count": 92,
   "id": "d308401e-f885-46f6-86f7-d237294bd7d3",
   "metadata": {},
   "outputs": [],
   "source": [
    "def get_row_with_index(df, car_number):\n",
    "    df_indexed = df.set_index('CarNumber')\n",
    "    return df_indexed.loc[car_number]"
   ]
  },
  {
   "cell_type": "code",
   "execution_count": 93,
   "id": "91bf08de-981d-45a1-8134-04f1056d411f",
   "metadata": {},
   "outputs": [
    {
     "name": "stdout",
     "output_type": "stream",
     "text": [
      "509 μs ± 20.4 μs per loop (mean ± std. dev. of 7 runs, 1,000 loops each)\n"
     ]
    }
   ],
   "source": [
    "%%timeit\n",
    "get_row_with_index(df, example_car)"
   ]
  },
  {
   "cell_type": "markdown",
   "id": "696b7d3d-ab24-402e-abee-5ec9463082a9",
   "metadata": {},
   "source": [
    "запускаем df.info(memory_usage=’deep’), смотрим на Dtype и использование памяти;\n",
    "преобразовываем copy() наш исходный фрейм данных в другой фрейм данных - optimized\n",
    "преобразуем float64 в float32 для всех столбцов\n",
    "понижаем от int64 до наименьшего возможного числового типа\n",
    "запускаем info(memory_usage='deep') для нашего нового фрейма данных,смотрим на Dtype и использование памяти"
   ]
  },
  {
   "cell_type": "code",
   "execution_count": 94,
   "id": "85c72eca-0c02-4e41-97e9-034a61ead06b",
   "metadata": {},
   "outputs": [
    {
     "name": "stdout",
     "output_type": "stream",
     "text": [
      "<class 'pandas.core.frame.DataFrame'>\n",
      "RangeIndex: 930 entries, 0 to 929\n",
      "Data columns (total 7 columns):\n",
      " #   Column      Non-Null Count  Dtype  \n",
      "---  ------      --------------  -----  \n",
      " 0   CarNumber   930 non-null    object \n",
      " 1   Refund      930 non-null    float64\n",
      " 2   Fines       930 non-null    float64\n",
      " 3   Make        930 non-null    object \n",
      " 4   Model       918 non-null    object \n",
      " 5   Year        930 non-null    int64  \n",
      " 6   Calculated  930 non-null    float64\n",
      "dtypes: float64(3), int64(1), object(3)\n",
      "memory usage: 203.7 KB\n"
     ]
    }
   ],
   "source": [
    "df.info(memory_usage='deep')"
   ]
  },
  {
   "cell_type": "code",
   "execution_count": 95,
   "id": "b415f573-a7e6-4038-ad93-f4d15ae67c27",
   "metadata": {},
   "outputs": [],
   "source": [
    "optimized = df.copy()"
   ]
  },
  {
   "cell_type": "code",
   "execution_count": 96,
   "id": "fdeb197b-998f-44bd-84e1-e2d4c5edc231",
   "metadata": {},
   "outputs": [],
   "source": [
    "optimized['Calculated'] = optimized['Calculated'].astype('float32')\n",
    "float_cols = optimized.select_dtypes(include=['float64']).columns\n",
    "for col in float_cols:\n",
    "    optimized[col] = pd.to_numeric(optimized[col], downcast='float')"
   ]
  },
  {
   "cell_type": "code",
   "execution_count": 97,
   "id": "2f96b057-fc49-410b-8cdb-b999d570c8c1",
   "metadata": {},
   "outputs": [],
   "source": [
    "int_cols = optimized.select_dtypes(include=['int64']).columns\n",
    "for col in int_cols:\n",
    "    optimized[col] = pd.to_numeric(optimized[col], downcast='integer')"
   ]
  },
  {
   "cell_type": "code",
   "execution_count": null,
   "id": "0d5f6106-1345-446c-8cb2-6db28292567d",
   "metadata": {},
   "outputs": [],
   "source": []
  },
  {
   "cell_type": "code",
   "execution_count": 98,
   "id": "ce8c7f7a-1184-404e-9fe2-8722d43a08d2",
   "metadata": {},
   "outputs": [
    {
     "name": "stdout",
     "output_type": "stream",
     "text": [
      "<class 'pandas.core.frame.DataFrame'>\n",
      "RangeIndex: 930 entries, 0 to 929\n",
      "Data columns (total 7 columns):\n",
      " #   Column      Non-Null Count  Dtype  \n",
      "---  ------      --------------  -----  \n",
      " 0   CarNumber   930 non-null    object \n",
      " 1   Refund      930 non-null    float32\n",
      " 2   Fines       930 non-null    float32\n",
      " 3   Make        930 non-null    object \n",
      " 4   Model       918 non-null    object \n",
      " 5   Year        930 non-null    int16  \n",
      " 6   Calculated  930 non-null    float32\n",
      "dtypes: float32(3), int16(1), object(3)\n",
      "memory usage: 187.4 KB\n"
     ]
    }
   ],
   "source": [
    "optimized.info(memory_usage='deep')"
   ]
  },
  {
   "cell_type": "markdown",
   "id": "b8701ca4-1c6b-4ad1-b83e-517f12c0a622",
   "metadata": {},
   "source": [
    "меняем object тип столбцов на тип category и проверяем использование памяти"
   ]
  },
  {
   "cell_type": "code",
   "execution_count": 99,
   "id": "e073060e-3fc0-4b47-ba79-e9893f52eed5",
   "metadata": {},
   "outputs": [],
   "source": [
    "object_cols = optimized.select_dtypes(include=['object']).columns\n",
    "for col in object_cols:\n",
    "    optimized[col] = optimized[col].astype('category')"
   ]
  },
  {
   "cell_type": "code",
   "execution_count": 100,
   "id": "6b9ff293-ac5b-427f-9df3-b318921272c5",
   "metadata": {},
   "outputs": [
    {
     "name": "stdout",
     "output_type": "stream",
     "text": [
      "<class 'pandas.core.frame.DataFrame'>\n",
      "RangeIndex: 930 entries, 0 to 929\n",
      "Data columns (total 7 columns):\n",
      " #   Column      Non-Null Count  Dtype   \n",
      "---  ------      --------------  -----   \n",
      " 0   CarNumber   930 non-null    category\n",
      " 1   Refund      930 non-null    float32 \n",
      " 2   Fines       930 non-null    float32 \n",
      " 3   Make        930 non-null    category\n",
      " 4   Model       918 non-null    category\n",
      " 5   Year        930 non-null    int16   \n",
      " 6   Calculated  930 non-null    float32 \n",
      "dtypes: category(3), float32(3), int16(1)\n",
      "memory usage: 70.9 KB\n"
     ]
    }
   ],
   "source": [
    "optimized.info(memory_usage='deep')"
   ]
  },
  {
   "cell_type": "markdown",
   "id": "188a6c0a-9382-4f8e-83c0-9075ecd76493",
   "metadata": {},
   "source": [
    "используем %reset_selective и библиотеку gc очищаем память"
   ]
  },
  {
   "cell_type": "code",
   "execution_count": 101,
   "id": "bd27a565-2b23-4e40-b31b-e43dbfbb7d60",
   "metadata": {},
   "outputs": [],
   "source": [
    "%reset_selective -f df"
   ]
  },
  {
   "cell_type": "code",
   "execution_count": 102,
   "id": "d86cde66-9d2d-4c12-8c7d-97fbf9ea9ee0",
   "metadata": {},
   "outputs": [
    {
     "ename": "NameError",
     "evalue": "name 'df' is not defined",
     "output_type": "error",
     "traceback": [
      "\u001b[31m---------------------------------------------------------------------------\u001b[39m",
      "\u001b[31mNameError\u001b[39m                                 Traceback (most recent call last)",
      "\u001b[36mCell\u001b[39m\u001b[36m \u001b[39m\u001b[32mIn[102]\u001b[39m\u001b[32m, line 1\u001b[39m\n\u001b[32m----> \u001b[39m\u001b[32m1\u001b[39m \u001b[38;5;28;01mdel\u001b[39;00m \u001b[43mdf\u001b[49m\n\u001b[32m      2\u001b[39m gc.collect()\n",
      "\u001b[31mNameError\u001b[39m: name 'df' is not defined"
     ]
    }
   ],
   "source": [
    "del df\n",
    "gc.collect()"
   ]
  },
  {
   "cell_type": "code",
   "execution_count": null,
   "id": "70e65aab-4e7d-4638-aef7-4f35a8b75b54",
   "metadata": {},
   "outputs": [],
   "source": [
    "df"
   ]
  },
  {
   "cell_type": "code",
   "execution_count": null,
   "id": "ad51e3a3-3486-4bc1-bd14-3bbdb16aeb12",
   "metadata": {},
   "outputs": [],
   "source": []
  }
 ],
 "metadata": {
  "kernelspec": {
   "display_name": "Python 3 (ipykernel)",
   "language": "python",
   "name": "python3"
  },
  "language_info": {
   "codemirror_mode": {
    "name": "ipython",
    "version": 3
   },
   "file_extension": ".py",
   "mimetype": "text/x-python",
   "name": "python",
   "nbconvert_exporter": "python",
   "pygments_lexer": "ipython3",
   "version": "3.11.4"
  }
 },
 "nbformat": 4,
 "nbformat_minor": 5
}

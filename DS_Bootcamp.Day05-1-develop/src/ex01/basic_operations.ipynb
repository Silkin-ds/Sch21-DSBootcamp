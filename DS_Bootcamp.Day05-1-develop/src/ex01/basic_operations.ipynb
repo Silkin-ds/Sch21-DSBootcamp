{
 "cells": [
  {
   "cell_type": "code",
   "execution_count": 1,
   "id": "b6a77880-1e8f-4b5e-9075-ea3faab855d5",
   "metadata": {},
   "outputs": [],
   "source": [
    "import pandas as pd"
   ]
  },
  {
   "cell_type": "markdown",
   "id": "0733be45-f806-4bf6-a0f2-272529ebc359",
   "metadata": {},
   "source": [
    "считываем наш файл,создаем 2 столбца и преобразуем datetime to the datetime64[ns] Dtype и создаем новые столбцы с этими данными"
   ]
  },
  {
   "cell_type": "code",
   "execution_count": 169,
   "id": "c44d3b80-9a71-4fd7-a265-dd1c8cdac265",
   "metadata": {},
   "outputs": [],
   "source": [
    "views = pd.read_csv(\"../../datasets/feed-views.log\",sep=\"\\t\",names=[\"datetime\",\"user\"])"
   ]
  },
  {
   "cell_type": "code",
   "execution_count": 170,
   "id": "2ff6e3eb-7fee-46d3-a16f-015472a4a830",
   "metadata": {},
   "outputs": [],
   "source": [
    "views.datetime = pd.to_datetime(views.datetime)"
   ]
  },
  {
   "cell_type": "code",
   "execution_count": 171,
   "id": "90f67bdb-5469-47ee-be6a-c61357218ceb",
   "metadata": {},
   "outputs": [],
   "source": [
    "views['year'] = views['datetime'].dt.year\n",
    "views['month'] = views['datetime'].dt.month\n",
    "views['day'] = views['datetime'].dt.day\n",
    "views['hour'] = views['datetime'].dt.hour\n",
    "views['minute'] = views['datetime'].dt.minute\n",
    "views['second'] = views['datetime'].dt.second"
   ]
  },
  {
   "cell_type": "code",
   "execution_count": 172,
   "id": "2ab162ab-1a99-472d-9a80-fcac66d2884c",
   "metadata": {},
   "outputs": [
    {
     "data": {
      "text/html": [
       "<div>\n",
       "<style scoped>\n",
       "    .dataframe tbody tr th:only-of-type {\n",
       "        vertical-align: middle;\n",
       "    }\n",
       "\n",
       "    .dataframe tbody tr th {\n",
       "        vertical-align: top;\n",
       "    }\n",
       "\n",
       "    .dataframe thead th {\n",
       "        text-align: right;\n",
       "    }\n",
       "</style>\n",
       "<table border=\"1\" class=\"dataframe\">\n",
       "  <thead>\n",
       "    <tr style=\"text-align: right;\">\n",
       "      <th></th>\n",
       "      <th>datetime</th>\n",
       "      <th>user</th>\n",
       "      <th>year</th>\n",
       "      <th>month</th>\n",
       "      <th>day</th>\n",
       "      <th>hour</th>\n",
       "      <th>minute</th>\n",
       "      <th>second</th>\n",
       "    </tr>\n",
       "  </thead>\n",
       "  <tbody>\n",
       "    <tr>\n",
       "      <th>0</th>\n",
       "      <td>2020-04-17 12:01:08.463179</td>\n",
       "      <td>artem</td>\n",
       "      <td>2020</td>\n",
       "      <td>4</td>\n",
       "      <td>17</td>\n",
       "      <td>12</td>\n",
       "      <td>1</td>\n",
       "      <td>8</td>\n",
       "    </tr>\n",
       "    <tr>\n",
       "      <th>1</th>\n",
       "      <td>2020-04-17 12:01:23.743946</td>\n",
       "      <td>artem</td>\n",
       "      <td>2020</td>\n",
       "      <td>4</td>\n",
       "      <td>17</td>\n",
       "      <td>12</td>\n",
       "      <td>1</td>\n",
       "      <td>23</td>\n",
       "    </tr>\n",
       "    <tr>\n",
       "      <th>2</th>\n",
       "      <td>2020-04-17 12:27:30.646665</td>\n",
       "      <td>artem</td>\n",
       "      <td>2020</td>\n",
       "      <td>4</td>\n",
       "      <td>17</td>\n",
       "      <td>12</td>\n",
       "      <td>27</td>\n",
       "      <td>30</td>\n",
       "    </tr>\n",
       "    <tr>\n",
       "      <th>3</th>\n",
       "      <td>2020-04-17 12:35:44.884757</td>\n",
       "      <td>artem</td>\n",
       "      <td>2020</td>\n",
       "      <td>4</td>\n",
       "      <td>17</td>\n",
       "      <td>12</td>\n",
       "      <td>35</td>\n",
       "      <td>44</td>\n",
       "    </tr>\n",
       "    <tr>\n",
       "      <th>4</th>\n",
       "      <td>2020-04-17 12:35:52.735016</td>\n",
       "      <td>artem</td>\n",
       "      <td>2020</td>\n",
       "      <td>4</td>\n",
       "      <td>17</td>\n",
       "      <td>12</td>\n",
       "      <td>35</td>\n",
       "      <td>52</td>\n",
       "    </tr>\n",
       "  </tbody>\n",
       "</table>\n",
       "</div>"
      ],
      "text/plain": [
       "                    datetime   user  year  month  day  hour  minute  second\n",
       "0 2020-04-17 12:01:08.463179  artem  2020      4   17    12       1       8\n",
       "1 2020-04-17 12:01:23.743946  artem  2020      4   17    12       1      23\n",
       "2 2020-04-17 12:27:30.646665  artem  2020      4   17    12      27      30\n",
       "3 2020-04-17 12:35:44.884757  artem  2020      4   17    12      35      44\n",
       "4 2020-04-17 12:35:52.735016  artem  2020      4   17    12      35      52"
      ]
     },
     "execution_count": 172,
     "metadata": {},
     "output_type": "execute_result"
    }
   ],
   "source": [
    "views.head()"
   ]
  },
  {
   "cell_type": "markdown",
   "id": "cabd5d5b-6f63-4ccc-ac4a-9b0c313a5d0e",
   "metadata": {},
   "source": [
    "создаем новый столбец daytime,назначаем столбец user как index"
   ]
  },
  {
   "cell_type": "code",
   "execution_count": 173,
   "id": "9c45691b-0771-46c4-8c11-5672c936c99d",
   "metadata": {},
   "outputs": [],
   "source": [
    "bins = [-1, 3, 6, 10, 16, 19, 23]\n",
    "labels = ['night', 'early morning', 'morning', 'afternoon', 'early evening', 'evening']\n",
    "views['daytime'] = pd.cut(views['hour'], bins=bins, labels=labels)\n",
    "views = views.set_index('user')"
   ]
  },
  {
   "cell_type": "code",
   "execution_count": 174,
   "id": "7331cc93-1148-4fea-9949-afda1919072a",
   "metadata": {},
   "outputs": [
    {
     "data": {
      "text/html": [
       "<div>\n",
       "<style scoped>\n",
       "    .dataframe tbody tr th:only-of-type {\n",
       "        vertical-align: middle;\n",
       "    }\n",
       "\n",
       "    .dataframe tbody tr th {\n",
       "        vertical-align: top;\n",
       "    }\n",
       "\n",
       "    .dataframe thead th {\n",
       "        text-align: right;\n",
       "    }\n",
       "</style>\n",
       "<table border=\"1\" class=\"dataframe\">\n",
       "  <thead>\n",
       "    <tr style=\"text-align: right;\">\n",
       "      <th></th>\n",
       "      <th>datetime</th>\n",
       "      <th>year</th>\n",
       "      <th>month</th>\n",
       "      <th>day</th>\n",
       "      <th>hour</th>\n",
       "      <th>minute</th>\n",
       "      <th>second</th>\n",
       "      <th>daytime</th>\n",
       "    </tr>\n",
       "    <tr>\n",
       "      <th>user</th>\n",
       "      <th></th>\n",
       "      <th></th>\n",
       "      <th></th>\n",
       "      <th></th>\n",
       "      <th></th>\n",
       "      <th></th>\n",
       "      <th></th>\n",
       "      <th></th>\n",
       "    </tr>\n",
       "  </thead>\n",
       "  <tbody>\n",
       "    <tr>\n",
       "      <th>valentina</th>\n",
       "      <td>2020-05-21 18:45:20.441142</td>\n",
       "      <td>2020</td>\n",
       "      <td>5</td>\n",
       "      <td>21</td>\n",
       "      <td>18</td>\n",
       "      <td>45</td>\n",
       "      <td>20</td>\n",
       "      <td>early evening</td>\n",
       "    </tr>\n",
       "    <tr>\n",
       "      <th>maxim</th>\n",
       "      <td>2020-05-21 23:03:06.457819</td>\n",
       "      <td>2020</td>\n",
       "      <td>5</td>\n",
       "      <td>21</td>\n",
       "      <td>23</td>\n",
       "      <td>3</td>\n",
       "      <td>6</td>\n",
       "      <td>evening</td>\n",
       "    </tr>\n",
       "    <tr>\n",
       "      <th>pavel</th>\n",
       "      <td>2020-05-21 23:23:49.995349</td>\n",
       "      <td>2020</td>\n",
       "      <td>5</td>\n",
       "      <td>21</td>\n",
       "      <td>23</td>\n",
       "      <td>23</td>\n",
       "      <td>49</td>\n",
       "      <td>evening</td>\n",
       "    </tr>\n",
       "    <tr>\n",
       "      <th>artem</th>\n",
       "      <td>2020-05-21 23:49:22.386789</td>\n",
       "      <td>2020</td>\n",
       "      <td>5</td>\n",
       "      <td>21</td>\n",
       "      <td>23</td>\n",
       "      <td>49</td>\n",
       "      <td>22</td>\n",
       "      <td>evening</td>\n",
       "    </tr>\n",
       "    <tr>\n",
       "      <th>artem</th>\n",
       "      <td>2020-05-22 10:36:14.662600</td>\n",
       "      <td>2020</td>\n",
       "      <td>5</td>\n",
       "      <td>22</td>\n",
       "      <td>10</td>\n",
       "      <td>36</td>\n",
       "      <td>14</td>\n",
       "      <td>morning</td>\n",
       "    </tr>\n",
       "  </tbody>\n",
       "</table>\n",
       "</div>"
      ],
      "text/plain": [
       "                            datetime  year  month  day  hour  minute  second  \\\n",
       "user                                                                           \n",
       "valentina 2020-05-21 18:45:20.441142  2020      5   21    18      45      20   \n",
       "maxim     2020-05-21 23:03:06.457819  2020      5   21    23       3       6   \n",
       "pavel     2020-05-21 23:23:49.995349  2020      5   21    23      23      49   \n",
       "artem     2020-05-21 23:49:22.386789  2020      5   21    23      49      22   \n",
       "artem     2020-05-22 10:36:14.662600  2020      5   22    10      36      14   \n",
       "\n",
       "                 daytime  \n",
       "user                      \n",
       "valentina  early evening  \n",
       "maxim            evening  \n",
       "pavel            evening  \n",
       "artem            evening  \n",
       "artem            morning  "
      ]
     },
     "execution_count": 174,
     "metadata": {},
     "output_type": "execute_result"
    }
   ],
   "source": [
    "views.tail()"
   ]
  },
  {
   "cell_type": "markdown",
   "id": "a69c9eb8-619c-4555-997d-9c12313ff69e",
   "metadata": {},
   "source": [
    "считаем количество элементов в нашем df и считаем колво элементов в каждой категории времени суток"
   ]
  },
  {
   "cell_type": "code",
   "execution_count": 175,
   "id": "874fb9de-3b23-498c-8f9d-b134d435fbb8",
   "metadata": {},
   "outputs": [
    {
     "name": "stdout",
     "output_type": "stream",
     "text": [
      "datetime    1076\n",
      "year        1076\n",
      "month       1076\n",
      "day         1076\n",
      "hour        1076\n",
      "minute      1076\n",
      "second      1076\n",
      "daytime     1076\n",
      "dtype: int64\n",
      "daytime\n",
      "evening          509\n",
      "afternoon        252\n",
      "early evening    145\n",
      "night            129\n",
      "morning           36\n",
      "early morning      5\n",
      "Name: daytime, dtype: int64\n"
     ]
    }
   ],
   "source": [
    "print(views.count())\n",
    "print(views.daytime.value_counts().rename('daytime'))"
   ]
  },
  {
   "cell_type": "markdown",
   "id": "42a84afc-6a37-471f-b1ee-ce1a78594117",
   "metadata": {},
   "source": [
    "сортировка по времени в порядке возрастания"
   ]
  },
  {
   "cell_type": "code",
   "execution_count": 176,
   "id": "e552426a-0264-4955-9f21-dc56299f0125",
   "metadata": {},
   "outputs": [
    {
     "data": {
      "text/html": [
       "<div>\n",
       "<style scoped>\n",
       "    .dataframe tbody tr th:only-of-type {\n",
       "        vertical-align: middle;\n",
       "    }\n",
       "\n",
       "    .dataframe tbody tr th {\n",
       "        vertical-align: top;\n",
       "    }\n",
       "\n",
       "    .dataframe thead th {\n",
       "        text-align: right;\n",
       "    }\n",
       "</style>\n",
       "<table border=\"1\" class=\"dataframe\">\n",
       "  <thead>\n",
       "    <tr style=\"text-align: right;\">\n",
       "      <th></th>\n",
       "      <th>datetime</th>\n",
       "      <th>year</th>\n",
       "      <th>month</th>\n",
       "      <th>day</th>\n",
       "      <th>hour</th>\n",
       "      <th>minute</th>\n",
       "      <th>second</th>\n",
       "      <th>daytime</th>\n",
       "    </tr>\n",
       "    <tr>\n",
       "      <th>user</th>\n",
       "      <th></th>\n",
       "      <th></th>\n",
       "      <th></th>\n",
       "      <th></th>\n",
       "      <th></th>\n",
       "      <th></th>\n",
       "      <th></th>\n",
       "      <th></th>\n",
       "    </tr>\n",
       "  </thead>\n",
       "  <tbody>\n",
       "    <tr>\n",
       "      <th>valentina</th>\n",
       "      <td>2020-05-15 00:00:13.222265</td>\n",
       "      <td>2020</td>\n",
       "      <td>5</td>\n",
       "      <td>15</td>\n",
       "      <td>0</td>\n",
       "      <td>0</td>\n",
       "      <td>13</td>\n",
       "      <td>night</td>\n",
       "    </tr>\n",
       "    <tr>\n",
       "      <th>valentina</th>\n",
       "      <td>2020-05-15 00:01:05.153738</td>\n",
       "      <td>2020</td>\n",
       "      <td>5</td>\n",
       "      <td>15</td>\n",
       "      <td>0</td>\n",
       "      <td>1</td>\n",
       "      <td>5</td>\n",
       "      <td>night</td>\n",
       "    </tr>\n",
       "    <tr>\n",
       "      <th>pavel</th>\n",
       "      <td>2020-05-12 00:01:27.764025</td>\n",
       "      <td>2020</td>\n",
       "      <td>5</td>\n",
       "      <td>12</td>\n",
       "      <td>0</td>\n",
       "      <td>1</td>\n",
       "      <td>27</td>\n",
       "      <td>night</td>\n",
       "    </tr>\n",
       "    <tr>\n",
       "      <th>pavel</th>\n",
       "      <td>2020-05-12 00:01:38.444917</td>\n",
       "      <td>2020</td>\n",
       "      <td>5</td>\n",
       "      <td>12</td>\n",
       "      <td>0</td>\n",
       "      <td>1</td>\n",
       "      <td>38</td>\n",
       "      <td>night</td>\n",
       "    </tr>\n",
       "    <tr>\n",
       "      <th>pavel</th>\n",
       "      <td>2020-05-12 00:01:55.395042</td>\n",
       "      <td>2020</td>\n",
       "      <td>5</td>\n",
       "      <td>12</td>\n",
       "      <td>0</td>\n",
       "      <td>1</td>\n",
       "      <td>55</td>\n",
       "      <td>night</td>\n",
       "    </tr>\n",
       "  </tbody>\n",
       "</table>\n",
       "</div>"
      ],
      "text/plain": [
       "                            datetime  year  month  day  hour  minute  second  \\\n",
       "user                                                                           \n",
       "valentina 2020-05-15 00:00:13.222265  2020      5   15     0       0      13   \n",
       "valentina 2020-05-15 00:01:05.153738  2020      5   15     0       1       5   \n",
       "pavel     2020-05-12 00:01:27.764025  2020      5   12     0       1      27   \n",
       "pavel     2020-05-12 00:01:38.444917  2020      5   12     0       1      38   \n",
       "pavel     2020-05-12 00:01:55.395042  2020      5   12     0       1      55   \n",
       "\n",
       "          daytime  \n",
       "user               \n",
       "valentina   night  \n",
       "valentina   night  \n",
       "pavel       night  \n",
       "pavel       night  \n",
       "pavel       night  "
      ]
     },
     "execution_count": 176,
     "metadata": {},
     "output_type": "execute_result"
    }
   ],
   "source": [
    "sorted_views = views.sort_values(['hour', 'minute', 'second'])\n",
    "sorted_views.head()"
   ]
  },
  {
   "cell_type": "markdown",
   "id": "481b2425-a54d-4e5e-9de5-903ae4c0e840",
   "metadata": {},
   "source": [
    "рассчитываем минимум,где время суток - утро и максимум,где время суток - ночь;приводим пример посещения страницы и считаем моду на час и время суток"
   ]
  },
  {
   "cell_type": "code",
   "execution_count": 177,
   "id": "fd5aa531-3677-4482-8d4e-6bd5d339d3d9",
   "metadata": {},
   "outputs": [
    {
     "name": "stdout",
     "output_type": "stream",
     "text": [
      "3\n",
      "8\n"
     ]
    }
   ],
   "source": [
    "print(views[views.daytime == 'night'].hour.max())\n",
    "print(views[views.daytime == 'morning'].hour.min())"
   ]
  },
  {
   "cell_type": "code",
   "execution_count": 178,
   "id": "c09d8542-b654-40c8-a086-413178b71a4c",
   "metadata": {},
   "outputs": [
    {
     "name": "stdout",
     "output_type": "stream",
     "text": [
      "alexander\n"
     ]
    }
   ],
   "source": [
    "morning = views[views.daytime == 'morning']\n",
    "min_morning = morning.hour.min()\n",
    "print(morning[morning.hour == min_morning].index[0])"
   ]
  },
  {
   "cell_type": "code",
   "execution_count": 179,
   "id": "fe92f89e-4ed7-4a7f-a635-d1d56b998e43",
   "metadata": {},
   "outputs": [
    {
     "name": "stdout",
     "output_type": "stream",
     "text": [
      "22\n",
      "evening\n"
     ]
    }
   ],
   "source": [
    "print(views.hour.mode()[0])\n",
    "print(views.daytime.mode()[0])"
   ]
  },
  {
   "cell_type": "markdown",
   "id": "4088fd26-0a6a-46e1-ac59-d6388ad8b195",
   "metadata": {},
   "source": [
    "выводим 3 самых ранних утренних часа,а также 3 самых поздних часа вместе с именем пользователя"
   ]
  },
  {
   "cell_type": "code",
   "execution_count": 180,
   "id": "f4d2c831-9a4b-41c9-8ccf-565be6045594",
   "metadata": {},
   "outputs": [
    {
     "name": "stdout",
     "output_type": "stream",
     "text": [
      "           hour  minute  second\n",
      "user                           \n",
      "valentina     0       0      13\n",
      "valentina     0       1       5\n",
      "pavel         0       1      27\n",
      "           hour  minute  second\n",
      "user                           \n",
      "alexander    23      59      38\n",
      "valentina    23      58      56\n",
      "pavel        23      54      54\n"
     ]
    }
   ],
   "source": [
    "print(views.nsmallest(3, ['hour', 'minute', 'second'])[['hour', 'minute', 'second']])\n",
    "print(views.nlargest(3, ['hour', 'minute', 'second'])[['hour', 'minute', 'second']])"
   ]
  },
  {
   "cell_type": "markdown",
   "id": "47af959d-b95d-4c2e-9c7a-8b01e2b7d9d3",
   "metadata": {},
   "source": [
    "считаем какой интервал посещенения является самым популярным,считаем межквартельный диапазон"
   ]
  },
  {
   "cell_type": "code",
   "execution_count": 181,
   "id": "6abe8e55-77fe-4577-ae81-1c75e5d7d632",
   "metadata": {},
   "outputs": [
    {
     "name": "stdout",
     "output_type": "stream",
     "text": [
      "9.0\n"
     ]
    }
   ],
   "source": [
    "q1 = views.hour.describe()['25%']\n",
    "q3 = views.hour.describe()['75%']\n",
    "iqr = q3 - q1\n",
    "print(iqr)"
   ]
  },
  {
   "cell_type": "markdown",
   "id": "652c098e-86c6-46b5-b2d1-f6124b63de38",
   "metadata": {},
   "source": [
    "тест из чек листа"
   ]
  },
  {
   "cell_type": "code",
   "execution_count": 182,
   "id": "2e3d9d72-6aa9-4eec-b928-673c1733b0cd",
   "metadata": {},
   "outputs": [
    {
     "name": "stdout",
     "output_type": "stream",
     "text": [
      "<class 'pandas.core.frame.DataFrame'>\n",
      "Index: 1076 entries, artem to artem\n",
      "Data columns (total 8 columns):\n",
      " #   Column    Non-Null Count  Dtype         \n",
      "---  ------    --------------  -----         \n",
      " 0   datetime  1076 non-null   datetime64[ns]\n",
      " 1   year      1076 non-null   int32         \n",
      " 2   month     1076 non-null   int32         \n",
      " 3   day       1076 non-null   int32         \n",
      " 4   hour      1076 non-null   int32         \n",
      " 5   minute    1076 non-null   int32         \n",
      " 6   second    1076 non-null   int32         \n",
      " 7   daytime   1076 non-null   category      \n",
      "dtypes: category(1), datetime64[ns](1), int32(6)\n",
      "memory usage: 75.6+ KB\n"
     ]
    }
   ],
   "source": [
    "views.info()"
   ]
  },
  {
   "cell_type": "code",
   "execution_count": null,
   "id": "4ea7e1d6-dcf7-4046-a183-8f3ea1414d0c",
   "metadata": {},
   "outputs": [],
   "source": []
  }
 ],
 "metadata": {
  "kernelspec": {
   "display_name": "Python 3 (ipykernel)",
   "language": "python",
   "name": "python3"
  },
  "language_info": {
   "codemirror_mode": {
    "name": "ipython",
    "version": 3
   },
   "file_extension": ".py",
   "mimetype": "text/x-python",
   "name": "python",
   "nbconvert_exporter": "python",
   "pygments_lexer": "ipython3",
   "version": "3.11.4"
  }
 },
 "nbformat": 4,
 "nbformat_minor": 5
}

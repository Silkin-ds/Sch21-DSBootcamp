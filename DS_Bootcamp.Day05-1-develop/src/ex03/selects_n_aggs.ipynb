{
 "cells": [
  {
   "cell_type": "code",
   "execution_count": 1,
   "id": "108d4de4-5278-4b7b-a562-7e25d0fbc633",
   "metadata": {},
   "outputs": [],
   "source": [
    "import pandas as pd"
   ]
  },
  {
   "cell_type": "markdown",
   "id": "ac0195c9-772c-4048-a3bb-a7d76f47838f",
   "metadata": {},
   "source": [
    "создаем df и в нем устанавливаем carnumber как индексный столбец"
   ]
  },
  {
   "cell_type": "code",
   "execution_count": 29,
   "id": "f0039fca-3a7e-46af-87fc-fbb845292327",
   "metadata": {},
   "outputs": [],
   "source": [
    "df = pd.read_json('../../datasets/auto.json').set_index('CarNumber')"
   ]
  },
  {
   "cell_type": "code",
   "execution_count": 30,
   "id": "16bc1079-9a4e-4a24-a804-ba79e6a56814",
   "metadata": {},
   "outputs": [
    {
     "data": {
      "text/html": [
       "<div>\n",
       "<style scoped>\n",
       "    .dataframe tbody tr th:only-of-type {\n",
       "        vertical-align: middle;\n",
       "    }\n",
       "\n",
       "    .dataframe tbody tr th {\n",
       "        vertical-align: top;\n",
       "    }\n",
       "\n",
       "    .dataframe thead th {\n",
       "        text-align: right;\n",
       "    }\n",
       "</style>\n",
       "<table border=\"1\" class=\"dataframe\">\n",
       "  <thead>\n",
       "    <tr style=\"text-align: right;\">\n",
       "      <th></th>\n",
       "      <th>Refund</th>\n",
       "      <th>Fines</th>\n",
       "      <th>Make</th>\n",
       "      <th>Model</th>\n",
       "    </tr>\n",
       "    <tr>\n",
       "      <th>CarNumber</th>\n",
       "      <th></th>\n",
       "      <th></th>\n",
       "      <th></th>\n",
       "      <th></th>\n",
       "    </tr>\n",
       "  </thead>\n",
       "  <tbody>\n",
       "    <tr>\n",
       "      <th>Y163O8161RUS</th>\n",
       "      <td>2</td>\n",
       "      <td>3200.0</td>\n",
       "      <td>Ford</td>\n",
       "      <td>Focus</td>\n",
       "    </tr>\n",
       "    <tr>\n",
       "      <th>E432XX77RUS</th>\n",
       "      <td>1</td>\n",
       "      <td>6500.0</td>\n",
       "      <td>Toyota</td>\n",
       "      <td>Camry</td>\n",
       "    </tr>\n",
       "    <tr>\n",
       "      <th>7184TT36RUS</th>\n",
       "      <td>1</td>\n",
       "      <td>2100.0</td>\n",
       "      <td>Ford</td>\n",
       "      <td>Focus</td>\n",
       "    </tr>\n",
       "    <tr>\n",
       "      <th>X582HE161RUS</th>\n",
       "      <td>2</td>\n",
       "      <td>2000.0</td>\n",
       "      <td>Ford</td>\n",
       "      <td>Focus</td>\n",
       "    </tr>\n",
       "    <tr>\n",
       "      <th>92918M178RUS</th>\n",
       "      <td>1</td>\n",
       "      <td>5700.0</td>\n",
       "      <td>Ford</td>\n",
       "      <td>Focus</td>\n",
       "    </tr>\n",
       "  </tbody>\n",
       "</table>\n",
       "</div>"
      ],
      "text/plain": [
       "              Refund   Fines    Make  Model\n",
       "CarNumber                                  \n",
       "Y163O8161RUS       2  3200.0    Ford  Focus\n",
       "E432XX77RUS        1  6500.0  Toyota  Camry\n",
       "7184TT36RUS        1  2100.0    Ford  Focus\n",
       "X582HE161RUS       2  2000.0    Ford  Focus\n",
       "92918M178RUS       1  5700.0    Ford  Focus"
      ]
     },
     "execution_count": 30,
     "metadata": {},
     "output_type": "execute_result"
    }
   ],
   "source": [
    "df.head()"
   ]
  },
  {
   "cell_type": "markdown",
   "id": "aed27060-cc5d-44e5-8d14-a931c5bda022",
   "metadata": {},
   "source": [
    "проводим выборку:fines>2100,fines>2100 и refund=2, models=focus,corolla,номер авто равен одному из 5 представленных"
   ]
  },
  {
   "cell_type": "code",
   "execution_count": 31,
   "id": "96ac5d96-9575-4c5f-bb28-b985d3306d11",
   "metadata": {},
   "outputs": [
    {
     "name": "stdout",
     "output_type": "stream",
     "text": [
      "              Refund         Fines        Make    Model\n",
      "CarNumber                                              \n",
      "Y163O8161RUS       2   3200.000000        Ford    Focus\n",
      "E432XX77RUS        1   6500.000000      Toyota    Camry\n",
      "92918M178RUS       1   5700.000000        Ford    Focus\n",
      "H234YH197RUS       2   6000.000000        Ford    Focus\n",
      "E40577152RUS       1   8594.586466        Ford    Focus\n",
      "...              ...           ...         ...      ...\n",
      "O718MM163RUS       2   8594.586466        Ford    Focus\n",
      "7065C8197RUS       2  11400.000000  Volkswagen   Passat\n",
      "O22097197RUS       1  24300.000000        Ford    Focus\n",
      "M0309X197RUS       1  22300.000000        Ford    Focus\n",
      "H419XE197RUS       2   8594.586466      Toyota  Corolla\n",
      "\n",
      "[455 rows x 4 columns]\n"
     ]
    }
   ],
   "source": [
    "print(df[df['Fines'] > 2100])"
   ]
  },
  {
   "cell_type": "code",
   "execution_count": 32,
   "id": "9d097067-d996-48da-ac10-b93b301951f6",
   "metadata": {},
   "outputs": [
    {
     "name": "stdout",
     "output_type": "stream",
     "text": [
      "              Refund         Fines        Make    Model\n",
      "CarNumber                                              \n",
      "Y163O8161RUS       2   3200.000000        Ford    Focus\n",
      "H234YH197RUS       2   6000.000000        Ford    Focus\n",
      "707987163RUS       2   2200.000000        Ford    Focus\n",
      "K330T8197RUS       2   8200.000000       Skoda  Octavia\n",
      "M592CH197RUS       2   8594.586466       Skoda  Octavia\n",
      "...              ...           ...         ...      ...\n",
      "O136HO197RUS       2   7800.000000      Toyota  Corolla\n",
      "O68897197RUS       2  12300.000000        Ford    Focus\n",
      "O718MM163RUS       2   8594.586466        Ford    Focus\n",
      "7065C8197RUS       2  11400.000000  Volkswagen   Passat\n",
      "H419XE197RUS       2   8594.586466      Toyota  Corolla\n",
      "\n",
      "[309 rows x 4 columns]\n"
     ]
    }
   ],
   "source": [
    "print(df[(df['Fines'] > 2100) & (df['Refund'] == 2)])"
   ]
  },
  {
   "cell_type": "code",
   "execution_count": 33,
   "id": "0c56fb00-46b7-48d3-8852-e591f5bc65b3",
   "metadata": {},
   "outputs": [
    {
     "name": "stdout",
     "output_type": "stream",
     "text": [
      "              Refund         Fines    Make    Model\n",
      "CarNumber                                          \n",
      "Y163O8161RUS       2   3200.000000    Ford    Focus\n",
      "7184TT36RUS        1   2100.000000    Ford    Focus\n",
      "X582HE161RUS       2   2000.000000    Ford    Focus\n",
      "92918M178RUS       1   5700.000000    Ford    Focus\n",
      "H234YH197RUS       2   6000.000000    Ford    Focus\n",
      "...              ...           ...     ...      ...\n",
      "Y163O8161RUS       2   1600.000000    Ford    Focus\n",
      "M0309X197RUS       1  22300.000000    Ford    Focus\n",
      "O673E8197RUS       2    600.000000    Ford    Focus\n",
      "8610T8154RUS       1   2000.000000    Ford    Focus\n",
      "H419XE197RUS       2   8594.586466  Toyota  Corolla\n",
      "\n",
      "[593 rows x 4 columns]\n"
     ]
    }
   ],
   "source": [
    "print(df[df['Model'].isin(['Focus', 'Corolla'])])"
   ]
  },
  {
   "cell_type": "code",
   "execution_count": 34,
   "id": "375ef99d-c7a1-48af-8542-666a19b32afa",
   "metadata": {},
   "outputs": [
    {
     "name": "stdout",
     "output_type": "stream",
     "text": [
      "              Refund          Fines  Make  Model\n",
      "CarNumber                                       \n",
      "92928M178RUS       1    8594.586466  Ford  Focus\n",
      "H115YO163RUS       1    2200.000000  Ford  Focus\n",
      "7788KT197RUS       2   12000.000000  Ford  Focus\n",
      "X758HY197RUS       2   24200.000000  Ford  Focus\n",
      "X758HY197RUS       2   72600.000000  Ford  Focus\n",
      "Y7689C197RUS       1   27000.000000  Ford  Focus\n",
      "92928M178RUS       1     600.000000  Ford  Focus\n",
      "H115YO163RUS       1    8594.586466  Ford  Focus\n",
      "H115YO163RUS       2    1100.000000  Ford  Focus\n",
      "7788KT197RUS       2    8594.586466  Ford  Focus\n",
      "7788KT197RUS       1   20000.000000  Ford  Focus\n",
      "X758HY197RUS       2  145200.000000  Ford  Focus\n",
      "92928M178RUS       1    1200.000000  Ford  Focus\n",
      "Y7689C197RUS       2    9000.000000  Ford  Focus\n",
      "Y7689C197RUS       2   45000.000000  Ford  Focus\n",
      "7788KT197RUS       2    4000.000000  Ford  Focus\n",
      "Y7689C197RUS       1   36000.000000  Ford  Focus\n",
      "92928M178RUS       2    3000.000000  Ford  Focus\n"
     ]
    }
   ],
   "source": [
    "print(df[df.index.isin(['Y7689C197RUS', '92928M178RUS', '7788KT197RUS', 'H115YO163RUS', 'X758HY197RUS'])])"
   ]
  },
  {
   "cell_type": "markdown",
   "id": "d5635f93-37df-4159-a90f-e6d4da273ba1",
   "metadata": {},
   "source": [
    "отображаем медиану fines по make,медиану fines по make,models,число fines по make,model для проверки,отображаем минимум и максимум, fines сгруппированным по make и model для лучшего понимания дисперсии и отображаем стандартное отклонение сгруппированных fines по make и model\n",
    "для лучшего понимания дисперсии"
   ]
  },
  {
   "cell_type": "code",
   "execution_count": 35,
   "id": "e34bdf2c-cd0f-441a-96fe-0bf0bf54e755",
   "metadata": {},
   "outputs": [
    {
     "name": "stdout",
     "output_type": "stream",
     "text": [
      "Make\n",
      "Audi          4200.0\n",
      "BMW           6500.0\n",
      "Ford          3500.0\n",
      "Skoda         3250.0\n",
      "Toyota        7700.0\n",
      "Volkswagen    4300.0\n",
      "Volvo         8500.0\n",
      "Name: Fines, dtype: float64\n"
     ]
    }
   ],
   "source": [
    "print(df.groupby('Make')['Fines'].median())"
   ]
  },
  {
   "cell_type": "code",
   "execution_count": 36,
   "id": "55d30cff-7858-47b1-8a7c-4a0f2d3c133c",
   "metadata": {},
   "outputs": [
    {
     "name": "stdout",
     "output_type": "stream",
     "text": [
      "Make        Model  \n",
      "Ford        Focus      3500.0\n",
      "            Mondeo     7650.0\n",
      "Skoda       Octavia    3250.0\n",
      "Toyota      Camry      7700.0\n",
      "            Corolla    7700.0\n",
      "Volkswagen  Golf       4800.0\n",
      "            Jetta      2800.0\n",
      "            Passat     3500.0\n",
      "            Touareg    5800.0\n",
      "Name: Fines, dtype: float64\n"
     ]
    }
   ],
   "source": [
    "print(df.groupby(['Make','Model'])['Fines'].median())"
   ]
  },
  {
   "cell_type": "code",
   "execution_count": 37,
   "id": "159fbc2f-badf-40f3-8286-a6fa7e4993fc",
   "metadata": {},
   "outputs": [
    {
     "name": "stdout",
     "output_type": "stream",
     "text": [
      "Make        Model  \n",
      "Ford        Focus      575\n",
      "            Mondeo       6\n",
      "Skoda       Octavia     48\n",
      "Toyota      Camry       16\n",
      "            Corolla     18\n",
      "Volkswagen  Golf        20\n",
      "            Jetta        6\n",
      "            Passat      22\n",
      "            Touareg      5\n",
      "Name: Fines, dtype: int64\n"
     ]
    }
   ],
   "source": [
    "print(df.groupby(['Make','Model'])['Fines'].count())"
   ]
  },
  {
   "cell_type": "code",
   "execution_count": 38,
   "id": "649eff7c-a645-4d52-a196-78aa62b95ffa",
   "metadata": {},
   "outputs": [
    {
     "name": "stdout",
     "output_type": "stream",
     "text": [
      "                       min            max\n",
      "Make       Model                         \n",
      "Ford       Focus     100.0  180000.000000\n",
      "           Mondeo   1100.0   46200.000000\n",
      "Skoda      Octavia   300.0  145000.000000\n",
      "Toyota     Camry     500.0   22400.000000\n",
      "           Corolla   900.0   34300.000000\n",
      "Volkswagen Golf      200.0  168000.000000\n",
      "           Jetta     500.0   46000.000000\n",
      "           Passat    100.0   29700.000000\n",
      "           Touareg   500.0    8594.586466\n"
     ]
    }
   ],
   "source": [
    "print(df.groupby(['Make', 'Model'])['Fines'].agg(['min', 'max']))"
   ]
  },
  {
   "cell_type": "code",
   "execution_count": 39,
   "id": "786f548e-0285-4544-bb7e-cded6a656839",
   "metadata": {},
   "outputs": [
    {
     "name": "stdout",
     "output_type": "stream",
     "text": [
      "Make        Model  \n",
      "Ford        Focus      15041.269437\n",
      "            Mondeo     18987.329108\n",
      "Skoda       Octavia    24339.742174\n",
      "Toyota      Camry       6410.250654\n",
      "            Corolla     9629.325617\n",
      "Volkswagen  Golf       36950.839950\n",
      "            Jetta      17743.026799\n",
      "            Passat      6969.739135\n",
      "            Touareg     3461.778173\n",
      "Name: Fines, dtype: float64\n"
     ]
    }
   ],
   "source": [
    "print(df.groupby(['Make', 'Model'])['Fines'].std())"
   ]
  },
  {
   "cell_type": "markdown",
   "id": "0d26a4c0-bfa5-4dbb-8343-4209052fd2a6",
   "metadata": {},
   "source": [
    "выводим номера автомобилей, сгруппированные по количеству fines в порядке убывания; выбираем из исходного фрейма данных все строки, соответствующие первому номеру автомобиля; выводим номера автомобилей, сгруппированные по сумме fines в порядке убывания; выбираем из исходного фрейма данных все строки, соответствующие первому номеру автомобиля и выводим таблицу номеров автомобилей с разными моделями"
   ]
  },
  {
   "cell_type": "code",
   "execution_count": 40,
   "id": "6f1f1db6-3ec7-4534-a920-75a1682dae4f",
   "metadata": {},
   "outputs": [
    {
     "name": "stdout",
     "output_type": "stream",
     "text": [
      "CarNumber\n",
      "Y7689C197RUS    4\n",
      "7788KT197RUS    4\n",
      "92928M178RUS    4\n",
      "Y7129Y50RUS     3\n",
      "X758HY197RUS    3\n",
      "               ..\n",
      "Y967O8197RUS    1\n",
      "Y965O8197RUS    1\n",
      "Y965EE197RUS    1\n",
      "Y964O8197RUS    1\n",
      "Y964EE197RUS    1\n",
      "Name: Fines, Length: 531, dtype: int64\n"
     ]
    }
   ],
   "source": [
    "print(df.groupby(df.index)['Fines'].count().sort_values(ascending=False))"
   ]
  },
  {
   "cell_type": "code",
   "execution_count": 41,
   "id": "ed6bdefa-7360-47d8-ba7d-5c737249d2d9",
   "metadata": {},
   "outputs": [
    {
     "name": "stdout",
     "output_type": "stream",
     "text": [
      "              Refund    Fines  Make  Model\n",
      "CarNumber                                 \n",
      "Y7689C197RUS       1  27000.0  Ford  Focus\n",
      "Y7689C197RUS       2   9000.0  Ford  Focus\n",
      "Y7689C197RUS       2  45000.0  Ford  Focus\n",
      "Y7689C197RUS       1  36000.0  Ford  Focus\n"
     ]
    }
   ],
   "source": [
    "fines_count = df.groupby(df.index)['Fines'].count().sort_values(ascending=False)\n",
    "print(df.loc[fines_count.index[0]])"
   ]
  },
  {
   "cell_type": "code",
   "execution_count": 42,
   "id": "8ef9795c-46a2-48da-b962-0445d7cd2d30",
   "metadata": {},
   "outputs": [
    {
     "name": "stdout",
     "output_type": "stream",
     "text": [
      "CarNumber\n",
      "X758HY197RUS    242000.0\n",
      "9020YC197RUS    217500.0\n",
      "M0279X197RUS    216000.0\n",
      "Y352O8197RUS    207200.0\n",
      "Y778EE197RUS    192000.0\n",
      "                  ...   \n",
      "Y166O8161RUS       100.0\n",
      "K326T8197RUS       100.0\n",
      "Y195O8161RUS       100.0\n",
      "C58078163RUS       100.0\n",
      "705787163RUS       100.0\n",
      "Name: Fines, Length: 531, dtype: float64\n"
     ]
    }
   ],
   "source": [
    "print(df.groupby(df.index)['Fines'].sum().sort_values(ascending=False))"
   ]
  },
  {
   "cell_type": "code",
   "execution_count": 43,
   "id": "c52f30ff-d3bb-46ac-a9bf-bd0c01303399",
   "metadata": {},
   "outputs": [
    {
     "name": "stdout",
     "output_type": "stream",
     "text": [
      "              Refund     Fines  Make  Model\n",
      "CarNumber                                  \n",
      "X758HY197RUS       2   24200.0  Ford  Focus\n",
      "X758HY197RUS       2   72600.0  Ford  Focus\n",
      "X758HY197RUS       2  145200.0  Ford  Focus\n"
     ]
    }
   ],
   "source": [
    "top_sum=df.groupby(df.index)['Fines'].sum().sort_values(ascending=False)\n",
    "print(df.loc[top_sum.index[0]])"
   ]
  },
  {
   "cell_type": "code",
   "execution_count": 44,
   "id": "fed2e37a-d08c-47b1-af3e-12bd3306414f",
   "metadata": {},
   "outputs": [
    {
     "name": "stdout",
     "output_type": "stream",
     "text": [
      "Empty DataFrame\n",
      "Columns: [Refund, Fines, Make, Model]\n",
      "Index: []\n"
     ]
    }
   ],
   "source": [
    "cars_multiple_models = model_counts[model_counts > 1].index\n",
    "print(df.loc[cars_multiple_models].sort_index())"
   ]
  },
  {
   "cell_type": "code",
   "execution_count": null,
   "id": "a03c59da-49f1-4aa0-a760-4a119c3e78b2",
   "metadata": {},
   "outputs": [],
   "source": []
  }
 ],
 "metadata": {
  "kernelspec": {
   "display_name": "Python 3 (ipykernel)",
   "language": "python",
   "name": "python3"
  },
  "language_info": {
   "codemirror_mode": {
    "name": "ipython",
    "version": 3
   },
   "file_extension": ".py",
   "mimetype": "text/x-python",
   "name": "python",
   "nbconvert_exporter": "python",
   "pygments_lexer": "ipython3",
   "version": "3.11.4"
  }
 },
 "nbformat": 4,
 "nbformat_minor": 5
}

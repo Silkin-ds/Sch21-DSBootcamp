{
 "cells": [
  {
   "cell_type": "code",
   "execution_count": 4,
   "metadata": {},
   "outputs": [],
   "source": [
    "import pandas as pd\n",
    "import sqlite3"
   ]
  },
  {
   "cell_type": "code",
   "execution_count": 5,
   "metadata": {},
   "outputs": [],
   "source": [
    "connect = sqlite3.connect('../../datasets/checking-logs.sqlite')"
   ]
  },
  {
   "cell_type": "markdown",
   "metadata": {},
   "source": [
    "create a new table by joining the tables pageviews and checker"
   ]
  },
  {
   "cell_type": "code",
   "execution_count": 6,
   "metadata": {},
   "outputs": [
    {
     "ename": "OperationalError",
     "evalue": "table datamart already exists",
     "output_type": "error",
     "traceback": [
      "\u001b[31m---------------------------------------------------------------------------\u001b[39m",
      "\u001b[31mOperationalError\u001b[39m                          Traceback (most recent call last)",
      "\u001b[36mCell\u001b[39m\u001b[36m \u001b[39m\u001b[32mIn[6]\u001b[39m\u001b[32m, line 1\u001b[39m\n\u001b[32m----> \u001b[39m\u001b[32m1\u001b[39m \u001b[43mconnect\u001b[49m\u001b[43m.\u001b[49m\u001b[43mexecute\u001b[49m\u001b[43m(\u001b[49m\u001b[33;43m\"\"\"\u001b[39;49m\u001b[33;43m CREATE TABLE datamart AS\u001b[39;49m\n\u001b[32m      2\u001b[39m \u001b[33;43mSELECT c.uid, c.labname, c.timestamp AS first_commit_ts, MIN(p.datetime) as first_view_ts FROM checker c\u001b[39;49m\n\u001b[32m      3\u001b[39m \u001b[33;43mLEFT JOIN pageviews p ON c.uid = p.uid\u001b[39;49m\n\u001b[32m      4\u001b[39m \u001b[33;43mWHERE c.status = \u001b[39;49m\u001b[33;43m'\u001b[39;49m\u001b[33;43mready\u001b[39;49m\u001b[33;43m'\u001b[39;49m\u001b[33;43m AND c.numTrials = 1 AND c.labname IN (\u001b[39;49m\u001b[33;43m'\u001b[39;49m\u001b[33;43mlaba04\u001b[39;49m\u001b[33;43m'\u001b[39;49m\u001b[33;43m, \u001b[39;49m\u001b[33;43m'\u001b[39;49m\u001b[33;43mlaba04s\u001b[39;49m\u001b[33;43m'\u001b[39;49m\u001b[33;43m, \u001b[39;49m\u001b[33;43m'\u001b[39;49m\u001b[33;43mlaba05\u001b[39;49m\u001b[33;43m'\u001b[39;49m\u001b[33;43m, \u001b[39;49m\u001b[33;43m'\u001b[39;49m\u001b[33;43mlaba06\u001b[39;49m\u001b[33;43m'\u001b[39;49m\u001b[33;43m, \u001b[39;49m\u001b[33;43m'\u001b[39;49m\u001b[33;43mlaba06s\u001b[39;49m\u001b[33;43m'\u001b[39;49m\u001b[33;43m, \u001b[39;49m\u001b[33;43m'\u001b[39;49m\u001b[33;43mproject1\u001b[39;49m\u001b[33;43m'\u001b[39;49m\u001b[33;43m) AND c.uid LIKE \u001b[39;49m\u001b[33;43m'\u001b[39;49m\u001b[33;43muser_\u001b[39;49m\u001b[33;43m%\u001b[39;49m\u001b[33;43m'\u001b[39;49m\n\u001b[32m      5\u001b[39m \u001b[33;43mGROUP BY c.uid, c.labname, c.timestamp \u001b[39;49m\u001b[33;43m\"\"\"\u001b[39;49m\u001b[43m)\u001b[49m\n\u001b[32m      6\u001b[39m connect.commit()\n",
      "\u001b[31mOperationalError\u001b[39m: table datamart already exists"
     ]
    }
   ],
   "source": [
    "connect.execute(\"\"\" CREATE TABLE datamart AS\n",
    "SELECT c.uid, c.labname, c.timestamp AS first_commit_ts, MIN(p.datetime) as first_view_ts FROM checker c\n",
    "LEFT JOIN pageviews p ON c.uid = p.uid\n",
    "WHERE c.status = 'ready' AND c.numTrials = 1 AND c.labname IN ('laba04', 'laba04s', 'laba05', 'laba06', 'laba06s', 'project1') AND c.uid LIKE 'user_%'\n",
    "GROUP BY c.uid, c.labname, c.timestamp \"\"\")\n",
    "connect.commit()"
   ]
  },
  {
   "cell_type": "code",
   "execution_count": 7,
   "metadata": {},
   "outputs": [],
   "source": [
    "datamart = pd.read_sql('SELECT * FROM datamart', connect, parse_dates=['first_commit_ts', 'first_view_ts'])\n",
    "datamart['first_commit_ts'] = pd.to_datetime(datamart['first_commit_ts'])\n",
    "datamart['first_view_ts'] = pd.to_datetime(datamart['first_view_ts'])"
   ]
  },
  {
   "cell_type": "code",
   "execution_count": 8,
   "metadata": {},
   "outputs": [
    {
     "name": "stdout",
     "output_type": "stream",
     "text": [
      "<class 'pandas.core.frame.DataFrame'>\n",
      "RangeIndex: 140 entries, 0 to 139\n",
      "Data columns (total 4 columns):\n",
      " #   Column           Non-Null Count  Dtype         \n",
      "---  ------           --------------  -----         \n",
      " 0   uid              140 non-null    object        \n",
      " 1   labname          140 non-null    object        \n",
      " 2   first_commit_ts  140 non-null    datetime64[ns]\n",
      " 3   first_view_ts    59 non-null     datetime64[ns]\n",
      "dtypes: datetime64[ns](2), object(2)\n",
      "memory usage: 4.5+ KB\n"
     ]
    },
    {
     "data": {
      "text/html": [
       "<div>\n",
       "<style scoped>\n",
       "    .dataframe tbody tr th:only-of-type {\n",
       "        vertical-align: middle;\n",
       "    }\n",
       "\n",
       "    .dataframe tbody tr th {\n",
       "        vertical-align: top;\n",
       "    }\n",
       "\n",
       "    .dataframe thead th {\n",
       "        text-align: right;\n",
       "    }\n",
       "</style>\n",
       "<table border=\"1\" class=\"dataframe\">\n",
       "  <thead>\n",
       "    <tr style=\"text-align: right;\">\n",
       "      <th></th>\n",
       "      <th>uid</th>\n",
       "      <th>labname</th>\n",
       "      <th>first_commit_ts</th>\n",
       "      <th>first_view_ts</th>\n",
       "    </tr>\n",
       "  </thead>\n",
       "  <tbody>\n",
       "    <tr>\n",
       "      <th>0</th>\n",
       "      <td>user_1</td>\n",
       "      <td>laba04</td>\n",
       "      <td>2020-04-26 17:06:18.462708</td>\n",
       "      <td>2020-04-26 21:53:59.624136</td>\n",
       "    </tr>\n",
       "    <tr>\n",
       "      <th>1</th>\n",
       "      <td>user_1</td>\n",
       "      <td>laba04s</td>\n",
       "      <td>2020-04-26 17:12:11.843671</td>\n",
       "      <td>2020-04-26 21:53:59.624136</td>\n",
       "    </tr>\n",
       "    <tr>\n",
       "      <th>2</th>\n",
       "      <td>user_1</td>\n",
       "      <td>laba05</td>\n",
       "      <td>2020-05-02 19:15:18.540185</td>\n",
       "      <td>2020-04-26 21:53:59.624136</td>\n",
       "    </tr>\n",
       "    <tr>\n",
       "      <th>3</th>\n",
       "      <td>user_1</td>\n",
       "      <td>laba06</td>\n",
       "      <td>2020-05-17 16:26:35.268534</td>\n",
       "      <td>2020-04-26 21:53:59.624136</td>\n",
       "    </tr>\n",
       "    <tr>\n",
       "      <th>4</th>\n",
       "      <td>user_1</td>\n",
       "      <td>laba06s</td>\n",
       "      <td>2020-05-20 12:23:37.289724</td>\n",
       "      <td>2020-04-26 21:53:59.624136</td>\n",
       "    </tr>\n",
       "    <tr>\n",
       "      <th>...</th>\n",
       "      <td>...</td>\n",
       "      <td>...</td>\n",
       "      <td>...</td>\n",
       "      <td>...</td>\n",
       "    </tr>\n",
       "    <tr>\n",
       "      <th>135</th>\n",
       "      <td>user_8</td>\n",
       "      <td>laba04s</td>\n",
       "      <td>2020-04-19 10:22:35.761944</td>\n",
       "      <td>NaT</td>\n",
       "    </tr>\n",
       "    <tr>\n",
       "      <th>136</th>\n",
       "      <td>user_8</td>\n",
       "      <td>laba05</td>\n",
       "      <td>2020-05-02 13:28:07.705193</td>\n",
       "      <td>NaT</td>\n",
       "    </tr>\n",
       "    <tr>\n",
       "      <th>137</th>\n",
       "      <td>user_8</td>\n",
       "      <td>laba06</td>\n",
       "      <td>2020-05-16 17:56:15.755553</td>\n",
       "      <td>NaT</td>\n",
       "    </tr>\n",
       "    <tr>\n",
       "      <th>138</th>\n",
       "      <td>user_8</td>\n",
       "      <td>laba06s</td>\n",
       "      <td>2020-05-16 20:01:07.900727</td>\n",
       "      <td>NaT</td>\n",
       "    </tr>\n",
       "    <tr>\n",
       "      <th>139</th>\n",
       "      <td>user_8</td>\n",
       "      <td>project1</td>\n",
       "      <td>2020-05-14 15:42:04.002981</td>\n",
       "      <td>NaT</td>\n",
       "    </tr>\n",
       "  </tbody>\n",
       "</table>\n",
       "<p>140 rows × 4 columns</p>\n",
       "</div>"
      ],
      "text/plain": [
       "        uid   labname            first_commit_ts              first_view_ts\n",
       "0    user_1    laba04 2020-04-26 17:06:18.462708 2020-04-26 21:53:59.624136\n",
       "1    user_1   laba04s 2020-04-26 17:12:11.843671 2020-04-26 21:53:59.624136\n",
       "2    user_1    laba05 2020-05-02 19:15:18.540185 2020-04-26 21:53:59.624136\n",
       "3    user_1    laba06 2020-05-17 16:26:35.268534 2020-04-26 21:53:59.624136\n",
       "4    user_1   laba06s 2020-05-20 12:23:37.289724 2020-04-26 21:53:59.624136\n",
       "..      ...       ...                        ...                        ...\n",
       "135  user_8   laba04s 2020-04-19 10:22:35.761944                        NaT\n",
       "136  user_8    laba05 2020-05-02 13:28:07.705193                        NaT\n",
       "137  user_8    laba06 2020-05-16 17:56:15.755553                        NaT\n",
       "138  user_8   laba06s 2020-05-16 20:01:07.900727                        NaT\n",
       "139  user_8  project1 2020-05-14 15:42:04.002981                        NaT\n",
       "\n",
       "[140 rows x 4 columns]"
      ]
     },
     "execution_count": 8,
     "metadata": {},
     "output_type": "execute_result"
    }
   ],
   "source": [
    "datamart.info()\n",
    "datamart"
   ]
  },
  {
   "cell_type": "markdown",
   "metadata": {},
   "source": [
    "Create two dataframes and save both tables into the database"
   ]
  },
  {
   "cell_type": "code",
   "execution_count": 9,
   "metadata": {},
   "outputs": [],
   "source": [
    "test = datamart[datamart['first_view_ts'].notna()]\n",
    "control = datamart[datamart['first_view_ts'].isna()]\n",
    "control = control.fillna(test['first_view_ts'].mean())\n"
   ]
  },
  {
   "cell_type": "code",
   "execution_count": 10,
   "metadata": {},
   "outputs": [
    {
     "name": "stdout",
     "output_type": "stream",
     "text": [
      "<class 'pandas.core.frame.DataFrame'>\n",
      "Index: 59 entries, 0 to 114\n",
      "Data columns (total 4 columns):\n",
      " #   Column           Non-Null Count  Dtype         \n",
      "---  ------           --------------  -----         \n",
      " 0   uid              59 non-null     object        \n",
      " 1   labname          59 non-null     object        \n",
      " 2   first_commit_ts  59 non-null     datetime64[ns]\n",
      " 3   first_view_ts    59 non-null     datetime64[ns]\n",
      "dtypes: datetime64[ns](2), object(2)\n",
      "memory usage: 2.3+ KB\n"
     ]
    }
   ],
   "source": [
    "test.info()"
   ]
  },
  {
   "cell_type": "code",
   "execution_count": 11,
   "metadata": {},
   "outputs": [
    {
     "name": "stdout",
     "output_type": "stream",
     "text": [
      "<class 'pandas.core.frame.DataFrame'>\n",
      "Index: 81 entries, 12 to 139\n",
      "Data columns (total 4 columns):\n",
      " #   Column           Non-Null Count  Dtype         \n",
      "---  ------           --------------  -----         \n",
      " 0   uid              81 non-null     object        \n",
      " 1   labname          81 non-null     object        \n",
      " 2   first_commit_ts  81 non-null     datetime64[ns]\n",
      " 3   first_view_ts    81 non-null     datetime64[ns]\n",
      "dtypes: datetime64[ns](2), object(2)\n",
      "memory usage: 3.2+ KB\n"
     ]
    }
   ],
   "source": [
    "control.info()"
   ]
  },
  {
   "cell_type": "code",
   "execution_count": 12,
   "metadata": {},
   "outputs": [
    {
     "data": {
      "text/plain": [
       "59"
      ]
     },
     "execution_count": 12,
     "metadata": {},
     "output_type": "execute_result"
    }
   ],
   "source": [
    "control.to_sql('control',connect,if_exists='replace')\n",
    "test.to_sql('test',connect,if_exists='replace')"
   ]
  },
  {
   "cell_type": "code",
   "execution_count": 13,
   "metadata": {},
   "outputs": [],
   "source": [
    "connect.close()"
   ]
  }
 ],
 "metadata": {
  "kernelspec": {
   "display_name": "Python 3",
   "language": "python",
   "name": "python3"
  },
  "language_info": {
   "codemirror_mode": {
    "name": "ipython",
    "version": 3
   },
   "file_extension": ".py",
   "mimetype": "text/x-python",
   "name": "python",
   "nbconvert_exporter": "python",
   "pygments_lexer": "ipython3",
   "version": "3.12.3"
  }
 },
 "nbformat": 4,
 "nbformat_minor": 2
}

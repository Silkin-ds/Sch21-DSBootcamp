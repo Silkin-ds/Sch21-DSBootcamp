{
 "cells": [
  {
   "cell_type": "code",
   "execution_count": 1,
   "metadata": {},
   "outputs": [],
   "source": [
    "import pandas as pd\n",
    "import sqlite3"
   ]
  },
  {
   "cell_type": "code",
   "execution_count": 2,
   "metadata": {},
   "outputs": [],
   "source": [
    "connect = sqlite3.connect('../../datasets/checking-logs.sqlite')"
   ]
  },
  {
   "cell_type": "code",
   "execution_count": 3,
   "metadata": {},
   "outputs": [
    {
     "data": {
      "text/html": [
       "<div>\n",
       "<style scoped>\n",
       "    .dataframe tbody tr th:only-of-type {\n",
       "        vertical-align: middle;\n",
       "    }\n",
       "\n",
       "    .dataframe tbody tr th {\n",
       "        vertical-align: top;\n",
       "    }\n",
       "\n",
       "    .dataframe thead th {\n",
       "        text-align: right;\n",
       "    }\n",
       "</style>\n",
       "<table border=\"1\" class=\"dataframe\">\n",
       "  <thead>\n",
       "    <tr style=\"text-align: right;\">\n",
       "      <th></th>\n",
       "      <th>time</th>\n",
       "      <th>avg_diff</th>\n",
       "    </tr>\n",
       "  </thead>\n",
       "  <tbody>\n",
       "    <tr>\n",
       "      <th>0</th>\n",
       "      <td>after</td>\n",
       "      <td>-96.354839</td>\n",
       "    </tr>\n",
       "    <tr>\n",
       "      <th>1</th>\n",
       "      <td>before</td>\n",
       "      <td>-61.068493</td>\n",
       "    </tr>\n",
       "  </tbody>\n",
       "</table>\n",
       "</div>"
      ],
      "text/plain": [
       "     time   avg_diff\n",
       "0   after -96.354839\n",
       "1  before -61.068493"
      ]
     },
     "execution_count": 3,
     "metadata": {},
     "output_type": "execute_result"
    }
   ],
   "source": [
    "query = \"\"\"\n",
    "WITH users_with_both_periods AS (\n",
    "    SELECT uid, first_view_ts\n",
    "    FROM test\n",
    "    WHERE labname != 'project1'\n",
    "        AND first_view_ts IS NOT NULL\n",
    "        AND EXISTS (SELECT 1 FROM test t_before WHERE t_before.uid = test.uid \n",
    "            AND t_before.first_commit_ts < test.first_view_ts) \n",
    "        AND EXISTS (SELECT 1 FROM test t_after WHERE t_after.uid = test.uid \n",
    "            AND t_after.first_commit_ts >= test.first_view_ts))\n",
    "SELECT \n",
    "    CASE \n",
    "        WHEN t.first_commit_ts < u.first_view_ts THEN 'before'\n",
    "        ELSE 'after' \n",
    "    END AS time,AVG((strftime('%s', t.first_commit_ts) - d.deadlines) / 3600) AS avg_diff\n",
    "FROM test t\n",
    "JOIN deadlines d ON t.labname = d.labs\n",
    "JOIN users_with_both_periods u ON t.uid = u.uid\n",
    "WHERE t.labname != 'project1'\n",
    "GROUP BY time;\n",
    "\"\"\"\n",
    "test_results = pd.io.sql.read_sql(query, connect)\n",
    "test_results"
   ]
  },
  {
   "cell_type": "code",
   "execution_count": 4,
   "metadata": {},
   "outputs": [
    {
     "data": {
      "text/html": [
       "<div>\n",
       "<style scoped>\n",
       "    .dataframe tbody tr th:only-of-type {\n",
       "        vertical-align: middle;\n",
       "    }\n",
       "\n",
       "    .dataframe tbody tr th {\n",
       "        vertical-align: top;\n",
       "    }\n",
       "\n",
       "    .dataframe thead th {\n",
       "        text-align: right;\n",
       "    }\n",
       "</style>\n",
       "<table border=\"1\" class=\"dataframe\">\n",
       "  <thead>\n",
       "    <tr style=\"text-align: right;\">\n",
       "      <th></th>\n",
       "      <th>time</th>\n",
       "      <th>avg_diff</th>\n",
       "    </tr>\n",
       "  </thead>\n",
       "  <tbody>\n",
       "    <tr>\n",
       "      <th>0</th>\n",
       "      <td>before</td>\n",
       "      <td>-99.464286</td>\n",
       "    </tr>\n",
       "    <tr>\n",
       "      <th>1</th>\n",
       "      <td>after</td>\n",
       "      <td>-117.636364</td>\n",
       "    </tr>\n",
       "  </tbody>\n",
       "</table>\n",
       "</div>"
      ],
      "text/plain": [
       "     time    avg_diff\n",
       "0  before  -99.464286\n",
       "1   after -117.636364"
      ]
     },
     "execution_count": 4,
     "metadata": {},
     "output_type": "execute_result"
    }
   ],
   "source": [
    "query = '''\n",
    "WITH users_with_both_periods AS (\n",
    "    SELECT uid\n",
    "    FROM control\n",
    "    WHERE labname != 'project1'\n",
    "    GROUP BY uid\n",
    "    HAVING SUM(CASE WHEN first_commit_ts < first_view_ts THEN 1 ELSE 0 END) > 0\n",
    "       AND SUM(CASE WHEN first_commit_ts >= first_view_ts THEN 1 ELSE 0 END) > 0),\n",
    "time_periods AS (\n",
    "    SELECT \n",
    "        CASE \n",
    "            WHEN c.first_commit_ts < c.first_view_ts THEN 'before'\n",
    "            ELSE 'after'\n",
    "        END AS time,\n",
    "        (strftime('%s', c.first_commit_ts) - d.deadlines) / 3600 AS diff_hours\n",
    "    FROM control c\n",
    "    JOIN deadlines d ON c.labname = d.labs\n",
    "    JOIN users_with_both_periods u ON c.uid = u.uid\n",
    "    WHERE c.labname != 'project1')\n",
    "SELECT \n",
    "    time,\n",
    "    AVG(diff_hours) AS avg_diff\n",
    "FROM time_periods\n",
    "GROUP BY time\n",
    "UNION ALL\n",
    "SELECT 'after', NULL WHERE NOT EXISTS (SELECT 1 FROM time_periods WHERE time = 'after')\n",
    "UNION ALL\n",
    "SELECT 'before', NULL WHERE NOT EXISTS (SELECT 1 FROM time_periods WHERE time = 'before')\n",
    "ORDER BY time DESC;\n",
    "'''\n",
    "control_results = pd.io.sql.read_sql(query, connect)\n",
    "control_results"
   ]
  },
  {
   "cell_type": "code",
   "execution_count": 5,
   "metadata": {},
   "outputs": [],
   "source": [
    "connect.close()"
   ]
  }
 ],
 "metadata": {
  "kernelspec": {
   "display_name": "Python 3",
   "language": "python",
   "name": "python3"
  },
  "language_info": {
   "codemirror_mode": {
    "name": "ipython",
    "version": 3
   },
   "file_extension": ".py",
   "mimetype": "text/x-python",
   "name": "python",
   "nbconvert_exporter": "python",
   "pygments_lexer": "ipython3",
   "version": "3.12.3"
  }
 },
 "nbformat": 4,
 "nbformat_minor": 2
}
